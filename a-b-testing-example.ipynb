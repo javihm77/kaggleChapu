{
 "cells": [
  {
   "cell_type": "markdown",
   "metadata": {
    "papermill": {
     "duration": 0.016844,
     "end_time": "2023-08-04T19:38:04.230130",
     "exception": false,
     "start_time": "2023-08-04T19:38:04.213286",
     "status": "completed"
    },
    "tags": []
   },
   "source": [
    "## A/B Testing website conversion\n",
    "\n",
    "A/B testing on a website to test whether the experimental yields a better conversion rate for a website than the current theme\n",
    "\n",
    "\n",
    "The motivation is to understand and control the variables within the A/B test.\n",
    "\n",
    "Note: this is a very simple experiment which does not factor in the funnel and journey to conversion or track bounce rate etc.\n",
    "\n",
    "Notebook copied from: [Notebook](https://www.kaggle.com/code/richieone13/a-b-testing-example) and developed by [Richieone13](https://www.kaggle.com/richieone13)\n",
    "\n",
    " "
   ]
  },
  {
   "cell_type": "markdown",
   "metadata": {
    "papermill": {
     "duration": 0.016181,
     "end_time": "2023-08-04T19:38:04.261679",
     "exception": false,
     "start_time": "2023-08-04T19:38:04.245498",
     "status": "completed"
    },
    "tags": []
   },
   "source": [
    "## 1. Designing the experiement\n",
    "\n",
    "Formulating an experiment\n",
    "\n",
    "Given we don’t know if the new design will perform better or worse (or the same?) as our current design, we’ll choose a two-tailed test:\n",
    "\n",
    "Hₒ: p = pₒ\n",
    "\n",
    "Hₐ: p ≠ pₒ\n",
    "\n",
    "where p and pₒ stand for the conversion rate of the new and old design, respectively. We’ll also set a confidence level of 95%:\n",
    "\n",
    "\n",
    "### Choosing the variables\n",
    "\n",
    "For our test we’ll need two groups:\n",
    "\n",
    "A control group - They'll be shown the old design\n",
    "\n",
    "A treatment (or experimental) group - They'll be shown the new design\n",
    "\n",
    "\n",
    "This will be our Independent Variable. \n",
    "\n",
    "The reason we have two groups even though we know the baseline conversion rate is that we want to control for other variables that could have an effect on our results: by having a control group we can directly compare their results to the treatment group, because the only systematic difference between the groups is the design of the landing page, and we can therefore attribute any differences in results to the designs.\n",
    "\n",
    "For our Dependent Variable (i.e. what we are trying to measure), we are interested in capturing the conversion rate. A way we can code this is by each user session with a binary variable:\n",
    "\n",
    "0 - The user did not buy the product during this user session\n",
    "\n",
    "1 - The user bought the product during this user session"
   ]
  },
  {
   "cell_type": "markdown",
   "metadata": {
    "papermill": {
     "duration": 0.015357,
     "end_time": "2023-08-04T19:38:04.294092",
     "exception": false,
     "start_time": "2023-08-04T19:38:04.278735",
     "status": "completed"
    },
    "tags": []
   },
   "source": [
    "The number of people (or user sessions) we decide to capture in each group will have an effect on the precision of our estimated conversion rates: the larger the sample size, the more precise our estimates (i.e. the smaller our confidence intervals), the higher the chance to detect a difference in the two groups, if present.\n",
    "\n",
    "### Choosing a sample size\n",
    "It is important to note that since we won’t test the whole user base (our population), the conversion rates that we’ll get will inevitably be only estimates of the true rates.\n",
    "\n",
    "The number of people (or user sessions) we decide to capture in each group will have an effect on the precision of our estimated conversion rates: the larger the sample size, the more precise our estimates (i.e. the smaller our confidence intervals), the higher the chance to detect a difference in the two groups, if present.\n",
    "\n",
    "On the other hand, the larger our sample gets, the more expensive (and impractical) our study becomes.\n",
    "So how many people should we have in each group?"
   ]
  },
  {
   "cell_type": "code",
   "execution_count": 1,
   "metadata": {
    "execution": {
     "iopub.execute_input": "2023-08-04T19:38:04.338495Z",
     "iopub.status.busy": "2023-08-04T19:38:04.337665Z",
     "iopub.status.idle": "2023-08-04T19:38:05.382143Z",
     "shell.execute_reply": "2023-08-04T19:38:05.381424Z",
     "shell.execute_reply.started": "2023-08-04T19:37:04.508929Z"
    },
    "papermill": {
     "duration": 1.072222,
     "end_time": "2023-08-04T19:38:05.382269",
     "exception": false,
     "start_time": "2023-08-04T19:38:04.310047",
     "status": "completed"
    },
    "tags": []
   },
   "outputs": [
    {
     "name": "stdout",
     "output_type": "stream",
     "text": [
      "4720\n"
     ]
    }
   ],
   "source": [
    "# Packages imports\n",
    "import numpy as np\n",
    "import pandas as pd\n",
    "import scipy.stats as stats\n",
    "import statsmodels.stats.api as sms\n",
    "import matplotlib as mpl\n",
    "import matplotlib.pyplot as plt\n",
    "import seaborn as sns\n",
    "from math import ceil\n",
    "\n",
    "%matplotlib inline\n",
    "\n",
    "# Some plot styling preferences\n",
    "plt.style.use('seaborn-whitegrid')\n",
    "font = {'family' : 'Helvetica',\n",
    "        'weight' : 'bold',\n",
    "        'size'   : 14}\n",
    "\n",
    "mpl.rc('font', **font)\n",
    "effect_size = sms.proportion_effectsize(0.13, 0.15)    # Calculating effect size based on our expected rates\n",
    "\n",
    "required_n = sms.NormalIndPower().solve_power(\n",
    "    effect_size, \n",
    "    power=0.8, \n",
    "    alpha=0.05, \n",
    "    ratio=1\n",
    "    )                                                  # Calculating sample size needed\n",
    "\n",
    "required_n = ceil(required_n)                          # Rounding up to next whole number                          \n",
    "\n",
    "print(required_n)"
   ]
  },
  {
   "cell_type": "markdown",
   "metadata": {
    "papermill": {
     "duration": 0.01593,
     "end_time": "2023-08-04T19:38:05.414151",
     "exception": false,
     "start_time": "2023-08-04T19:38:05.398221",
     "status": "completed"
    },
    "tags": []
   },
   "source": [
    "We’d need at least the number of observations for each group and have a 90% chance to test it is significantly significant"
   ]
  },
  {
   "cell_type": "markdown",
   "metadata": {
    "papermill": {
     "duration": 0.015705,
     "end_time": "2023-08-04T19:38:05.445319",
     "exception": false,
     "start_time": "2023-08-04T19:38:05.429614",
     "status": "completed"
    },
    "tags": []
   },
   "source": [
    "## 2. Collecting and preparing the data"
   ]
  },
  {
   "cell_type": "code",
   "execution_count": 2,
   "metadata": {
    "_cell_guid": "b1076dfc-b9ad-4769-8c92-a6c4dae69d19",
    "_uuid": "8f2839f25d086af736a60e9eeb907d3b93b6e0e5",
    "execution": {
     "iopub.execute_input": "2023-08-04T19:38:05.482195Z",
     "iopub.status.busy": "2023-08-04T19:38:05.481511Z",
     "iopub.status.idle": "2023-08-04T19:38:05.490465Z",
     "shell.execute_reply": "2023-08-04T19:38:05.491114Z",
     "shell.execute_reply.started": "2023-08-04T19:37:04.557101Z"
    },
    "papermill": {
     "duration": 0.030347,
     "end_time": "2023-08-04T19:38:05.491279",
     "exception": false,
     "start_time": "2023-08-04T19:38:05.460932",
     "status": "completed"
    },
    "tags": []
   },
   "outputs": [
    {
     "name": "stdout",
     "output_type": "stream",
     "text": [
      "/kaggle/input/ab-testing/ab_data.csv\n"
     ]
    }
   ],
   "source": [
    "# importing the datas sample\n",
    "import os\n",
    "for dirname, _, filenames in os.walk('/kaggle/input'):\n",
    "    for filename in filenames:\n",
    "        print(os.path.join(dirname, filename))"
   ]
  },
  {
   "cell_type": "code",
   "execution_count": 3,
   "metadata": {
    "_cell_guid": "79c7e3d0-c299-4dcb-8224-4455121ee9b0",
    "_uuid": "d629ff2d2480ee46fbb7e2d37f6b5fab8052498a",
    "execution": {
     "iopub.execute_input": "2023-08-04T19:38:05.527778Z",
     "iopub.status.busy": "2023-08-04T19:38:05.526602Z",
     "iopub.status.idle": "2023-08-04T19:38:06.113447Z",
     "shell.execute_reply": "2023-08-04T19:38:06.112897Z",
     "shell.execute_reply.started": "2023-08-04T19:37:04.570768Z"
    },
    "papermill": {
     "duration": 0.606412,
     "end_time": "2023-08-04T19:38:06.113573",
     "exception": false,
     "start_time": "2023-08-04T19:38:05.507161",
     "status": "completed"
    },
    "tags": []
   },
   "outputs": [
    {
     "data": {
      "text/html": [
       "<div>\n",
       "<style scoped>\n",
       "    .dataframe tbody tr th:only-of-type {\n",
       "        vertical-align: middle;\n",
       "    }\n",
       "\n",
       "    .dataframe tbody tr th {\n",
       "        vertical-align: top;\n",
       "    }\n",
       "\n",
       "    .dataframe thead th {\n",
       "        text-align: right;\n",
       "    }\n",
       "</style>\n",
       "<table border=\"1\" class=\"dataframe\">\n",
       "  <thead>\n",
       "    <tr style=\"text-align: right;\">\n",
       "      <th></th>\n",
       "      <th>user_id</th>\n",
       "      <th>timestamp</th>\n",
       "      <th>group</th>\n",
       "      <th>landing_page</th>\n",
       "      <th>converted</th>\n",
       "    </tr>\n",
       "  </thead>\n",
       "  <tbody>\n",
       "    <tr>\n",
       "      <th>0</th>\n",
       "      <td>851104</td>\n",
       "      <td>2017-01-21 22:11:48.556739</td>\n",
       "      <td>control</td>\n",
       "      <td>old_page</td>\n",
       "      <td>0</td>\n",
       "    </tr>\n",
       "    <tr>\n",
       "      <th>1</th>\n",
       "      <td>804228</td>\n",
       "      <td>2017-01-12 08:01:45.159739</td>\n",
       "      <td>control</td>\n",
       "      <td>old_page</td>\n",
       "      <td>0</td>\n",
       "    </tr>\n",
       "    <tr>\n",
       "      <th>2</th>\n",
       "      <td>661590</td>\n",
       "      <td>2017-01-11 16:55:06.154213</td>\n",
       "      <td>treatment</td>\n",
       "      <td>new_page</td>\n",
       "      <td>0</td>\n",
       "    </tr>\n",
       "    <tr>\n",
       "      <th>3</th>\n",
       "      <td>853541</td>\n",
       "      <td>2017-01-08 18:28:03.143765</td>\n",
       "      <td>treatment</td>\n",
       "      <td>new_page</td>\n",
       "      <td>0</td>\n",
       "    </tr>\n",
       "    <tr>\n",
       "      <th>4</th>\n",
       "      <td>864975</td>\n",
       "      <td>2017-01-21 01:52:26.210827</td>\n",
       "      <td>control</td>\n",
       "      <td>old_page</td>\n",
       "      <td>1</td>\n",
       "    </tr>\n",
       "  </tbody>\n",
       "</table>\n",
       "</div>"
      ],
      "text/plain": [
       "   user_id                   timestamp      group landing_page  converted\n",
       "0   851104  2017-01-21 22:11:48.556739    control     old_page          0\n",
       "1   804228  2017-01-12 08:01:45.159739    control     old_page          0\n",
       "2   661590  2017-01-11 16:55:06.154213  treatment     new_page          0\n",
       "3   853541  2017-01-08 18:28:03.143765  treatment     new_page          0\n",
       "4   864975  2017-01-21 01:52:26.210827    control     old_page          1"
      ]
     },
     "execution_count": 3,
     "metadata": {},
     "output_type": "execute_result"
    }
   ],
   "source": [
    "# sample of what the collated data looks like\n",
    "df = pd.read_csv('/kaggle/input/ab-testing/ab_data.csv')\n",
    "\n",
    "df.head()"
   ]
  },
  {
   "cell_type": "code",
   "execution_count": 4,
   "metadata": {
    "execution": {
     "iopub.execute_input": "2023-08-04T19:38:06.156649Z",
     "iopub.status.busy": "2023-08-04T19:38:06.155986Z",
     "iopub.status.idle": "2023-08-04T19:38:06.159116Z",
     "shell.execute_reply": "2023-08-04T19:38:06.159623Z",
     "shell.execute_reply.started": "2023-08-04T19:37:05.065400Z"
    },
    "papermill": {
     "duration": 0.029707,
     "end_time": "2023-08-04T19:38:06.159785",
     "exception": false,
     "start_time": "2023-08-04T19:38:06.130078",
     "status": "completed"
    },
    "tags": []
   },
   "outputs": [
    {
     "data": {
      "text/plain": [
       "<bound method DataFrame.info of         user_id                   timestamp      group landing_page  converted\n",
       "0        851104  2017-01-21 22:11:48.556739    control     old_page          0\n",
       "1        804228  2017-01-12 08:01:45.159739    control     old_page          0\n",
       "2        661590  2017-01-11 16:55:06.154213  treatment     new_page          0\n",
       "3        853541  2017-01-08 18:28:03.143765  treatment     new_page          0\n",
       "4        864975  2017-01-21 01:52:26.210827    control     old_page          1\n",
       "...         ...                         ...        ...          ...        ...\n",
       "294473   751197  2017-01-03 22:28:38.630509    control     old_page          0\n",
       "294474   945152  2017-01-12 00:51:57.078372    control     old_page          0\n",
       "294475   734608  2017-01-22 11:45:03.439544    control     old_page          0\n",
       "294476   697314  2017-01-15 01:20:28.957438    control     old_page          0\n",
       "294477   715931  2017-01-16 12:40:24.467417  treatment     new_page          0\n",
       "\n",
       "[294478 rows x 5 columns]>"
      ]
     },
     "execution_count": 4,
     "metadata": {},
     "output_type": "execute_result"
    }
   ],
   "source": [
    "df.info"
   ]
  },
  {
   "cell_type": "code",
   "execution_count": 5,
   "metadata": {
    "execution": {
     "iopub.execute_input": "2023-08-04T19:38:06.197367Z",
     "iopub.status.busy": "2023-08-04T19:38:06.196622Z",
     "iopub.status.idle": "2023-08-04T19:38:06.328764Z",
     "shell.execute_reply": "2023-08-04T19:38:06.329269Z",
     "shell.execute_reply.started": "2023-08-04T19:37:05.087215Z"
    },
    "papermill": {
     "duration": 0.153202,
     "end_time": "2023-08-04T19:38:06.329435",
     "exception": false,
     "start_time": "2023-08-04T19:38:06.176233",
     "status": "completed"
    },
    "tags": []
   },
   "outputs": [
    {
     "data": {
      "text/html": [
       "<div>\n",
       "<style scoped>\n",
       "    .dataframe tbody tr th:only-of-type {\n",
       "        vertical-align: middle;\n",
       "    }\n",
       "\n",
       "    .dataframe tbody tr th {\n",
       "        vertical-align: top;\n",
       "    }\n",
       "\n",
       "    .dataframe thead th {\n",
       "        text-align: right;\n",
       "    }\n",
       "</style>\n",
       "<table border=\"1\" class=\"dataframe\">\n",
       "  <thead>\n",
       "    <tr style=\"text-align: right;\">\n",
       "      <th>landing_page</th>\n",
       "      <th>new_page</th>\n",
       "      <th>old_page</th>\n",
       "    </tr>\n",
       "    <tr>\n",
       "      <th>group</th>\n",
       "      <th></th>\n",
       "      <th></th>\n",
       "    </tr>\n",
       "  </thead>\n",
       "  <tbody>\n",
       "    <tr>\n",
       "      <th>control</th>\n",
       "      <td>1928</td>\n",
       "      <td>145274</td>\n",
       "    </tr>\n",
       "    <tr>\n",
       "      <th>treatment</th>\n",
       "      <td>145311</td>\n",
       "      <td>1965</td>\n",
       "    </tr>\n",
       "  </tbody>\n",
       "</table>\n",
       "</div>"
      ],
      "text/plain": [
       "landing_page  new_page  old_page\n",
       "group                           \n",
       "control           1928    145274\n",
       "treatment       145311      1965"
      ]
     },
     "execution_count": 5,
     "metadata": {},
     "output_type": "execute_result"
    }
   ],
   "source": [
    "# the dataset contains users that have experienced both the new and old pages.\n",
    "pd.crosstab(df['group'], df['landing_page'])"
   ]
  },
  {
   "cell_type": "code",
   "execution_count": 6,
   "metadata": {
    "execution": {
     "iopub.execute_input": "2023-08-04T19:38:06.368532Z",
     "iopub.status.busy": "2023-08-04T19:38:06.367449Z",
     "iopub.status.idle": "2023-08-04T19:38:06.405073Z",
     "shell.execute_reply": "2023-08-04T19:38:06.404491Z",
     "shell.execute_reply.started": "2023-08-04T19:37:05.232623Z"
    },
    "papermill": {
     "duration": 0.058675,
     "end_time": "2023-08-04T19:38:06.405211",
     "exception": false,
     "start_time": "2023-08-04T19:38:06.346536",
     "status": "completed"
    },
    "tags": []
   },
   "outputs": [
    {
     "name": "stdout",
     "output_type": "stream",
     "text": [
      "There are 3894 users that appear multiple times in the dataset\n"
     ]
    }
   ],
   "source": [
    "session_counts = df['user_id'].value_counts(ascending=False)\n",
    "multi_users = session_counts[session_counts > 1].count()\n",
    "\n",
    "print(f'There are {multi_users} users that appear multiple times in the dataset')"
   ]
  },
  {
   "cell_type": "code",
   "execution_count": 7,
   "metadata": {
    "execution": {
     "iopub.execute_input": "2023-08-04T19:38:06.446230Z",
     "iopub.status.busy": "2023-08-04T19:38:06.445186Z",
     "iopub.status.idle": "2023-08-04T19:38:06.478137Z",
     "shell.execute_reply": "2023-08-04T19:38:06.478633Z",
     "shell.execute_reply.started": "2023-08-04T19:37:05.268958Z"
    },
    "papermill": {
     "duration": 0.056256,
     "end_time": "2023-08-04T19:38:06.478813",
     "exception": false,
     "start_time": "2023-08-04T19:38:06.422557",
     "status": "completed"
    },
    "tags": []
   },
   "outputs": [
    {
     "name": "stdout",
     "output_type": "stream",
     "text": [
      "The updated dataset now has 286690 entries\n"
     ]
    }
   ],
   "source": [
    "# we drop the second time the instance used the homepage\n",
    "users_to_drop = session_counts[session_counts > 1].index\n",
    "\n",
    "df = df[~df['user_id'].isin(users_to_drop)]\n",
    "print(f'The updated dataset now has {df.shape[0]} entries')"
   ]
  },
  {
   "cell_type": "code",
   "execution_count": 8,
   "metadata": {
    "execution": {
     "iopub.execute_input": "2023-08-04T19:38:06.517256Z",
     "iopub.status.busy": "2023-08-04T19:38:06.516566Z",
     "iopub.status.idle": "2023-08-04T19:38:06.633165Z",
     "shell.execute_reply": "2023-08-04T19:38:06.633803Z",
     "shell.execute_reply.started": "2023-08-04T19:37:05.311757Z"
    },
    "papermill": {
     "duration": 0.137611,
     "end_time": "2023-08-04T19:38:06.634013",
     "exception": false,
     "start_time": "2023-08-04T19:38:06.496402",
     "status": "completed"
    },
    "tags": []
   },
   "outputs": [
    {
     "data": {
      "text/html": [
       "<div>\n",
       "<style scoped>\n",
       "    .dataframe tbody tr th:only-of-type {\n",
       "        vertical-align: middle;\n",
       "    }\n",
       "\n",
       "    .dataframe tbody tr th {\n",
       "        vertical-align: top;\n",
       "    }\n",
       "\n",
       "    .dataframe thead th {\n",
       "        text-align: right;\n",
       "    }\n",
       "</style>\n",
       "<table border=\"1\" class=\"dataframe\">\n",
       "  <thead>\n",
       "    <tr style=\"text-align: right;\">\n",
       "      <th>landing_page</th>\n",
       "      <th>new_page</th>\n",
       "      <th>old_page</th>\n",
       "    </tr>\n",
       "    <tr>\n",
       "      <th>group</th>\n",
       "      <th></th>\n",
       "      <th></th>\n",
       "    </tr>\n",
       "  </thead>\n",
       "  <tbody>\n",
       "    <tr>\n",
       "      <th>control</th>\n",
       "      <td>0</td>\n",
       "      <td>143293</td>\n",
       "    </tr>\n",
       "    <tr>\n",
       "      <th>treatment</th>\n",
       "      <td>143397</td>\n",
       "      <td>0</td>\n",
       "    </tr>\n",
       "  </tbody>\n",
       "</table>\n",
       "</div>"
      ],
      "text/plain": [
       "landing_page  new_page  old_page\n",
       "group                           \n",
       "control              0    143293\n",
       "treatment       143397         0"
      ]
     },
     "execution_count": 8,
     "metadata": {},
     "output_type": "execute_result"
    }
   ],
   "source": [
    "# the dataset is now cleaner as can see the user experience only one page\n",
    "pd.crosstab(df['group'], df['landing_page'])"
   ]
  },
  {
   "cell_type": "markdown",
   "metadata": {
    "papermill": {
     "duration": 0.017678,
     "end_time": "2023-08-04T19:38:06.670070",
     "exception": false,
     "start_time": "2023-08-04T19:38:06.652392",
     "status": "completed"
    },
    "tags": []
   },
   "source": [
    "### Sampling\n",
    "\n",
    "We only sample the required amount the show from the power test.\n",
    "\n",
    "We can use pandas' DataFrame.sample() method to do this, which will perform Simple Random Sampling for us."
   ]
  },
  {
   "cell_type": "code",
   "execution_count": 9,
   "metadata": {
    "execution": {
     "iopub.execute_input": "2023-08-04T19:38:06.760474Z",
     "iopub.status.busy": "2023-08-04T19:38:06.759327Z",
     "iopub.status.idle": "2023-08-04T19:38:06.843500Z",
     "shell.execute_reply": "2023-08-04T19:38:06.844902Z",
     "shell.execute_reply.started": "2023-08-04T19:37:05.440828Z"
    },
    "papermill": {
     "duration": 0.15036,
     "end_time": "2023-08-04T19:38:06.845160",
     "exception": false,
     "start_time": "2023-08-04T19:38:06.694800",
     "status": "completed"
    },
    "tags": []
   },
   "outputs": [
    {
     "data": {
      "text/html": [
       "<div>\n",
       "<style scoped>\n",
       "    .dataframe tbody tr th:only-of-type {\n",
       "        vertical-align: middle;\n",
       "    }\n",
       "\n",
       "    .dataframe tbody tr th {\n",
       "        vertical-align: top;\n",
       "    }\n",
       "\n",
       "    .dataframe thead th {\n",
       "        text-align: right;\n",
       "    }\n",
       "</style>\n",
       "<table border=\"1\" class=\"dataframe\">\n",
       "  <thead>\n",
       "    <tr style=\"text-align: right;\">\n",
       "      <th></th>\n",
       "      <th>user_id</th>\n",
       "      <th>timestamp</th>\n",
       "      <th>group</th>\n",
       "      <th>landing_page</th>\n",
       "      <th>converted</th>\n",
       "    </tr>\n",
       "  </thead>\n",
       "  <tbody>\n",
       "    <tr>\n",
       "      <th>0</th>\n",
       "      <td>763854</td>\n",
       "      <td>2017-01-21 03:43:17.188315</td>\n",
       "      <td>control</td>\n",
       "      <td>old_page</td>\n",
       "      <td>0</td>\n",
       "    </tr>\n",
       "    <tr>\n",
       "      <th>1</th>\n",
       "      <td>690555</td>\n",
       "      <td>2017-01-18 06:38:13.079449</td>\n",
       "      <td>control</td>\n",
       "      <td>old_page</td>\n",
       "      <td>0</td>\n",
       "    </tr>\n",
       "    <tr>\n",
       "      <th>2</th>\n",
       "      <td>861520</td>\n",
       "      <td>2017-01-06 21:13:40.044766</td>\n",
       "      <td>control</td>\n",
       "      <td>old_page</td>\n",
       "      <td>0</td>\n",
       "    </tr>\n",
       "    <tr>\n",
       "      <th>3</th>\n",
       "      <td>630778</td>\n",
       "      <td>2017-01-05 16:42:36.995204</td>\n",
       "      <td>control</td>\n",
       "      <td>old_page</td>\n",
       "      <td>0</td>\n",
       "    </tr>\n",
       "    <tr>\n",
       "      <th>4</th>\n",
       "      <td>656634</td>\n",
       "      <td>2017-01-04 15:31:21.676130</td>\n",
       "      <td>control</td>\n",
       "      <td>old_page</td>\n",
       "      <td>0</td>\n",
       "    </tr>\n",
       "    <tr>\n",
       "      <th>...</th>\n",
       "      <td>...</td>\n",
       "      <td>...</td>\n",
       "      <td>...</td>\n",
       "      <td>...</td>\n",
       "      <td>...</td>\n",
       "    </tr>\n",
       "    <tr>\n",
       "      <th>9435</th>\n",
       "      <td>908512</td>\n",
       "      <td>2017-01-14 22:02:29.922674</td>\n",
       "      <td>treatment</td>\n",
       "      <td>new_page</td>\n",
       "      <td>0</td>\n",
       "    </tr>\n",
       "    <tr>\n",
       "      <th>9436</th>\n",
       "      <td>873211</td>\n",
       "      <td>2017-01-05 00:57:16.167151</td>\n",
       "      <td>treatment</td>\n",
       "      <td>new_page</td>\n",
       "      <td>0</td>\n",
       "    </tr>\n",
       "    <tr>\n",
       "      <th>9437</th>\n",
       "      <td>631276</td>\n",
       "      <td>2017-01-20 18:56:58.167809</td>\n",
       "      <td>treatment</td>\n",
       "      <td>new_page</td>\n",
       "      <td>0</td>\n",
       "    </tr>\n",
       "    <tr>\n",
       "      <th>9438</th>\n",
       "      <td>662301</td>\n",
       "      <td>2017-01-03 08:10:57.768806</td>\n",
       "      <td>treatment</td>\n",
       "      <td>new_page</td>\n",
       "      <td>0</td>\n",
       "    </tr>\n",
       "    <tr>\n",
       "      <th>9439</th>\n",
       "      <td>944623</td>\n",
       "      <td>2017-01-19 10:56:01.648653</td>\n",
       "      <td>treatment</td>\n",
       "      <td>new_page</td>\n",
       "      <td>1</td>\n",
       "    </tr>\n",
       "  </tbody>\n",
       "</table>\n",
       "<p>9440 rows × 5 columns</p>\n",
       "</div>"
      ],
      "text/plain": [
       "      user_id                   timestamp      group landing_page  converted\n",
       "0      763854  2017-01-21 03:43:17.188315    control     old_page          0\n",
       "1      690555  2017-01-18 06:38:13.079449    control     old_page          0\n",
       "2      861520  2017-01-06 21:13:40.044766    control     old_page          0\n",
       "3      630778  2017-01-05 16:42:36.995204    control     old_page          0\n",
       "4      656634  2017-01-04 15:31:21.676130    control     old_page          0\n",
       "...       ...                         ...        ...          ...        ...\n",
       "9435   908512  2017-01-14 22:02:29.922674  treatment     new_page          0\n",
       "9436   873211  2017-01-05 00:57:16.167151  treatment     new_page          0\n",
       "9437   631276  2017-01-20 18:56:58.167809  treatment     new_page          0\n",
       "9438   662301  2017-01-03 08:10:57.768806  treatment     new_page          0\n",
       "9439   944623  2017-01-19 10:56:01.648653  treatment     new_page          1\n",
       "\n",
       "[9440 rows x 5 columns]"
      ]
     },
     "execution_count": 9,
     "metadata": {},
     "output_type": "execute_result"
    }
   ],
   "source": [
    "# here we collated the required n from each group as defined earlier\n",
    "\n",
    "control_sample = df[df['group'] == 'control'].sample(n=required_n, random_state=22) \n",
    "treatment_sample = df[df['group'] == 'treatment'].sample(n=required_n, random_state=22)\n",
    "\n",
    "ab_test = pd.concat([control_sample, treatment_sample], axis=0)\n",
    "ab_test.reset_index(drop=True, inplace=True)\n",
    "ab_test"
   ]
  },
  {
   "cell_type": "code",
   "execution_count": 10,
   "metadata": {
    "execution": {
     "iopub.execute_input": "2023-08-04T19:38:06.886872Z",
     "iopub.status.busy": "2023-08-04T19:38:06.886132Z",
     "iopub.status.idle": "2023-08-04T19:38:06.902940Z",
     "shell.execute_reply": "2023-08-04T19:38:06.902322Z",
     "shell.execute_reply.started": "2023-08-04T19:37:05.613983Z"
    },
    "papermill": {
     "duration": 0.03833,
     "end_time": "2023-08-04T19:38:06.903089",
     "exception": false,
     "start_time": "2023-08-04T19:38:06.864759",
     "status": "completed"
    },
    "tags": []
   },
   "outputs": [
    {
     "name": "stdout",
     "output_type": "stream",
     "text": [
      "<class 'pandas.core.frame.DataFrame'>\n",
      "RangeIndex: 9440 entries, 0 to 9439\n",
      "Data columns (total 5 columns):\n",
      " #   Column        Non-Null Count  Dtype \n",
      "---  ------        --------------  ----- \n",
      " 0   user_id       9440 non-null   int64 \n",
      " 1   timestamp     9440 non-null   object\n",
      " 2   group         9440 non-null   object\n",
      " 3   landing_page  9440 non-null   object\n",
      " 4   converted     9440 non-null   int64 \n",
      "dtypes: int64(2), object(3)\n",
      "memory usage: 368.9+ KB\n"
     ]
    }
   ],
   "source": [
    "ab_test.info()"
   ]
  },
  {
   "cell_type": "code",
   "execution_count": 11,
   "metadata": {
    "execution": {
     "iopub.execute_input": "2023-08-04T19:38:06.952024Z",
     "iopub.status.busy": "2023-08-04T19:38:06.950967Z",
     "iopub.status.idle": "2023-08-04T19:38:06.956482Z",
     "shell.execute_reply": "2023-08-04T19:38:06.957343Z",
     "shell.execute_reply.started": "2023-08-04T19:37:05.634527Z"
    },
    "papermill": {
     "duration": 0.035469,
     "end_time": "2023-08-04T19:38:06.957559",
     "exception": false,
     "start_time": "2023-08-04T19:38:06.922090",
     "status": "completed"
    },
    "tags": []
   },
   "outputs": [
    {
     "data": {
      "text/plain": [
       "treatment    4720\n",
       "control      4720\n",
       "Name: group, dtype: int64"
      ]
     },
     "execution_count": 11,
     "metadata": {},
     "output_type": "execute_result"
    }
   ],
   "source": [
    "ab_test['group'].value_counts()"
   ]
  },
  {
   "cell_type": "markdown",
   "metadata": {
    "papermill": {
     "duration": 0.020004,
     "end_time": "2023-08-04T19:38:06.999292",
     "exception": false,
     "start_time": "2023-08-04T19:38:06.979288",
     "status": "completed"
    },
    "tags": []
   },
   "source": [
    "## 3. Visualising the results\n",
    "\n",
    "The first thing we can do is to calculate some basic statistics to get an idea of what our samples look like."
   ]
  },
  {
   "cell_type": "code",
   "execution_count": 12,
   "metadata": {
    "execution": {
     "iopub.execute_input": "2023-08-04T19:38:07.043944Z",
     "iopub.status.busy": "2023-08-04T19:38:07.043200Z",
     "iopub.status.idle": "2023-08-04T19:38:07.195427Z",
     "shell.execute_reply": "2023-08-04T19:38:07.196112Z",
     "shell.execute_reply.started": "2023-08-04T19:37:05.649200Z"
    },
    "papermill": {
     "duration": 0.175218,
     "end_time": "2023-08-04T19:38:07.196267",
     "exception": false,
     "start_time": "2023-08-04T19:38:07.021049",
     "status": "completed"
    },
    "tags": []
   },
   "outputs": [
    {
     "data": {
      "text/html": [
       "<style  type=\"text/css\" >\n",
       "</style><table id=\"T_6faeaa0c_32fe_11ee_a51f_0242ac130202\" ><thead>    <tr>        <th class=\"blank level0\" ></th>        <th class=\"col_heading level0 col0\" >conversion_rate</th>        <th class=\"col_heading level0 col1\" >std_deviation</th>        <th class=\"col_heading level0 col2\" >std_error</th>    </tr>    <tr>        <th class=\"index_name level0\" >group</th>        <th class=\"blank\" ></th>        <th class=\"blank\" ></th>        <th class=\"blank\" ></th>    </tr></thead><tbody>\n",
       "                <tr>\n",
       "                        <th id=\"T_6faeaa0c_32fe_11ee_a51f_0242ac130202level0_row0\" class=\"row_heading level0 row0\" >control</th>\n",
       "                        <td id=\"T_6faeaa0c_32fe_11ee_a51f_0242ac130202row0_col0\" class=\"data row0 col0\" >0.123</td>\n",
       "                        <td id=\"T_6faeaa0c_32fe_11ee_a51f_0242ac130202row0_col1\" class=\"data row0 col1\" >0.329</td>\n",
       "                        <td id=\"T_6faeaa0c_32fe_11ee_a51f_0242ac130202row0_col2\" class=\"data row0 col2\" >0.005</td>\n",
       "            </tr>\n",
       "            <tr>\n",
       "                        <th id=\"T_6faeaa0c_32fe_11ee_a51f_0242ac130202level0_row1\" class=\"row_heading level0 row1\" >treatment</th>\n",
       "                        <td id=\"T_6faeaa0c_32fe_11ee_a51f_0242ac130202row1_col0\" class=\"data row1 col0\" >0.126</td>\n",
       "                        <td id=\"T_6faeaa0c_32fe_11ee_a51f_0242ac130202row1_col1\" class=\"data row1 col1\" >0.331</td>\n",
       "                        <td id=\"T_6faeaa0c_32fe_11ee_a51f_0242ac130202row1_col2\" class=\"data row1 col2\" >0.005</td>\n",
       "            </tr>\n",
       "    </tbody></table>"
      ],
      "text/plain": [
       "<pandas.io.formats.style.Styler at 0x7a831c8d2910>"
      ]
     },
     "execution_count": 12,
     "metadata": {},
     "output_type": "execute_result"
    }
   ],
   "source": [
    "conversion_rates = ab_test.groupby('group')['converted']\n",
    "\n",
    "std_p = lambda x: np.std(x, ddof=0)              # Std. deviation of the proportion\n",
    "se_p = lambda x: stats.sem(x, ddof=0)            # Std. error of the proportion (std / sqrt(n))\n",
    "\n",
    "conversion_rates = conversion_rates.agg([np.mean, std_p, se_p])\n",
    "conversion_rates.columns = ['conversion_rate', 'std_deviation', 'std_error']\n",
    "\n",
    "\n",
    "conversion_rates.style.format('{:.3f}')"
   ]
  },
  {
   "cell_type": "markdown",
   "metadata": {
    "papermill": {
     "duration": 0.019594,
     "end_time": "2023-08-04T19:38:07.235535",
     "exception": false,
     "start_time": "2023-08-04T19:38:07.215941",
     "status": "completed"
    },
    "tags": []
   },
   "source": [
    "Judging by the stats above, it does look like our two designs performed very similarly, with our new design performing slightly better average conversion rate."
   ]
  },
  {
   "cell_type": "code",
   "execution_count": 13,
   "metadata": {
    "execution": {
     "iopub.execute_input": "2023-08-04T19:38:07.278617Z",
     "iopub.status.busy": "2023-08-04T19:38:07.277905Z",
     "iopub.status.idle": "2023-08-04T19:38:07.597738Z",
     "shell.execute_reply": "2023-08-04T19:38:07.597050Z",
     "shell.execute_reply.started": "2023-08-04T19:37:05.807271Z"
    },
    "papermill": {
     "duration": 0.342615,
     "end_time": "2023-08-04T19:38:07.597865",
     "exception": false,
     "start_time": "2023-08-04T19:38:07.255250",
     "status": "completed"
    },
    "tags": []
   },
   "outputs": [
    {
     "data": {
      "image/png": "[encoded data removed]",
      "text/plain": [
       "<Figure size 576x432 with 1 Axes>"
      ]
     },
     "metadata": {},
     "output_type": "display_data"
    }
   ],
   "source": [
    "plt.figure(figsize=(8,6))\n",
    "\n",
    "sns.barplot(x=ab_test['group'], y=ab_test['converted'], ci=False)\n",
    "\n",
    "plt.ylim(0, 0.17)\n",
    "plt.title('Conversion rate by group')\n",
    "plt.xlabel('Group')\n",
    "plt.ylabel('Converted (proportion)');"
   ]
  },
  {
   "cell_type": "markdown",
   "metadata": {
    "papermill": {
     "duration": 0.021013,
     "end_time": "2023-08-04T19:38:07.641905",
     "exception": false,
     "start_time": "2023-08-04T19:38:07.620892",
     "status": "completed"
    },
    "tags": []
   },
   "source": [
    "## 4. Testing the hypothesis"
   ]
  },
  {
   "cell_type": "code",
   "execution_count": 14,
   "metadata": {
    "execution": {
     "iopub.execute_input": "2023-08-04T19:38:07.699622Z",
     "iopub.status.busy": "2023-08-04T19:38:07.693292Z",
     "iopub.status.idle": "2023-08-04T19:38:07.712232Z",
     "shell.execute_reply": "2023-08-04T19:38:07.712807Z",
     "shell.execute_reply.started": "2023-08-04T19:37:06.195519Z"
    },
    "papermill": {
     "duration": 0.050159,
     "end_time": "2023-08-04T19:38:07.712967",
     "exception": false,
     "start_time": "2023-08-04T19:38:07.662808",
     "status": "completed"
    },
    "tags": []
   },
   "outputs": [
    {
     "name": "stdout",
     "output_type": "stream",
     "text": [
      "z statistic: -0.34\n",
      "p-value: 0.732\n",
      "ci 95% for control group: [0.114, 0.133]\n",
      "ci 95% for treatment group: [0.116, 0.135]\n"
     ]
    }
   ],
   "source": [
    "from statsmodels.stats.proportion import proportions_ztest, proportion_confint\n",
    "control_results = ab_test[ab_test['group'] == 'control']['converted']\n",
    "treatment_results = ab_test[ab_test['group'] == 'treatment']['converted']\n",
    "n_con = control_results.count()\n",
    "n_treat = treatment_results.count()\n",
    "successes = [control_results.sum(), treatment_results.sum()]\n",
    "nobs = [n_con, n_treat]\n",
    "\n",
    "z_stat, pval = proportions_ztest(successes, nobs=nobs)\n",
    "(lower_con, lower_treat), (upper_con, upper_treat) = proportion_confint(successes, nobs=nobs, alpha=0.05)\n",
    "\n",
    "print(f'z statistic: {z_stat:.2f}')\n",
    "print(f'p-value: {pval:.3f}')\n",
    "print(f'ci 95% for control group: [{lower_con:.3f}, {upper_con:.3f}]')\n",
    "print(f'ci 95% for treatment group: [{lower_treat:.3f}, {upper_treat:.3f}]')"
   ]
  },
  {
   "cell_type": "markdown",
   "metadata": {
    "papermill": {
     "duration": 0.021765,
     "end_time": "2023-08-04T19:38:07.756167",
     "exception": false,
     "start_time": "2023-08-04T19:38:07.734402",
     "status": "completed"
    },
    "tags": []
   },
   "source": [
    "## 5. Drawing Conclusion\n",
    "\n",
    "Since our p-value is above our α=0.05 threshold, we cannot reject the Null hypothesis Hₒ, which means that our new design did not perform significantly different (let alone better) than our old one.\n",
    "\n",
    "Additionally, if we look at the confidence interval for the treatment group we notice that:\n",
    "\n",
    "It includes our baseline value of 13% conversion rate. It does not include our target value of 15% (the 2% uplift we were aiming for)\n",
    "\n",
    "What this means is that it is more likely that the true conversion rate of the new design is similar to our baseline, rather than the 15% target we had hoped for. This is further proof that our new design is not likely to be an improvement on our old design, and that unfortunately we go back to redesign."
   ]
  },
  {
   "cell_type": "markdown",
   "metadata": {
    "papermill": {
     "duration": 0.021074,
     "end_time": "2023-08-04T19:38:07.799793",
     "exception": false,
     "start_time": "2023-08-04T19:38:07.778719",
     "status": "completed"
    },
    "tags": []
   },
   "source": [
    "Guide from Renato of sample to \n",
    "https://medium.com/@RenatoFillinich/ab-testing-with-python-e5964dd66143\n"
   ]
  }
 ],
 "metadata": {
  "kernelspec": {
   "display_name": "Python 3",
   "language": "python",
   "name": "python3"
  },
  "language_info": {
   "codemirror_mode": {
    "name": "ipython",
    "version": 3
   },
   "file_extension": ".py",
   "mimetype": "text/x-python",
   "name": "python",
   "nbconvert_exporter": "python",
   "pygments_lexer": "ipython3",
   "version": "3.7.6"
  },
  "papermill": {
   "duration": 8.106106,
   "end_time": "2023-08-04T19:38:07.931238",
   "environment_variables": {},
   "exception": null,
   "input_path": "__notebook__.ipynb",
   "output_path": "__notebook__.ipynb",
   "parameters": {},
   "start_time": "2023-08-04T19:37:59.825132",
   "version": "2.1.0"
  }
 },
 "nbformat": 4,
 "nbformat_minor": 4
}
