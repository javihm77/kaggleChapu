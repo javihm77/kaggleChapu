{
 "cells": [
  {
   "cell_type": "markdown",
   "id": "5790bcbf",
   "metadata": {
    "papermill": {
     "duration": 0.010113,
     "end_time": "2023-05-16T04:56:43.906984",
     "exception": false,
     "start_time": "2023-05-16T04:56:43.896871",
     "status": "completed"
    },
    "tags": []
   },
   "source": [
    "# Cat Boost Gameplay - Chapu"
   ]
  },
  {
   "cell_type": "markdown",
   "id": "753c3da9",
   "metadata": {
    "papermill": {
     "duration": 0.009298,
     "end_time": "2023-05-16T04:56:43.926732",
     "exception": false,
     "start_time": "2023-05-16T04:56:43.917434",
     "status": "completed"
    },
    "tags": []
   },
   "source": [
    "[Notebook](https://www.kaggle.com/code/vadimkamaev/catboost-mix) Based on CatBoot Mix of [Vadim Kamaev](https://www.kaggle.com/vadimkamaev) <br>\n",
    "https://www.kaggle.com/code/vadimkamaev/catboost-mix"
   ]
  },
  {
   "cell_type": "code",
   "execution_count": 1,
   "id": "d6b0cb83",
   "metadata": {
    "_cell_guid": "b1076dfc-b9ad-4769-8c92-a6c4dae69d19",
    "_uuid": "8f2839f25d086af736a60e9eeb907d3b93b6e0e5",
    "execution": {
     "iopub.execute_input": "2023-05-16T04:56:43.948763Z",
     "iopub.status.busy": "2023-05-16T04:56:43.947896Z",
     "iopub.status.idle": "2023-05-16T04:56:46.284308Z",
     "shell.execute_reply": "2023-05-16T04:56:46.282861Z"
    },
    "papermill": {
     "duration": 2.35108,
     "end_time": "2023-05-16T04:56:46.287643",
     "exception": false,
     "start_time": "2023-05-16T04:56:43.936563",
     "status": "completed"
    },
    "tags": []
   },
   "outputs": [
    {
     "name": "stderr",
     "output_type": "stream",
     "text": [
      "/opt/conda/lib/python3.10/site-packages/scipy/__init__.py:146: UserWarning: A NumPy version >=1.16.5 and <1.23.0 is required for this version of SciPy (detected version 1.23.5\n",
      "  warnings.warn(f\"A NumPy version >={np_minversion} and <{np_maxversion}\"\n"
     ]
    },
    {
     "name": "stdout",
     "output_type": "stream",
     "text": [
      "/kaggle/input/predict-student-performance-from-game-play/sample_submission.csv\n",
      "/kaggle/input/predict-student-performance-from-game-play/train_labels.csv\n",
      "/kaggle/input/predict-student-performance-from-game-play/train.csv\n",
      "/kaggle/input/predict-student-performance-from-game-play/test.csv\n",
      "/kaggle/input/predict-student-performance-from-game-play/jo_wilder_310/competition.cpython-310-x86_64-linux-gnu.so\n",
      "/kaggle/input/predict-student-performance-from-game-play/jo_wilder_310/__init__.py\n",
      "/kaggle/input/predict-student-performance-from-game-play/jo_wilder/competition.cpython-37m-x86_64-linux-gnu.so\n",
      "/kaggle/input/predict-student-performance-from-game-play/jo_wilder/__init__.py\n"
     ]
    }
   ],
   "source": [
    "# This Python 3 environment comes with many helpful analytics libraries installed\n",
    "# It is defined by the kaggle/python Docker image: https://github.com/kaggle/docker-python\n",
    "# For example, here's several helpful packages to load\n",
    "\n",
    "import numpy as np # linear algebra\n",
    "import pandas as pd # data processing, CSV file I/O (e.g. pd.read_csv)\n",
    "\n",
    "import os\n",
    "import gc\n",
    "import sys\n",
    "import datetime\n",
    "import warnings\n",
    "\n",
    "import polars as pl\n",
    "from catboost import CatBoostClassifier, Pool\n",
    "\n",
    "# Input data files are available in the read-only \"../input/\" directory\n",
    "# For example, running this (by clicking run or pressing Shift+Enter) will list all files under the input directory\n",
    "\n",
    "for dirname, _, filenames in os.walk('/kaggle/input'):\n",
    "    for filename in filenames:\n",
    "        print(os.path.join(dirname, filename))\n",
    "\n",
    "# You can write up to 20GB to the current directory (/kaggle/working/) that gets preserved as output when you create a version using \"Save & Run All\" \n",
    "# You can also write temporary files to /kaggle/temp/, but they won't be saved outside of the current session\n",
    "\n",
    "# settings\n",
    "warnings.filterwarnings(\"ignore\")"
   ]
  },
  {
   "cell_type": "markdown",
   "id": "dd1e49a4",
   "metadata": {
    "papermill": {
     "duration": 0.010335,
     "end_time": "2023-05-16T04:56:46.308886",
     "exception": false,
     "start_time": "2023-05-16T04:56:46.298551",
     "status": "completed"
    },
    "tags": []
   },
   "source": [
    "# Load Train Data and Labels"
   ]
  },
  {
   "cell_type": "code",
   "execution_count": 2,
   "id": "2479bfee",
   "metadata": {
    "execution": {
     "iopub.execute_input": "2023-05-16T04:56:46.332277Z",
     "iopub.status.busy": "2023-05-16T04:56:46.331485Z",
     "iopub.status.idle": "2023-05-16T04:56:46.340931Z",
     "shell.execute_reply": "2023-05-16T04:56:46.339807Z"
    },
    "papermill": {
     "duration": 0.023818,
     "end_time": "2023-05-16T04:56:46.343526",
     "exception": false,
     "start_time": "2023-05-16T04:56:46.319708",
     "status": "completed"
    },
    "tags": []
   },
   "outputs": [],
   "source": [
    "dtypes = {\"session_id\": 'int64',\n",
    "          \"index\": np.int16,\n",
    "          \"elapsed_time\": np.int32,\n",
    "          \"event_name\": 'category',\n",
    "          \"name\": 'category',\n",
    "          \"level\": np.int8,\n",
    "          \"page\": np.float16,\n",
    "          \"room_coor_x\": np.float16,\n",
    "          \"room_coor_y\": np.float16,\n",
    "          \"screen_coor_x\": np.float16,\n",
    "          \"screen_coor_y\": np.float16,\n",
    "          \"hover_duration\": np.float32,\n",
    "          \"text\": 'category',\n",
    "          \"fqid\": 'category',\n",
    "          \"room_fqid\": 'category',\n",
    "          \"text_fqid\": 'category',\n",
    "          \"fullscreen\": np.int8,\n",
    "          \"hq\": np.int8,\n",
    "          \"music\": np.int8,\n",
    "          \"level_group\": 'category'\n",
    "          }\n",
    "\n",
    "use_col = ['session_id', 'index', 'elapsed_time', 'event_name', 'name', 'level', 'page',\n",
    "           'room_coor_x', 'room_coor_y', 'hover_duration', 'text', 'fqid', 'room_fqid', 'text_fqid', 'level_group']"
   ]
  },
  {
   "cell_type": "code",
   "execution_count": 3,
   "id": "deb86220",
   "metadata": {
    "execution": {
     "iopub.execute_input": "2023-05-16T04:56:46.366053Z",
     "iopub.status.busy": "2023-05-16T04:56:46.365087Z",
     "iopub.status.idle": "2023-05-16T04:59:05.786432Z",
     "shell.execute_reply": "2023-05-16T04:59:05.785241Z"
    },
    "papermill": {
     "duration": 139.443798,
     "end_time": "2023-05-16T04:59:05.797362",
     "exception": false,
     "start_time": "2023-05-16T04:56:46.353564",
     "status": "completed"
    },
    "tags": []
   },
   "outputs": [
    {
     "name": "stdout",
     "output_type": "stream",
     "text": [
      "CPU times: user 1min 35s, sys: 7.3 s, total: 1min 42s\n",
      "Wall time: 2min 19s\n"
     ]
    }
   ],
   "source": [
    "%%time\n",
    "#Read training dataset\n",
    "df = pd.read_csv('/kaggle/input/predict-student-performance-from-game-play/train.csv', dtype=dtypes, usecols=use_col)"
   ]
  },
  {
   "cell_type": "code",
   "execution_count": 4,
   "id": "618e7250",
   "metadata": {
    "execution": {
     "iopub.execute_input": "2023-05-16T04:59:05.820802Z",
     "iopub.status.busy": "2023-05-16T04:59:05.820037Z",
     "iopub.status.idle": "2023-05-16T04:59:09.160037Z",
     "shell.execute_reply": "2023-05-16T04:59:09.159027Z"
    },
    "papermill": {
     "duration": 3.355709,
     "end_time": "2023-05-16T04:59:09.162893",
     "exception": false,
     "start_time": "2023-05-16T04:59:05.807184",
     "status": "completed"
    },
    "tags": []
   },
   "outputs": [],
   "source": [
    "df0_4 = df[df['level_group'] == '0-4']\n",
    "df5_12 = df[df['level_group'] == '5-12']\n",
    "df13_22 = df[df['level_group'] == '13-22']\n",
    "del df"
   ]
  },
  {
   "cell_type": "code",
   "execution_count": 5,
   "id": "8c828c97",
   "metadata": {
    "execution": {
     "iopub.execute_input": "2023-05-16T04:59:09.185436Z",
     "iopub.status.busy": "2023-05-16T04:59:09.184717Z",
     "iopub.status.idle": "2023-05-16T04:59:10.782794Z",
     "shell.execute_reply": "2023-05-16T04:59:10.781404Z"
    },
    "papermill": {
     "duration": 1.612412,
     "end_time": "2023-05-16T04:59:10.785292",
     "exception": false,
     "start_time": "2023-05-16T04:59:09.172880",
     "status": "completed"
    },
    "tags": []
   },
   "outputs": [
    {
     "name": "stdout",
     "output_type": "stream",
     "text": [
      "(424116, 4)\n"
     ]
    },
    {
     "data": {
      "text/html": [
       "<div>\n",
       "<style scoped>\n",
       "    .dataframe tbody tr th:only-of-type {\n",
       "        vertical-align: middle;\n",
       "    }\n",
       "\n",
       "    .dataframe tbody tr th {\n",
       "        vertical-align: top;\n",
       "    }\n",
       "\n",
       "    .dataframe thead th {\n",
       "        text-align: right;\n",
       "    }\n",
       "</style>\n",
       "<table border=\"1\" class=\"dataframe\">\n",
       "  <thead>\n",
       "    <tr style=\"text-align: right;\">\n",
       "      <th></th>\n",
       "      <th>session_id</th>\n",
       "      <th>correct</th>\n",
       "      <th>session</th>\n",
       "      <th>q</th>\n",
       "    </tr>\n",
       "  </thead>\n",
       "  <tbody>\n",
       "    <tr>\n",
       "      <th>0</th>\n",
       "      <td>20090312431273200_q1</td>\n",
       "      <td>1</td>\n",
       "      <td>20090312431273200</td>\n",
       "      <td>1</td>\n",
       "    </tr>\n",
       "    <tr>\n",
       "      <th>1</th>\n",
       "      <td>20090312433251036_q1</td>\n",
       "      <td>0</td>\n",
       "      <td>20090312433251036</td>\n",
       "      <td>1</td>\n",
       "    </tr>\n",
       "    <tr>\n",
       "      <th>2</th>\n",
       "      <td>20090312455206810_q1</td>\n",
       "      <td>1</td>\n",
       "      <td>20090312455206810</td>\n",
       "      <td>1</td>\n",
       "    </tr>\n",
       "    <tr>\n",
       "      <th>3</th>\n",
       "      <td>20090313091715820_q1</td>\n",
       "      <td>0</td>\n",
       "      <td>20090313091715820</td>\n",
       "      <td>1</td>\n",
       "    </tr>\n",
       "    <tr>\n",
       "      <th>4</th>\n",
       "      <td>20090313571836404_q1</td>\n",
       "      <td>1</td>\n",
       "      <td>20090313571836404</td>\n",
       "      <td>1</td>\n",
       "    </tr>\n",
       "    <tr>\n",
       "      <th>5</th>\n",
       "      <td>20090314035813970_q1</td>\n",
       "      <td>1</td>\n",
       "      <td>20090314035813970</td>\n",
       "      <td>1</td>\n",
       "    </tr>\n",
       "    <tr>\n",
       "      <th>6</th>\n",
       "      <td>20090314121766812_q1</td>\n",
       "      <td>1</td>\n",
       "      <td>20090314121766812</td>\n",
       "      <td>1</td>\n",
       "    </tr>\n",
       "    <tr>\n",
       "      <th>7</th>\n",
       "      <td>20090314221187252_q1</td>\n",
       "      <td>0</td>\n",
       "      <td>20090314221187252</td>\n",
       "      <td>1</td>\n",
       "    </tr>\n",
       "  </tbody>\n",
       "</table>\n",
       "</div>"
      ],
      "text/plain": [
       "             session_id  correct            session  q\n",
       "0  20090312431273200_q1        1  20090312431273200  1\n",
       "1  20090312433251036_q1        0  20090312433251036  1\n",
       "2  20090312455206810_q1        1  20090312455206810  1\n",
       "3  20090313091715820_q1        0  20090313091715820  1\n",
       "4  20090313571836404_q1        1  20090313571836404  1\n",
       "5  20090314035813970_q1        1  20090314035813970  1\n",
       "6  20090314121766812_q1        1  20090314121766812  1\n",
       "7  20090314221187252_q1        0  20090314221187252  1"
      ]
     },
     "execution_count": 5,
     "metadata": {},
     "output_type": "execute_result"
    }
   ],
   "source": [
    "targets = pd.read_csv('/kaggle/input/predict-student-performance-from-game-play/train_labels.csv')\n",
    "targets['session'] = targets.session_id.apply(lambda x: int(x.split('_')[0]) )\n",
    "targets['q'] = targets.session_id.apply(lambda x: int(x.split('_')[-1][1:]) )\n",
    "print( targets.shape )\n",
    "targets.head(8)"
   ]
  },
  {
   "cell_type": "markdown",
   "id": "22d69306",
   "metadata": {
    "papermill": {
     "duration": 0.011513,
     "end_time": "2023-05-16T04:59:10.807615",
     "exception": false,
     "start_time": "2023-05-16T04:59:10.796102",
     "status": "completed"
    },
    "tags": []
   },
   "source": [
    "# Feature Engineering"
   ]
  },
  {
   "cell_type": "code",
   "execution_count": 6,
   "id": "61d5a794",
   "metadata": {
    "execution": {
     "iopub.execute_input": "2023-05-16T04:59:10.831266Z",
     "iopub.status.busy": "2023-05-16T04:59:10.830349Z",
     "iopub.status.idle": "2023-05-16T04:59:10.836936Z",
     "shell.execute_reply": "2023-05-16T04:59:10.835935Z"
    },
    "papermill": {
     "duration": 0.021327,
     "end_time": "2023-05-16T04:59:10.839576",
     "exception": false,
     "start_time": "2023-05-16T04:59:10.818249",
     "status": "completed"
    },
    "tags": []
   },
   "outputs": [],
   "source": [
    "def delt_time_def(df):\n",
    "    df.sort_values(by=['session_id', 'elapsed_time'], inplace=True)\n",
    "    df['d_time'] = df['elapsed_time'].diff(1)\n",
    "    df['d_time'].fillna(0, inplace=True)\n",
    "    df['delt_time'] = df['d_time'].clip(0, 103000) \n",
    "    return df"
   ]
  },
  {
   "cell_type": "code",
   "execution_count": 7,
   "id": "0d072a22",
   "metadata": {
    "execution": {
     "iopub.execute_input": "2023-05-16T04:59:10.862927Z",
     "iopub.status.busy": "2023-05-16T04:59:10.861988Z",
     "iopub.status.idle": "2023-05-16T04:59:10.872469Z",
     "shell.execute_reply": "2023-05-16T04:59:10.871266Z"
    },
    "papermill": {
     "duration": 0.025346,
     "end_time": "2023-05-16T04:59:10.875272",
     "exception": false,
     "start_time": "2023-05-16T04:59:10.849926",
     "status": "completed"
    },
    "tags": []
   },
   "outputs": [],
   "source": [
    "def time_feature(train):\n",
    "    train[\"session_id\"] = train.index\n",
    "    train[\"year\"] = train[\"session_id\"].apply(lambda x: int(str(x)[:2])).astype(np.uint8)\n",
    "    train[\"month\"] = train[\"session_id\"].apply(lambda x: int(str(x)[2:4])+1).astype(np.uint8)\n",
    "    train[\"day\"] = train[\"session_id\"].apply(lambda x: int(str(x)[4:6])).astype(np.uint8)\n",
    "    train[\"hour\"] = train[\"session_id\"].apply(lambda x: int(str(x)[6:8])).astype(np.uint8)\n",
    "    train[\"minute\"] = train[\"session_id\"].apply(lambda x: int(str(x)[8:10])).astype(np.uint8)\n",
    "    train[\"second\"] = train[\"session_id\"].apply(lambda x: int(str(x)[10:12])).astype(np.uint8)\n",
    "    train.drop(columns=[\"session_id\"], inplace=True)\n",
    "    \n",
    "    return train"
   ]
  },
  {
   "cell_type": "code",
   "execution_count": 8,
   "id": "552b4730",
   "metadata": {
    "execution": {
     "iopub.execute_input": "2023-05-16T04:59:10.898818Z",
     "iopub.status.busy": "2023-05-16T04:59:10.898337Z",
     "iopub.status.idle": "2023-05-16T04:59:10.914506Z",
     "shell.execute_reply": "2023-05-16T04:59:10.913448Z"
    },
    "papermill": {
     "duration": 0.03118,
     "end_time": "2023-05-16T04:59:10.917142",
     "exception": false,
     "start_time": "2023-05-16T04:59:10.885962",
     "status": "completed"
    },
    "tags": []
   },
   "outputs": [],
   "source": [
    "def feature_engineer(train):\n",
    "    \n",
    "    CATS = ['event_name', 'fqid', 'room_fqid', 'text_fqid', 'page']\n",
    "    NUMS = ['delt_time', 'hover_duration']\n",
    "    \n",
    "    EV_NAME = ['checkpoint','observation_click', 'cutscene_click', 'notification_click', 'person_click',\n",
    "               'object_click', 'map_click', 'object_hover'] \n",
    "    \n",
    "    new_train = pd.DataFrame(index=train['session_id'].unique(), columns=[])\n",
    "    \n",
    "    for c in EV_NAME:\n",
    "        new_train['l_ev_name_' + c] = train[train['event_name'] == c].groupby(['session_id'])['index'].count()\n",
    "        new_train['t_ev_name_' + c] = train[train['event_name'] == c].groupby(['session_id'])['delt_time'].sum()\n",
    "    \n",
    "    maska = train['name'] == 'basic'\n",
    "    \n",
    "    # ADD QUANTILES\n",
    "    qvant = train.groupby(['session_id'])['d_time'].quantile(q=0.3)\n",
    "    qvant.name = 'qvant1_0_3'\n",
    "    new_train = new_train.join(qvant)\n",
    "\n",
    "    qvant = train.groupby(['session_id'])['d_time'].quantile(q=0.5)\n",
    "    qvant.name = 'qvant3_0_5'\n",
    "    new_train = new_train.join(qvant)\n",
    "\n",
    "    qvant = train.groupby(['session_id'])['d_time'].quantile(q=0.65)\n",
    "    qvant.name = 'qvant4_0_65'\n",
    "    new_train = new_train.join(qvant)\n",
    "    \n",
    "    qvant = train.groupby(['session_id'])['d_time'].quantile(q=0.8)\n",
    "    qvant.name = 'qvant2_0_8'\n",
    "    new_train = new_train.join(qvant)\n",
    "    \n",
    "    new_train['finish'] = train[maska].groupby(['session_id'])['elapsed_time'].last(1)  \n",
    "    new_train['len'] = train[maska].groupby(['session_id'])['index'].count()\n",
    "    \n",
    "    for c in CATS:\n",
    "        tmp = train[maska].groupby(['session_id'])[c].agg('nunique')\n",
    "        tmp.name = tmp.name + '_nunique'\n",
    "        new_train = new_train.join(tmp)\n",
    "    for c in NUMS:\n",
    "        tmp = train[maska].groupby(['session_id'])[c].agg('mean')\n",
    "        new_train = new_train.join(tmp)\n",
    "    for c in NUMS:\n",
    "        tmp = train[maska].groupby(['session_id'])[c].agg('std')\n",
    "        tmp.name = tmp.name + '_std'\n",
    "        new_train = new_train.join(tmp)\n",
    "        \n",
    "    new_train = time_feature(new_train)\n",
    "    new_train = new_train.fillna(-1)\n",
    "    \n",
    "    return new_train"
   ]
  },
  {
   "cell_type": "code",
   "execution_count": 9,
   "id": "ca5632fb",
   "metadata": {
    "execution": {
     "iopub.execute_input": "2023-05-16T04:59:10.941916Z",
     "iopub.status.busy": "2023-05-16T04:59:10.940611Z",
     "iopub.status.idle": "2023-05-16T04:59:10.975079Z",
     "shell.execute_reply": "2023-05-16T04:59:10.974010Z"
    },
    "papermill": {
     "duration": 0.049558,
     "end_time": "2023-05-16T04:59:10.977984",
     "exception": false,
     "start_time": "2023-05-16T04:59:10.928426",
     "status": "completed"
    },
    "tags": []
   },
   "outputs": [],
   "source": [
    "def feature_quest(new_train, train, q):\n",
    "    \n",
    "    train_q = new_train.copy()\n",
    "    \n",
    "    texts = {\n",
    "         1: [\"Yes! This cool old slip from 1916.\", # 0.665288\n",
    "             \"Go ahead, take a peek at the shirt!\", # 0.664379\n",
    "             \"I'll be at the Capitol. Let me know if you find anything!\", # 0.6597581972521553\n",
    "             \"We need to talk about that missing paperwork.\", # 0.6605181072919606\n",
    "             \"The slip is from 1916 but the team didn't start until 1974!\"], # 0.661944558929926\n",
    "         2: [\"It's already all done!\", # 0.521736\n",
    "             \"Gramps is the best historian ever!\"], # 0.5199033644180857\n",
    "         3: [\"I suppose historians are boring, too?\" # 0.516384\n",
    "             \"Why don't you head to the Basketball Center and rustle up some clues?\", # 0.514711\n",
    "             \"We need to talk about that missing paperwork.\"], # 0.5124478306383897   \n",
    "        \n",
    "         4: ['I need to find the owner of this slip.',\n",
    "             'She led marches and helped women get the right to vote!', # 0.6540628230882878\n",
    "             \"Here's a call number to find more info in the Stacks.\", # 0.6557324045957984\n",
    "             \"What was Wells doing here?\"],# 0.6591721086153398\n",
    "\n",
    "         5: [\"Your gramps is awesome! Always full of stories.\",\n",
    "             \"Here's a call number to find more info in the Stacks.\", # 0.6246653297986882\n",
    "             \"Where did you get that coffee?\"], # 0.6275345934517609        \n",
    "        \n",
    "         6: [\"Oh, that's from Bean Town.\", # 0.6264366752789874\n",
    "             \"Wells? I knew it!\"], # 0.6267955513678926\n",
    "           \n",
    "         7: [\"Try not to panic, Jo.\",\n",
    "             \"I've got a stack of business cards from my favorite cleaners.\",# 0.604381166742392\n",
    "             \"Check out our microfiche. It's right through that door.\", # 0.606660216726699\n",
    "             \"I'm afraid my papers have gone missing in this mess.\", # 0.6082894243930865\n",
    "             \"Nope. But Youmans and other suffragists worked hard to change that.\"], # 0.6088501394641797\n",
    "            \n",
    "         8: [\"What should I do first?\",\n",
    "             \"Thanks to them, Wisconsin was the first state to approve votes for women!\"], # 0.5669326944672926\n",
    "\n",
    "         9: [ \"Can you help me? I need to find the owner of this slip.\",\n",
    "             'Looks like a dry cleaning receipt.',# 0.6087513244843515\n",
    "             \"I knew I could count on you, Jo!\", # 0.6110724997907914\n",
    "             \"Nope, that's from Bean Town. I only drink Holdgers!\"], # 0.611671469921066\n",
    "\n",
    "         10:[\"I love these photos of me and Teddy.\"\n",
    "             'Your gramps is awesome! Always full of stories.',# 0.5770680950588705\n",
    "             \"Nope. But Youmans and other suffragists worked hard to change that.\", # 0.579478190790966\n",
    "             \"Right outside the door.\", # 0.580619048797789\n",
    "             \"Do you have any info on Theodora Youmans?\"], # 0.5813027148090604\n",
    "                   \n",
    "         11:[\"I ran into Wells there this morning\",\n",
    "             'Your gramps is awesome! Always full of stories.',# 0.6013201782869839\n",
    "             \"Wait a sec. Women couldn't vote?!\", # 0.6031050558022679\n",
    "             \"I've got a stack of business cards from my favorite cleaners.\",# 0.6040257491159207\n",
    "             \"An old shirt? Try the university.\"],  # 0.6042512493386453\n",
    "         12:[],\n",
    "         13:[],        \n",
    "         14:[],\n",
    "         15:[],\n",
    "         16:[],\n",
    "         17:[],\n",
    "         18:[]\n",
    "        }\n",
    "    \n",
    "    i = 0\n",
    "    for text in texts[q]:\n",
    "        i += 1\n",
    "        train_q['text' + str(i)] = train[train['text'] == text].groupby(['session_id'])['delt_time'].sum()\n",
    "    \n",
    "    fqids = {\n",
    "         1: ['directory'], # 0.656051\n",
    "         2: ['notebook','chap1_finale_c'], # 0.512110\n",
    "         3: ['tostacks','doorblock'], #0.509907\n",
    "         4: ['journals.pic_1.next', 'businesscards.card_1.next', 'block'], # 0.6528585079781952\n",
    "         5: ['janitor', 'journals.pic_2.next'], # 0.6236052722289602\n",
    "         6: ['businesscards', 'journals.pic_0.next','tobasement', 'logbook.page.bingo', 'tohallway'],  #! 0.622522757907791\n",
    "         7: ['journals.pic_1.next','reader.paper2.bingo','businesscards.card_bingo.next', \n",
    "             'logbook.page.bingo', 'tunic.kohlcenter'], #! 0.5960241518448325 \n",
    "         8: ['reader.paper2.bingo'], # 0.5660111512321901 \n",
    "         9: ['journals.pic_1.next','businesscards.card_bingo.bingo', 'reader'],  #! 0.6088924247950622\n",
    "         10:['tunic.kohlcenter','magnify','block','journals.pic_1.next', 'journals'], #! 0.5735354507175185\n",
    "         11:['tostacks','block_magnify','block','businesscards.card_bingo.next'], # 0.5983030710907746\n",
    "         12:['businesscards.card_1.next','tofrontdesk'], # 0.507413 \n",
    "         13:['tocloset_dirty','reader.paper1.next'], #0.468713\n",
    "         14:['tracks'], #0.623715\n",
    "         15:['groupconvo_flag'], # 0.581831\n",
    "         16:['savedteddy'], # 0.471664\n",
    "         17:['journals_flag.pic_0.next'], # 0.533380\n",
    "         18:['chap4_finale_c'],# 0.497796 \n",
    "        }\n",
    "    \n",
    "    for fqid in fqids[q]:\n",
    "        train_q['t_fqid_' + fqid] = train[train['fqid'] == fqid].groupby(['session_id'])['delt_time'].sum()\n",
    "\n",
    "    text_fqids = {\n",
    "        1:[],\n",
    "        2:['tunic.historicalsociety.collection.gramps.found'],# 0.508716\n",
    "        3:[],\n",
    "        4: ['tunic.humanecology.frontdesk.worker.intro',\n",
    "            'tunic.library.frontdesk.worker.wells', # 0.6666325627660743\n",
    "            'tunic.library.frontdesk.worker.hello'], # 0.6678694174620372\n",
    "        5: ['tunic.humanecology.frontdesk.worker.intro',\n",
    "            'tunic.historicalsociety.closet_dirty.gramps.helpclean',\n",
    "            'tunic.historicalsociety.closet_dirty.gramps.news'],     # 0.6225926406619734\n",
    "        6: ['tunic.humanecology.frontdesk.worker.intro',\n",
    "            'tunic.historicalsociety.frontdesk.archivist.foundtheodora',\n",
    "            'tunic.historicalsociety.closet_dirty.trigger_coffee', # 0.6298310348680769\n",
    "            'tunic.historicalsociety.closet_dirty.gramps.archivist'], # 0.6320710506038789\n",
    "        7: ['tunic.historicalsociety.closet_dirty.door_block_talk',\n",
    "            'tunic.drycleaner.frontdesk.worker.hub',\n",
    "            'tunic.historicalsociety.closet_dirty.trigger_coffee'], #\n",
    "        8: ['tunic.humanecology.frontdesk.worker.intro',\n",
    "            'tunic.historicalsociety.frontdesk.magnify', # 0.565820361974706\n",
    "            'tunic.historicalsociety.closet_dirty.trigger_coffee'], # 0.5666316505932836\n",
    "        9: ['tunic.historicalsociety.frontdesk.archivist.hello',\n",
    "            'tunic.library.frontdesk.worker.wells', # 0.6123618449755199\n",
    "            'tunic.historicalsociety.frontdesk.archivist.foundtheodora'], # 0.6165404455938354\n",
    "        10: ['tunic.library.frontdesk.worker.wells',\n",
    "            'tunic.historicalsociety.frontdesk.archivist.have_glass_recap',\n",
    "             'tunic.historicalsociety.closet_dirty.gramps.news'], # 0.5829876555092278\n",
    "        11: ['tunic.historicalsociety.frontdesk.archivist.newspaper_recap',\n",
    "             'tunic.historicalsociety.closet_dirty.gramps.archivist'], # 0.5990726954508437 \n",
    "        12:[],\n",
    "        13:['tunic.drycleaner.frontdesk.logbook.page.bingo'],\n",
    "        14: ['tunic.flaghouse.entry.flag_girl.symbol_recap', # 0.618391\n",
    "             'tunic.historicalsociety.frontdesk.archivist_glasses.confrontation_recap'],\n",
    "        15:['tunic.flaghouse.entry.colorbook'], # 0.578712\n",
    "        16:['tunic.library.frontdesk.worker.nelson'], # 0.469557\n",
    "        17:['tunic.historicalsociety.entry.wells.flag'], # 0.531631\n",
    "        18:['tunic.flaghouse.entry.flag_girl.symbol_recap'], # 0.496091\n",
    "    }\n",
    "    \n",
    "    for text_fqid in text_fqids[q]:\n",
    "        maska = train['text_fqid'] == text_fqid\n",
    "        train_q['t_text_fqid_' + text_fqid] = train[maska].groupby(['session_id'])['delt_time'].sum()       \n",
    "        train_q['l_text_fqid_' + text_fqid] = train[train['text_fqid'] == text_fqid].groupby(['session_id'])['index'].count()\n",
    "\n",
    "\n",
    "    room_lvls = {\n",
    "         1: [['tunic.capitol_0.hall',4],['tunic.historicalsociety.collection',3],\n",
    "            ['tunic.historicalsociety.entry',1],['tunic.historicalsociety.collection', 2]], \n",
    "         2: [],\n",
    "         3: [['tunic.capitol_0.hall',4]], \n",
    "         4: [['tunic.historicalsociety.frontdesk',12], \n",
    "             ['tunic.historicalsociety.stacks',7]], \n",
    "         5: [['tunic.historicalsociety.stacks',12]],  \n",
    "         6: [['tunic.drycleaner.frontdesk',8],  \n",
    "             ['tunic.library.microfiche',9]], \n",
    "         7: [['tunic.library.frontdesk',10]], \n",
    "         8: [['tunic.kohlcenter.halloffame', 11], \n",
    "             ['tunic.kohlcenter.halloffame',6]], \n",
    "         9: [['tunic.capitol_1.hall', 12], \n",
    "             ['tunic.historicalsociety.collection',12]],\n",
    "         10:[['tunic.humanecology.frontdesk',7]], \n",
    "         11:[['tunic.drycleaner.frontdesk',9], \n",
    "             ['tunic.historicalsociety.collection',6]], \n",
    "         12:[['tunic.historicalsociety.stacks',6],# 0.504048\n",
    "             ['tunic.historicalsociety.frontdesk', 7],\n",
    "             ['tunic.historicalsociety.closet_dirty',11], #0.5018942967072544\n",
    "             ['tunic.historicalsociety.frontdesk', 12]], # 0.500436\n",
    "         13:[['tunic.library.microfiche', 9], #0.463537\n",
    "             ['tunic.historicalsociety.stacks', 11],\n",
    "             ['tunic.library.frontdesk', 10], # 0.4596453764144546\n",
    "             ['tunic.historicalsociety.entry', 5]], # 0.452105\n",
    "         14:[['tunic.historicalsociety.closet_dirty',17],#0.617733\n",
    "             ['tunic.historicalsociety.entry',15]], # 0.614938\n",
    "         15:[['tunic.historicalsociety.entry',15],#0.569833\n",
    "             ['tunic.library.frontdesk',20]], # 0.561463\n",
    "         16:[['tunic.library.frontdesk', 20],# 0.467553\n",
    "             ['tunic.wildlife.center',19]], # 0.464778\n",
    "         17:[['tunic.wildlife.center', 19],#0.529125\n",
    "             ['tunic.historicalsociety.stacks', 21]], # 0.527719\n",
    "         18:[['tunic.wildlife.center', 22]], # 0.495289\n",
    "        }\n",
    "    \n",
    "    for rl in room_lvls[q]:\n",
    "        nam = rl[0]+str(rl[1])\n",
    "        maska = (train['room_fqid'] == rl[0])&(train['level'] == rl[1])\n",
    "        train_q['t_' + nam] = train[maska].groupby(['session_id'])['delt_time'].sum()\n",
    "        train_q['l_' + nam] = train[maska].groupby(['session_id'])['index'].count()\n",
    "\n",
    "    return train_q"
   ]
  },
  {
   "cell_type": "code",
   "execution_count": 10,
   "id": "45ed53be",
   "metadata": {
    "execution": {
     "iopub.execute_input": "2023-05-16T04:59:11.001912Z",
     "iopub.status.busy": "2023-05-16T04:59:11.000901Z",
     "iopub.status.idle": "2023-05-16T04:59:11.011113Z",
     "shell.execute_reply": "2023-05-16T04:59:11.010040Z"
    },
    "papermill": {
     "duration": 0.025761,
     "end_time": "2023-05-16T04:59:11.014079",
     "exception": false,
     "start_time": "2023-05-16T04:59:10.988318",
     "status": "completed"
    },
    "tags": []
   },
   "outputs": [],
   "source": [
    "def create_model(train, old_train, quests, models):\n",
    "    \n",
    "    kol_quest = len(quests)\n",
    "    ALL_USERS = train.index.unique()\n",
    "    print('We will train with', len(ALL_USERS) ,'users info')\n",
    "   \n",
    "    print('### quest', end='')\n",
    "    \n",
    "    # ITERATE THRU QUESTIONS\n",
    "    for q in quests:\n",
    "        print('# ', q, end='')\n",
    "        \n",
    "        train_q = feature_quest(train, old_train, q)\n",
    "           \n",
    "        # TRAIN DATA\n",
    "        train_x = train_q\n",
    "        train_users = train_x.index.values\n",
    "        train_y = targets.loc[targets.q==q].set_index('session').loc[train_users]\n",
    "\n",
    "        # TRAIN MODEL \n",
    "\n",
    "        model = CatBoostClassifier(\n",
    "            n_estimators = 300,\n",
    "            learning_rate= 0.045,\n",
    "            depth = 6\n",
    "        )\n",
    "        \n",
    "        model.fit(train_x.astype('float32'), train_y['correct'], verbose=False)\n",
    "\n",
    "        # SAVE MODEL, PREDICT VALID OOF\n",
    "        models[f'{q}'] = model\n",
    "    print('***')\n",
    "    \n",
    "    return models"
   ]
  },
  {
   "cell_type": "code",
   "execution_count": 11,
   "id": "b872e9b4",
   "metadata": {
    "execution": {
     "iopub.execute_input": "2023-05-16T04:59:11.037256Z",
     "iopub.status.busy": "2023-05-16T04:59:11.036383Z",
     "iopub.status.idle": "2023-05-16T04:59:11.041367Z",
     "shell.execute_reply": "2023-05-16T04:59:11.040448Z"
    },
    "papermill": {
     "duration": 0.019497,
     "end_time": "2023-05-16T04:59:11.043953",
     "exception": false,
     "start_time": "2023-05-16T04:59:11.024456",
     "status": "completed"
    },
    "tags": []
   },
   "outputs": [],
   "source": [
    "models = {}\n",
    "best_threshold = 0.625"
   ]
  },
  {
   "cell_type": "code",
   "execution_count": 12,
   "id": "523d597c",
   "metadata": {
    "execution": {
     "iopub.execute_input": "2023-05-16T04:59:11.068299Z",
     "iopub.status.busy": "2023-05-16T04:59:11.067377Z",
     "iopub.status.idle": "2023-05-16T04:59:44.242989Z",
     "shell.execute_reply": "2023-05-16T04:59:44.241853Z"
    },
    "papermill": {
     "duration": 33.197673,
     "end_time": "2023-05-16T04:59:44.252503",
     "exception": false,
     "start_time": "2023-05-16T04:59:11.054830",
     "status": "completed"
    },
    "tags": []
   },
   "outputs": [
    {
     "name": "stdout",
     "output_type": "stream",
     "text": [
      "We will train with 23562 users info\n",
      "### quest#  1#  2#  3***\n"
     ]
    }
   ],
   "source": [
    "kol_lvl = (df0_4 .groupby(['session_id'])['level'].agg('nunique') < 5)\n",
    "list_session = kol_lvl[kol_lvl].index\n",
    "df0_4  = df0_4 [~df0_4 ['session_id'].isin(list_session)]\n",
    "\n",
    "df0_4 = delt_time_def(df0_4)\n",
    "train = feature_engineer(df0_4)\n",
    "quests_0_4 =  [1,2,3] \n",
    "models = create_model(train, df0_4, quests_0_4, models)\n",
    "del df0_4"
   ]
  },
  {
   "cell_type": "code",
   "execution_count": 13,
   "id": "d147883b",
   "metadata": {
    "execution": {
     "iopub.execute_input": "2023-05-16T04:59:44.276951Z",
     "iopub.status.busy": "2023-05-16T04:59:44.275958Z",
     "iopub.status.idle": "2023-05-16T05:01:34.859660Z",
     "shell.execute_reply": "2023-05-16T05:01:34.858036Z"
    },
    "papermill": {
     "duration": 110.599697,
     "end_time": "2023-05-16T05:01:34.863277",
     "exception": false,
     "start_time": "2023-05-16T04:59:44.263580",
     "status": "completed"
    },
    "tags": []
   },
   "outputs": [
    {
     "name": "stdout",
     "output_type": "stream",
     "text": [
      "We will train with 23561 users info\n",
      "### quest#  4#  5#  6#  7#  8#  9#  10#  11#  12***\n"
     ]
    }
   ],
   "source": [
    "kol_lvl = (df5_12.groupby(['session_id'])['level'].agg('nunique') < 8)\n",
    "list_session = kol_lvl[kol_lvl].index\n",
    "df5_12 = df5_12[~df5_12['session_id'].isin(list_session)]\n",
    "\n",
    "\n",
    "df5_12 = delt_time_def(df5_12)\n",
    "train = feature_engineer(df5_12)\n",
    "quests_5_12 = [4, 5, 6, 7, 8, 9, 10, 11,12] \n",
    "models = create_model(train, df5_12, quests_5_12, models)\n",
    "del df5_12"
   ]
  },
  {
   "cell_type": "code",
   "execution_count": 14,
   "id": "140c514a",
   "metadata": {
    "execution": {
     "iopub.execute_input": "2023-05-16T05:01:34.889830Z",
     "iopub.status.busy": "2023-05-16T05:01:34.889297Z",
     "iopub.status.idle": "2023-05-16T05:03:07.935037Z",
     "shell.execute_reply": "2023-05-16T05:03:07.933468Z"
    },
    "papermill": {
     "duration": 93.064035,
     "end_time": "2023-05-16T05:03:07.939268",
     "exception": false,
     "start_time": "2023-05-16T05:01:34.875233",
     "status": "completed"
    },
    "tags": []
   },
   "outputs": [
    {
     "name": "stdout",
     "output_type": "stream",
     "text": [
      "We will train with 22986 users info\n",
      "### quest#  13#  14#  15#  16#  17#  18***\n"
     ]
    }
   ],
   "source": [
    "kol_lvl = (df13_22 .groupby(['session_id'])['level'].agg('nunique') < 10)\n",
    "list_session = kol_lvl[kol_lvl].index\n",
    "df13_22  = df13_22 [~df13_22 ['session_id'].isin(list_session)]\n",
    "\n",
    "df13_22 = delt_time_def(df13_22)\n",
    "train= feature_engineer(df13_22)\n",
    "quests_13_22 = [13,14, 15, 16, 17,18] \n",
    "models = create_model(train, df13_22, quests_13_22, models)"
   ]
  },
  {
   "cell_type": "code",
   "execution_count": 15,
   "id": "e31b77ca",
   "metadata": {
    "execution": {
     "iopub.execute_input": "2023-05-16T05:03:07.968762Z",
     "iopub.status.busy": "2023-05-16T05:03:07.967591Z",
     "iopub.status.idle": "2023-05-16T05:03:07.975543Z",
     "shell.execute_reply": "2023-05-16T05:03:07.974242Z"
    },
    "papermill": {
     "duration": 0.027859,
     "end_time": "2023-05-16T05:03:07.979995",
     "exception": false,
     "start_time": "2023-05-16T05:03:07.952136",
     "status": "completed"
    },
    "tags": []
   },
   "outputs": [
    {
     "name": "stdout",
     "output_type": "stream",
     "text": [
      "['1', '2', '3', '4', '5', '6', '7', '8', '9', '10', '11', '12', '13', '14', '15', '16', '17', '18']\n"
     ]
    }
   ],
   "source": [
    "l_models = list(models.keys())\n",
    "print(l_models)"
   ]
  },
  {
   "cell_type": "code",
   "execution_count": 16,
   "id": "9fb0f0c9",
   "metadata": {
    "execution": {
     "iopub.execute_input": "2023-05-16T05:03:08.010848Z",
     "iopub.status.busy": "2023-05-16T05:03:08.010257Z",
     "iopub.status.idle": "2023-05-16T05:03:08.177593Z",
     "shell.execute_reply": "2023-05-16T05:03:08.176187Z"
    },
    "papermill": {
     "duration": 0.185257,
     "end_time": "2023-05-16T05:03:08.181298",
     "exception": false,
     "start_time": "2023-05-16T05:03:07.996041",
     "status": "completed"
    },
    "tags": []
   },
   "outputs": [],
   "source": [
    "#Saving a Model\n",
    "for q in l_models:\n",
    "    models[q].save_model(f'cat_model_{q}.bin')"
   ]
  },
  {
   "cell_type": "code",
   "execution_count": 17,
   "id": "9916ba27",
   "metadata": {
    "execution": {
     "iopub.execute_input": "2023-05-16T05:03:08.214306Z",
     "iopub.status.busy": "2023-05-16T05:03:08.213649Z",
     "iopub.status.idle": "2023-05-16T05:03:08.253629Z",
     "shell.execute_reply": "2023-05-16T05:03:08.252610Z"
    },
    "papermill": {
     "duration": 0.057436,
     "end_time": "2023-05-16T05:03:08.256396",
     "exception": false,
     "start_time": "2023-05-16T05:03:08.198960",
     "status": "completed"
    },
    "tags": []
   },
   "outputs": [],
   "source": [
    "#Model Reading\n",
    "dir = '/kaggle/input/catbust/'\n",
    "for q in l_models:\n",
    "    #models[q] = CatBoostClassifier().load_model(dir+f'cat_model_{q}.bin')\n",
    "    models[q] = CatBoostClassifier().load_model(f'cat_model_{q}.bin')"
   ]
  },
  {
   "cell_type": "markdown",
   "id": "7664b9a0",
   "metadata": {
    "papermill": {
     "duration": 0.011708,
     "end_time": "2023-05-16T05:03:08.280265",
     "exception": false,
     "start_time": "2023-05-16T05:03:08.268557",
     "status": "completed"
    },
    "tags": []
   },
   "source": [
    "# Infer Test Data"
   ]
  },
  {
   "cell_type": "code",
   "execution_count": 18,
   "id": "11b57a74",
   "metadata": {
    "execution": {
     "iopub.execute_input": "2023-05-16T05:03:08.307393Z",
     "iopub.status.busy": "2023-05-16T05:03:08.306263Z",
     "iopub.status.idle": "2023-05-16T05:03:08.338904Z",
     "shell.execute_reply": "2023-05-16T05:03:08.337581Z"
    },
    "papermill": {
     "duration": 0.050268,
     "end_time": "2023-05-16T05:03:08.342705",
     "exception": false,
     "start_time": "2023-05-16T05:03:08.292437",
     "status": "completed"
    },
    "tags": []
   },
   "outputs": [],
   "source": [
    "import jo_wilder_310 as jo_wilder"
   ]
  },
  {
   "cell_type": "code",
   "execution_count": 19,
   "id": "d4229d2a",
   "metadata": {
    "execution": {
     "iopub.execute_input": "2023-05-16T05:03:08.369315Z",
     "iopub.status.busy": "2023-05-16T05:03:08.368847Z",
     "iopub.status.idle": "2023-05-16T05:03:08.376059Z",
     "shell.execute_reply": "2023-05-16T05:03:08.374879Z"
    },
    "papermill": {
     "duration": 0.024672,
     "end_time": "2023-05-16T05:03:08.379785",
     "exception": false,
     "start_time": "2023-05-16T05:03:08.355113",
     "status": "completed"
    },
    "tags": []
   },
   "outputs": [],
   "source": [
    "try:\n",
    "    jo_wilder.make_env.__called__ = False\n",
    "    env.__called__ = False\n",
    "    type(env)._state = type(type(env)._state).__dict__['INIT']\n",
    "except:\n",
    "    pass\n",
    "\n",
    "env = jo_wilder.make_env()\n",
    "iter_test = env.iter_test() "
   ]
  },
  {
   "cell_type": "code",
   "execution_count": 20,
   "id": "64b12c37",
   "metadata": {
    "execution": {
     "iopub.execute_input": "2023-05-16T05:03:08.405901Z",
     "iopub.status.busy": "2023-05-16T05:03:08.405422Z",
     "iopub.status.idle": "2023-05-16T05:03:10.851963Z",
     "shell.execute_reply": "2023-05-16T05:03:10.850720Z"
    },
    "papermill": {
     "duration": 2.463329,
     "end_time": "2023-05-16T05:03:10.855122",
     "exception": false,
     "start_time": "2023-05-16T05:03:08.391793",
     "status": "completed"
    },
    "tags": []
   },
   "outputs": [
    {
     "name": "stdout",
     "output_type": "stream",
     "text": [
      "This version of the API is not optimized and should not be used to estimate the runtime of your code on the hidden test set.\n"
     ]
    }
   ],
   "source": [
    "list_q = {'0-4':quests_0_4, '5-12':quests_5_12, '13-22':quests_13_22}\n",
    "\n",
    "for (test, sam_sub) in iter_test: \n",
    "    \n",
    "    sam_sub['question'] = [int(label.split('_')[1][1:]) for label in sam_sub['session_id']]    \n",
    "    grp = test.level_group.values[0]\n",
    "    \n",
    "    tmp = (test['event_name'] == 'checkpoint').sum()\n",
    "\n",
    "    sam_sub['correct'] = 1\n",
    "    sam_sub.loc[sam_sub.question.isin([5, 8, 10, 13, 15]), 'correct'] = 0  \n",
    "    old_train = delt_time_def(test[test.level_group == grp])\n",
    "    train = feature_engineer(old_train)\n",
    "    \n",
    "    for q in list_q[grp]:\n",
    "        train_q = feature_quest(train, old_train, q)\n",
    "        clf = models[f'{q}']\n",
    "        p = clf.predict_proba(train_q.astype('float32'))[:,1]\n",
    "        mask = sam_sub.question == q \n",
    "        x = int(p[0]>best_threshold)\n",
    "        sam_sub.loc[mask,'correct'] = x\n",
    "        \n",
    "    sam_sub = sam_sub[['session_id', 'correct']]        \n",
    "    env.predict(sam_sub)"
   ]
  },
  {
   "cell_type": "markdown",
   "id": "bca34a3d",
   "metadata": {
    "papermill": {
     "duration": 0.011629,
     "end_time": "2023-05-16T05:03:10.879726",
     "exception": false,
     "start_time": "2023-05-16T05:03:10.868097",
     "status": "completed"
    },
    "tags": []
   },
   "source": [
    "# Submission"
   ]
  },
  {
   "cell_type": "code",
   "execution_count": 21,
   "id": "ad2d7eb6",
   "metadata": {
    "execution": {
     "iopub.execute_input": "2023-05-16T05:03:10.906007Z",
     "iopub.status.busy": "2023-05-16T05:03:10.905296Z",
     "iopub.status.idle": "2023-05-16T05:03:10.914194Z",
     "shell.execute_reply": "2023-05-16T05:03:10.913352Z"
    },
    "papermill": {
     "duration": 0.024705,
     "end_time": "2023-05-16T05:03:10.916457",
     "exception": false,
     "start_time": "2023-05-16T05:03:10.891752",
     "status": "completed"
    },
    "tags": []
   },
   "outputs": [
    {
     "name": "stdout",
     "output_type": "stream",
     "text": [
      "(54, 2)\n"
     ]
    }
   ],
   "source": [
    "df = pd.read_csv('submission.csv')\n",
    "print( df.shape )"
   ]
  },
  {
   "cell_type": "code",
   "execution_count": 22,
   "id": "63ca1751",
   "metadata": {
    "execution": {
     "iopub.execute_input": "2023-05-16T05:03:10.943707Z",
     "iopub.status.busy": "2023-05-16T05:03:10.942797Z",
     "iopub.status.idle": "2023-05-16T05:03:10.954451Z",
     "shell.execute_reply": "2023-05-16T05:03:10.953434Z"
    },
    "papermill": {
     "duration": 0.028516,
     "end_time": "2023-05-16T05:03:10.957173",
     "exception": false,
     "start_time": "2023-05-16T05:03:10.928657",
     "status": "completed"
    },
    "tags": []
   },
   "outputs": [
    {
     "data": {
      "text/html": [
       "<div>\n",
       "<style scoped>\n",
       "    .dataframe tbody tr th:only-of-type {\n",
       "        vertical-align: middle;\n",
       "    }\n",
       "\n",
       "    .dataframe tbody tr th {\n",
       "        vertical-align: top;\n",
       "    }\n",
       "\n",
       "    .dataframe thead th {\n",
       "        text-align: right;\n",
       "    }\n",
       "</style>\n",
       "<table border=\"1\" class=\"dataframe\">\n",
       "  <thead>\n",
       "    <tr style=\"text-align: right;\">\n",
       "      <th></th>\n",
       "      <th>session_id</th>\n",
       "      <th>correct</th>\n",
       "    </tr>\n",
       "  </thead>\n",
       "  <tbody>\n",
       "    <tr>\n",
       "      <th>0</th>\n",
       "      <td>20090109393214576_q1</td>\n",
       "      <td>1</td>\n",
       "    </tr>\n",
       "    <tr>\n",
       "      <th>1</th>\n",
       "      <td>20090109393214576_q2</td>\n",
       "      <td>1</td>\n",
       "    </tr>\n",
       "    <tr>\n",
       "      <th>2</th>\n",
       "      <td>20090109393214576_q3</td>\n",
       "      <td>1</td>\n",
       "    </tr>\n",
       "    <tr>\n",
       "      <th>3</th>\n",
       "      <td>20090109393214576_q4</td>\n",
       "      <td>1</td>\n",
       "    </tr>\n",
       "    <tr>\n",
       "      <th>4</th>\n",
       "      <td>20090109393214576_q5</td>\n",
       "      <td>0</td>\n",
       "    </tr>\n",
       "    <tr>\n",
       "      <th>5</th>\n",
       "      <td>20090109393214576_q6</td>\n",
       "      <td>1</td>\n",
       "    </tr>\n",
       "    <tr>\n",
       "      <th>6</th>\n",
       "      <td>20090109393214576_q7</td>\n",
       "      <td>1</td>\n",
       "    </tr>\n",
       "    <tr>\n",
       "      <th>7</th>\n",
       "      <td>20090109393214576_q8</td>\n",
       "      <td>0</td>\n",
       "    </tr>\n",
       "    <tr>\n",
       "      <th>8</th>\n",
       "      <td>20090109393214576_q9</td>\n",
       "      <td>1</td>\n",
       "    </tr>\n",
       "    <tr>\n",
       "      <th>9</th>\n",
       "      <td>20090109393214576_q10</td>\n",
       "      <td>0</td>\n",
       "    </tr>\n",
       "  </tbody>\n",
       "</table>\n",
       "</div>"
      ],
      "text/plain": [
       "              session_id  correct\n",
       "0   20090109393214576_q1        1\n",
       "1   20090109393214576_q2        1\n",
       "2   20090109393214576_q3        1\n",
       "3   20090109393214576_q4        1\n",
       "4   20090109393214576_q5        0\n",
       "5   20090109393214576_q6        1\n",
       "6   20090109393214576_q7        1\n",
       "7   20090109393214576_q8        0\n",
       "8   20090109393214576_q9        1\n",
       "9  20090109393214576_q10        0"
      ]
     },
     "execution_count": 22,
     "metadata": {},
     "output_type": "execute_result"
    }
   ],
   "source": [
    "df.head(10)"
   ]
  },
  {
   "cell_type": "code",
   "execution_count": null,
   "id": "d82509a8",
   "metadata": {
    "papermill": {
     "duration": 0.011976,
     "end_time": "2023-05-16T05:03:10.981969",
     "exception": false,
     "start_time": "2023-05-16T05:03:10.969993",
     "status": "completed"
    },
    "tags": []
   },
   "outputs": [],
   "source": []
  }
 ],
 "metadata": {
  "kernelspec": {
   "display_name": "Python 3",
   "language": "python",
   "name": "python3"
  },
  "language_info": {
   "codemirror_mode": {
    "name": "ipython",
    "version": 3
   },
   "file_extension": ".py",
   "mimetype": "text/x-python",
   "name": "python",
   "nbconvert_exporter": "python",
   "pygments_lexer": "ipython3",
   "version": "3.10.10"
  },
  "papermill": {
   "default_parameters": {},
   "duration": 404.812073,
   "end_time": "2023-05-16T05:03:12.723250",
   "environment_variables": {},
   "exception": null,
   "input_path": "__notebook__.ipynb",
   "output_path": "__notebook__.ipynb",
   "parameters": {},
   "start_time": "2023-05-16T04:56:27.911177",
   "version": "2.4.0"
  }
 },
 "nbformat": 4,
 "nbformat_minor": 5
}
