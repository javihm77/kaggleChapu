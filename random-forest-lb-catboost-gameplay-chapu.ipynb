{
 "cells": [
  {
   "cell_type": "markdown",
   "id": "78bb3621",
   "metadata": {
    "papermill": {
     "duration": 0.020917,
     "end_time": "2023-04-17T03:19:09.629006",
     "exception": false,
     "start_time": "2023-04-17T03:19:09.608089",
     "status": "completed"
    },
    "tags": []
   },
   "source": [
    "# Libraries"
   ]
  },
  {
   "cell_type": "code",
   "execution_count": 1,
   "id": "02ab3215",
   "metadata": {
    "execution": {
     "iopub.execute_input": "2023-04-17T03:19:09.668633Z",
     "iopub.status.busy": "2023-04-17T03:19:09.667892Z",
     "iopub.status.idle": "2023-04-17T03:19:09.672654Z",
     "shell.execute_reply": "2023-04-17T03:19:09.671824Z"
    },
    "papermill": {
     "duration": 0.029204,
     "end_time": "2023-04-17T03:19:09.676267",
     "exception": false,
     "start_time": "2023-04-17T03:19:09.647063",
     "status": "completed"
    },
    "tags": []
   },
   "outputs": [],
   "source": [
    "# !pip install polars"
   ]
  },
  {
   "cell_type": "code",
   "execution_count": null,
   "id": "459dda4b",
   "metadata": {
    "papermill": {
     "duration": 0.016766,
     "end_time": "2023-04-17T03:19:09.710302",
     "exception": false,
     "start_time": "2023-04-17T03:19:09.693536",
     "status": "completed"
    },
    "tags": []
   },
   "outputs": [],
   "source": []
  },
  {
   "cell_type": "markdown",
   "id": "9d94f15e",
   "metadata": {
    "papermill": {
     "duration": 0.017058,
     "end_time": "2023-04-17T03:19:09.744879",
     "exception": false,
     "start_time": "2023-04-17T03:19:09.727821",
     "status": "completed"
    },
    "tags": []
   },
   "source": [
    "# Reading training file"
   ]
  },
  {
   "cell_type": "code",
   "execution_count": 2,
   "id": "8bcdd6f2",
   "metadata": {
    "_cell_guid": "b1076dfc-b9ad-4769-8c92-a6c4dae69d19",
    "_uuid": "8f2839f25d086af736a60e9eeb907d3b93b6e0e5",
    "execution": {
     "iopub.execute_input": "2023-04-17T03:19:09.781653Z",
     "iopub.status.busy": "2023-04-17T03:19:09.780834Z",
     "iopub.status.idle": "2023-04-17T03:19:11.723473Z",
     "shell.execute_reply": "2023-04-17T03:19:11.722018Z"
    },
    "papermill": {
     "duration": 1.964137,
     "end_time": "2023-04-17T03:19:11.726237",
     "exception": false,
     "start_time": "2023-04-17T03:19:09.762100",
     "status": "completed"
    },
    "tags": []
   },
   "outputs": [
    {
     "name": "stdout",
     "output_type": "stream",
     "text": [
      "/kaggle/input/predict-student-performance-from-game-play/sample_submission.csv\n",
      "/kaggle/input/predict-student-performance-from-game-play/train_labels.csv\n",
      "/kaggle/input/predict-student-performance-from-game-play/train.csv\n",
      "/kaggle/input/predict-student-performance-from-game-play/test.csv\n",
      "/kaggle/input/predict-student-performance-from-game-play/jo_wilder/competition.cpython-37m-x86_64-linux-gnu.so\n",
      "/kaggle/input/predict-student-performance-from-game-play/jo_wilder/__init__.py\n"
     ]
    }
   ],
   "source": [
    "# This Python 3 environment comes with many helpful analytics libraries installed\n",
    "# It is defined by the kaggle/python Docker image: https://github.com/kaggle/docker-python\n",
    "# For example, here's several helpful packages to load\n",
    "\n",
    "import numpy as np # linear algebra\n",
    "import pandas as pd # data processing, CSV file I/O (e.g. pd.read_csv)\n",
    "import warnings\n",
    "import polars as pl\n",
    "import gc\n",
    "import os\n",
    "from sklearn.model_selection import KFold, GroupKFold\n",
    "from sklearn.ensemble import RandomForestClassifier\n",
    "from sklearn.metrics import f1_score\n",
    "from vowpalwabbit.sklearn_vw import VWClassifier\n",
    "from sklearn.metrics import classification_report\n",
    "from sklearn.model_selection import GridSearchCV,RandomizedSearchCV\n",
    "\n",
    "# Input data files are available in the read-only \"../input/\" directory\n",
    "# For example, running this (by clicking run or pressing Shift+Enter) will list all files under the input directory\n",
    "\n",
    "import os\n",
    "for dirname, _, filenames in os.walk('/kaggle/input'):\n",
    "    for filename in filenames:\n",
    "        print(os.path.join(dirname, filename))\n",
    "\n",
    "# You can write up to 20GB to the current directory (/kaggle/working/) that gets preserved as output when you create a version using \"Save & Run All\" \n",
    "# You can also write temporary files to /kaggle/temp/, but they won't be saved outside of the current session\n",
    "\n",
    "# settings\n",
    "warnings.filterwarnings(\"ignore\")"
   ]
  },
  {
   "cell_type": "code",
   "execution_count": 3,
   "id": "d0aa69b2",
   "metadata": {
    "execution": {
     "iopub.execute_input": "2023-04-17T03:19:11.764012Z",
     "iopub.status.busy": "2023-04-17T03:19:11.762883Z",
     "iopub.status.idle": "2023-04-17T03:19:11.770264Z",
     "shell.execute_reply": "2023-04-17T03:19:11.769331Z"
    },
    "papermill": {
     "duration": 0.029305,
     "end_time": "2023-04-17T03:19:11.773036",
     "exception": false,
     "start_time": "2023-04-17T03:19:11.743731",
     "status": "completed"
    },
    "tags": []
   },
   "outputs": [],
   "source": [
    "dtypes = {\"session_id\": pl.Int64,\n",
    "          \"elapsed_time\": pl.Int64,\n",
    "          \"event_name\": pl.Categorical,\n",
    "          \"name\": pl.Categorical,\n",
    "          \"level\": pl.Int8,\n",
    "          \"page\": pl.Float32,\n",
    "          \"room_coor_x\": pl.Float32,\n",
    "          \"room_coor_y\": pl.Float32,\n",
    "          \"screen_coor_x\": pl.Float32,\n",
    "          \"screen_coor_y\": pl.Float32,\n",
    "          \"hover_duration\": pl.Float32,\n",
    "          \"text\": pl.Categorical,\n",
    "          \"fqid\": pl.Categorical,\n",
    "          \"room_fqid\": pl.Categorical,\n",
    "          \"text_fqid\": pl.Categorical,\n",
    "          \"fullscreen\": pl.Int8,\n",
    "          \"hq\": pl.Int8,\n",
    "          \"music\": pl.Int8,\n",
    "          \"level_group\": pl.Categorical\n",
    "          }"
   ]
  },
  {
   "cell_type": "code",
   "execution_count": 4,
   "id": "c0347569",
   "metadata": {
    "execution": {
     "iopub.execute_input": "2023-04-17T03:19:11.812146Z",
     "iopub.status.busy": "2023-04-17T03:19:11.811316Z",
     "iopub.status.idle": "2023-04-17T03:19:11.836456Z",
     "shell.execute_reply": "2023-04-17T03:19:11.835309Z"
    },
    "papermill": {
     "duration": 0.047307,
     "end_time": "2023-04-17T03:19:11.839186",
     "exception": false,
     "start_time": "2023-04-17T03:19:11.791879",
     "status": "completed"
    },
    "tags": []
   },
   "outputs": [],
   "source": [
    "columns = [\n",
    "\n",
    "    pl.col(\"page\").cast(pl.Float32),\n",
    "    (\n",
    "        (pl.col(\"elapsed_time\") - pl.col(\"elapsed_time\").shift(1)) \n",
    "         .fill_null(0)\n",
    "         .clip(0, 1e9)\n",
    "         .over([\"session_id\", \"level_group\"])\n",
    "         .alias(\"elapsed_time_diff\")\n",
    "    ),\n",
    "    (\n",
    "        (pl.col(\"screen_coor_x\") - pl.col(\"screen_coor_x\").shift(1)) \n",
    "         .fill_null(0)\n",
    "         .abs()\n",
    "         .over([\"session_id\", \"level_group\"])\n",
    "        .alias(\"location_x_diff\") \n",
    "    ),\n",
    "    (\n",
    "        (pl.col(\"screen_coor_y\") - pl.col(\"screen_coor_y\").shift(1)) \n",
    "         .fill_null(0)\n",
    "         .abs()\n",
    "         .over([\"session_id\", \"level_group\"])\n",
    "        .alias(\"location_y_diff\") \n",
    "    )\n",
    "]"
   ]
  },
  {
   "cell_type": "code",
   "execution_count": 5,
   "id": "3a4b9a4f",
   "metadata": {
    "execution": {
     "iopub.execute_input": "2023-04-17T03:19:11.877521Z",
     "iopub.status.busy": "2023-04-17T03:19:11.876723Z",
     "iopub.status.idle": "2023-04-17T03:19:11.881279Z",
     "shell.execute_reply": "2023-04-17T03:19:11.880286Z"
    },
    "papermill": {
     "duration": 0.026618,
     "end_time": "2023-04-17T03:19:11.883741",
     "exception": false,
     "start_time": "2023-04-17T03:19:11.857123",
     "status": "completed"
    },
    "tags": []
   },
   "outputs": [],
   "source": [
    "#pl.StringCache()\n",
    "pl.toggle_string_cache(True)\n",
    "#pub fn toggle_string_cache(toggle: bool)"
   ]
  },
  {
   "cell_type": "markdown",
   "id": "6cdea81a",
   "metadata": {
    "papermill": {
     "duration": 0.016908,
     "end_time": "2023-04-17T03:19:11.918058",
     "exception": false,
     "start_time": "2023-04-17T03:19:11.901150",
     "status": "completed"
    },
    "tags": []
   },
   "source": [
    "## Reading from Kaggle Environment"
   ]
  },
  {
   "cell_type": "code",
   "execution_count": 6,
   "id": "e47b9daf",
   "metadata": {
    "execution": {
     "iopub.execute_input": "2023-04-17T03:19:11.955638Z",
     "iopub.status.busy": "2023-04-17T03:19:11.954806Z",
     "iopub.status.idle": "2023-04-17T03:20:03.450798Z",
     "shell.execute_reply": "2023-04-17T03:20:03.449901Z"
    },
    "papermill": {
     "duration": 51.542882,
     "end_time": "2023-04-17T03:20:03.478445",
     "exception": false,
     "start_time": "2023-04-17T03:19:11.935563",
     "status": "completed"
    },
    "tags": []
   },
   "outputs": [
    {
     "name": "stdout",
     "output_type": "stream",
     "text": [
      "CPU times: user 41.7 s, sys: 15.4 s, total: 57.1 s\n",
      "Wall time: 51.5 s\n"
     ]
    }
   ],
   "source": [
    "%%time\n",
    "files_status = True\n",
    "\n",
    "try:    \n",
    "    #train = pd.read_csv('/kaggle/input/predict-student-performance-from-game-play/train.csv', dtype=dtypes)\n",
    "    train = (pl.read_csv('/kaggle/input/predict-student-performance-from-game-play/train.csv',dtypes=dtypes)\n",
    "                .drop([\"fullscreen\", \"hq\", \"music\"])\n",
    "                .with_columns(columns)\n",
    "              )\n",
    "    targets = pd.read_csv('/kaggle/input/predict-student-performance-from-game-play/train_labels.csv')\n",
    "    #test = pd.read_csv(\"'/kaggle/input/predict-student-performance-from-game-play/test.csv'\")\n",
    "except OSError as e:\n",
    "    print(\"files not found in Kaggle environment: \",e.errno)\n",
    "    files_status = False"
   ]
  },
  {
   "cell_type": "markdown",
   "id": "5c3d0605",
   "metadata": {
    "papermill": {
     "duration": 0.0246,
     "end_time": "2023-04-17T03:20:03.524332",
     "exception": false,
     "start_time": "2023-04-17T03:20:03.499732",
     "status": "completed"
    },
    "tags": []
   },
   "source": [
    "## Reading from local environment (files folder)"
   ]
  },
  {
   "cell_type": "code",
   "execution_count": 7,
   "id": "bfe8f45e",
   "metadata": {
    "execution": {
     "iopub.execute_input": "2023-04-17T03:20:03.569978Z",
     "iopub.status.busy": "2023-04-17T03:20:03.569086Z",
     "iopub.status.idle": "2023-04-17T03:20:03.576543Z",
     "shell.execute_reply": "2023-04-17T03:20:03.575355Z"
    },
    "papermill": {
     "duration": 0.033003,
     "end_time": "2023-04-17T03:20:03.579192",
     "exception": false,
     "start_time": "2023-04-17T03:20:03.546189",
     "status": "completed"
    },
    "tags": []
   },
   "outputs": [
    {
     "name": "stdout",
     "output_type": "stream",
     "text": [
      "CPU times: user 3 µs, sys: 1 µs, total: 4 µs\n",
      "Wall time: 8.58 µs\n"
     ]
    }
   ],
   "source": [
    "%%time\n",
    "#If environment is not kaggle notebook, read them from a folder \n",
    "\n",
    "try:\n",
    "    if files_status == False:\n",
    "        train = (pl.read_csv(\"predict-student-performance-from-game-play/train.csv\", dtypes=dtypes)\n",
    "                    .drop([\"fullscreen\", \"hq\", \"music\"])\n",
    "                    .with_columns(columns)\n",
    "                )\n",
    "        targets = pd.read_csv('predict-student-performance-from-game-play/train_labels.csv')\n",
    "except OSError as e:\n",
    "    print(\"Files not found\")"
   ]
  },
  {
   "cell_type": "code",
   "execution_count": 8,
   "id": "25b7e3be",
   "metadata": {
    "execution": {
     "iopub.execute_input": "2023-04-17T03:20:03.619177Z",
     "iopub.status.busy": "2023-04-17T03:20:03.618370Z",
     "iopub.status.idle": "2023-04-17T03:20:03.624202Z",
     "shell.execute_reply": "2023-04-17T03:20:03.623078Z"
    },
    "papermill": {
     "duration": 0.028512,
     "end_time": "2023-04-17T03:20:03.626568",
     "exception": false,
     "start_time": "2023-04-17T03:20:03.598056",
     "status": "completed"
    },
    "tags": []
   },
   "outputs": [
    {
     "name": "stdout",
     "output_type": "stream",
     "text": [
      "Memory usage of dataframe is 2360.58 MB\n"
     ]
    }
   ],
   "source": [
    "print(f\"Memory usage of dataframe is {round(train.estimated_size('mb'), 2)} MB\")"
   ]
  },
  {
   "cell_type": "markdown",
   "id": "dbb072e1",
   "metadata": {
    "papermill": {
     "duration": 0.017716,
     "end_time": "2023-04-17T03:20:03.662051",
     "exception": false,
     "start_time": "2023-04-17T03:20:03.644335",
     "status": "completed"
    },
    "tags": []
   },
   "source": [
    "# Reducing training file"
   ]
  },
  {
   "cell_type": "code",
   "execution_count": 9,
   "id": "40d96b09",
   "metadata": {
    "execution": {
     "iopub.execute_input": "2023-04-17T03:20:03.700524Z",
     "iopub.status.busy": "2023-04-17T03:20:03.699731Z",
     "iopub.status.idle": "2023-04-17T03:20:03.712685Z",
     "shell.execute_reply": "2023-04-17T03:20:03.711575Z"
    },
    "papermill": {
     "duration": 0.035624,
     "end_time": "2023-04-17T03:20:03.715324",
     "exception": false,
     "start_time": "2023-04-17T03:20:03.679700",
     "status": "completed"
    },
    "tags": []
   },
   "outputs": [],
   "source": [
    "def reduce_memory_usage_pl(df, name):\n",
    "    \"\"\" Reduce memory usage by polars dataframe {df} with name {name} by changing its data types.\n",
    "        Original pandas version of this function: https://www.kaggle.com/code/arjanso/reducing-dataframe-memory-size-by-65 \"\"\"\n",
    "    print(f\"Memory usage of dataframe {name} is {round(df.estimated_size('mb'), 2)} MB\")\n",
    "    Numeric_Int_types = [pl.Int8,pl.Int16,pl.Int32,pl.Int64]\n",
    "    Numeric_Float_types = [pl.Float32,pl.Float64]    \n",
    "    for col in df.columns:\n",
    "        col_type = df[col].dtype\n",
    "        c_min = df[col].min()\n",
    "        c_max = df[col].max()\n",
    "        if col_type in Numeric_Int_types:\n",
    "            if c_min > np.iinfo(np.int8).min and c_max < np.iinfo(np.int8).max:\n",
    "                df = df.with_columns(df[col].cast(pl.Int8))\n",
    "            elif c_min > np.iinfo(np.int16).min and c_max < np.iinfo(np.int16).max:\n",
    "                df = df.with_columns(df[col].cast(pl.Int16))\n",
    "            elif c_min > np.iinfo(np.int32).min and c_max < np.iinfo(np.int32).max:\n",
    "                df = df.with_columns(df[col].cast(pl.Int32))\n",
    "            elif c_min > np.iinfo(np.int64).min and c_max < np.iinfo(np.int64).max:\n",
    "                df = df.with_columns(df[col].cast(pl.Int64))\n",
    "        elif col_type in Numeric_Float_types:\n",
    "            if c_min > np.finfo(np.float32).min and c_max < np.finfo(np.float32).max:\n",
    "                df = df.with_columns(df[col].cast(pl.Float32))\n",
    "            else:\n",
    "                pass\n",
    "        elif col_type == pl.Utf8:\n",
    "            df = df.with_columns(df[col].cast(pl.Categorical))\n",
    "        else:\n",
    "            pass\n",
    "    \n",
    "    print(f\"Memory usage of dataframe {name} became {round(df.estimated_size('mb'), 2)} MB\")\n",
    "    return df"
   ]
  },
  {
   "cell_type": "code",
   "execution_count": 10,
   "id": "29ac9275",
   "metadata": {
    "execution": {
     "iopub.execute_input": "2023-04-17T03:20:03.753333Z",
     "iopub.status.busy": "2023-04-17T03:20:03.752497Z",
     "iopub.status.idle": "2023-04-17T03:20:04.851801Z",
     "shell.execute_reply": "2023-04-17T03:20:04.850794Z"
    },
    "papermill": {
     "duration": 1.121643,
     "end_time": "2023-04-17T03:20:04.854652",
     "exception": false,
     "start_time": "2023-04-17T03:20:03.733009",
     "status": "completed"
    },
    "tags": []
   },
   "outputs": [
    {
     "name": "stdout",
     "output_type": "stream",
     "text": [
      "Memory usage of dataframe train_subset is 2360.58 MB\n",
      "Memory usage of dataframe train_subset became 2009.48 MB\n"
     ]
    }
   ],
   "source": [
    "# Reducing polar\n",
    "train = reduce_memory_usage_pl(train, \"train_subset\")"
   ]
  },
  {
   "cell_type": "code",
   "execution_count": 11,
   "id": "cdd331b5",
   "metadata": {
    "execution": {
     "iopub.execute_input": "2023-04-17T03:20:04.893750Z",
     "iopub.status.busy": "2023-04-17T03:20:04.892911Z",
     "iopub.status.idle": "2023-04-17T03:20:04.899158Z",
     "shell.execute_reply": "2023-04-17T03:20:04.898082Z"
    },
    "papermill": {
     "duration": 0.028496,
     "end_time": "2023-04-17T03:20:04.901820",
     "exception": false,
     "start_time": "2023-04-17T03:20:04.873324",
     "status": "completed"
    },
    "tags": []
   },
   "outputs": [
    {
     "name": "stdout",
     "output_type": "stream",
     "text": [
      "['session_id', 'index', 'elapsed_time', 'event_name', 'name', 'level', 'page', 'room_coor_x', 'room_coor_y', 'screen_coor_x', 'screen_coor_y', 'hover_duration', 'text', 'fqid', 'room_fqid', 'text_fqid', 'level_group', 'elapsed_time_diff', 'location_x_diff', 'location_y_diff']\n",
      "(26296946, 20)\n",
      "26296946\n",
      "<class 'polars.dataframe.frame.DataFrame'>\n"
     ]
    }
   ],
   "source": [
    "print(train.columns)\n",
    "print(train.shape)\n",
    "print(len(train))\n",
    "print(type(train))"
   ]
  },
  {
   "cell_type": "code",
   "execution_count": 12,
   "id": "ab9f6b94",
   "metadata": {
    "execution": {
     "iopub.execute_input": "2023-04-17T03:20:04.940000Z",
     "iopub.status.busy": "2023-04-17T03:20:04.939188Z",
     "iopub.status.idle": "2023-04-17T03:20:04.958865Z",
     "shell.execute_reply": "2023-04-17T03:20:04.957679Z"
    },
    "papermill": {
     "duration": 0.041866,
     "end_time": "2023-04-17T03:20:04.961528",
     "exception": false,
     "start_time": "2023-04-17T03:20:04.919662",
     "status": "completed"
    },
    "tags": []
   },
   "outputs": [
    {
     "data": {
      "text/html": [
       "<div><style>\n",
       ".dataframe > thead > tr > th,\n",
       ".dataframe > tbody > tr > td {\n",
       "  text-align: right;\n",
       "}\n",
       "</style>\n",
       "<small>shape: (4, 20)</small><table border=\"1\" class=\"dataframe\"><thead><tr><th>session_id</th><th>index</th><th>elapsed_time</th><th>event_name</th><th>name</th><th>level</th><th>page</th><th>room_coor_x</th><th>room_coor_y</th><th>screen_coor_x</th><th>screen_coor_y</th><th>hover_duration</th><th>text</th><th>fqid</th><th>room_fqid</th><th>text_fqid</th><th>level_group</th><th>elapsed_time_diff</th><th>location_x_diff</th><th>location_y_diff</th></tr><tr><td>i64</td><td>i16</td><td>i32</td><td>cat</td><td>cat</td><td>i8</td><td>f32</td><td>f32</td><td>f32</td><td>f32</td><td>f32</td><td>f32</td><td>cat</td><td>cat</td><td>cat</td><td>cat</td><td>cat</td><td>i32</td><td>f32</td><td>f32</td></tr></thead><tbody><tr><td>22100221145014656</td><td>1601</td><td>5485166</td><td>&quot;navigate_click…</td><td>&quot;undefined&quot;</td><td>22</td><td>null</td><td>332.696075</td><td>141.493179</td><td>545.0</td><td>221.0</td><td>null</td><td>null</td><td>&quot;chap4_finale_c…</td><td>&quot;tunic.capitol_…</td><td>null</td><td>&quot;13-22&quot;</td><td>1935</td><td>62.0</td><td>52.0</td></tr><tr><td>22100221145014656</td><td>1602</td><td>5485917</td><td>&quot;navigate_click…</td><td>&quot;undefined&quot;</td><td>22</td><td>null</td><td>369.912872</td><td>140.569199</td><td>611.0</td><td>217.0</td><td>null</td><td>null</td><td>null</td><td>&quot;tunic.capitol_…</td><td>null</td><td>&quot;13-22&quot;</td><td>751</td><td>66.0</td><td>4.0</td></tr><tr><td>22100221145014656</td><td>1603</td><td>5486753</td><td>&quot;navigate_click…</td><td>&quot;undefined&quot;</td><td>22</td><td>null</td><td>252.299652</td><td>123.805893</td><td>526.0</td><td>232.0</td><td>null</td><td>null</td><td>&quot;chap4_finale_c…</td><td>&quot;tunic.capitol_…</td><td>null</td><td>&quot;13-22&quot;</td><td>836</td><td>85.0</td><td>15.0</td></tr><tr><td>22100221145014656</td><td>1604</td><td>5487952</td><td>&quot;checkpoint&quot;</td><td>&quot;basic&quot;</td><td>22</td><td>null</td><td>null</td><td>null</td><td>null</td><td>null</td><td>null</td><td>null</td><td>&quot;chap4_finale_c…</td><td>&quot;tunic.capitol_…</td><td>null</td><td>&quot;13-22&quot;</td><td>1199</td><td>0.0</td><td>0.0</td></tr></tbody></table></div>"
      ],
      "text/plain": [
       "shape: (4, 20)\n",
       "┌──────────┬───────┬────────────┬──────────┬───┬───────────┬────────────┬────────────┬────────────┐\n",
       "│ session_ ┆ index ┆ elapsed_ti ┆ event_na ┆ … ┆ level_gro ┆ elapsed_ti ┆ location_x ┆ location_y │\n",
       "│ id       ┆ ---   ┆ me         ┆ me       ┆   ┆ up        ┆ me_diff    ┆ _diff      ┆ _diff      │\n",
       "│ ---      ┆ i16   ┆ ---        ┆ ---      ┆   ┆ ---       ┆ ---        ┆ ---        ┆ ---        │\n",
       "│ i64      ┆       ┆ i32        ┆ cat      ┆   ┆ cat       ┆ i32        ┆ f32        ┆ f32        │\n",
       "╞══════════╪═══════╪════════════╪══════════╪═══╪═══════════╪════════════╪════════════╪════════════╡\n",
       "│ 22100221 ┆ 1601  ┆ 5485166    ┆ navigate ┆ … ┆ 13-22     ┆ 1935       ┆ 62.0       ┆ 52.0       │\n",
       "│ 14501465 ┆       ┆            ┆ _click   ┆   ┆           ┆            ┆            ┆            │\n",
       "│ 6        ┆       ┆            ┆          ┆   ┆           ┆            ┆            ┆            │\n",
       "│ 22100221 ┆ 1602  ┆ 5485917    ┆ navigate ┆ … ┆ 13-22     ┆ 751        ┆ 66.0       ┆ 4.0        │\n",
       "│ 14501465 ┆       ┆            ┆ _click   ┆   ┆           ┆            ┆            ┆            │\n",
       "│ 6        ┆       ┆            ┆          ┆   ┆           ┆            ┆            ┆            │\n",
       "│ 22100221 ┆ 1603  ┆ 5486753    ┆ navigate ┆ … ┆ 13-22     ┆ 836        ┆ 85.0       ┆ 15.0       │\n",
       "│ 14501465 ┆       ┆            ┆ _click   ┆   ┆           ┆            ┆            ┆            │\n",
       "│ 6        ┆       ┆            ┆          ┆   ┆           ┆            ┆            ┆            │\n",
       "│ 22100221 ┆ 1604  ┆ 5487952    ┆ checkpoi ┆ … ┆ 13-22     ┆ 1199       ┆ 0.0        ┆ 0.0        │\n",
       "│ 14501465 ┆       ┆            ┆ nt       ┆   ┆           ┆            ┆            ┆            │\n",
       "│ 6        ┆       ┆            ┆          ┆   ┆           ┆            ┆            ┆            │\n",
       "└──────────┴───────┴────────────┴──────────┴───┴───────────┴────────────┴────────────┴────────────┘"
      ]
     },
     "execution_count": 12,
     "metadata": {},
     "output_type": "execute_result"
    }
   ],
   "source": [
    "train.tail(4)"
   ]
  },
  {
   "cell_type": "markdown",
   "id": "194224f0",
   "metadata": {
    "papermill": {
     "duration": 0.018401,
     "end_time": "2023-04-17T03:20:04.998208",
     "exception": false,
     "start_time": "2023-04-17T03:20:04.979807",
     "status": "completed"
    },
    "tags": []
   },
   "source": [
    "# Feature Engineering for training file"
   ]
  },
  {
   "cell_type": "code",
   "execution_count": 13,
   "id": "f0a632fb",
   "metadata": {
    "execution": {
     "iopub.execute_input": "2023-04-17T03:20:05.037599Z",
     "iopub.status.busy": "2023-04-17T03:20:05.036711Z",
     "iopub.status.idle": "2023-04-17T03:20:05.056777Z",
     "shell.execute_reply": "2023-04-17T03:20:05.055620Z"
    },
    "papermill": {
     "duration": 0.04293,
     "end_time": "2023-04-17T03:20:05.059657",
     "exception": false,
     "start_time": "2023-04-17T03:20:05.016727",
     "status": "completed"
    },
    "tags": []
   },
   "outputs": [],
   "source": [
    "CATS = ['event_name', 'name', 'fqid', 'room_fqid', 'text_fqid']\n",
    "NUMS = ['page', 'room_coor_x', 'room_coor_y', 'screen_coor_x', 'screen_coor_y',\n",
    "        'hover_duration', 'elapsed_time_diff']\n",
    "\n",
    "name_feature = ['basic', 'undefined', 'close', 'open', 'prev', 'next']\n",
    "event_name_feature = ['cutscene_click', 'person_click', 'navigate_click',\n",
    "       'observation_click', 'notification_click', 'object_click',\n",
    "       'object_hover', 'map_hover', 'map_click', 'checkpoint',\n",
    "       'notebook_click']\n",
    "\n",
    "# from https://www.kaggle.com/code/leehomhuang/catboost-baseline-with-lots-features-inference :\n",
    "fqid_lists = ['worker', 'archivist', 'gramps', 'wells', 'toentry', 'confrontation', 'crane_ranger', 'groupconvo', 'flag_girl', 'tomap', 'tostacks', 'tobasement', 'archivist_glasses', 'boss', 'journals', 'seescratches', 'groupconvo_flag', 'cs', 'teddy', 'expert', 'businesscards', 'ch3start', 'tunic.historicalsociety', 'tofrontdesk', 'savedteddy', 'plaque', 'glasses', 'tunic.drycleaner', 'reader_flag', 'tunic.library', 'tracks', 'tunic.capitol_2', 'trigger_scarf', 'reader', 'directory', 'tunic.capitol_1', 'journals.pic_0.next', 'unlockdoor', 'tunic', 'what_happened', 'tunic.kohlcenter', 'tunic.humanecology', 'colorbook', 'logbook', 'businesscards.card_0.next', 'journals.hub.topics', 'logbook.page.bingo', 'journals.pic_1.next', 'journals_flag', 'reader.paper0.next', 'tracks.hub.deer', 'reader_flag.paper0.next', 'trigger_coffee', 'wellsbadge', 'journals.pic_2.next', 'tomicrofiche', 'journals_flag.pic_0.bingo', 'plaque.face.date', 'notebook', 'tocloset_dirty', 'businesscards.card_bingo.bingo', 'businesscards.card_1.next', 'tunic.wildlife', 'tunic.hub.slip', 'tocage', 'journals.pic_2.bingo', 'tocollectionflag', 'tocollection', 'chap4_finale_c', 'chap2_finale_c', 'lockeddoor', 'journals_flag.hub.topics', 'tunic.capitol_0', 'reader_flag.paper2.bingo', 'photo', 'tunic.flaghouse', 'reader.paper1.next', 'directory.closeup.archivist', 'intro', 'businesscards.card_bingo.next', 'reader.paper2.bingo', 'retirement_letter', 'remove_cup', 'journals_flag.pic_0.next', 'magnify', 'coffee', 'key', 'togrampa', 'reader_flag.paper1.next', 'janitor', 'tohallway', 'chap1_finale', 'report', 'outtolunch', 'journals_flag.hub.topics_old', 'journals_flag.pic_1.next', 'reader.paper2.next', 'chap1_finale_c', 'reader_flag.paper2.next', 'door_block_talk', 'journals_flag.pic_1.bingo', 'journals_flag.pic_2.next', 'journals_flag.pic_2.bingo', 'block_magnify', 'reader.paper0.prev', 'block', 'reader_flag.paper0.prev', 'block_0', 'door_block_clean', 'reader.paper2.prev', 'reader.paper1.prev', 'doorblock', 'tocloset', 'reader_flag.paper2.prev', 'reader_flag.paper1.prev', 'block_tomap2', 'journals_flag.pic_0_old.next', 'journals_flag.pic_1_old.next', 'block_tocollection', 'block_nelson', 'journals_flag.pic_2_old.next', 'block_tomap1', 'block_badge', 'need_glasses', 'block_badge_2', 'fox', 'block_1']\n",
    "text_lists = ['tunic.historicalsociety.cage.confrontation', 'tunic.wildlife.center.crane_ranger.crane', 'tunic.historicalsociety.frontdesk.archivist.newspaper', 'tunic.historicalsociety.entry.groupconvo', 'tunic.wildlife.center.wells.nodeer', 'tunic.historicalsociety.frontdesk.archivist.have_glass', 'tunic.drycleaner.frontdesk.worker.hub', 'tunic.historicalsociety.closet_dirty.gramps.news', 'tunic.humanecology.frontdesk.worker.intro', 'tunic.historicalsociety.frontdesk.archivist_glasses.confrontation', 'tunic.historicalsociety.basement.seescratches', 'tunic.historicalsociety.collection.cs', 'tunic.flaghouse.entry.flag_girl.hello', 'tunic.historicalsociety.collection.gramps.found', 'tunic.historicalsociety.basement.ch3start', 'tunic.historicalsociety.entry.groupconvo_flag', 'tunic.library.frontdesk.worker.hello', 'tunic.library.frontdesk.worker.wells', 'tunic.historicalsociety.collection_flag.gramps.flag', 'tunic.historicalsociety.basement.savedteddy', 'tunic.library.frontdesk.worker.nelson', 'tunic.wildlife.center.expert.removed_cup', 'tunic.library.frontdesk.worker.flag', 'tunic.historicalsociety.frontdesk.archivist.hello', 'tunic.historicalsociety.closet.gramps.intro_0_cs_0', 'tunic.historicalsociety.entry.boss.flag', 'tunic.flaghouse.entry.flag_girl.symbol', 'tunic.historicalsociety.closet_dirty.trigger_scarf', 'tunic.drycleaner.frontdesk.worker.done', 'tunic.historicalsociety.closet_dirty.what_happened', 'tunic.wildlife.center.wells.animals', 'tunic.historicalsociety.closet.teddy.intro_0_cs_0', 'tunic.historicalsociety.cage.glasses.afterteddy', 'tunic.historicalsociety.cage.teddy.trapped', 'tunic.historicalsociety.cage.unlockdoor', 'tunic.historicalsociety.stacks.journals.pic_2.bingo', 'tunic.historicalsociety.entry.wells.flag', 'tunic.humanecology.frontdesk.worker.badger', 'tunic.historicalsociety.stacks.journals_flag.pic_0.bingo', 'tunic.historicalsociety.closet.intro', 'tunic.historicalsociety.closet.retirement_letter.hub', 'tunic.historicalsociety.entry.directory.closeup.archivist', 'tunic.historicalsociety.collection.tunic.slip', 'tunic.kohlcenter.halloffame.plaque.face.date', 'tunic.historicalsociety.closet_dirty.trigger_coffee', 'tunic.drycleaner.frontdesk.logbook.page.bingo', 'tunic.library.microfiche.reader.paper2.bingo', 'tunic.kohlcenter.halloffame.togrampa', 'tunic.capitol_2.hall.boss.haveyougotit', 'tunic.wildlife.center.wells.nodeer_recap', 'tunic.historicalsociety.cage.glasses.beforeteddy', 'tunic.historicalsociety.closet_dirty.gramps.helpclean', 'tunic.wildlife.center.expert.recap', 'tunic.historicalsociety.frontdesk.archivist.have_glass_recap', 'tunic.historicalsociety.stacks.journals_flag.pic_1.bingo', 'tunic.historicalsociety.cage.lockeddoor', 'tunic.historicalsociety.stacks.journals_flag.pic_2.bingo', 'tunic.historicalsociety.collection.gramps.lost', 'tunic.historicalsociety.closet.notebook', 'tunic.historicalsociety.frontdesk.magnify', 'tunic.humanecology.frontdesk.businesscards.card_bingo.bingo', 'tunic.wildlife.center.remove_cup', 'tunic.library.frontdesk.wellsbadge.hub', 'tunic.wildlife.center.tracks.hub.deer', 'tunic.historicalsociety.frontdesk.key', 'tunic.library.microfiche.reader_flag.paper2.bingo', 'tunic.flaghouse.entry.colorbook', 'tunic.wildlife.center.coffee', 'tunic.capitol_1.hall.boss.haveyougotit', 'tunic.historicalsociety.basement.janitor', 'tunic.historicalsociety.collection_flag.gramps.recap', 'tunic.wildlife.center.wells.animals2', 'tunic.flaghouse.entry.flag_girl.symbol_recap', 'tunic.historicalsociety.closet_dirty.photo', 'tunic.historicalsociety.stacks.outtolunch', 'tunic.library.frontdesk.worker.wells_recap', 'tunic.historicalsociety.frontdesk.archivist_glasses.confrontation_recap', 'tunic.capitol_0.hall.boss.talktogramps', 'tunic.historicalsociety.closet.photo', 'tunic.historicalsociety.collection.tunic', 'tunic.historicalsociety.closet.teddy.intro_0_cs_5', 'tunic.historicalsociety.closet_dirty.gramps.archivist', 'tunic.historicalsociety.closet_dirty.door_block_talk', 'tunic.historicalsociety.entry.boss.flag_recap', 'tunic.historicalsociety.frontdesk.archivist.need_glass_0', 'tunic.historicalsociety.entry.wells.talktogramps', 'tunic.historicalsociety.frontdesk.block_magnify', 'tunic.historicalsociety.frontdesk.archivist.foundtheodora', 'tunic.historicalsociety.closet_dirty.gramps.nothing', 'tunic.historicalsociety.closet_dirty.door_block_clean', 'tunic.capitol_1.hall.boss.writeitup', 'tunic.library.frontdesk.worker.nelson_recap', 'tunic.library.frontdesk.worker.hello_short', 'tunic.historicalsociety.stacks.block', 'tunic.historicalsociety.frontdesk.archivist.need_glass_1', 'tunic.historicalsociety.entry.boss.talktogramps', 'tunic.historicalsociety.frontdesk.archivist.newspaper_recap', 'tunic.historicalsociety.entry.wells.flag_recap', 'tunic.drycleaner.frontdesk.worker.done2', 'tunic.library.frontdesk.worker.flag_recap', 'tunic.humanecology.frontdesk.block_0', 'tunic.library.frontdesk.worker.preflag', 'tunic.historicalsociety.basement.gramps.seeyalater', 'tunic.flaghouse.entry.flag_girl.hello_recap', 'tunic.historicalsociety.closet.doorblock', 'tunic.drycleaner.frontdesk.worker.takealook', 'tunic.historicalsociety.basement.gramps.whatdo', 'tunic.library.frontdesk.worker.droppedbadge', 'tunic.historicalsociety.entry.block_tomap2', 'tunic.library.frontdesk.block_nelson', 'tunic.library.microfiche.block_0', 'tunic.historicalsociety.entry.block_tocollection', 'tunic.historicalsociety.entry.block_tomap1', 'tunic.historicalsociety.collection.gramps.look_0', 'tunic.library.frontdesk.block_badge', 'tunic.historicalsociety.cage.need_glasses', 'tunic.library.frontdesk.block_badge_2', 'tunic.kohlcenter.halloffame.block_0', 'tunic.capitol_0.hall.chap1_finale_c', 'tunic.capitol_1.hall.chap2_finale_c', 'tunic.capitol_2.hall.chap4_finale_c', 'tunic.wildlife.center.fox.concern', 'tunic.drycleaner.frontdesk.block_0', 'tunic.historicalsociety.entry.gramps.hub', 'tunic.humanecology.frontdesk.block_1', 'tunic.drycleaner.frontdesk.block_1']\n",
    "room_lists = ['tunic.historicalsociety.entry', 'tunic.wildlife.center', 'tunic.historicalsociety.cage', 'tunic.library.frontdesk', 'tunic.historicalsociety.frontdesk', 'tunic.historicalsociety.stacks', 'tunic.historicalsociety.closet_dirty', 'tunic.humanecology.frontdesk', 'tunic.historicalsociety.basement', 'tunic.kohlcenter.halloffame', 'tunic.library.microfiche', 'tunic.drycleaner.frontdesk', 'tunic.historicalsociety.collection', 'tunic.historicalsociety.closet', 'tunic.flaghouse.entry', 'tunic.historicalsociety.collection_flag', 'tunic.capitol_1.hall', 'tunic.capitol_0.hall', 'tunic.capitol_2.hall']"
   ]
  },
  {
   "cell_type": "code",
   "execution_count": 14,
   "id": "e253ef7e",
   "metadata": {
    "execution": {
     "iopub.execute_input": "2023-04-17T03:20:05.098773Z",
     "iopub.status.busy": "2023-04-17T03:20:05.097931Z",
     "iopub.status.idle": "2023-04-17T03:20:05.151159Z",
     "shell.execute_reply": "2023-04-17T03:20:05.149591Z"
    },
    "papermill": {
     "duration": 0.076469,
     "end_time": "2023-04-17T03:20:05.154300",
     "exception": false,
     "start_time": "2023-04-17T03:20:05.077831",
     "status": "completed"
    },
    "tags": []
   },
   "outputs": [],
   "source": [
    "def feature_engineer_pl(x, grp, use_extra, feature_suffix):\n",
    "        \n",
    "    aggs = [\n",
    "        pl.col(\"index\").count().alias(f\"session_number_{feature_suffix}\"),\n",
    "      \n",
    "        *[pl.col(c).drop_nulls().n_unique().alias(f\"{c}_unique_{feature_suffix}\") for c in CATS],\n",
    "        [pl.col(c).quantile(0.1, \"nearest\").alias(f\"{c}_quantile1_{feature_suffix}\") for c in NUMS],\n",
    "        *[pl.col(c).quantile(0.2, \"nearest\").alias(f\"{c}_quantile2_{feature_suffix}\") for c in NUMS],\n",
    "        *[pl.col(c).quantile(0.4, \"nearest\").alias(f\"{c}_quantile4_{feature_suffix}\") for c in NUMS],\n",
    "        *[pl.col(c).quantile(0.6, \"nearest\").alias(f\"{c}_quantile6_{feature_suffix}\") for c in NUMS],\n",
    "        *[pl.col(c).quantile(0.8, \"nearest\").alias(f\"{c}_quantile8_{feature_suffix}\") for c in NUMS],\n",
    "        *[pl.col(c).quantile(0.9, \"nearest\").alias(f\"{c}_quantile9_{feature_suffix}\") for c in NUMS],\n",
    "        \n",
    "        *[pl.col(c).mean().alias(f\"{c}_mean_{feature_suffix}\") for c in NUMS],\n",
    "        *[pl.col(c).std().alias(f\"{c}_std_{feature_suffix}\") for c in NUMS],\n",
    "        *[pl.col(c).min().alias(f\"{c}_min_{feature_suffix}\") for c in NUMS],\n",
    "        *[pl.col(c).max().alias(f\"{c}_max_{feature_suffix}\") for c in NUMS],\n",
    "        \n",
    "        *[pl.col(\"event_name\").filter(pl.col(\"event_name\") == c).count().alias(f\"{c}_event_name_counts{feature_suffix}\")for c in event_name_feature],\n",
    "        *[pl.col(\"elapsed_time_diff\").filter(pl.col(\"event_name\")==c).quantile(0.1, \"nearest\").alias(f\"{c}_ET_quantile1_{feature_suffix}\") for c in event_name_feature],\n",
    "        *[pl.col(\"elapsed_time_diff\").filter(pl.col(\"event_name\")==c).quantile(0.2, \"nearest\").alias(f\"{c}_ET_quantile2_{feature_suffix}\") for c in event_name_feature],\n",
    "        *[pl.col(\"elapsed_time_diff\").filter(pl.col(\"event_name\")==c).quantile(0.4, \"nearest\").alias(f\"{c}_ET_quantile4_{feature_suffix}\") for c in event_name_feature],\n",
    "        *[pl.col(\"elapsed_time_diff\").filter(pl.col(\"event_name\")==c).quantile(0.6, \"nearest\").alias(f\"{c}_ET_quantile6_{feature_suffix}\") for c in event_name_feature],\n",
    "        *[pl.col(\"elapsed_time_diff\").filter(pl.col(\"event_name\")==c).quantile(0.8, \"nearest\").alias(f\"{c}_ET_quantile8_{feature_suffix}\") for c in event_name_feature],\n",
    "        *[pl.col(\"elapsed_time_diff\").filter(pl.col(\"event_name\")==c).quantile(0.9, \"nearest\").alias(f\"{c}_ET_quantile9_{feature_suffix}\") for c in event_name_feature],      \n",
    "        *[pl.col(\"elapsed_time_diff\").filter(pl.col(\"event_name\")==c).mean().alias(f\"{c}_ET_mean_{feature_suffix}\") for c in event_name_feature],\n",
    "        *[pl.col(\"elapsed_time_diff\").filter(pl.col(\"event_name\")==c).std().alias(f\"{c}_ET_std_{feature_suffix}\") for c in event_name_feature],\n",
    "        *[pl.col(\"elapsed_time_diff\").filter(pl.col(\"event_name\")==c).max().alias(f\"{c}_ET_max_{feature_suffix}\") for c in event_name_feature],\n",
    "        *[pl.col(\"elapsed_time_diff\").filter(pl.col(\"event_name\")==c).min().alias(f\"{c}_ET_min_{feature_suffix}\") for c in event_name_feature],\n",
    "     \n",
    "        *[pl.col(\"name\").filter(pl.col(\"name\") == c).count().alias(f\"{c}_name_counts{feature_suffix}\")for c in name_feature],   \n",
    "        *[pl.col(\"elapsed_time_diff\").filter(pl.col(\"name\")==c).mean().alias(f\"{c}_ET_mean_{feature_suffix}\") for c in name_feature],\n",
    "        *[pl.col(\"elapsed_time_diff\").filter(pl.col(\"name\")==c).max().alias(f\"{c}_ET_max_{feature_suffix}\") for c in name_feature],\n",
    "        *[pl.col(\"elapsed_time_diff\").filter(pl.col(\"name\")==c).min().alias(f\"{c}_ET_min_{feature_suffix}\") for c in name_feature],\n",
    "        *[pl.col(\"elapsed_time_diff\").filter(pl.col(\"name\")==c).std().alias(f\"{c}_ET_std_{feature_suffix}\") for c in name_feature],  \n",
    "        \n",
    "        *[pl.col(\"room_fqid\").filter(pl.col(\"room_fqid\") == c).count().alias(f\"{c}_room_fqid_counts{feature_suffix}\")for c in room_lists],\n",
    "        *[pl.col(\"elapsed_time_diff\").filter(pl.col(\"room_fqid\") == c).std().alias(f\"{c}_ET_std_{feature_suffix}\") for c in room_lists],\n",
    "        *[pl.col(\"elapsed_time_diff\").filter(pl.col(\"room_fqid\") == c).mean().alias(f\"{c}_ET_mean_{feature_suffix}\") for c in room_lists],\n",
    "        *[pl.col(\"elapsed_time_diff\").filter(pl.col(\"room_fqid\") == c).max().alias(f\"{c}_ET_max_{feature_suffix}\") for c in room_lists],\n",
    "        *[pl.col(\"elapsed_time_diff\").filter(pl.col(\"room_fqid\") == c).min().alias(f\"{c}_ET_min_{feature_suffix}\") for c in room_lists],\n",
    "        *[pl.col(\"elapsed_time_diff\").filter(pl.col(\"room_fqid\") == c).sum().alias(f\"{c}_ET_sum_{feature_suffix}\") for c in room_lists],\n",
    "                \n",
    "        *[pl.col(\"fqid\").filter(pl.col(\"fqid\") == c).count().alias(f\"{c}_fqid_counts{feature_suffix}\")for c in fqid_lists],\n",
    "        *[pl.col(\"elapsed_time_diff\").filter(pl.col(\"fqid\") == c).std().alias(f\"{c}_ET_std_{feature_suffix}\") for c in fqid_lists],\n",
    "        *[pl.col(\"elapsed_time_diff\").filter(pl.col(\"fqid\") == c).mean().alias(f\"{c}_ET_mean_{feature_suffix}\") for c in fqid_lists],\n",
    "        *[pl.col(\"elapsed_time_diff\").filter(pl.col(\"fqid\") == c).max().alias(f\"{c}_ET_max_{feature_suffix}\") for c in fqid_lists],\n",
    "        *[pl.col(\"elapsed_time_diff\").filter(pl.col(\"fqid\") == c).min().alias(f\"{c}_ET_min_{feature_suffix}\") for c in fqid_lists],\n",
    "        *[pl.col(\"elapsed_time_diff\").filter(pl.col(\"fqid\") == c).sum().alias(f\"{c}_ET_sum_{feature_suffix}\") for c in fqid_lists],\n",
    "       \n",
    "        *[pl.col(\"text_fqid\").filter(pl.col(\"text_fqid\") == c).count().alias(f\"{c}_text_fqid_counts{feature_suffix}\") for c in text_lists],\n",
    "        *[pl.col(\"elapsed_time_diff\").filter(pl.col(\"text_fqid\") == c).std().alias(f\"{c}_ET_std_{feature_suffix}\") for c in text_lists],\n",
    "        *[pl.col(\"elapsed_time_diff\").filter(pl.col(\"text_fqid\") == c).mean().alias(f\"{c}_ET_mean_{feature_suffix}\") for c in text_lists],\n",
    "        *[pl.col(\"elapsed_time_diff\").filter(pl.col(\"text_fqid\") == c).max().alias(f\"{c}_ET_max_{feature_suffix}\") for c in text_lists],\n",
    "        *[pl.col(\"elapsed_time_diff\").filter(pl.col(\"text_fqid\") == c).min().alias(f\"{c}_ET_min_{feature_suffix}\") for c in text_lists],\n",
    "        *[pl.col(\"elapsed_time_diff\").filter(pl.col(\"text_fqid\") == c).sum().alias(f\"{c}_ET_sum_{feature_suffix}\") for c in text_lists],\n",
    "         \n",
    "        *[pl.col(\"location_x_diff\").filter(pl.col(\"event_name\")==c).mean().alias(f\"{c}_ET_mean_x{feature_suffix}\") for c in event_name_feature],\n",
    "        *[pl.col(\"location_x_diff\").filter(pl.col(\"event_name\")==c).std().alias(f\"{c}_ET_std_x{feature_suffix}\") for c in event_name_feature],\n",
    "        *[pl.col(\"location_x_diff\").filter(pl.col(\"event_name\")==c).max().alias(f\"{c}_ET_max_x{feature_suffix}\") for c in event_name_feature],\n",
    "        *[pl.col(\"location_x_diff\").filter(pl.col(\"event_name\")==c).min().alias(f\"{c}_ET_min_x{feature_suffix}\") for c in event_name_feature],\n",
    "        ]\n",
    "    \n",
    "    df = x.groupby([\"session_id\"], maintain_order=True).agg(aggs).sort(\"session_id\")\n",
    "  \n",
    "    if use_extra:\n",
    "        if grp=='5-12':\n",
    "            aggs = [\n",
    "                pl.col(\"elapsed_time\").filter((pl.col(\"text\")==\"Here's the log book.\")|(pl.col(\"fqid\")=='logbook.page.bingo')).apply(lambda s: s.max()-s.min()).alias(\"logbook_bingo_duration\"),\n",
    "                pl.col(\"index\").filter((pl.col(\"text\")==\"Here's the log book.\")|(pl.col(\"fqid\")=='logbook.page.bingo')).apply(lambda s: s.max()-s.min()).alias(\"logbook_bingo_indexCount\"),\n",
    "                pl.col(\"elapsed_time\").filter(((pl.col(\"event_name\")=='navigate_click')&(pl.col(\"fqid\")=='reader'))|(pl.col(\"fqid\")==\"reader.paper2.bingo\")).apply(lambda s: s.max()-s.min()).alias(\"reader_bingo_duration\"),\n",
    "                pl.col(\"index\").filter(((pl.col(\"event_name\")=='navigate_click')&(pl.col(\"fqid\")=='reader'))|(pl.col(\"fqid\")==\"reader.paper2.bingo\")).apply(lambda s: s.max()-s.min()).alias(\"reader_bingo_indexCount\"),\n",
    "                pl.col(\"elapsed_time\").filter(((pl.col(\"event_name\")=='navigate_click')&(pl.col(\"fqid\")=='journals'))|(pl.col(\"fqid\")==\"journals.pic_2.bingo\")).apply(lambda s: s.max()-s.min()).alias(\"journals_bingo_duration\"),\n",
    "                pl.col(\"index\").filter(((pl.col(\"event_name\")=='navigate_click')&(pl.col(\"fqid\")=='journals'))|(pl.col(\"fqid\")==\"journals.pic_2.bingo\")).apply(lambda s: s.max()-s.min()).alias(\"journals_bingo_indexCount\"),\n",
    "            ]\n",
    "            tmp = x.groupby([\"session_id\"], maintain_order=True).agg(aggs).sort(\"session_id\")\n",
    "            df = df.join(tmp, on=\"session_id\", how='left')\n",
    "\n",
    "        if grp=='13-22':\n",
    "            aggs = [\n",
    "                pl.col(\"elapsed_time\").filter(((pl.col(\"event_name\")=='navigate_click')&(pl.col(\"fqid\")=='reader_flag'))|(pl.col(\"fqid\")==\"tunic.library.microfiche.reader_flag.paper2.bingo\")).apply(lambda s: s.max()-s.min() if s.len()>0 else 0).alias(\"reader_flag_duration\"),\n",
    "                pl.col(\"index\").filter(((pl.col(\"event_name\")=='navigate_click')&(pl.col(\"fqid\")=='reader_flag'))|(pl.col(\"fqid\")==\"tunic.library.microfiche.reader_flag.paper2.bingo\")).apply(lambda s: s.max()-s.min() if s.len()>0 else 0).alias(\"reader_flag_indexCount\"),\n",
    "                pl.col(\"elapsed_time\").filter(((pl.col(\"event_name\")=='navigate_click')&(pl.col(\"fqid\")=='journals_flag'))|(pl.col(\"fqid\")==\"journals_flag.pic_0.bingo\")).apply(lambda s: s.max()-s.min() if s.len()>0 else 0).alias(\"journalsFlag_bingo_duration\"),\n",
    "                pl.col(\"index\").filter(((pl.col(\"event_name\")=='navigate_click')&(pl.col(\"fqid\")=='journals_flag'))|(pl.col(\"fqid\")==\"journals_flag.pic_0.bingo\")).apply(lambda s: s.max()-s.min() if s.len()>0 else 0).alias(\"journalsFlag_bingo_indexCount\"),\n",
    "            ]\n",
    "            tmp = x.groupby([\"session_id\"], maintain_order=True).agg(aggs).sort(\"session_id\")\n",
    "            df = df.join(tmp, on=\"session_id\", how='left')\n",
    "        \n",
    "    return df.to_pandas()"
   ]
  },
  {
   "cell_type": "markdown",
   "id": "1e3d68f2",
   "metadata": {
    "papermill": {
     "duration": 0.017919,
     "end_time": "2023-04-17T03:20:05.190703",
     "exception": false,
     "start_time": "2023-04-17T03:20:05.172784",
     "status": "completed"
    },
    "tags": []
   },
   "source": [
    "## Filling Null Values"
   ]
  },
  {
   "cell_type": "code",
   "execution_count": 15,
   "id": "5628b5f6",
   "metadata": {
    "execution": {
     "iopub.execute_input": "2023-04-17T03:20:05.228681Z",
     "iopub.status.busy": "2023-04-17T03:20:05.228293Z",
     "iopub.status.idle": "2023-04-17T03:20:05.233901Z",
     "shell.execute_reply": "2023-04-17T03:20:05.232903Z"
    },
    "papermill": {
     "duration": 0.027175,
     "end_time": "2023-04-17T03:20:05.236004",
     "exception": false,
     "start_time": "2023-04-17T03:20:05.208829",
     "status": "completed"
    },
    "tags": []
   },
   "outputs": [],
   "source": [
    "#Quantity of nulls per column\n",
    "def nulls_per_column(df_polar):\n",
    "    len_df_polar = len(df_polar)\n",
    "    for col in df_polar.get_columns():\n",
    "        per_nulls = round((col.is_null().sum() / len_df_polar) * 100,2)\n",
    "        print(f'{col.name} - {per_nulls}%')"
   ]
  },
  {
   "cell_type": "code",
   "execution_count": 16,
   "id": "587dc952",
   "metadata": {
    "execution": {
     "iopub.execute_input": "2023-04-17T03:20:05.275279Z",
     "iopub.status.busy": "2023-04-17T03:20:05.274486Z",
     "iopub.status.idle": "2023-04-17T03:20:05.283621Z",
     "shell.execute_reply": "2023-04-17T03:20:05.282464Z"
    },
    "papermill": {
     "duration": 0.032178,
     "end_time": "2023-04-17T03:20:05.286344",
     "exception": false,
     "start_time": "2023-04-17T03:20:05.254166",
     "status": "completed"
    },
    "tags": []
   },
   "outputs": [],
   "source": [
    "def clean_missing_values(df_polar):\n",
    "    \n",
    "    \n",
    "    filled_polar = df_polar.select(\n",
    "        pl.col('session_id'),\n",
    "        pl.col('index'),\n",
    "        pl.col('elapsed_time'),\n",
    "        pl.col('event_name'),\n",
    "        pl.col('name'),\n",
    "        pl.col('level'),\n",
    "        pl.col('page').fill_null(0),\n",
    "        pl.col('room_coor_x').fill_null(strategy=\"backward\"),\n",
    "        pl.col('room_coor_x').fill_null(strategy='backward'),\n",
    "        pl.col('room_coor_y').fill_null(strategy='backward'),\n",
    "        pl.col('screen_coor_x').fill_null(strategy='backward'),\n",
    "        pl.col('screen_coor_y').fill_null(strategy='backward'),\n",
    "        pl.col('hover_duration').fill_null(0),\n",
    "        pl.col('text').fill_null('No Text'),\n",
    "        pl.col('fqid').fill_null('No fqid'),\n",
    "        pl.col('room_fqid'),\n",
    "        pl.col('text_fqid').fill_null('No text_fqid'),\n",
    "        pl.col('level_group'),\n",
    "        pl.col('elapsed_time_diff'),\n",
    "        pl.col('location_x_diff'),\n",
    "        pl.col('location_y_diff')\n",
    "    )\n",
    "    \n",
    "    filled_polar.tail(5)\n",
    "    \n",
    "    return filled_polar"
   ]
  },
  {
   "cell_type": "code",
   "execution_count": 17,
   "id": "f8444b54",
   "metadata": {
    "execution": {
     "iopub.execute_input": "2023-04-17T03:20:05.325890Z",
     "iopub.status.busy": "2023-04-17T03:20:05.325062Z",
     "iopub.status.idle": "2023-04-17T03:20:05.351114Z",
     "shell.execute_reply": "2023-04-17T03:20:05.349274Z"
    },
    "papermill": {
     "duration": 0.04883,
     "end_time": "2023-04-17T03:20:05.353632",
     "exception": false,
     "start_time": "2023-04-17T03:20:05.304802",
     "status": "completed"
    },
    "tags": []
   },
   "outputs": [
    {
     "name": "stdout",
     "output_type": "stream",
     "text": [
      "session_id - 0.0%\n",
      "index - 0.0%\n",
      "elapsed_time - 0.0%\n",
      "event_name - 0.0%\n",
      "name - 0.0%\n",
      "level - 0.0%\n",
      "page - 97.85%\n",
      "room_coor_x - 7.88%\n",
      "room_coor_y - 7.88%\n",
      "screen_coor_x - 7.88%\n",
      "screen_coor_y - 7.88%\n",
      "hover_duration - 92.39%\n",
      "text - 63.43%\n",
      "fqid - 31.47%\n",
      "room_fqid - 0.0%\n",
      "text_fqid - 63.43%\n",
      "level_group - 0.0%\n",
      "elapsed_time_diff - 0.0%\n",
      "location_x_diff - 0.0%\n",
      "location_y_diff - 0.0%\n"
     ]
    }
   ],
   "source": [
    "#Nulls of train dataset\n",
    "nulls_per_column(train)"
   ]
  },
  {
   "cell_type": "code",
   "execution_count": 18,
   "id": "d99b88a7",
   "metadata": {
    "execution": {
     "iopub.execute_input": "2023-04-17T03:20:05.392521Z",
     "iopub.status.busy": "2023-04-17T03:20:05.391718Z",
     "iopub.status.idle": "2023-04-17T03:20:06.573965Z",
     "shell.execute_reply": "2023-04-17T03:20:06.572526Z"
    },
    "papermill": {
     "duration": 1.20612,
     "end_time": "2023-04-17T03:20:06.578006",
     "exception": false,
     "start_time": "2023-04-17T03:20:05.371886",
     "status": "completed"
    },
    "tags": []
   },
   "outputs": [
    {
     "name": "stdout",
     "output_type": "stream",
     "text": [
      "df1:  (3981005, 20)  df2:  (8844238, 20)  df3:  (13471703, 20)\n",
      "CPU times: user 1.15 s, sys: 1.09 s, total: 2.23 s\n",
      "Wall time: 1.17 s\n"
     ]
    }
   ],
   "source": [
    "%%time\n",
    "df1 = train.filter(pl.col(\"level_group\")=='0-4')\n",
    "df2 = train.filter(pl.col(\"level_group\")=='5-12')\n",
    "df3 = train.filter(pl.col(\"level_group\")=='13-22')\n",
    "print(\"df1: \",df1.shape,\" df2: \",df2.shape,\" df3: \",df3.shape)"
   ]
  },
  {
   "cell_type": "code",
   "execution_count": 19,
   "id": "6cef2818",
   "metadata": {
    "execution": {
     "iopub.execute_input": "2023-04-17T03:20:06.617960Z",
     "iopub.status.busy": "2023-04-17T03:20:06.617574Z",
     "iopub.status.idle": "2023-04-17T03:20:06.744429Z",
     "shell.execute_reply": "2023-04-17T03:20:06.743328Z"
    },
    "papermill": {
     "duration": 0.151792,
     "end_time": "2023-04-17T03:20:06.748791",
     "exception": false,
     "start_time": "2023-04-17T03:20:06.596999",
     "status": "completed"
    },
    "tags": []
   },
   "outputs": [
    {
     "data": {
      "text/plain": [
       "135"
      ]
     },
     "execution_count": 19,
     "metadata": {},
     "output_type": "execute_result"
    }
   ],
   "source": [
    "#Delete train to liberate memory\n",
    "del train\n",
    "gc.collect()"
   ]
  },
  {
   "cell_type": "code",
   "execution_count": 20,
   "id": "190a4b9a",
   "metadata": {
    "execution": {
     "iopub.execute_input": "2023-04-17T03:20:06.789491Z",
     "iopub.status.busy": "2023-04-17T03:20:06.788016Z",
     "iopub.status.idle": "2023-04-17T03:20:08.854024Z",
     "shell.execute_reply": "2023-04-17T03:20:08.852670Z"
    },
    "papermill": {
     "duration": 2.089569,
     "end_time": "2023-04-17T03:20:08.856830",
     "exception": false,
     "start_time": "2023-04-17T03:20:06.767261",
     "status": "completed"
    },
    "tags": []
   },
   "outputs": [],
   "source": [
    "df1 = df1.fill_null(0)\n",
    "df1 = df1.fill_nan(0)\n",
    "df2 = df2.fill_null(0)\n",
    "df2 = df2.fill_nan(0)\n",
    "df3 = df3.fill_null(0)\n",
    "df3 = df3.fill_nan(0)"
   ]
  },
  {
   "cell_type": "code",
   "execution_count": 21,
   "id": "50c21c55",
   "metadata": {
    "execution": {
     "iopub.execute_input": "2023-04-17T03:20:08.897333Z",
     "iopub.status.busy": "2023-04-17T03:20:08.896544Z",
     "iopub.status.idle": "2023-04-17T03:20:08.932723Z",
     "shell.execute_reply": "2023-04-17T03:20:08.931269Z"
    },
    "papermill": {
     "duration": 0.059281,
     "end_time": "2023-04-17T03:20:08.935475",
     "exception": false,
     "start_time": "2023-04-17T03:20:08.876194",
     "status": "completed"
    },
    "tags": []
   },
   "outputs": [
    {
     "name": "stdout",
     "output_type": "stream",
     "text": [
      "session_id - 0.0%\n",
      "index - 0.0%\n",
      "elapsed_time - 0.0%\n",
      "event_name - 0.0%\n",
      "name - 0.0%\n",
      "level - 0.0%\n",
      "page - 0.0%\n",
      "room_coor_x - 0.0%\n",
      "room_coor_y - 0.0%\n",
      "screen_coor_x - 0.0%\n",
      "screen_coor_y - 0.0%\n",
      "hover_duration - 0.0%\n",
      "text - 62.41%\n",
      "fqid - 38.12%\n",
      "room_fqid - 0.0%\n",
      "text_fqid - 62.41%\n",
      "level_group - 0.0%\n",
      "elapsed_time_diff - 0.0%\n",
      "location_x_diff - 0.0%\n",
      "location_y_diff - 0.0%\n"
     ]
    }
   ],
   "source": [
    "nulls_per_column(df1)"
   ]
  },
  {
   "cell_type": "code",
   "execution_count": 22,
   "id": "ca7d3d91",
   "metadata": {
    "execution": {
     "iopub.execute_input": "2023-04-17T03:20:08.974988Z",
     "iopub.status.busy": "2023-04-17T03:20:08.974188Z",
     "iopub.status.idle": "2023-04-17T03:20:08.983617Z",
     "shell.execute_reply": "2023-04-17T03:20:08.982676Z"
    },
    "papermill": {
     "duration": 0.031935,
     "end_time": "2023-04-17T03:20:08.986055",
     "exception": false,
     "start_time": "2023-04-17T03:20:08.954120",
     "status": "completed"
    },
    "tags": []
   },
   "outputs": [
    {
     "data": {
      "text/html": [
       "<div><style>\n",
       ".dataframe > thead > tr > th,\n",
       ".dataframe > tbody > tr > td {\n",
       "  text-align: right;\n",
       "}\n",
       "</style>\n",
       "<small>shape: (5, 20)</small><table border=\"1\" class=\"dataframe\"><thead><tr><th>session_id</th><th>index</th><th>elapsed_time</th><th>event_name</th><th>name</th><th>level</th><th>page</th><th>room_coor_x</th><th>room_coor_y</th><th>screen_coor_x</th><th>screen_coor_y</th><th>hover_duration</th><th>text</th><th>fqid</th><th>room_fqid</th><th>text_fqid</th><th>level_group</th><th>elapsed_time_diff</th><th>location_x_diff</th><th>location_y_diff</th></tr><tr><td>i64</td><td>i16</td><td>i32</td><td>cat</td><td>cat</td><td>i8</td><td>f32</td><td>f32</td><td>f32</td><td>f32</td><td>f32</td><td>f32</td><td>cat</td><td>cat</td><td>cat</td><td>cat</td><td>cat</td><td>i32</td><td>f32</td><td>f32</td></tr></thead><tbody><tr><td>22100221145014656</td><td>206</td><td>352635</td><td>&quot;navigate_click…</td><td>&quot;undefined&quot;</td><td>4</td><td>0.0</td><td>-914.204224</td><td>-50.0</td><td>26.0</td><td>380.0</td><td>0.0</td><td>null</td><td>&quot;toentry&quot;</td><td>&quot;tunic.kohlcent…</td><td>null</td><td>&quot;0-4&quot;</td><td>332</td><td>2.0</td><td>1.0</td></tr><tr><td>22100221145014656</td><td>207</td><td>353336</td><td>&quot;map_hover&quot;</td><td>&quot;basic&quot;</td><td>4</td><td>0.0</td><td>0.0</td><td>0.0</td><td>0.0</td><td>0.0</td><td>84.0</td><td>null</td><td>&quot;tunic.kohlcent…</td><td>&quot;tunic.kohlcent…</td><td>null</td><td>&quot;0-4&quot;</td><td>701</td><td>0.0</td><td>0.0</td></tr><tr><td>22100221145014656</td><td>208</td><td>354020</td><td>&quot;map_click&quot;</td><td>&quot;undefined&quot;</td><td>4</td><td>0.0</td><td>-549.217712</td><td>-2.0</td><td>449.0</td><td>332.0</td><td>0.0</td><td>null</td><td>&quot;tunic.capitol_…</td><td>&quot;tunic.kohlcent…</td><td>null</td><td>&quot;0-4&quot;</td><td>684</td><td>0.0</td><td>0.0</td></tr><tr><td>22100221145014656</td><td>209</td><td>356238</td><td>&quot;navigate_click…</td><td>&quot;undefined&quot;</td><td>4</td><td>0.0</td><td>313.584259</td><td>107.913147</td><td>463.0</td><td>226.0</td><td>0.0</td><td>null</td><td>&quot;chap1_finale&quot;</td><td>&quot;tunic.capitol_…</td><td>null</td><td>&quot;0-4&quot;</td><td>2218</td><td>14.0</td><td>106.0</td></tr><tr><td>22100221145014656</td><td>210</td><td>435055</td><td>&quot;checkpoint&quot;</td><td>&quot;basic&quot;</td><td>4</td><td>0.0</td><td>0.0</td><td>0.0</td><td>0.0</td><td>0.0</td><td>0.0</td><td>null</td><td>&quot;chap1_finale_c…</td><td>&quot;tunic.capitol_…</td><td>null</td><td>&quot;0-4&quot;</td><td>78817</td><td>0.0</td><td>0.0</td></tr></tbody></table></div>"
      ],
      "text/plain": [
       "shape: (5, 20)\n",
       "┌──────────┬───────┬────────────┬──────────┬───┬───────────┬────────────┬────────────┬────────────┐\n",
       "│ session_ ┆ index ┆ elapsed_ti ┆ event_na ┆ … ┆ level_gro ┆ elapsed_ti ┆ location_x ┆ location_y │\n",
       "│ id       ┆ ---   ┆ me         ┆ me       ┆   ┆ up        ┆ me_diff    ┆ _diff      ┆ _diff      │\n",
       "│ ---      ┆ i16   ┆ ---        ┆ ---      ┆   ┆ ---       ┆ ---        ┆ ---        ┆ ---        │\n",
       "│ i64      ┆       ┆ i32        ┆ cat      ┆   ┆ cat       ┆ i32        ┆ f32        ┆ f32        │\n",
       "╞══════════╪═══════╪════════════╪══════════╪═══╪═══════════╪════════════╪════════════╪════════════╡\n",
       "│ 22100221 ┆ 206   ┆ 352635     ┆ navigate ┆ … ┆ 0-4       ┆ 332        ┆ 2.0        ┆ 1.0        │\n",
       "│ 14501465 ┆       ┆            ┆ _click   ┆   ┆           ┆            ┆            ┆            │\n",
       "│ 6        ┆       ┆            ┆          ┆   ┆           ┆            ┆            ┆            │\n",
       "│ 22100221 ┆ 207   ┆ 353336     ┆ map_hove ┆ … ┆ 0-4       ┆ 701        ┆ 0.0        ┆ 0.0        │\n",
       "│ 14501465 ┆       ┆            ┆ r        ┆   ┆           ┆            ┆            ┆            │\n",
       "│ 6        ┆       ┆            ┆          ┆   ┆           ┆            ┆            ┆            │\n",
       "│ 22100221 ┆ 208   ┆ 354020     ┆ map_clic ┆ … ┆ 0-4       ┆ 684        ┆ 0.0        ┆ 0.0        │\n",
       "│ 14501465 ┆       ┆            ┆ k        ┆   ┆           ┆            ┆            ┆            │\n",
       "│ 6        ┆       ┆            ┆          ┆   ┆           ┆            ┆            ┆            │\n",
       "│ 22100221 ┆ 209   ┆ 356238     ┆ navigate ┆ … ┆ 0-4       ┆ 2218       ┆ 14.0       ┆ 106.0      │\n",
       "│ 14501465 ┆       ┆            ┆ _click   ┆   ┆           ┆            ┆            ┆            │\n",
       "│ 6        ┆       ┆            ┆          ┆   ┆           ┆            ┆            ┆            │\n",
       "│ 22100221 ┆ 210   ┆ 435055     ┆ checkpoi ┆ … ┆ 0-4       ┆ 78817      ┆ 0.0        ┆ 0.0        │\n",
       "│ 14501465 ┆       ┆            ┆ nt       ┆   ┆           ┆            ┆            ┆            │\n",
       "│ 6        ┆       ┆            ┆          ┆   ┆           ┆            ┆            ┆            │\n",
       "└──────────┴───────┴────────────┴──────────┴───┴───────────┴────────────┴────────────┴────────────┘"
      ]
     },
     "execution_count": 22,
     "metadata": {},
     "output_type": "execute_result"
    }
   ],
   "source": [
    "df1.tail(5)"
   ]
  },
  {
   "cell_type": "code",
   "execution_count": 23,
   "id": "d87c19ba",
   "metadata": {
    "execution": {
     "iopub.execute_input": "2023-04-17T03:20:09.026145Z",
     "iopub.status.busy": "2023-04-17T03:20:09.025364Z",
     "iopub.status.idle": "2023-04-17T03:20:17.245438Z",
     "shell.execute_reply": "2023-04-17T03:20:17.244329Z"
    },
    "papermill": {
     "duration": 8.243374,
     "end_time": "2023-04-17T03:20:17.248341",
     "exception": false,
     "start_time": "2023-04-17T03:20:09.004967",
     "status": "completed"
    },
    "tags": []
   },
   "outputs": [
    {
     "name": "stdout",
     "output_type": "stream",
     "text": [
      "df1 done, shape:  (23562, 1898)\n",
      "CPU times: user 15.1 s, sys: 578 ms, total: 15.6 s\n",
      "Wall time: 8.21 s\n"
     ]
    }
   ],
   "source": [
    "%%time\n",
    "df1 = feature_engineer_pl(df1, grp='0-4', use_extra=True, feature_suffix='')\n",
    "print('df1 done, shape: ',df1.shape)"
   ]
  },
  {
   "cell_type": "code",
   "execution_count": 24,
   "id": "2de3e533",
   "metadata": {
    "execution": {
     "iopub.execute_input": "2023-04-17T03:20:17.288442Z",
     "iopub.status.busy": "2023-04-17T03:20:17.287642Z",
     "iopub.status.idle": "2023-04-17T03:20:36.622974Z",
     "shell.execute_reply": "2023-04-17T03:20:36.621061Z"
    },
    "papermill": {
     "duration": 19.358496,
     "end_time": "2023-04-17T03:20:36.625908",
     "exception": false,
     "start_time": "2023-04-17T03:20:17.267412",
     "status": "completed"
    },
    "tags": []
   },
   "outputs": [
    {
     "name": "stdout",
     "output_type": "stream",
     "text": [
      "df2 done, shape:  (23562, 1904)\n",
      "CPU times: user 35.9 s, sys: 961 ms, total: 36.9 s\n",
      "Wall time: 19.3 s\n"
     ]
    }
   ],
   "source": [
    "%%time\n",
    "df2 = feature_engineer_pl(df2, grp='5-12', use_extra=True, feature_suffix='')\n",
    "print('df2 done, shape: ',df2.shape)"
   ]
  },
  {
   "cell_type": "code",
   "execution_count": 25,
   "id": "36f38cab",
   "metadata": {
    "execution": {
     "iopub.execute_input": "2023-04-17T03:20:36.672739Z",
     "iopub.status.busy": "2023-04-17T03:20:36.671656Z",
     "iopub.status.idle": "2023-04-17T03:21:05.711118Z",
     "shell.execute_reply": "2023-04-17T03:21:05.709407Z"
    },
    "papermill": {
     "duration": 29.062797,
     "end_time": "2023-04-17T03:21:05.714110",
     "exception": false,
     "start_time": "2023-04-17T03:20:36.651313",
     "status": "completed"
    },
    "tags": []
   },
   "outputs": [
    {
     "name": "stdout",
     "output_type": "stream",
     "text": [
      "df3 done, shape:  (23562, 1902)\n",
      "CPU times: user 55.1 s, sys: 1.08 s, total: 56.2 s\n",
      "Wall time: 29 s\n"
     ]
    }
   ],
   "source": [
    "%%time\n",
    "df3 = feature_engineer_pl(df3, grp='13-22', use_extra=True, feature_suffix='')\n",
    "print('df3 done, shape: ',df3.shape)"
   ]
  },
  {
   "cell_type": "code",
   "execution_count": 26,
   "id": "e7d70ff0",
   "metadata": {
    "execution": {
     "iopub.execute_input": "2023-04-17T03:21:05.757343Z",
     "iopub.status.busy": "2023-04-17T03:21:05.756790Z",
     "iopub.status.idle": "2023-04-17T03:21:05.879018Z",
     "shell.execute_reply": "2023-04-17T03:21:05.877908Z"
    },
    "papermill": {
     "duration": 0.147729,
     "end_time": "2023-04-17T03:21:05.882260",
     "exception": false,
     "start_time": "2023-04-17T03:21:05.734531",
     "status": "completed"
    },
    "tags": []
   },
   "outputs": [
    {
     "data": {
      "text/plain": [
       "block_ET_min_                               23562\n",
       "colorbook_ET_max_                           23562\n",
       "journals_flag_ET_max_                       23562\n",
       "journals.pic_1.next_ET_max_                 23562\n",
       "logbook.page.bingo_ET_max_                  23562\n",
       "                                            ...  \n",
       "journals_flag.hub.topics_old_fqid_counts        0\n",
       "outtolunch_fqid_counts                          0\n",
       "report_fqid_counts                              0\n",
       "chap1_finale_fqid_counts                        0\n",
       "session_id                                      0\n",
       "Length: 1898, dtype: int64"
      ]
     },
     "execution_count": 26,
     "metadata": {},
     "output_type": "execute_result"
    }
   ],
   "source": [
    "df1.isna().sum().sort_values(ascending=False)"
   ]
  },
  {
   "cell_type": "code",
   "execution_count": 27,
   "id": "2d445255",
   "metadata": {
    "execution": {
     "iopub.execute_input": "2023-04-17T03:21:05.924666Z",
     "iopub.status.busy": "2023-04-17T03:21:05.924106Z",
     "iopub.status.idle": "2023-04-17T03:21:08.604448Z",
     "shell.execute_reply": "2023-04-17T03:21:08.602938Z"
    },
    "papermill": {
     "duration": 2.704817,
     "end_time": "2023-04-17T03:21:08.606981",
     "exception": false,
     "start_time": "2023-04-17T03:21:05.902164",
     "status": "completed"
    },
    "tags": []
   },
   "outputs": [
    {
     "name": "stdout",
     "output_type": "stream",
     "text": [
      "Drop 1:  1168 1013 893\n",
      "*********df1 DONE*********\n",
      "*********df2 DONE*********\n",
      "*********df3 DONE*********\n"
     ]
    }
   ],
   "source": [
    "# some cleaning...\n",
    "null1 = df1.isnull().sum().sort_values(ascending=False) / len(df1)\n",
    "null2 = df2.isnull().sum().sort_values(ascending=False) / len(df1)\n",
    "null3 = df3.isnull().sum().sort_values(ascending=False) / len(df1)\n",
    "\n",
    "drop1 = list(null1[null1>0.5].index)\n",
    "drop2 = list(null2[null2>0.5].index)\n",
    "drop3 = list(null3[null3>0.5].index)\n",
    "print(\"Drop 1: \",len(drop1), len(drop2), len(drop3))\n",
    "\n",
    "for col in df1.columns:\n",
    "    if df1[col].nunique()==1:\n",
    "        drop1.append(col)\n",
    "    #elif df1[col].isna().any():\n",
    "        #drop1.append(col)\n",
    "print(\"*********df1 DONE*********\")\n",
    "for col in df2.columns:\n",
    "    if df2[col].nunique()==1:\n",
    "        drop2.append(col)\n",
    "    #elif df2[col].isna().any():\n",
    "        #drop2.append(col)\n",
    "print(\"*********df2 DONE*********\")\n",
    "for col in df3.columns:\n",
    "    if df3[col].nunique()==1:\n",
    "        drop3.append(col)\n",
    "    #elif df3[col].isna().any():\n",
    "        #drop3.append(col)\n",
    "print(\"*********df3 DONE*********\")"
   ]
  },
  {
   "cell_type": "code",
   "execution_count": 28,
   "id": "b8e75b85",
   "metadata": {
    "execution": {
     "iopub.execute_input": "2023-04-17T03:21:08.648082Z",
     "iopub.status.busy": "2023-04-17T03:21:08.647432Z",
     "iopub.status.idle": "2023-04-17T03:21:09.575868Z",
     "shell.execute_reply": "2023-04-17T03:21:09.574149Z"
    },
    "papermill": {
     "duration": 0.95328,
     "end_time": "2023-04-17T03:21:09.579733",
     "exception": false,
     "start_time": "2023-04-17T03:21:08.626453",
     "status": "completed"
    },
    "tags": []
   },
   "outputs": [
    {
     "name": "stdout",
     "output_type": "stream",
     "text": [
      "We will train with 496 714 874 features\n",
      "We will train with 23562 users info\n"
     ]
    }
   ],
   "source": [
    "df1 = df1.set_index('session_id')\n",
    "df2 = df2.set_index('session_id')\n",
    "df3 = df3.set_index('session_id')\n",
    "\n",
    "FEATURES1 = [c for c in df1.columns if c not in drop1+['level_group']]\n",
    "FEATURES2 = [c for c in df2.columns if c not in drop2+['level_group']]\n",
    "FEATURES3 = [c for c in df3.columns if c not in drop3+['level_group']]\n",
    "print('We will train with', len(FEATURES1), len(FEATURES2), len(FEATURES3) ,'features')\n",
    "ALL_USERS = df1.index.unique()\n",
    "print('We will train with', len(ALL_USERS) ,'users info')"
   ]
  },
  {
   "cell_type": "code",
   "execution_count": 29,
   "id": "03c515b9",
   "metadata": {
    "execution": {
     "iopub.execute_input": "2023-04-17T03:21:09.623060Z",
     "iopub.status.busy": "2023-04-17T03:21:09.622263Z",
     "iopub.status.idle": "2023-04-17T03:21:11.580964Z",
     "shell.execute_reply": "2023-04-17T03:21:11.579802Z"
    },
    "papermill": {
     "duration": 1.983378,
     "end_time": "2023-04-17T03:21:11.583844",
     "exception": false,
     "start_time": "2023-04-17T03:21:09.600466",
     "status": "completed"
    },
    "tags": []
   },
   "outputs": [],
   "source": [
    "df1[FEATURES1] = df1[FEATURES1].fillna(0)\n",
    "df2[FEATURES2] = df2[FEATURES2].fillna(0)\n",
    "df3[FEATURES3] = df3[FEATURES3].fillna(0)"
   ]
  },
  {
   "cell_type": "code",
   "execution_count": 30,
   "id": "31c7deb0",
   "metadata": {
    "execution": {
     "iopub.execute_input": "2023-04-17T03:21:11.627420Z",
     "iopub.status.busy": "2023-04-17T03:21:11.626601Z",
     "iopub.status.idle": "2023-04-17T03:21:11.731900Z",
     "shell.execute_reply": "2023-04-17T03:21:11.730909Z"
    },
    "papermill": {
     "duration": 0.129011,
     "end_time": "2023-04-17T03:21:11.734391",
     "exception": false,
     "start_time": "2023-04-17T03:21:11.605380",
     "status": "completed"
    },
    "tags": []
   },
   "outputs": [
    {
     "data": {
      "text/plain": [
       "[]"
      ]
     },
     "execution_count": 30,
     "metadata": {},
     "output_type": "execute_result"
    }
   ],
   "source": [
    "#listing columns with NaN values\n",
    "df1[FEATURES1].columns[df1[FEATURES1].isna().any()].tolist()"
   ]
  },
  {
   "cell_type": "code",
   "execution_count": 31,
   "id": "ed5f4c77",
   "metadata": {
    "execution": {
     "iopub.execute_input": "2023-04-17T03:21:11.776990Z",
     "iopub.status.busy": "2023-04-17T03:21:11.776114Z",
     "iopub.status.idle": "2023-04-17T03:21:11.906151Z",
     "shell.execute_reply": "2023-04-17T03:21:11.905121Z"
    },
    "papermill": {
     "duration": 0.153974,
     "end_time": "2023-04-17T03:21:11.908544",
     "exception": false,
     "start_time": "2023-04-17T03:21:11.754570",
     "status": "completed"
    },
    "tags": []
   },
   "outputs": [
    {
     "data": {
      "text/plain": [
       "[]"
      ]
     },
     "execution_count": 31,
     "metadata": {},
     "output_type": "execute_result"
    }
   ],
   "source": [
    "df2[FEATURES2].columns[df2[FEATURES2].isna().any()].tolist()"
   ]
  },
  {
   "cell_type": "code",
   "execution_count": 32,
   "id": "a4c4233c",
   "metadata": {
    "execution": {
     "iopub.execute_input": "2023-04-17T03:21:11.952954Z",
     "iopub.status.busy": "2023-04-17T03:21:11.952099Z",
     "iopub.status.idle": "2023-04-17T03:21:12.113741Z",
     "shell.execute_reply": "2023-04-17T03:21:12.111983Z"
    },
    "papermill": {
     "duration": 0.187551,
     "end_time": "2023-04-17T03:21:12.116552",
     "exception": false,
     "start_time": "2023-04-17T03:21:11.929001",
     "status": "completed"
    },
    "tags": []
   },
   "outputs": [
    {
     "data": {
      "text/plain": [
       "[]"
      ]
     },
     "execution_count": 32,
     "metadata": {},
     "output_type": "execute_result"
    }
   ],
   "source": [
    "df3[FEATURES3].columns[df3[FEATURES3].isna().any()].tolist()"
   ]
  },
  {
   "cell_type": "code",
   "execution_count": 33,
   "id": "24cdd5db",
   "metadata": {
    "execution": {
     "iopub.execute_input": "2023-04-17T03:21:12.160718Z",
     "iopub.status.busy": "2023-04-17T03:21:12.159883Z",
     "iopub.status.idle": "2023-04-17T03:21:12.203384Z",
     "shell.execute_reply": "2023-04-17T03:21:12.202325Z"
    },
    "papermill": {
     "duration": 0.067539,
     "end_time": "2023-04-17T03:21:12.205972",
     "exception": false,
     "start_time": "2023-04-17T03:21:12.138433",
     "status": "completed"
    },
    "tags": []
   },
   "outputs": [
    {
     "data": {
      "text/html": [
       "<div>\n",
       "<style scoped>\n",
       "    .dataframe tbody tr th:only-of-type {\n",
       "        vertical-align: middle;\n",
       "    }\n",
       "\n",
       "    .dataframe tbody tr th {\n",
       "        vertical-align: top;\n",
       "    }\n",
       "\n",
       "    .dataframe thead th {\n",
       "        text-align: right;\n",
       "    }\n",
       "</style>\n",
       "<table border=\"1\" class=\"dataframe\">\n",
       "  <thead>\n",
       "    <tr style=\"text-align: right;\">\n",
       "      <th></th>\n",
       "      <th>session_number_</th>\n",
       "      <th>event_name_unique_</th>\n",
       "      <th>name_unique_</th>\n",
       "      <th>fqid_unique_</th>\n",
       "      <th>room_fqid_unique_</th>\n",
       "      <th>text_fqid_unique_</th>\n",
       "      <th></th>\n",
       "      <th>page_quantile2_</th>\n",
       "      <th>room_coor_x_quantile2_</th>\n",
       "      <th>room_coor_y_quantile2_</th>\n",
       "      <th>...</th>\n",
       "      <th>person_click_ET_min_x</th>\n",
       "      <th>navigate_click_ET_min_x</th>\n",
       "      <th>observation_click_ET_min_x</th>\n",
       "      <th>notification_click_ET_min_x</th>\n",
       "      <th>object_click_ET_min_x</th>\n",
       "      <th>object_hover_ET_min_x</th>\n",
       "      <th>map_hover_ET_min_x</th>\n",
       "      <th>map_click_ET_min_x</th>\n",
       "      <th>checkpoint_ET_min_x</th>\n",
       "      <th>notebook_click_ET_min_x</th>\n",
       "    </tr>\n",
       "    <tr>\n",
       "      <th>session_id</th>\n",
       "      <th></th>\n",
       "      <th></th>\n",
       "      <th></th>\n",
       "      <th></th>\n",
       "      <th></th>\n",
       "      <th></th>\n",
       "      <th></th>\n",
       "      <th></th>\n",
       "      <th></th>\n",
       "      <th></th>\n",
       "      <th></th>\n",
       "      <th></th>\n",
       "      <th></th>\n",
       "      <th></th>\n",
       "      <th></th>\n",
       "      <th></th>\n",
       "      <th></th>\n",
       "      <th></th>\n",
       "      <th></th>\n",
       "      <th></th>\n",
       "      <th></th>\n",
       "    </tr>\n",
       "  </thead>\n",
       "  <tbody>\n",
       "    <tr>\n",
       "      <th>20090312431273200</th>\n",
       "      <td>165</td>\n",
       "      <td>10</td>\n",
       "      <td>3</td>\n",
       "      <td>30</td>\n",
       "      <td>7</td>\n",
       "      <td>17</td>\n",
       "      <td>b'P\\xc0\\xa2\\xac\\x05u\\x00\\x00'</td>\n",
       "      <td>0.0</td>\n",
       "      <td>-358.832031</td>\n",
       "      <td>-167.307098</td>\n",
       "      <td>...</td>\n",
       "      <td>0.0</td>\n",
       "      <td>0.0</td>\n",
       "      <td>0.0</td>\n",
       "      <td>0.0</td>\n",
       "      <td>0.0</td>\n",
       "      <td>0.0</td>\n",
       "      <td>0.0</td>\n",
       "      <td>0.0</td>\n",
       "      <td>0.0</td>\n",
       "      <td>0.0</td>\n",
       "    </tr>\n",
       "    <tr>\n",
       "      <th>20090312433251036</th>\n",
       "      <td>139</td>\n",
       "      <td>11</td>\n",
       "      <td>4</td>\n",
       "      <td>22</td>\n",
       "      <td>6</td>\n",
       "      <td>11</td>\n",
       "      <td>b'P\\xc0\\xa2\\xac\\x05u\\x00\\x00'</td>\n",
       "      <td>0.0</td>\n",
       "      <td>-394.991394</td>\n",
       "      <td>-173.290939</td>\n",
       "      <td>...</td>\n",
       "      <td>0.0</td>\n",
       "      <td>0.0</td>\n",
       "      <td>21.0</td>\n",
       "      <td>37.0</td>\n",
       "      <td>0.0</td>\n",
       "      <td>0.0</td>\n",
       "      <td>0.0</td>\n",
       "      <td>0.0</td>\n",
       "      <td>0.0</td>\n",
       "      <td>22.0</td>\n",
       "    </tr>\n",
       "    <tr>\n",
       "      <th>20090312455206810</th>\n",
       "      <td>149</td>\n",
       "      <td>9</td>\n",
       "      <td>3</td>\n",
       "      <td>22</td>\n",
       "      <td>6</td>\n",
       "      <td>12</td>\n",
       "      <td>b'P\\xc0\\xa2\\xac\\x05u\\x00\\x00'</td>\n",
       "      <td>0.0</td>\n",
       "      <td>-538.784363</td>\n",
       "      <td>-183.048019</td>\n",
       "      <td>...</td>\n",
       "      <td>0.0</td>\n",
       "      <td>0.0</td>\n",
       "      <td>0.0</td>\n",
       "      <td>0.0</td>\n",
       "      <td>0.0</td>\n",
       "      <td>0.0</td>\n",
       "      <td>0.0</td>\n",
       "      <td>0.0</td>\n",
       "      <td>0.0</td>\n",
       "      <td>0.0</td>\n",
       "    </tr>\n",
       "    <tr>\n",
       "      <th>20090313091715820</th>\n",
       "      <td>176</td>\n",
       "      <td>11</td>\n",
       "      <td>4</td>\n",
       "      <td>24</td>\n",
       "      <td>6</td>\n",
       "      <td>14</td>\n",
       "      <td>b'P\\xc0\\xa2\\xac\\x05u\\x00\\x00'</td>\n",
       "      <td>0.0</td>\n",
       "      <td>-515.337463</td>\n",
       "      <td>-210.307907</td>\n",
       "      <td>...</td>\n",
       "      <td>0.0</td>\n",
       "      <td>0.0</td>\n",
       "      <td>218.0</td>\n",
       "      <td>0.0</td>\n",
       "      <td>0.0</td>\n",
       "      <td>0.0</td>\n",
       "      <td>0.0</td>\n",
       "      <td>0.0</td>\n",
       "      <td>0.0</td>\n",
       "      <td>119.0</td>\n",
       "    </tr>\n",
       "    <tr>\n",
       "      <th>20090313571836404</th>\n",
       "      <td>112</td>\n",
       "      <td>10</td>\n",
       "      <td>4</td>\n",
       "      <td>22</td>\n",
       "      <td>6</td>\n",
       "      <td>12</td>\n",
       "      <td>b'P\\xc0\\xa2\\xac\\x05u\\x00\\x00'</td>\n",
       "      <td>0.0</td>\n",
       "      <td>-376.401917</td>\n",
       "      <td>-140.303604</td>\n",
       "      <td>...</td>\n",
       "      <td>0.0</td>\n",
       "      <td>0.0</td>\n",
       "      <td>0.0</td>\n",
       "      <td>77.0</td>\n",
       "      <td>0.0</td>\n",
       "      <td>0.0</td>\n",
       "      <td>0.0</td>\n",
       "      <td>0.0</td>\n",
       "      <td>0.0</td>\n",
       "      <td>41.0</td>\n",
       "    </tr>\n",
       "    <tr>\n",
       "      <th>20090314035813970</th>\n",
       "      <td>154</td>\n",
       "      <td>11</td>\n",
       "      <td>4</td>\n",
       "      <td>26</td>\n",
       "      <td>6</td>\n",
       "      <td>19</td>\n",
       "      <td>b'P\\xc0\\xa2\\xac\\x05u\\x00\\x00'</td>\n",
       "      <td>0.0</td>\n",
       "      <td>-342.963806</td>\n",
       "      <td>-176.862640</td>\n",
       "      <td>...</td>\n",
       "      <td>0.0</td>\n",
       "      <td>0.0</td>\n",
       "      <td>9.0</td>\n",
       "      <td>0.0</td>\n",
       "      <td>0.0</td>\n",
       "      <td>0.0</td>\n",
       "      <td>0.0</td>\n",
       "      <td>0.0</td>\n",
       "      <td>0.0</td>\n",
       "      <td>1.0</td>\n",
       "    </tr>\n",
       "    <tr>\n",
       "      <th>20090314121766812</th>\n",
       "      <td>165</td>\n",
       "      <td>11</td>\n",
       "      <td>4</td>\n",
       "      <td>26</td>\n",
       "      <td>7</td>\n",
       "      <td>15</td>\n",
       "      <td>b'P\\xc0\\xa2\\xac\\x05u\\x00\\x00'</td>\n",
       "      <td>0.0</td>\n",
       "      <td>-217.520538</td>\n",
       "      <td>-159.000000</td>\n",
       "      <td>...</td>\n",
       "      <td>0.0</td>\n",
       "      <td>0.0</td>\n",
       "      <td>1.0</td>\n",
       "      <td>0.0</td>\n",
       "      <td>0.0</td>\n",
       "      <td>0.0</td>\n",
       "      <td>0.0</td>\n",
       "      <td>0.0</td>\n",
       "      <td>0.0</td>\n",
       "      <td>4.0</td>\n",
       "    </tr>\n",
       "    <tr>\n",
       "      <th>20090314221187252</th>\n",
       "      <td>210</td>\n",
       "      <td>11</td>\n",
       "      <td>4</td>\n",
       "      <td>23</td>\n",
       "      <td>6</td>\n",
       "      <td>14</td>\n",
       "      <td>b'P\\xc0\\xa2\\xac\\x05u\\x00\\x00'</td>\n",
       "      <td>0.0</td>\n",
       "      <td>-307.307678</td>\n",
       "      <td>-140.000000</td>\n",
       "      <td>...</td>\n",
       "      <td>0.0</td>\n",
       "      <td>0.0</td>\n",
       "      <td>57.0</td>\n",
       "      <td>0.0</td>\n",
       "      <td>0.0</td>\n",
       "      <td>0.0</td>\n",
       "      <td>0.0</td>\n",
       "      <td>0.0</td>\n",
       "      <td>0.0</td>\n",
       "      <td>7.0</td>\n",
       "    </tr>\n",
       "    <tr>\n",
       "      <th>20090314363702160</th>\n",
       "      <td>146</td>\n",
       "      <td>9</td>\n",
       "      <td>3</td>\n",
       "      <td>21</td>\n",
       "      <td>7</td>\n",
       "      <td>11</td>\n",
       "      <td>b'P\\xc0\\xa2\\xac\\x05u\\x00\\x00'</td>\n",
       "      <td>0.0</td>\n",
       "      <td>-313.609833</td>\n",
       "      <td>-119.883316</td>\n",
       "      <td>...</td>\n",
       "      <td>0.0</td>\n",
       "      <td>0.0</td>\n",
       "      <td>0.0</td>\n",
       "      <td>4.0</td>\n",
       "      <td>0.0</td>\n",
       "      <td>0.0</td>\n",
       "      <td>0.0</td>\n",
       "      <td>0.0</td>\n",
       "      <td>0.0</td>\n",
       "      <td>0.0</td>\n",
       "    </tr>\n",
       "    <tr>\n",
       "      <th>20090314441803444</th>\n",
       "      <td>107</td>\n",
       "      <td>9</td>\n",
       "      <td>3</td>\n",
       "      <td>22</td>\n",
       "      <td>7</td>\n",
       "      <td>10</td>\n",
       "      <td>b'P\\xc0\\xa2\\xac\\x05u\\x00\\x00'</td>\n",
       "      <td>0.0</td>\n",
       "      <td>-209.637115</td>\n",
       "      <td>-141.924667</td>\n",
       "      <td>...</td>\n",
       "      <td>0.0</td>\n",
       "      <td>0.0</td>\n",
       "      <td>0.0</td>\n",
       "      <td>0.0</td>\n",
       "      <td>0.0</td>\n",
       "      <td>0.0</td>\n",
       "      <td>0.0</td>\n",
       "      <td>0.0</td>\n",
       "      <td>0.0</td>\n",
       "      <td>0.0</td>\n",
       "    </tr>\n",
       "  </tbody>\n",
       "</table>\n",
       "<p>10 rows × 1897 columns</p>\n",
       "</div>"
      ],
      "text/plain": [
       "                   session_number_  event_name_unique_  name_unique_  \\\n",
       "session_id                                                             \n",
       "20090312431273200              165                  10             3   \n",
       "20090312433251036              139                  11             4   \n",
       "20090312455206810              149                   9             3   \n",
       "20090313091715820              176                  11             4   \n",
       "20090313571836404              112                  10             4   \n",
       "20090314035813970              154                  11             4   \n",
       "20090314121766812              165                  11             4   \n",
       "20090314221187252              210                  11             4   \n",
       "20090314363702160              146                   9             3   \n",
       "20090314441803444              107                   9             3   \n",
       "\n",
       "                   fqid_unique_  room_fqid_unique_  text_fqid_unique_  \\\n",
       "session_id                                                              \n",
       "20090312431273200            30                  7                 17   \n",
       "20090312433251036            22                  6                 11   \n",
       "20090312455206810            22                  6                 12   \n",
       "20090313091715820            24                  6                 14   \n",
       "20090313571836404            22                  6                 12   \n",
       "20090314035813970            26                  6                 19   \n",
       "20090314121766812            26                  7                 15   \n",
       "20090314221187252            23                  6                 14   \n",
       "20090314363702160            21                  7                 11   \n",
       "20090314441803444            22                  7                 10   \n",
       "\n",
       "                                                  page_quantile2_  \\\n",
       "session_id                                                          \n",
       "20090312431273200  b'P\\xc0\\xa2\\xac\\x05u\\x00\\x00'              0.0   \n",
       "20090312433251036  b'P\\xc0\\xa2\\xac\\x05u\\x00\\x00'              0.0   \n",
       "20090312455206810  b'P\\xc0\\xa2\\xac\\x05u\\x00\\x00'              0.0   \n",
       "20090313091715820  b'P\\xc0\\xa2\\xac\\x05u\\x00\\x00'              0.0   \n",
       "20090313571836404  b'P\\xc0\\xa2\\xac\\x05u\\x00\\x00'              0.0   \n",
       "20090314035813970  b'P\\xc0\\xa2\\xac\\x05u\\x00\\x00'              0.0   \n",
       "20090314121766812  b'P\\xc0\\xa2\\xac\\x05u\\x00\\x00'              0.0   \n",
       "20090314221187252  b'P\\xc0\\xa2\\xac\\x05u\\x00\\x00'              0.0   \n",
       "20090314363702160  b'P\\xc0\\xa2\\xac\\x05u\\x00\\x00'              0.0   \n",
       "20090314441803444  b'P\\xc0\\xa2\\xac\\x05u\\x00\\x00'              0.0   \n",
       "\n",
       "                   room_coor_x_quantile2_  room_coor_y_quantile2_  ...  \\\n",
       "session_id                                                         ...   \n",
       "20090312431273200             -358.832031             -167.307098  ...   \n",
       "20090312433251036             -394.991394             -173.290939  ...   \n",
       "20090312455206810             -538.784363             -183.048019  ...   \n",
       "20090313091715820             -515.337463             -210.307907  ...   \n",
       "20090313571836404             -376.401917             -140.303604  ...   \n",
       "20090314035813970             -342.963806             -176.862640  ...   \n",
       "20090314121766812             -217.520538             -159.000000  ...   \n",
       "20090314221187252             -307.307678             -140.000000  ...   \n",
       "20090314363702160             -313.609833             -119.883316  ...   \n",
       "20090314441803444             -209.637115             -141.924667  ...   \n",
       "\n",
       "                   person_click_ET_min_x  navigate_click_ET_min_x  \\\n",
       "session_id                                                          \n",
       "20090312431273200                    0.0                      0.0   \n",
       "20090312433251036                    0.0                      0.0   \n",
       "20090312455206810                    0.0                      0.0   \n",
       "20090313091715820                    0.0                      0.0   \n",
       "20090313571836404                    0.0                      0.0   \n",
       "20090314035813970                    0.0                      0.0   \n",
       "20090314121766812                    0.0                      0.0   \n",
       "20090314221187252                    0.0                      0.0   \n",
       "20090314363702160                    0.0                      0.0   \n",
       "20090314441803444                    0.0                      0.0   \n",
       "\n",
       "                   observation_click_ET_min_x  notification_click_ET_min_x  \\\n",
       "session_id                                                                   \n",
       "20090312431273200                         0.0                          0.0   \n",
       "20090312433251036                        21.0                         37.0   \n",
       "20090312455206810                         0.0                          0.0   \n",
       "20090313091715820                       218.0                          0.0   \n",
       "20090313571836404                         0.0                         77.0   \n",
       "20090314035813970                         9.0                          0.0   \n",
       "20090314121766812                         1.0                          0.0   \n",
       "20090314221187252                        57.0                          0.0   \n",
       "20090314363702160                         0.0                          4.0   \n",
       "20090314441803444                         0.0                          0.0   \n",
       "\n",
       "                   object_click_ET_min_x  object_hover_ET_min_x  \\\n",
       "session_id                                                        \n",
       "20090312431273200                    0.0                    0.0   \n",
       "20090312433251036                    0.0                    0.0   \n",
       "20090312455206810                    0.0                    0.0   \n",
       "20090313091715820                    0.0                    0.0   \n",
       "20090313571836404                    0.0                    0.0   \n",
       "20090314035813970                    0.0                    0.0   \n",
       "20090314121766812                    0.0                    0.0   \n",
       "20090314221187252                    0.0                    0.0   \n",
       "20090314363702160                    0.0                    0.0   \n",
       "20090314441803444                    0.0                    0.0   \n",
       "\n",
       "                   map_hover_ET_min_x  map_click_ET_min_x  \\\n",
       "session_id                                                  \n",
       "20090312431273200                 0.0                 0.0   \n",
       "20090312433251036                 0.0                 0.0   \n",
       "20090312455206810                 0.0                 0.0   \n",
       "20090313091715820                 0.0                 0.0   \n",
       "20090313571836404                 0.0                 0.0   \n",
       "20090314035813970                 0.0                 0.0   \n",
       "20090314121766812                 0.0                 0.0   \n",
       "20090314221187252                 0.0                 0.0   \n",
       "20090314363702160                 0.0                 0.0   \n",
       "20090314441803444                 0.0                 0.0   \n",
       "\n",
       "                   checkpoint_ET_min_x  notebook_click_ET_min_x  \n",
       "session_id                                                       \n",
       "20090312431273200                  0.0                      0.0  \n",
       "20090312433251036                  0.0                     22.0  \n",
       "20090312455206810                  0.0                      0.0  \n",
       "20090313091715820                  0.0                    119.0  \n",
       "20090313571836404                  0.0                     41.0  \n",
       "20090314035813970                  0.0                      1.0  \n",
       "20090314121766812                  0.0                      4.0  \n",
       "20090314221187252                  0.0                      7.0  \n",
       "20090314363702160                  0.0                      0.0  \n",
       "20090314441803444                  0.0                      0.0  \n",
       "\n",
       "[10 rows x 1897 columns]"
      ]
     },
     "execution_count": 33,
     "metadata": {},
     "output_type": "execute_result"
    }
   ],
   "source": [
    "df1.head(10)"
   ]
  },
  {
   "cell_type": "code",
   "execution_count": 34,
   "id": "4c7815ac",
   "metadata": {
    "execution": {
     "iopub.execute_input": "2023-04-17T03:21:12.250149Z",
     "iopub.status.busy": "2023-04-17T03:21:12.249352Z",
     "iopub.status.idle": "2023-04-17T03:21:12.255696Z",
     "shell.execute_reply": "2023-04-17T03:21:12.254775Z"
    },
    "papermill": {
     "duration": 0.030518,
     "end_time": "2023-04-17T03:21:12.257957",
     "exception": false,
     "start_time": "2023-04-17T03:21:12.227439",
     "status": "completed"
    },
    "tags": []
   },
   "outputs": [
    {
     "data": {
      "text/plain": [
       "(23562, 1897)"
      ]
     },
     "execution_count": 34,
     "metadata": {},
     "output_type": "execute_result"
    }
   ],
   "source": [
    "df1.shape"
   ]
  },
  {
   "cell_type": "code",
   "execution_count": 35,
   "id": "95acdc20",
   "metadata": {
    "execution": {
     "iopub.execute_input": "2023-04-17T03:21:12.302764Z",
     "iopub.status.busy": "2023-04-17T03:21:12.301982Z",
     "iopub.status.idle": "2023-04-17T03:21:12.597858Z",
     "shell.execute_reply": "2023-04-17T03:21:12.596932Z"
    },
    "papermill": {
     "duration": 0.321433,
     "end_time": "2023-04-17T03:21:12.600333",
     "exception": false,
     "start_time": "2023-04-17T03:21:12.278900",
     "status": "completed"
    },
    "tags": []
   },
   "outputs": [
    {
     "data": {
      "text/plain": [
       "(3534, 1897)"
      ]
     },
     "execution_count": 35,
     "metadata": {},
     "output_type": "execute_result"
    }
   ],
   "source": [
    "# splitting dataframe in a particular size\n",
    "df1_split = df1.sample(frac=0.15,random_state=200)\n",
    "df1.reset_index()\n",
    "df1_split.shape"
   ]
  },
  {
   "cell_type": "code",
   "execution_count": 36,
   "id": "280f4ce6",
   "metadata": {
    "execution": {
     "iopub.execute_input": "2023-04-17T03:21:12.643428Z",
     "iopub.status.busy": "2023-04-17T03:21:12.642562Z",
     "iopub.status.idle": "2023-04-17T03:21:12.670025Z",
     "shell.execute_reply": "2023-04-17T03:21:12.669046Z"
    },
    "papermill": {
     "duration": 0.051627,
     "end_time": "2023-04-17T03:21:12.672348",
     "exception": false,
     "start_time": "2023-04-17T03:21:12.620721",
     "status": "completed"
    },
    "tags": []
   },
   "outputs": [
    {
     "data": {
      "text/html": [
       "<div>\n",
       "<style scoped>\n",
       "    .dataframe tbody tr th:only-of-type {\n",
       "        vertical-align: middle;\n",
       "    }\n",
       "\n",
       "    .dataframe tbody tr th {\n",
       "        vertical-align: top;\n",
       "    }\n",
       "\n",
       "    .dataframe thead th {\n",
       "        text-align: right;\n",
       "    }\n",
       "</style>\n",
       "<table border=\"1\" class=\"dataframe\">\n",
       "  <thead>\n",
       "    <tr style=\"text-align: right;\">\n",
       "      <th></th>\n",
       "      <th>session_number_</th>\n",
       "      <th>event_name_unique_</th>\n",
       "      <th>name_unique_</th>\n",
       "      <th>fqid_unique_</th>\n",
       "      <th>room_fqid_unique_</th>\n",
       "      <th>text_fqid_unique_</th>\n",
       "      <th></th>\n",
       "      <th>page_quantile2_</th>\n",
       "      <th>room_coor_x_quantile2_</th>\n",
       "      <th>room_coor_y_quantile2_</th>\n",
       "      <th>...</th>\n",
       "      <th>person_click_ET_min_x</th>\n",
       "      <th>navigate_click_ET_min_x</th>\n",
       "      <th>observation_click_ET_min_x</th>\n",
       "      <th>notification_click_ET_min_x</th>\n",
       "      <th>object_click_ET_min_x</th>\n",
       "      <th>object_hover_ET_min_x</th>\n",
       "      <th>map_hover_ET_min_x</th>\n",
       "      <th>map_click_ET_min_x</th>\n",
       "      <th>checkpoint_ET_min_x</th>\n",
       "      <th>notebook_click_ET_min_x</th>\n",
       "    </tr>\n",
       "    <tr>\n",
       "      <th>session_id</th>\n",
       "      <th></th>\n",
       "      <th></th>\n",
       "      <th></th>\n",
       "      <th></th>\n",
       "      <th></th>\n",
       "      <th></th>\n",
       "      <th></th>\n",
       "      <th></th>\n",
       "      <th></th>\n",
       "      <th></th>\n",
       "      <th></th>\n",
       "      <th></th>\n",
       "      <th></th>\n",
       "      <th></th>\n",
       "      <th></th>\n",
       "      <th></th>\n",
       "      <th></th>\n",
       "      <th></th>\n",
       "      <th></th>\n",
       "      <th></th>\n",
       "      <th></th>\n",
       "    </tr>\n",
       "  </thead>\n",
       "  <tbody>\n",
       "    <tr>\n",
       "      <th>21040108044106436</th>\n",
       "      <td>114</td>\n",
       "      <td>10</td>\n",
       "      <td>4</td>\n",
       "      <td>24</td>\n",
       "      <td>6</td>\n",
       "      <td>11</td>\n",
       "      <td>b'P\\xc0\\xa2\\xac\\x05u\\x00\\x00'</td>\n",
       "      <td>0.0</td>\n",
       "      <td>-474.005402</td>\n",
       "      <td>-199.692261</td>\n",
       "      <td>...</td>\n",
       "      <td>0.0</td>\n",
       "      <td>0.0</td>\n",
       "      <td>0.0</td>\n",
       "      <td>0.0</td>\n",
       "      <td>0.0</td>\n",
       "      <td>0.0</td>\n",
       "      <td>0.0</td>\n",
       "      <td>0.0</td>\n",
       "      <td>0.0</td>\n",
       "      <td>588.0</td>\n",
       "    </tr>\n",
       "    <tr>\n",
       "      <th>21000619545284540</th>\n",
       "      <td>128</td>\n",
       "      <td>10</td>\n",
       "      <td>4</td>\n",
       "      <td>22</td>\n",
       "      <td>6</td>\n",
       "      <td>10</td>\n",
       "      <td>b'P\\xc0\\xa2\\xac\\x05u\\x00\\x00'</td>\n",
       "      <td>0.0</td>\n",
       "      <td>-321.037537</td>\n",
       "      <td>-241.077423</td>\n",
       "      <td>...</td>\n",
       "      <td>0.0</td>\n",
       "      <td>0.0</td>\n",
       "      <td>0.0</td>\n",
       "      <td>0.0</td>\n",
       "      <td>0.0</td>\n",
       "      <td>0.0</td>\n",
       "      <td>0.0</td>\n",
       "      <td>0.0</td>\n",
       "      <td>0.0</td>\n",
       "      <td>275.0</td>\n",
       "    </tr>\n",
       "    <tr>\n",
       "      <th>22080511372705110</th>\n",
       "      <td>132</td>\n",
       "      <td>11</td>\n",
       "      <td>4</td>\n",
       "      <td>25</td>\n",
       "      <td>6</td>\n",
       "      <td>15</td>\n",
       "      <td>b'P\\xc0\\xa2\\xac\\x05u\\x00\\x00'</td>\n",
       "      <td>0.0</td>\n",
       "      <td>-299.648102</td>\n",
       "      <td>-148.618774</td>\n",
       "      <td>...</td>\n",
       "      <td>0.0</td>\n",
       "      <td>0.0</td>\n",
       "      <td>176.0</td>\n",
       "      <td>1.0</td>\n",
       "      <td>0.0</td>\n",
       "      <td>0.0</td>\n",
       "      <td>0.0</td>\n",
       "      <td>0.0</td>\n",
       "      <td>0.0</td>\n",
       "      <td>765.0</td>\n",
       "    </tr>\n",
       "    <tr>\n",
       "      <th>22050111003865560</th>\n",
       "      <td>119</td>\n",
       "      <td>11</td>\n",
       "      <td>4</td>\n",
       "      <td>24</td>\n",
       "      <td>7</td>\n",
       "      <td>14</td>\n",
       "      <td>b'P\\xc0\\xa2\\xac\\x05u\\x00\\x00'</td>\n",
       "      <td>0.0</td>\n",
       "      <td>-285.043396</td>\n",
       "      <td>-158.635696</td>\n",
       "      <td>...</td>\n",
       "      <td>0.0</td>\n",
       "      <td>0.0</td>\n",
       "      <td>6.0</td>\n",
       "      <td>1.0</td>\n",
       "      <td>0.0</td>\n",
       "      <td>0.0</td>\n",
       "      <td>0.0</td>\n",
       "      <td>0.0</td>\n",
       "      <td>0.0</td>\n",
       "      <td>760.0</td>\n",
       "    </tr>\n",
       "    <tr>\n",
       "      <th>21030513041475336</th>\n",
       "      <td>156</td>\n",
       "      <td>9</td>\n",
       "      <td>3</td>\n",
       "      <td>21</td>\n",
       "      <td>6</td>\n",
       "      <td>12</td>\n",
       "      <td>b'P\\xc0\\xa2\\xac\\x05u\\x00\\x00'</td>\n",
       "      <td>0.0</td>\n",
       "      <td>-400.827362</td>\n",
       "      <td>-181.005508</td>\n",
       "      <td>...</td>\n",
       "      <td>0.0</td>\n",
       "      <td>0.0</td>\n",
       "      <td>0.0</td>\n",
       "      <td>0.0</td>\n",
       "      <td>0.0</td>\n",
       "      <td>0.0</td>\n",
       "      <td>0.0</td>\n",
       "      <td>0.0</td>\n",
       "      <td>0.0</td>\n",
       "      <td>0.0</td>\n",
       "    </tr>\n",
       "  </tbody>\n",
       "</table>\n",
       "<p>5 rows × 1897 columns</p>\n",
       "</div>"
      ],
      "text/plain": [
       "                   session_number_  event_name_unique_  name_unique_  \\\n",
       "session_id                                                             \n",
       "21040108044106436              114                  10             4   \n",
       "21000619545284540              128                  10             4   \n",
       "22080511372705110              132                  11             4   \n",
       "22050111003865560              119                  11             4   \n",
       "21030513041475336              156                   9             3   \n",
       "\n",
       "                   fqid_unique_  room_fqid_unique_  text_fqid_unique_  \\\n",
       "session_id                                                              \n",
       "21040108044106436            24                  6                 11   \n",
       "21000619545284540            22                  6                 10   \n",
       "22080511372705110            25                  6                 15   \n",
       "22050111003865560            24                  7                 14   \n",
       "21030513041475336            21                  6                 12   \n",
       "\n",
       "                                                  page_quantile2_  \\\n",
       "session_id                                                          \n",
       "21040108044106436  b'P\\xc0\\xa2\\xac\\x05u\\x00\\x00'              0.0   \n",
       "21000619545284540  b'P\\xc0\\xa2\\xac\\x05u\\x00\\x00'              0.0   \n",
       "22080511372705110  b'P\\xc0\\xa2\\xac\\x05u\\x00\\x00'              0.0   \n",
       "22050111003865560  b'P\\xc0\\xa2\\xac\\x05u\\x00\\x00'              0.0   \n",
       "21030513041475336  b'P\\xc0\\xa2\\xac\\x05u\\x00\\x00'              0.0   \n",
       "\n",
       "                   room_coor_x_quantile2_  room_coor_y_quantile2_  ...  \\\n",
       "session_id                                                         ...   \n",
       "21040108044106436             -474.005402             -199.692261  ...   \n",
       "21000619545284540             -321.037537             -241.077423  ...   \n",
       "22080511372705110             -299.648102             -148.618774  ...   \n",
       "22050111003865560             -285.043396             -158.635696  ...   \n",
       "21030513041475336             -400.827362             -181.005508  ...   \n",
       "\n",
       "                   person_click_ET_min_x  navigate_click_ET_min_x  \\\n",
       "session_id                                                          \n",
       "21040108044106436                    0.0                      0.0   \n",
       "21000619545284540                    0.0                      0.0   \n",
       "22080511372705110                    0.0                      0.0   \n",
       "22050111003865560                    0.0                      0.0   \n",
       "21030513041475336                    0.0                      0.0   \n",
       "\n",
       "                   observation_click_ET_min_x  notification_click_ET_min_x  \\\n",
       "session_id                                                                   \n",
       "21040108044106436                         0.0                          0.0   \n",
       "21000619545284540                         0.0                          0.0   \n",
       "22080511372705110                       176.0                          1.0   \n",
       "22050111003865560                         6.0                          1.0   \n",
       "21030513041475336                         0.0                          0.0   \n",
       "\n",
       "                   object_click_ET_min_x  object_hover_ET_min_x  \\\n",
       "session_id                                                        \n",
       "21040108044106436                    0.0                    0.0   \n",
       "21000619545284540                    0.0                    0.0   \n",
       "22080511372705110                    0.0                    0.0   \n",
       "22050111003865560                    0.0                    0.0   \n",
       "21030513041475336                    0.0                    0.0   \n",
       "\n",
       "                   map_hover_ET_min_x  map_click_ET_min_x  \\\n",
       "session_id                                                  \n",
       "21040108044106436                 0.0                 0.0   \n",
       "21000619545284540                 0.0                 0.0   \n",
       "22080511372705110                 0.0                 0.0   \n",
       "22050111003865560                 0.0                 0.0   \n",
       "21030513041475336                 0.0                 0.0   \n",
       "\n",
       "                   checkpoint_ET_min_x  notebook_click_ET_min_x  \n",
       "session_id                                                       \n",
       "21040108044106436                  0.0                    588.0  \n",
       "21000619545284540                  0.0                    275.0  \n",
       "22080511372705110                  0.0                    765.0  \n",
       "22050111003865560                  0.0                    760.0  \n",
       "21030513041475336                  0.0                      0.0  \n",
       "\n",
       "[5 rows x 1897 columns]"
      ]
     },
     "execution_count": 36,
     "metadata": {},
     "output_type": "execute_result"
    }
   ],
   "source": [
    "df1_split.head(5)"
   ]
  },
  {
   "cell_type": "code",
   "execution_count": 37,
   "id": "feca5b43",
   "metadata": {
    "execution": {
     "iopub.execute_input": "2023-04-17T03:21:12.716733Z",
     "iopub.status.busy": "2023-04-17T03:21:12.715930Z",
     "iopub.status.idle": "2023-04-17T03:21:12.997544Z",
     "shell.execute_reply": "2023-04-17T03:21:12.996537Z"
    },
    "papermill": {
     "duration": 0.306829,
     "end_time": "2023-04-17T03:21:13.000024",
     "exception": false,
     "start_time": "2023-04-17T03:21:12.693195",
     "status": "completed"
    },
    "tags": []
   },
   "outputs": [
    {
     "data": {
      "text/plain": [
       "(3534, 1903)"
      ]
     },
     "execution_count": 37,
     "metadata": {},
     "output_type": "execute_result"
    }
   ],
   "source": [
    "# splitting dataframe in a particular size\n",
    "df2_split = df2.sample(frac=0.15,random_state=200)\n",
    "df2.reset_index()\n",
    "df2_split.shape"
   ]
  },
  {
   "cell_type": "code",
   "execution_count": 38,
   "id": "338247ca",
   "metadata": {
    "execution": {
     "iopub.execute_input": "2023-04-17T03:21:13.045353Z",
     "iopub.status.busy": "2023-04-17T03:21:13.044523Z",
     "iopub.status.idle": "2023-04-17T03:21:13.307586Z",
     "shell.execute_reply": "2023-04-17T03:21:13.306526Z"
    },
    "papermill": {
     "duration": 0.288704,
     "end_time": "2023-04-17T03:21:13.309897",
     "exception": false,
     "start_time": "2023-04-17T03:21:13.021193",
     "status": "completed"
    },
    "tags": []
   },
   "outputs": [
    {
     "data": {
      "text/plain": [
       "(3534, 1901)"
      ]
     },
     "execution_count": 38,
     "metadata": {},
     "output_type": "execute_result"
    }
   ],
   "source": [
    "# splitting dataframe in a particular size\n",
    "df3_split = df3.sample(frac=0.15,random_state=200)\n",
    "df3.reset_index()\n",
    "df3_split.shape"
   ]
  },
  {
   "cell_type": "markdown",
   "id": "3dd13893",
   "metadata": {
    "papermill": {
     "duration": 0.021121,
     "end_time": "2023-04-17T03:21:13.352636",
     "exception": false,
     "start_time": "2023-04-17T03:21:13.331515",
     "status": "completed"
    },
    "tags": []
   },
   "source": [
    "## Cleaning Variables to free RAM Memory"
   ]
  },
  {
   "cell_type": "code",
   "execution_count": 39,
   "id": "b7625187",
   "metadata": {
    "execution": {
     "iopub.execute_input": "2023-04-17T03:21:13.397078Z",
     "iopub.status.busy": "2023-04-17T03:21:13.396324Z",
     "iopub.status.idle": "2023-04-17T03:21:13.406231Z",
     "shell.execute_reply": "2023-04-17T03:21:13.404714Z"
    },
    "papermill": {
     "duration": 0.035778,
     "end_time": "2023-04-17T03:21:13.409503",
     "exception": false,
     "start_time": "2023-04-17T03:21:13.373725",
     "status": "completed"
    },
    "tags": []
   },
   "outputs": [
    {
     "name": "stdout",
     "output_type": "stream",
     "text": [
      "ALL_USERS is <class 'pandas.core.indexes.numeric.Int64Index'>\n",
      "CATS is <class 'list'>\n",
      "FEATURES1 is <class 'list'>\n",
      "FEATURES2 is <class 'list'>\n",
      "FEATURES3 is <class 'list'>\n",
      "GridSearchCV is <class 'abc.ABCMeta'>\n",
      "GroupKFold is <class 'abc.ABCMeta'>\n",
      "In is <class 'list'>\n",
      "KFold is <class 'abc.ABCMeta'>\n",
      "NUMS is <class 'list'>\n",
      "Out is <class 'dict'>\n",
      "RandomForestClassifier is <class 'abc.ABCMeta'>\n",
      "RandomizedSearchCV is <class 'abc.ABCMeta'>\n",
      "VWClassifier is <class 'type'>\n",
      "_ is <class 'list'>\n",
      "_12 is <class 'polars.dataframe.frame.DataFrame'>\n",
      "_19 is <class 'int'>\n",
      "_22 is <class 'polars.dataframe.frame.DataFrame'>\n",
      "_26 is <class 'pandas.core.series.Series'>\n",
      "_30 is <class 'list'>\n",
      "_31 is <class 'list'>\n",
      "_32 is <class 'list'>\n",
      "_33 is <class 'pandas.core.frame.DataFrame'>\n",
      "_34 is <class 'tuple'>\n",
      "_35 is <class 'tuple'>\n",
      "_36 is <class 'pandas.core.frame.DataFrame'>\n",
      "_37 is <class 'tuple'>\n",
      "_38 is <class 'tuple'>\n",
      "_dh is <class 'list'>\n",
      "_i is <class 'str'>\n",
      "_i1 is <class 'str'>\n",
      "_i10 is <class 'str'>\n",
      "_i11 is <class 'str'>\n",
      "_i12 is <class 'str'>\n",
      "_i13 is <class 'str'>\n",
      "_i14 is <class 'str'>\n",
      "_i15 is <class 'str'>\n",
      "_i16 is <class 'str'>\n",
      "_i17 is <class 'str'>\n",
      "_i18 is <class 'str'>\n",
      "_i19 is <class 'str'>\n",
      "_i2 is <class 'str'>\n",
      "_i20 is <class 'str'>\n",
      "_i21 is <class 'str'>\n",
      "_i22 is <class 'str'>\n",
      "_i23 is <class 'str'>\n",
      "_i24 is <class 'str'>\n",
      "_i25 is <class 'str'>\n",
      "_i26 is <class 'str'>\n",
      "_i27 is <class 'str'>\n",
      "_i28 is <class 'str'>\n",
      "_i29 is <class 'str'>\n",
      "_i3 is <class 'str'>\n",
      "_i30 is <class 'str'>\n",
      "_i31 is <class 'str'>\n",
      "_i32 is <class 'str'>\n",
      "_i33 is <class 'str'>\n",
      "_i34 is <class 'str'>\n",
      "_i35 is <class 'str'>\n",
      "_i36 is <class 'str'>\n",
      "_i37 is <class 'str'>\n",
      "_i38 is <class 'str'>\n",
      "_i39 is <class 'str'>\n",
      "_i4 is <class 'str'>\n",
      "_i5 is <class 'str'>\n",
      "_i6 is <class 'str'>\n",
      "_i7 is <class 'str'>\n",
      "_i8 is <class 'str'>\n",
      "_i9 is <class 'str'>\n",
      "_ih is <class 'list'>\n",
      "_ii is <class 'str'>\n",
      "_iii is <class 'str'>\n",
      "_oh is <class 'dict'>\n",
      "classification_report is <class 'function'>\n",
      "clean_missing_values is <class 'function'>\n",
      "col is <class 'str'>\n",
      "columns is <class 'list'>\n",
      "df1 is <class 'pandas.core.frame.DataFrame'>\n",
      "df1_split is <class 'pandas.core.frame.DataFrame'>\n",
      "df2 is <class 'pandas.core.frame.DataFrame'>\n",
      "df2_split is <class 'pandas.core.frame.DataFrame'>\n",
      "df3 is <class 'pandas.core.frame.DataFrame'>\n",
      "df3_split is <class 'pandas.core.frame.DataFrame'>\n",
      "dirname is <class 'str'>\n",
      "drop1 is <class 'list'>\n",
      "drop2 is <class 'list'>\n",
      "drop3 is <class 'list'>\n",
      "dtypes is <class 'dict'>\n",
      "event_name_feature is <class 'list'>\n",
      "exit is <class 'IPython.core.autocall.ZMQExitAutocall'>\n",
      "f1_score is <class 'function'>\n",
      "feature_engineer_pl is <class 'function'>\n",
      "filename is <class 'str'>\n",
      "filenames is <class 'list'>\n",
      "files_status is <class 'bool'>\n",
      "fqid_lists is <class 'list'>\n",
      "gc is <class 'module'>\n",
      "get_ipython is <class 'method'>\n",
      "name_feature is <class 'list'>\n",
      "np is <class 'module'>\n",
      "null1 is <class 'pandas.core.series.Series'>\n",
      "null2 is <class 'pandas.core.series.Series'>\n",
      "null3 is <class 'pandas.core.series.Series'>\n",
      "nulls_per_column is <class 'function'>\n",
      "os is <class 'module'>\n",
      "pd is <class 'module'>\n",
      "pl is <class 'module'>\n",
      "quit is <class 'IPython.core.autocall.ZMQExitAutocall'>\n",
      "reduce_memory_usage_pl is <class 'function'>\n",
      "room_lists is <class 'list'>\n",
      "targets is <class 'pandas.core.frame.DataFrame'>\n",
      "text_lists is <class 'list'>\n",
      "warnings is <class 'module'>\n"
     ]
    }
   ],
   "source": [
    "all_variables = dir()\n",
    "  \n",
    "# Iterate over the whole list where dir( )\n",
    "# is stored.\n",
    "for name in all_variables:\n",
    "    \n",
    "    # Print the item if it doesn't start with '__'\n",
    "    if not name.startswith('__'):\n",
    "        myvalue = eval(name)\n",
    "        #print(name, \"is\", type(myvalue), \"and is equal to \", myvalue)\n",
    "        print(name, \"is\", type(myvalue))"
   ]
  },
  {
   "cell_type": "code",
   "execution_count": 40,
   "id": "dc21bb0d",
   "metadata": {
    "execution": {
     "iopub.execute_input": "2023-04-17T03:21:13.454925Z",
     "iopub.status.busy": "2023-04-17T03:21:13.454146Z",
     "iopub.status.idle": "2023-04-17T03:21:13.458606Z",
     "shell.execute_reply": "2023-04-17T03:21:13.457607Z"
    },
    "papermill": {
     "duration": 0.029871,
     "end_time": "2023-04-17T03:21:13.460965",
     "exception": false,
     "start_time": "2023-04-17T03:21:13.431094",
     "status": "completed"
    },
    "tags": []
   },
   "outputs": [],
   "source": [
    "#del clean_missing_values,col\n",
    "#del null1,null2,null3,drop1,drop2,drop3,dtypes,event_name_feature,room_lists,text_lists\n",
    "#del fqid_lists,name_feature,reduce_memory_usage_pl,\n"
   ]
  },
  {
   "cell_type": "code",
   "execution_count": 41,
   "id": "cda0a91b",
   "metadata": {
    "execution": {
     "iopub.execute_input": "2023-04-17T03:21:13.505839Z",
     "iopub.status.busy": "2023-04-17T03:21:13.505075Z",
     "iopub.status.idle": "2023-04-17T03:21:13.631406Z",
     "shell.execute_reply": "2023-04-17T03:21:13.630312Z"
    },
    "papermill": {
     "duration": 0.151862,
     "end_time": "2023-04-17T03:21:13.634178",
     "exception": false,
     "start_time": "2023-04-17T03:21:13.482316",
     "status": "completed"
    },
    "tags": []
   },
   "outputs": [
    {
     "data": {
      "text/plain": [
       "126"
      ]
     },
     "execution_count": 41,
     "metadata": {},
     "output_type": "execute_result"
    }
   ],
   "source": [
    "gc.collect()"
   ]
  },
  {
   "cell_type": "markdown",
   "id": "70dc0b86",
   "metadata": {
    "papermill": {
     "duration": 0.02094,
     "end_time": "2023-04-17T03:21:13.676872",
     "exception": false,
     "start_time": "2023-04-17T03:21:13.655932",
     "status": "completed"
    },
    "tags": []
   },
   "source": [
    "## Group KFold"
   ]
  },
  {
   "cell_type": "code",
   "execution_count": 42,
   "id": "a2677276",
   "metadata": {
    "execution": {
     "iopub.execute_input": "2023-04-17T03:21:13.722284Z",
     "iopub.status.busy": "2023-04-17T03:21:13.721490Z",
     "iopub.status.idle": "2023-04-17T03:21:13.738615Z",
     "shell.execute_reply": "2023-04-17T03:21:13.736936Z"
    },
    "papermill": {
     "duration": 0.043282,
     "end_time": "2023-04-17T03:21:13.741551",
     "exception": false,
     "start_time": "2023-04-17T03:21:13.698269",
     "status": "completed"
    },
    "tags": []
   },
   "outputs": [
    {
     "name": "stdout",
     "output_type": "stream",
     "text": [
      "                    0    1    2    3    4    5    6    7    8    9    10   11  \\\n",
      "session_id                                                                      \n",
      "20090312431273200  0.0  0.0  0.0  0.0  0.0  0.0  0.0  0.0  0.0  0.0  0.0  0.0   \n",
      "20090312433251036  0.0  0.0  0.0  0.0  0.0  0.0  0.0  0.0  0.0  0.0  0.0  0.0   \n",
      "20090312455206810  0.0  0.0  0.0  0.0  0.0  0.0  0.0  0.0  0.0  0.0  0.0  0.0   \n",
      "\n",
      "                    12   13   14   15   16   17  \n",
      "session_id                                       \n",
      "20090312431273200  0.0  0.0  0.0  0.0  0.0  0.0  \n",
      "20090312433251036  0.0  0.0  0.0  0.0  0.0  0.0  \n",
      "20090312455206810  0.0  0.0  0.0  0.0  0.0  0.0  \n",
      "Shape oof:  (23562, 18)\n"
     ]
    }
   ],
   "source": [
    "gkf = GroupKFold(n_splits=2)\n",
    "oof = pd.DataFrame(data=np.zeros((len(ALL_USERS),18)), index=ALL_USERS)\n",
    "models = {}\n",
    "print(oof.head(3))\n",
    "print(\"Shape oof: \",oof.shape)"
   ]
  },
  {
   "cell_type": "markdown",
   "id": "2198fdc3",
   "metadata": {
    "papermill": {
     "duration": 0.021621,
     "end_time": "2023-04-17T03:21:13.785490",
     "exception": false,
     "start_time": "2023-04-17T03:21:13.763869",
     "status": "completed"
    },
    "tags": []
   },
   "source": [
    "# Randomized Search CV"
   ]
  },
  {
   "cell_type": "code",
   "execution_count": 43,
   "id": "b5e0041b",
   "metadata": {
    "execution": {
     "iopub.execute_input": "2023-04-17T03:21:13.831191Z",
     "iopub.status.busy": "2023-04-17T03:21:13.830773Z",
     "iopub.status.idle": "2023-04-17T03:21:13.836588Z",
     "shell.execute_reply": "2023-04-17T03:21:13.835626Z"
    },
    "papermill": {
     "duration": 0.031227,
     "end_time": "2023-04-17T03:21:13.838910",
     "exception": false,
     "start_time": "2023-04-17T03:21:13.807683",
     "status": "completed"
    },
    "tags": []
   },
   "outputs": [],
   "source": [
    "param_grid = {\n",
    "    'n_estimators': [25,40,60,80,90,100],\n",
    "    'max_features': ['sqrt', 'log2', None],\n",
    "    'max_depth': [3,6,9],\n",
    "    'max_leaf_nodes': [3,6,9],\n",
    "    'min_samples_split' : [2, 5],\n",
    "    'bootstrap' : [True,False]\n",
    "}"
   ]
  },
  {
   "cell_type": "code",
   "execution_count": 44,
   "id": "ac37be01",
   "metadata": {
    "execution": {
     "iopub.execute_input": "2023-04-17T03:21:13.884974Z",
     "iopub.status.busy": "2023-04-17T03:21:13.884160Z",
     "iopub.status.idle": "2023-04-17T03:21:13.889407Z",
     "shell.execute_reply": "2023-04-17T03:21:13.888321Z"
    },
    "papermill": {
     "duration": 0.031427,
     "end_time": "2023-04-17T03:21:13.891796",
     "exception": false,
     "start_time": "2023-04-17T03:21:13.860369",
     "status": "completed"
    },
    "tags": []
   },
   "outputs": [],
   "source": [
    "#Randomized Search CV\n",
    "grid_search = RandomizedSearchCV(estimator = RandomForestClassifier(), param_distributions = param_grid, cv = 2, verbose=2, n_jobs = 3) "
   ]
  },
  {
   "cell_type": "code",
   "execution_count": 45,
   "id": "5a8a9e8d",
   "metadata": {
    "execution": {
     "iopub.execute_input": "2023-04-17T03:21:13.938352Z",
     "iopub.status.busy": "2023-04-17T03:21:13.937770Z",
     "iopub.status.idle": "2023-04-17T03:21:14.680765Z",
     "shell.execute_reply": "2023-04-17T03:21:14.679330Z"
    },
    "papermill": {
     "duration": 0.769866,
     "end_time": "2023-04-17T03:21:14.683651",
     "exception": false,
     "start_time": "2023-04-17T03:21:13.913785",
     "status": "completed"
    },
    "tags": []
   },
   "outputs": [],
   "source": [
    "targets['session'] = targets.session_id.apply(lambda x: int(x.split('_')[0]))\n",
    "targets['q'] = targets.session_id.apply(lambda x: int(x.split('_')[-1][1:]))"
   ]
  },
  {
   "cell_type": "code",
   "execution_count": 46,
   "id": "8d493939",
   "metadata": {
    "execution": {
     "iopub.execute_input": "2023-04-17T03:21:14.728891Z",
     "iopub.status.busy": "2023-04-17T03:21:14.728472Z",
     "iopub.status.idle": "2023-04-17T03:47:32.797424Z",
     "shell.execute_reply": "2023-04-17T03:47:32.795949Z"
    },
    "papermill": {
     "duration": 1578.119584,
     "end_time": "2023-04-17T03:47:32.824944",
     "exception": false,
     "start_time": "2023-04-17T03:21:14.705360",
     "status": "completed"
    },
    "tags": []
   },
   "outputs": [
    {
     "name": "stdout",
     "output_type": "stream",
     "text": [
      "Fitting 2 folds for each of 10 candidates, totalling 20 fits\n",
      "*** Model: 0-4_1\n",
      "\n",
      "Fitting 2 folds for each of 10 candidates, totalling 20 fits\n",
      "*** Model: 0-4_2\n",
      "\n",
      "Fitting 2 folds for each of 10 candidates, totalling 20 fits\n",
      "*** Model: 0-4_3\n",
      "\n",
      "Fitting 2 folds for each of 10 candidates, totalling 20 fits\n",
      "*** Model: 5-12_4\n",
      "\n",
      "Fitting 2 folds for each of 10 candidates, totalling 20 fits\n",
      "*** Model: 5-12_5\n",
      "\n",
      "Fitting 2 folds for each of 10 candidates, totalling 20 fits\n",
      "*** Model: 5-12_6\n",
      "\n",
      "Fitting 2 folds for each of 10 candidates, totalling 20 fits\n",
      "*** Model: 5-12_7\n",
      "\n",
      "Fitting 2 folds for each of 10 candidates, totalling 20 fits\n",
      "[CV] END bootstrap=False, max_depth=3, max_features=sqrt, max_leaf_nodes=9, min_samples_split=5, n_estimators=100; total time=   1.8s\n",
      "[CV] END bootstrap=False, max_depth=3, max_features=sqrt, max_leaf_nodes=9, min_samples_split=5, n_estimators=100; total time=   1.9s\n",
      "[CV] END bootstrap=False, max_depth=9, max_features=log2, max_leaf_nodes=3, min_samples_split=5, n_estimators=60; total time=   0.6s\n",
      "[CV] END bootstrap=False, max_depth=9, max_features=log2, max_leaf_nodes=3, min_samples_split=5, n_estimators=60; total time=   0.6s\n",
      "[CV] END bootstrap=True, max_depth=9, max_features=log2, max_leaf_nodes=3, min_samples_split=2, n_estimators=100; total time=   0.8s\n",
      "[CV] END bootstrap=True, max_depth=9, max_features=log2, max_leaf_nodes=3, min_samples_split=2, n_estimators=100; total time=   0.7s\n",
      "[CV] END bootstrap=False, max_depth=9, max_features=log2, max_leaf_nodes=6, min_samples_split=2, n_estimators=25; total time=   0.2s\n",
      "[CV] END bootstrap=False, max_depth=9, max_features=log2, max_leaf_nodes=6, min_samples_split=2, n_estimators=25; total time=   0.3s\n",
      "[CV] END bootstrap=True, max_depth=3, max_features=sqrt, max_leaf_nodes=6, min_samples_split=5, n_estimators=100; total time=   1.6s\n",
      "[CV] END bootstrap=True, max_depth=3, max_features=sqrt, max_leaf_nodes=6, min_samples_split=5, n_estimators=100; total time=   1.4s\n",
      "[CV] END bootstrap=True, max_depth=6, max_features=None, max_leaf_nodes=3, min_samples_split=5, n_estimators=40; total time=   7.3s\n",
      "[CV] END bootstrap=False, max_depth=6, max_features=log2, max_leaf_nodes=6, min_samples_split=2, n_estimators=60; total time=   0.6s\n",
      "[CV] END bootstrap=False, max_depth=6, max_features=log2, max_leaf_nodes=6, min_samples_split=2, n_estimators=60; total time=   0.7s\n",
      "[CV] END bootstrap=True, max_depth=3, max_features=sqrt, max_leaf_nodes=3, min_samples_split=2, n_estimators=100; total time=   1.1s\n",
      "[CV] END bootstrap=False, max_depth=9, max_features=sqrt, max_leaf_nodes=6, min_samples_split=5, n_estimators=40; total time=   1.0s\n",
      "[CV] END bootstrap=True, max_depth=9, max_features=None, max_leaf_nodes=9, min_samples_split=2, n_estimators=90; total time=  47.9s\n",
      "[CV] END bootstrap=True, max_depth=9, max_features=None, max_leaf_nodes=3, min_samples_split=2, n_estimators=100; total time=  25.0s\n",
      "[CV] END bootstrap=False, max_depth=6, max_features=None, max_leaf_nodes=9, min_samples_split=5, n_estimators=100; total time= 1.2min\n",
      "[CV] END bootstrap=True, max_depth=6, max_features=log2, max_leaf_nodes=9, min_samples_split=5, n_estimators=60; total time=   0.5s\n",
      "[CV] END bootstrap=False, max_depth=6, max_features=sqrt, max_leaf_nodes=3, min_samples_split=5, n_estimators=100; total time=   1.5s\n",
      "[CV] END bootstrap=False, max_depth=6, max_features=sqrt, max_leaf_nodes=9, min_samples_split=2, n_estimators=25; total time=   0.5s\n",
      "[CV] END bootstrap=False, max_depth=3, max_features=sqrt, max_leaf_nodes=6, min_samples_split=2, n_estimators=25; total time=   0.4s\n",
      "[CV] END bootstrap=False, max_depth=3, max_features=log2, max_leaf_nodes=3, min_samples_split=5, n_estimators=25; total time=   0.3s\n",
      "[CV] END bootstrap=False, max_depth=3, max_features=log2, max_leaf_nodes=3, min_samples_split=5, n_estimators=25; total time=   0.2s\n",
      "[CV] END bootstrap=True, max_depth=3, max_features=None, max_leaf_nodes=6, min_samples_split=5, n_estimators=90; total time=  21.2s\n",
      "[CV] END bootstrap=False, max_depth=6, max_features=sqrt, max_leaf_nodes=9, min_samples_split=5, n_estimators=60; total time=   1.1s\n",
      "[CV] END bootstrap=True, max_depth=9, max_features=sqrt, max_leaf_nodes=3, min_samples_split=5, n_estimators=90; total time=   1.3s\n",
      "[CV] END bootstrap=True, max_depth=3, max_features=sqrt, max_leaf_nodes=3, min_samples_split=2, n_estimators=25; total time=   0.4s\n",
      "[CV] END bootstrap=True, max_depth=3, max_features=sqrt, max_leaf_nodes=9, min_samples_split=5, n_estimators=25; total time=   0.6s\n",
      "[CV] END bootstrap=True, max_depth=9, max_features=None, max_leaf_nodes=3, min_samples_split=2, n_estimators=90; total time=  25.6s\n",
      "[CV] END bootstrap=True, max_depth=9, max_features=None, max_leaf_nodes=3, min_samples_split=2, n_estimators=60; total time=  17.3s\n",
      "[CV] END bootstrap=False, max_depth=3, max_features=None, max_leaf_nodes=9, min_samples_split=5, n_estimators=100; total time=  37.0s\n",
      "[CV] END bootstrap=True, max_depth=6, max_features=log2, max_leaf_nodes=6, min_samples_split=5, n_estimators=90; total time=   0.7s\n",
      "[CV] END bootstrap=True, max_depth=6, max_features=log2, max_leaf_nodes=6, min_samples_split=5, n_estimators=90; total time=   0.6s\n",
      "[CV] END bootstrap=True, max_depth=9, max_features=None, max_leaf_nodes=3, min_samples_split=2, n_estimators=80; total time=  23.8s\n",
      "[CV] END bootstrap=False, max_depth=9, max_features=None, max_leaf_nodes=3, min_samples_split=5, n_estimators=25; total time=  11.8s\n",
      "[CV] END bootstrap=False, max_depth=9, max_features=None, max_leaf_nodes=3, min_samples_split=5, n_estimators=25; total time=  10.9s\n",
      "[CV] END bootstrap=False, max_depth=3, max_features=log2, max_leaf_nodes=3, min_samples_split=5, n_estimators=40; total time=   0.3s\n",
      "[CV] END bootstrap=False, max_depth=3, max_features=log2, max_leaf_nodes=3, min_samples_split=5, n_estimators=40; total time=   0.4s\n",
      "[CV] END bootstrap=True, max_depth=9, max_features=log2, max_leaf_nodes=6, min_samples_split=2, n_estimators=25; total time=   0.3s\n",
      "[CV] END bootstrap=True, max_depth=9, max_features=log2, max_leaf_nodes=6, min_samples_split=2, n_estimators=25; total time=   0.3s\n",
      "[CV] END bootstrap=False, max_depth=6, max_features=log2, max_leaf_nodes=9, min_samples_split=5, n_estimators=80; total time=   1.0s\n",
      "[CV] END bootstrap=False, max_depth=6, max_features=log2, max_leaf_nodes=9, min_samples_split=5, n_estimators=80; total time=   0.9s\n",
      "[CV] END bootstrap=False, max_depth=3, max_features=None, max_leaf_nodes=9, min_samples_split=5, n_estimators=25; total time=  13.6s\n",
      "[CV] END bootstrap=False, max_depth=6, max_features=sqrt, max_leaf_nodes=3, min_samples_split=5, n_estimators=100; total time=   2.2s\n",
      "[CV] END bootstrap=False, max_depth=6, max_features=sqrt, max_leaf_nodes=3, min_samples_split=5, n_estimators=100; total time=   2.0s\n",
      "[CV] END bootstrap=True, max_depth=9, max_features=sqrt, max_leaf_nodes=9, min_samples_split=5, n_estimators=60; total time=   1.5s\n",
      "[CV] END bootstrap=True, max_depth=9, max_features=sqrt, max_leaf_nodes=9, min_samples_split=5, n_estimators=60; total time=   1.2s\n",
      "[CV] END bootstrap=False, max_depth=9, max_features=None, max_leaf_nodes=3, min_samples_split=5, n_estimators=60; total time=  23.2s\n",
      "[CV] END bootstrap=True, max_depth=9, max_features=None, max_leaf_nodes=9, min_samples_split=2, n_estimators=40; total time=  15.2s\n",
      "[CV] END bootstrap=True, max_depth=6, max_features=sqrt, max_leaf_nodes=3, min_samples_split=2, n_estimators=100; total time=   1.5s\n",
      "[CV] END bootstrap=True, max_depth=6, max_features=sqrt, max_leaf_nodes=3, min_samples_split=2, n_estimators=100; total time=   1.3s\n",
      "[CV] END bootstrap=True, max_depth=9, max_features=None, max_leaf_nodes=9, min_samples_split=2, n_estimators=80; total time=  35.8s\n",
      "[CV] END bootstrap=True, max_depth=9, max_features=None, max_leaf_nodes=9, min_samples_split=2, n_estimators=80; total time=  32.9s\n",
      "[CV] END bootstrap=False, max_depth=9, max_features=sqrt, max_leaf_nodes=3, min_samples_split=5, n_estimators=60; total time=   1.3s\n",
      "[CV] END bootstrap=False, max_depth=9, max_features=sqrt, max_leaf_nodes=3, min_samples_split=5, n_estimators=60; total time=   1.3s\n",
      "[CV] END bootstrap=True, max_depth=3, max_features=sqrt, max_leaf_nodes=3, min_samples_split=2, n_estimators=40; total time=   0.6s\n",
      "[CV] END bootstrap=True, max_depth=3, max_features=sqrt, max_leaf_nodes=3, min_samples_split=2, n_estimators=40; total time=   0.5s\n",
      "[CV] END bootstrap=False, max_depth=6, max_features=sqrt, max_leaf_nodes=3, min_samples_split=5, n_estimators=80; total time=   1.5s\n",
      "[CV] END bootstrap=False, max_depth=6, max_features=sqrt, max_leaf_nodes=3, min_samples_split=5, n_estimators=80; total time=   1.7s\n",
      "[CV] END bootstrap=True, max_depth=9, max_features=None, max_leaf_nodes=3, min_samples_split=2, n_estimators=80; total time=  23.6s\n",
      "[CV] END bootstrap=True, max_depth=6, max_features=None, max_leaf_nodes=3, min_samples_split=2, n_estimators=90; total time=  24.9s*** Model: 5-12_8\n",
      "\n",
      "Fitting 2 folds for each of 10 candidates, totalling 20 fits\n",
      "[CV] END bootstrap=True, max_depth=9, max_features=None, max_leaf_nodes=6, min_samples_split=5, n_estimators=60; total time=  14.7s\n",
      "[CV] END bootstrap=True, max_depth=6, max_features=None, max_leaf_nodes=3, min_samples_split=5, n_estimators=40; total time=   6.8s\n",
      "[CV] END bootstrap=False, max_depth=6, max_features=None, max_leaf_nodes=6, min_samples_split=5, n_estimators=60; total time=  43.1s\n",
      "[CV] END bootstrap=True, max_depth=9, max_features=log2, max_leaf_nodes=6, min_samples_split=2, n_estimators=40; total time=   0.4s\n",
      "[CV] END bootstrap=True, max_depth=9, max_features=log2, max_leaf_nodes=6, min_samples_split=2, n_estimators=40; total time=   0.4s\n",
      "[CV] END bootstrap=True, max_depth=9, max_features=None, max_leaf_nodes=3, min_samples_split=2, n_estimators=100; total time=  24.9s\n",
      "[CV] END bootstrap=False, max_depth=6, max_features=None, max_leaf_nodes=9, min_samples_split=5, n_estimators=100; total time= 1.2min\n",
      "[CV] END bootstrap=True, max_depth=9, max_features=log2, max_leaf_nodes=6, min_samples_split=2, n_estimators=60; total time=   0.4s\n",
      "[CV] END bootstrap=True, max_depth=9, max_features=log2, max_leaf_nodes=6, min_samples_split=2, n_estimators=60; total time=   0.5s\n",
      "[CV] END bootstrap=False, max_depth=9, max_features=log2, max_leaf_nodes=6, min_samples_split=5, n_estimators=100; total time=   0.9s\n",
      "[CV] END bootstrap=False, max_depth=9, max_features=log2, max_leaf_nodes=6, min_samples_split=5, n_estimators=100; total time=   1.0s\n",
      "[CV] END bootstrap=False, max_depth=6, max_features=log2, max_leaf_nodes=9, min_samples_split=5, n_estimators=40; total time=   0.5s\n",
      "[CV] END bootstrap=True, max_depth=6, max_features=log2, max_leaf_nodes=9, min_samples_split=5, n_estimators=60; total time=   0.5s\n",
      "[CV] END bootstrap=False, max_depth=9, max_features=log2, max_leaf_nodes=9, min_samples_split=2, n_estimators=40; total time=   0.4s\n",
      "[CV] END bootstrap=False, max_depth=9, max_features=log2, max_leaf_nodes=9, min_samples_split=2, n_estimators=40; total time=   0.5s\n",
      "[CV] END bootstrap=False, max_depth=6, max_features=sqrt, max_leaf_nodes=9, min_samples_split=2, n_estimators=25; total time=   0.8s\n",
      "[CV] END bootstrap=False, max_depth=9, max_features=None, max_leaf_nodes=6, min_samples_split=5, n_estimators=60; total time=  21.3s\n",
      "[CV] END bootstrap=False, max_depth=6, max_features=sqrt, max_leaf_nodes=9, min_samples_split=5, n_estimators=60; total time=   1.4s\n",
      "[CV] END bootstrap=True, max_depth=9, max_features=sqrt, max_leaf_nodes=3, min_samples_split=5, n_estimators=90; total time=   1.3s\n",
      "[CV] END bootstrap=True, max_depth=9, max_features=sqrt, max_leaf_nodes=9, min_samples_split=5, n_estimators=80; total time=   1.6s\n",
      "[CV] END bootstrap=True, max_depth=6, max_features=None, max_leaf_nodes=6, min_samples_split=2, n_estimators=60; total time=  23.2s\n",
      "[CV] END bootstrap=True, max_depth=6, max_features=None, max_leaf_nodes=6, min_samples_split=2, n_estimators=60; total time=  21.3s\n",
      "[CV] END bootstrap=False, max_depth=6, max_features=sqrt, max_leaf_nodes=6, min_samples_split=2, n_estimators=100; total time=   2.7s\n",
      "[CV] END bootstrap=False, max_depth=6, max_features=sqrt, max_leaf_nodes=6, min_samples_split=2, n_estimators=100; total time=   2.5s\n",
      "[CV] END bootstrap=False, max_depth=6, max_features=sqrt, max_leaf_nodes=6, min_samples_split=5, n_estimators=25; total time=   0.8s\n",
      "[CV] END bootstrap=False, max_depth=6, max_features=sqrt, max_leaf_nodes=3, min_samples_split=5, n_estimators=100; total time=   2.3s\n",
      "[CV] END bootstrap=True, max_depth=9, max_features=log2, max_leaf_nodes=6, min_samples_split=5, n_estimators=90; total time=   0.8s\n",
      "[CV] END bootstrap=True, max_depth=9, max_features=log2, max_leaf_nodes=6, min_samples_split=5, n_estimators=90; total time=   0.7s\n",
      "[CV] END bootstrap=False, max_depth=9, max_features=None, max_leaf_nodes=9, min_samples_split=5, n_estimators=100; total time= 1.1min\n",
      "[CV] END bootstrap=False, max_depth=3, max_features=None, max_leaf_nodes=9, min_samples_split=5, n_estimators=25; total time=  12.5s\n",
      "[CV] END bootstrap=True, max_depth=3, max_features=None, max_leaf_nodes=3, min_samples_split=5, n_estimators=60; total time=  16.2s\n",
      "[CV] END bootstrap=True, max_depth=6, max_features=None, max_leaf_nodes=9, min_samples_split=2, n_estimators=25; total time=  11.3s\n",
      "[CV] END bootstrap=True, max_depth=6, max_features=None, max_leaf_nodes=9, min_samples_split=2, n_estimators=25; total time=  11.0s\n",
      "[CV] END bootstrap=True, max_depth=6, max_features=sqrt, max_leaf_nodes=9, min_samples_split=5, n_estimators=80; total time=   1.4s\n",
      "[CV] END bootstrap=True, max_depth=6, max_features=sqrt, max_leaf_nodes=9, min_samples_split=5, n_estimators=80; total time=   1.4s\n",
      "[CV] END bootstrap=False, max_depth=3, max_features=None, max_leaf_nodes=9, min_samples_split=2, n_estimators=80; total time=  42.0s\n",
      "[CV] END bootstrap=True, max_depth=9, max_features=log2, max_leaf_nodes=9, min_samples_split=2, n_estimators=90; total time=   1.1s\n",
      "[CV] END bootstrap=False, max_depth=6, max_features=sqrt, max_leaf_nodes=6, min_samples_split=5, n_estimators=90; total time=   2.5s\n",
      "[CV] END bootstrap=False, max_depth=6, max_features=None, max_leaf_nodes=6, min_samples_split=5, n_estimators=100; total time=  54.0s\n",
      "[CV] END bootstrap=True, max_depth=6, max_features=log2, max_leaf_nodes=6, min_samples_split=2, n_estimators=25; total time=   0.3s\n",
      "[CV] END bootstrap=True, max_depth=6, max_features=log2, max_leaf_nodes=6, min_samples_split=2, n_estimators=25; total time=   0.3s\n",
      "[CV] END bootstrap=False, max_depth=6, max_features=log2, max_leaf_nodes=9, min_samples_split=2, n_estimators=100; total time=   1.6s\n",
      "[CV] END bootstrap=False, max_depth=6, max_features=log2, max_leaf_nodes=9, min_samples_split=2, n_estimators=100; total time=   1.7s\n",
      "[CV] END bootstrap=False, max_depth=3, max_features=None, max_leaf_nodes=9, min_samples_split=5, n_estimators=40; total time=  20.7s\n",
      "[CV] END bootstrap=True, max_depth=6, max_features=None, max_leaf_nodes=3, min_samples_split=2, n_estimators=90; total time=  26.5s\n",
      "[CV] END bootstrap=True, max_depth=9, max_features=None, max_leaf_nodes=6, min_samples_split=2, n_estimators=40; total time=  17.3s\n",
      "[CV] END bootstrap=True, max_depth=9, max_features=None, max_leaf_nodes=6, min_samples_split=2, n_estimators=40; total time=  16.0s\n",
      "[CV] END bootstrap=True, max_depth=6, max_features=sqrt, max_leaf_nodes=6, min_samples_split=2, n_estimators=80; total time=   1.9s\n",
      "[CV] END bootstrap=True, max_depth=6, max_features=sqrt, max_leaf_nodes=6, min_samples_split=2, n_estimators=80; total time=   1.6s\n",
      "[CV] END bootstrap=True, max_depth=9, max_features=sqrt, max_leaf_nodes=6, min_samples_split=5, n_estimators=80; total time=   1.5s\n",
      "[CV] END bootstrap=True, max_depth=9, max_features=sqrt, max_leaf_nodes=6, min_samples_split=5, n_estimators=80; total time=   1.6s\n",
      "[CV] END bootstrap=False, max_depth=3, max_features=sqrt, max_leaf_nodes=3, min_samples_split=5, n_estimators=25; total time=   0.6s\n",
      "[CV] END bootstrap=False, max_depth=3, max_features=sqrt, max_leaf_nodes=3, min_samples_split=5, n_estimators=25; total time=   0.6s\n",
      "[CV] END bootstrap=False, max_depth=3, max_features=log2, max_leaf_nodes=6, min_samples_split=2, n_estimators=25; total time=   0.3s\n",
      "[CV] END bootstrap=True, max_depth=3, max_features=sqrt, max_leaf_nodes=3, min_samples_split=5, n_estimators=90; total time=   1.2s\n",
      "[CV] END bootstrap=False, max_depth=9, max_features=sqrt, max_leaf_nodes=3, min_samples_split=2, n_estimators=100; total time=   1.8s\n",
      "[CV] END bootstrap=False, max_depth=9, max_features=sqrt, max_leaf_nodes=3, min_samples_split=2, n_estimators=100; total time=   2.0s\n",
      "[CV] END bootstrap=False, max_depth=6, max_features=log2, max_leaf_nodes=6, min_samples_split=5, n_estimators=90; total time=   1.2s\n",
      "[CV] END bootstrap=False, max_depth=6, max_features=log2, max_leaf_nodes=6, min_samples_split=5, n_estimators=90; total time=   0.9s\n",
      "[CV] END bootstrap=True, max_depth=9, max_features=sqrt, max_leaf_nodes=6, min_samples_split=2, n_estimators=80; total time=   1.5s\n",
      "[CV] END bootstrap=True, max_depth=9, max_features=sqrt, max_leaf_nodes=6, min_samples_split=2, n_estimators=80; total time=   1.7s\n",
      "[CV] END bootstrap=True, max_depth=6, max_features=sqrt, max_leaf_nodes=3, min_samples_split=5, n_estimators=100; total time=   1.3s*** Model: 5-12_9\n",
      "\n",
      "Fitting 2 folds for each of 10 candidates, totalling 20 fits\n",
      "*** Model: 5-12_10\n",
      "\n",
      "Fitting 2 folds for each of 10 candidates, totalling 20 fits\n",
      "[CV] END bootstrap=True, max_depth=9, max_features=None, max_leaf_nodes=6, min_samples_split=5, n_estimators=60; total time=  14.8s\n",
      "[CV] END bootstrap=True, max_depth=9, max_features=sqrt, max_leaf_nodes=9, min_samples_split=2, n_estimators=90; total time=   1.7s\n",
      "[CV] END bootstrap=True, max_depth=9, max_features=sqrt, max_leaf_nodes=9, min_samples_split=2, n_estimators=90; total time=   1.7s\n",
      "[CV] END bootstrap=True, max_depth=3, max_features=sqrt, max_leaf_nodes=3, min_samples_split=2, n_estimators=100; total time=   1.2s\n",
      "[CV] END bootstrap=False, max_depth=9, max_features=sqrt, max_leaf_nodes=6, min_samples_split=5, n_estimators=40; total time=   1.0s\n",
      "[CV] END bootstrap=False, max_depth=6, max_features=None, max_leaf_nodes=6, min_samples_split=5, n_estimators=60; total time=  28.8s\n",
      "[CV] END bootstrap=True, max_depth=9, max_features=None, max_leaf_nodes=9, min_samples_split=2, n_estimators=90; total time=  52.8s\n",
      "[CV] END bootstrap=False, max_depth=3, max_features=None, max_leaf_nodes=9, min_samples_split=2, n_estimators=80; total time=  29.5s\n",
      "[CV] END bootstrap=False, max_depth=3, max_features=None, max_leaf_nodes=9, min_samples_split=2, n_estimators=80; total time=  28.1s\n",
      "[CV] END bootstrap=False, max_depth=9, max_features=sqrt, max_leaf_nodes=9, min_samples_split=2, n_estimators=40; total time=   0.9s\n",
      "[CV] END bootstrap=False, max_depth=9, max_features=sqrt, max_leaf_nodes=9, min_samples_split=2, n_estimators=40; total time=   0.9s\n",
      "[CV] END bootstrap=False, max_depth=6, max_features=log2, max_leaf_nodes=9, min_samples_split=5, n_estimators=40; total time=   0.5s\n",
      "[CV] END bootstrap=False, max_depth=6, max_features=sqrt, max_leaf_nodes=3, min_samples_split=5, n_estimators=100; total time=   1.8s\n",
      "[CV] END bootstrap=False, max_depth=3, max_features=sqrt, max_leaf_nodes=6, min_samples_split=2, n_estimators=25; total time=   0.5s\n",
      "[CV] END bootstrap=False, max_depth=9, max_features=None, max_leaf_nodes=6, min_samples_split=5, n_estimators=60; total time=  17.7s\n",
      "[CV] END bootstrap=True, max_depth=3, max_features=None, max_leaf_nodes=6, min_samples_split=5, n_estimators=90; total time=  15.0s\n",
      "[CV] END bootstrap=True, max_depth=9, max_features=sqrt, max_leaf_nodes=9, min_samples_split=5, n_estimators=80; total time=   1.6s\n",
      "[CV] END bootstrap=True, max_depth=3, max_features=sqrt, max_leaf_nodes=3, min_samples_split=2, n_estimators=25; total time=   0.3s\n",
      "[CV] END bootstrap=True, max_depth=3, max_features=sqrt, max_leaf_nodes=9, min_samples_split=5, n_estimators=25; total time=   0.3s\n",
      "[CV] END bootstrap=True, max_depth=9, max_features=None, max_leaf_nodes=3, min_samples_split=2, n_estimators=90; total time=  24.5s\n",
      "[CV] END bootstrap=False, max_depth=9, max_features=log2, max_leaf_nodes=3, min_samples_split=5, n_estimators=100; total time=   0.9s\n",
      "[CV] END bootstrap=False, max_depth=9, max_features=log2, max_leaf_nodes=3, min_samples_split=5, n_estimators=100; total time=   1.0s\n",
      "[CV] END bootstrap=True, max_depth=9, max_features=None, max_leaf_nodes=3, min_samples_split=2, n_estimators=60; total time=  15.9s\n",
      "[CV] END bootstrap=False, max_depth=3, max_features=None, max_leaf_nodes=9, min_samples_split=5, n_estimators=100; total time=  37.0s\n",
      "[CV] END bootstrap=False, max_depth=6, max_features=sqrt, max_leaf_nodes=6, min_samples_split=5, n_estimators=25; total time=   0.8s\n",
      "[CV] END bootstrap=False, max_depth=6, max_features=sqrt, max_leaf_nodes=3, min_samples_split=5, n_estimators=100; total time=   1.9s\n",
      "[CV] END bootstrap=True, max_depth=9, max_features=None, max_leaf_nodes=3, min_samples_split=2, n_estimators=80; total time=  21.9s\n",
      "[CV] END bootstrap=False, max_depth=9, max_features=None, max_leaf_nodes=9, min_samples_split=5, n_estimators=100; total time=  55.7s\n",
      "[CV] END bootstrap=True, max_depth=6, max_features=sqrt, max_leaf_nodes=6, min_samples_split=2, n_estimators=40; total time=   0.6s\n",
      "[CV] END bootstrap=True, max_depth=6, max_features=sqrt, max_leaf_nodes=6, min_samples_split=2, n_estimators=40; total time=   0.7s\n",
      "[CV] END bootstrap=False, max_depth=9, max_features=sqrt, max_leaf_nodes=3, min_samples_split=5, n_estimators=100; total time=   1.6s\n",
      "[CV] END bootstrap=False, max_depth=9, max_features=sqrt, max_leaf_nodes=3, min_samples_split=5, n_estimators=100; total time=   2.0s\n",
      "[CV] END bootstrap=True, max_depth=3, max_features=None, max_leaf_nodes=3, min_samples_split=5, n_estimators=60; total time=  15.7s\n",
      "[CV] END bootstrap=False, max_depth=9, max_features=None, max_leaf_nodes=3, min_samples_split=5, n_estimators=60; total time=  22.8s\n",
      "[CV] END bootstrap=True, max_depth=9, max_features=None, max_leaf_nodes=9, min_samples_split=2, n_estimators=40; total time=  15.1s\n",
      "[CV] END bootstrap=False, max_depth=3, max_features=None, max_leaf_nodes=9, min_samples_split=2, n_estimators=80; total time=  41.2s\n",
      "[CV] END bootstrap=True, max_depth=9, max_features=log2, max_leaf_nodes=9, min_samples_split=2, n_estimators=90; total time=   1.0s\n",
      "[CV] END bootstrap=False, max_depth=6, max_features=sqrt, max_leaf_nodes=6, min_samples_split=5, n_estimators=90; total time=   2.1s\n",
      "[CV] END bootstrap=True, max_depth=9, max_features=log2, max_leaf_nodes=6, min_samples_split=5, n_estimators=80; total time=   0.8s\n",
      "[CV] END bootstrap=True, max_depth=9, max_features=log2, max_leaf_nodes=6, min_samples_split=5, n_estimators=80; total time=   0.8s\n",
      "[CV] END bootstrap=False, max_depth=6, max_features=None, max_leaf_nodes=6, min_samples_split=5, n_estimators=100; total time=  47.9s\n",
      "[CV] END bootstrap=True, max_depth=9, max_features=None, max_leaf_nodes=3, min_samples_split=2, n_estimators=80; total time=  22.3s\n",
      "[CV] END bootstrap=False, max_depth=3, max_features=None, max_leaf_nodes=9, min_samples_split=5, n_estimators=40; total time=  21.8s\n",
      "[CV] END bootstrap=False, max_depth=3, max_features=None, max_leaf_nodes=6, min_samples_split=2, n_estimators=100; total time=  50.0s\n",
      "[CV] END bootstrap=False, max_depth=3, max_features=log2, max_leaf_nodes=6, min_samples_split=2, n_estimators=25; total time=   0.3s\n",
      "[CV] END bootstrap=False, max_depth=6, max_features=None, max_leaf_nodes=9, min_samples_split=5, n_estimators=60; total time=  38.5s\n",
      "[CV] END bootstrap=False, max_depth=3, max_features=None, max_leaf_nodes=9, min_samples_split=5, n_estimators=60; total time=  21.8s\n",
      "[CV] END bootstrap=False, max_depth=9, max_features=log2, max_leaf_nodes=9, min_samples_split=5, n_estimators=80; total time=   1.2s\n",
      "[CV] END bootstrap=False, max_depth=3, max_features=None, max_leaf_nodes=3, min_samples_split=5, n_estimators=60; total time=  26.1s\n",
      "[CV] END bootstrap=False, max_depth=6, max_features=None, max_leaf_nodes=3, min_samples_split=5, n_estimators=100; total time=  30.1s\n",
      "[CV] END bootstrap=True, max_depth=6, max_features=sqrt, max_leaf_nodes=6, min_samples_split=5, n_estimators=25; total time=   0.5s\n",
      "[CV] END bootstrap=True, max_depth=6, max_features=sqrt, max_leaf_nodes=6, min_samples_split=5, n_estimators=25; total time=   0.5s\n",
      "[CV] END bootstrap=True, max_depth=9, max_features=log2, max_leaf_nodes=3, min_samples_split=2, n_estimators=60; total time=   0.5s\n",
      "[CV] END bootstrap=True, max_depth=9, max_features=log2, max_leaf_nodes=3, min_samples_split=2, n_estimators=60; total time=   0.6s\n",
      "[CV] END bootstrap=True, max_depth=6, max_features=log2, max_leaf_nodes=9, min_samples_split=5, n_estimators=80; total time=   0.8s\n",
      "[CV] END bootstrap=True, max_depth=6, max_features=log2, max_leaf_nodes=9, min_samples_split=5, n_estimators=80; total time=   0.7s\n",
      "[CV] END bootstrap=False, max_depth=6, max_features=sqrt, max_leaf_nodes=9, min_samples_split=5, n_estimators=40; total time=   1.5s\n",
      "[CV] END bootstrap=False, max_depth=6, max_features=sqrt, max_leaf_nodes=9, min_samples_split=5, n_estimators=40; total time=   1.2s\n",
      "[CV] END bootstrap=True, max_depth=3, max_features=None, max_leaf_nodes=3, min_samples_split=5, n_estimators=60; total time=  16.9s\n",
      "[CV] END bootstrap=True, max_depth=3, max_features=None, max_leaf_nodes=3, min_samples_split=5, n_estimators=60; total time=  17.0s\n",
      "[CV] END bootstrap=False, max_depth=6, max_features=None, max_leaf_nodes=3, min_samples_split=2, n_estimators=40; total time=  18.0s\n",
      "[CV] END bootstrap=False, max_depth=6, max_features=None, max_leaf_nodes=3, min_samples_split=2, n_estimators=40; total time=  19.2s*** Model: 5-12_11\n",
      "\n",
      "Fitting 2 folds for each of 10 candidates, totalling 20 fits\n",
      "*** Model: 5-12_12\n",
      "\n",
      "Fitting 2 folds for each of 10 candidates, totalling 20 fits\n",
      "*** Model: 5-12_13\n",
      "\n",
      "Fitting 2 folds for each of 10 candidates, totalling 20 fits\n",
      "*** Model: 13-22_14\n",
      "\n",
      "Fitting 2 folds for each of 10 candidates, totalling 20 fits\n",
      "*** Model: 13-22_15\n",
      "\n",
      "Fitting 2 folds for each of 10 candidates, totalling 20 fits\n",
      "\n",
      "[CV] END bootstrap=False, max_depth=3, max_features=None, max_leaf_nodes=6, min_samples_split=2, n_estimators=100; total time=  48.5s\n",
      "[CV] END bootstrap=True, max_depth=3, max_features=sqrt, max_leaf_nodes=3, min_samples_split=5, n_estimators=90; total time=   1.3s\n",
      "[CV] END bootstrap=False, max_depth=6, max_features=None, max_leaf_nodes=9, min_samples_split=5, n_estimators=60; total time=  41.4s\n",
      "[CV] END bootstrap=True, max_depth=6, max_features=log2, max_leaf_nodes=9, min_samples_split=5, n_estimators=80; total time=   0.8s\n",
      "[CV] END bootstrap=False, max_depth=3, max_features=None, max_leaf_nodes=3, min_samples_split=5, n_estimators=60; total time=  26.6s\n",
      "[CV] END bootstrap=False, max_depth=3, max_features=log2, max_leaf_nodes=9, min_samples_split=5, n_estimators=80; total time=   0.6s\n",
      "[CV] END bootstrap=False, max_depth=3, max_features=log2, max_leaf_nodes=9, min_samples_split=5, n_estimators=80; total time=   0.6s\n",
      "[CV] END bootstrap=True, max_depth=3, max_features=log2, max_leaf_nodes=3, min_samples_split=5, n_estimators=80; total time=   0.7s\n",
      "[CV] END bootstrap=True, max_depth=3, max_features=log2, max_leaf_nodes=3, min_samples_split=5, n_estimators=80; total time=   0.7s\n",
      "[CV] END bootstrap=True, max_depth=3, max_features=log2, max_leaf_nodes=9, min_samples_split=5, n_estimators=40; total time=   0.4s\n",
      "[CV] END bootstrap=True, max_depth=3, max_features=log2, max_leaf_nodes=9, min_samples_split=5, n_estimators=40; total time=   0.4s\n",
      "[CV] END bootstrap=False, max_depth=3, max_features=log2, max_leaf_nodes=3, min_samples_split=5, n_estimators=90; total time=   0.7s\n",
      "[CV] END bootstrap=False, max_depth=3, max_features=log2, max_leaf_nodes=3, min_samples_split=5, n_estimators=90; total time=   1.0s\n",
      "[CV] END bootstrap=False, max_depth=3, max_features=log2, max_leaf_nodes=3, min_samples_split=5, n_estimators=25; total time=   0.3s\n",
      "[CV] END bootstrap=False, max_depth=3, max_features=log2, max_leaf_nodes=3, min_samples_split=5, n_estimators=25; total time=   0.2s\n",
      "[CV] END bootstrap=True, max_depth=9, max_features=sqrt, max_leaf_nodes=6, min_samples_split=2, n_estimators=25; total time=   0.6s\n",
      "[CV] END bootstrap=True, max_depth=9, max_features=sqrt, max_leaf_nodes=6, min_samples_split=2, n_estimators=25; total time=   0.5s\n",
      "[CV] END bootstrap=False, max_depth=6, max_features=None, max_leaf_nodes=9, min_samples_split=5, n_estimators=100; total time= 1.2min\n",
      "[CV] END bootstrap=False, max_depth=6, max_features=None, max_leaf_nodes=3, min_samples_split=2, n_estimators=25; total time=  11.0s\n",
      "[CV] END bootstrap=True, max_depth=3, max_features=None, max_leaf_nodes=3, min_samples_split=2, n_estimators=40; total time=  10.2s\n",
      "[CV] END bootstrap=False, max_depth=3, max_features=log2, max_leaf_nodes=9, min_samples_split=2, n_estimators=80; total time=   0.9s\n",
      "[CV] END bootstrap=False, max_depth=3, max_features=log2, max_leaf_nodes=9, min_samples_split=2, n_estimators=80; total time=   0.7s\n",
      "[CV] END bootstrap=True, max_depth=3, max_features=log2, max_leaf_nodes=9, min_samples_split=2, n_estimators=100; total time=   0.9s\n",
      "[CV] END bootstrap=True, max_depth=3, max_features=log2, max_leaf_nodes=9, min_samples_split=2, n_estimators=100; total time=   0.9s\n",
      "[CV] END bootstrap=True, max_depth=6, max_features=log2, max_leaf_nodes=9, min_samples_split=5, n_estimators=90; total time=   0.9s\n",
      "[CV] END bootstrap=True, max_depth=6, max_features=log2, max_leaf_nodes=9, min_samples_split=5, n_estimators=90; total time=   1.1s\n",
      "[CV] END bootstrap=True, max_depth=3, max_features=log2, max_leaf_nodes=6, min_samples_split=5, n_estimators=40; total time=   0.3s\n",
      "[CV] END bootstrap=True, max_depth=3, max_features=log2, max_leaf_nodes=6, min_samples_split=5, n_estimators=40; total time=   0.3s\n",
      "[CV] END bootstrap=True, max_depth=9, max_features=sqrt, max_leaf_nodes=3, min_samples_split=2, n_estimators=60; total time=   0.7s\n",
      "[CV] END bootstrap=True, max_depth=9, max_features=sqrt, max_leaf_nodes=3, min_samples_split=2, n_estimators=60; total time=   1.0s\n",
      "[CV] END bootstrap=False, max_depth=3, max_features=sqrt, max_leaf_nodes=6, min_samples_split=5, n_estimators=40; total time=   1.0s\n",
      "[CV] END bootstrap=False, max_depth=3, max_features=sqrt, max_leaf_nodes=6, min_samples_split=5, n_estimators=40; total time=   1.1s\n",
      "[CV] END bootstrap=True, max_depth=9, max_features=None, max_leaf_nodes=3, min_samples_split=5, n_estimators=25; total time=   6.7s\n",
      "[CV] END bootstrap=True, max_depth=9, max_features=None, max_leaf_nodes=3, min_samples_split=5, n_estimators=25; total time=   6.6s\n",
      "[CV] END bootstrap=True, max_depth=3, max_features=log2, max_leaf_nodes=3, min_samples_split=5, n_estimators=40; total time=   0.3s\n",
      "[CV] END bootstrap=True, max_depth=3, max_features=log2, max_leaf_nodes=3, min_samples_split=5, n_estimators=40; total time=   0.3s\n",
      "[CV] END bootstrap=True, max_depth=6, max_features=log2, max_leaf_nodes=3, min_samples_split=5, n_estimators=90; total time=   0.7s\n",
      "[CV] END bootstrap=True, max_depth=6, max_features=log2, max_leaf_nodes=3, min_samples_split=5, n_estimators=90; total time=   0.8s\n",
      "[CV] END bootstrap=True, max_depth=9, max_features=sqrt, max_leaf_nodes=9, min_samples_split=5, n_estimators=25; total time=   0.6s\n",
      "[CV] END bootstrap=True, max_depth=9, max_features=log2, max_leaf_nodes=6, min_samples_split=2, n_estimators=100; total time=   1.0s\n",
      "[CV] END bootstrap=True, max_depth=9, max_features=sqrt, max_leaf_nodes=6, min_samples_split=2, n_estimators=40; total time=   0.9s\n",
      "[CV] END bootstrap=True, max_depth=9, max_features=sqrt, max_leaf_nodes=6, min_samples_split=2, n_estimators=40; total time=   0.9s\n",
      "[CV] END bootstrap=False, max_depth=6, max_features=sqrt, max_leaf_nodes=6, min_samples_split=2, n_estimators=100; total time=   2.7s\n",
      "[CV] END bootstrap=False, max_depth=6, max_features=sqrt, max_leaf_nodes=6, min_samples_split=2, n_estimators=100; total time=   2.5s\n",
      "[CV] END bootstrap=False, max_depth=3, max_features=log2, max_leaf_nodes=3, min_samples_split=2, n_estimators=90; total time=   0.8s\n",
      "[CV] END bootstrap=False, max_depth=3, max_features=log2, max_leaf_nodes=3, min_samples_split=2, n_estimators=90; total time=   0.7s\n",
      "[CV] END bootstrap=False, max_depth=3, max_features=None, max_leaf_nodes=9, min_samples_split=5, n_estimators=100; total time=  40.6s\n",
      "[CV] END bootstrap=True, max_depth=3, max_features=None, max_leaf_nodes=3, min_samples_split=5, n_estimators=25; total time=   8.3s\n",
      "[CV] END bootstrap=False, max_depth=6, max_features=log2, max_leaf_nodes=6, min_samples_split=2, n_estimators=25; total time=   0.3s\n",
      "[CV] END bootstrap=False, max_depth=6, max_features=log2, max_leaf_nodes=6, min_samples_split=2, n_estimators=25; total time=   0.4s\n",
      "[CV] END bootstrap=True, max_depth=9, max_features=None, max_leaf_nodes=3, min_samples_split=5, n_estimators=25; total time=   8.7s\n",
      "[CV] END bootstrap=True, max_depth=9, max_features=None, max_leaf_nodes=3, min_samples_split=5, n_estimators=25; total time=   8.2s\n",
      "[CV] END bootstrap=False, max_depth=3, max_features=None, max_leaf_nodes=3, min_samples_split=5, n_estimators=90; total time=  45.6s\n",
      "[CV] END bootstrap=False, max_depth=3, max_features=log2, max_leaf_nodes=6, min_samples_split=5, n_estimators=80; total time=   0.7s\n",
      "[CV] END bootstrap=True, max_depth=6, max_features=sqrt, max_leaf_nodes=6, min_samples_split=5, n_estimators=60; total time=   1.3s\n",
      "[CV] END bootstrap=False, max_depth=9, max_features=sqrt, max_leaf_nodes=3, min_samples_split=5, n_estimators=40; total time=   0.8s\n",
      "[CV] END bootstrap=True, max_depth=6, max_features=sqrt, max_leaf_nodes=9, min_samples_split=2, n_estimators=60; total time=   1.4s\n",
      "[CV] END bootstrap=False, max_depth=9, max_features=sqrt, max_leaf_nodes=3, min_samples_split=5, n_estimators=100; total time=   2.3s\n",
      "[CV] END bootstrap=True, max_depth=3, max_features=sqrt, max_leaf_nodes=6, min_samples_split=5, n_estimators=100; total time=   1.6s\n",
      "[CV] END bootstrap=True, max_depth=6, max_features=None, max_leaf_nodes=3, min_samples_split=2, n_estimators=60; total time=  20.0s\n",
      "[CV] END bootstrap=False, max_depth=6, max_features=None, max_leaf_nodes=6, min_samples_split=5, n_estimators=60; total time=  43.8s\n",
      "[CV] END bootstrap=False, max_depth=3, max_features=log2, max_leaf_nodes=3, min_samples_split=2, n_estimators=90; total time=   0.8s*** Model: 13-22_16\n",
      "\n",
      "Fitting 2 folds for each of 10 candidates, totalling 20 fits\n",
      "*** Model: 13-22_17\n",
      "\n",
      "Fitting 2 folds for each of 10 candidates, totalling 20 fits\n",
      "*** Model: 13-22_18\n",
      "\n",
      "\n",
      "CPU times: user 3min, sys: 736 ms, total: 3min 1s\n",
      "Wall time: 26min 18s\n"
     ]
    }
   ],
   "source": [
    "%%time\n",
    "\n",
    "rf_best_params = []\n",
    "\n",
    "# ITERATE THRU QUESTIONS 1 THRU 18\n",
    "for t in range(1,19):\n",
    "#for t in range(1,2):           \n",
    "    if t<=3: \n",
    "        grp = '0-4'\n",
    "        df = df1_split\n",
    "        FEATURES = FEATURES1\n",
    "\n",
    "    elif t<=13: \n",
    "        grp = '5-12'\n",
    "        df = df2_split\n",
    "        FEATURES = FEATURES2\n",
    "\n",
    "    elif t<=22: \n",
    "        grp = '13-22'\n",
    "        df = df3_split\n",
    "        FEATURES = FEATURES3\n",
    "            \n",
    "    # TRAIN DATA\n",
    "    train_x = df\n",
    "    #train_x = train_x.loc[train_x.level_group == grp]\n",
    "    train_users = train_x.index.values\n",
    "    train_y = targets.loc[targets.q==t].set_index('session').loc[train_users]\n",
    "             \n",
    "    # TRAIN MODEL\n",
    "    grid_search.fit(train_x[FEATURES].astype('float32'), train_y['correct'])\n",
    "    print(f'*** Model: {grp}_{t}')\n",
    "    print()\n",
    "    #print(grid_search.best_estimator_)\n",
    "    rf_best_params.append(grid_search.best_params_)\n",
    "        \n",
    "print()"
   ]
  },
  {
   "cell_type": "code",
   "execution_count": 47,
   "id": "a7726a8a",
   "metadata": {
    "execution": {
     "iopub.execute_input": "2023-04-17T03:47:32.878814Z",
     "iopub.status.busy": "2023-04-17T03:47:32.877923Z",
     "iopub.status.idle": "2023-04-17T03:47:32.885590Z",
     "shell.execute_reply": "2023-04-17T03:47:32.884308Z"
    },
    "papermill": {
     "duration": 0.037792,
     "end_time": "2023-04-17T03:47:32.888086",
     "exception": false,
     "start_time": "2023-04-17T03:47:32.850294",
     "status": "completed"
    },
    "tags": []
   },
   "outputs": [
    {
     "name": "stdout",
     "output_type": "stream",
     "text": [
      "Model:  1   {'n_estimators': 60, 'min_samples_split': 5, 'max_leaf_nodes': 6, 'max_features': None, 'max_depth': 9, 'bootstrap': True}\n",
      "Model:  2   {'n_estimators': 40, 'min_samples_split': 2, 'max_leaf_nodes': 6, 'max_features': 'log2', 'max_depth': 9, 'bootstrap': True}\n",
      "Model:  3   {'n_estimators': 40, 'min_samples_split': 5, 'max_leaf_nodes': 9, 'max_features': 'log2', 'max_depth': 6, 'bootstrap': False}\n",
      "Model:  4   {'n_estimators': 60, 'min_samples_split': 2, 'max_leaf_nodes': 6, 'max_features': None, 'max_depth': 6, 'bootstrap': True}\n",
      "Model:  5   {'n_estimators': 80, 'min_samples_split': 5, 'max_leaf_nodes': 9, 'max_features': 'log2', 'max_depth': 6, 'bootstrap': False}\n",
      "Model:  6   {'n_estimators': 40, 'min_samples_split': 2, 'max_leaf_nodes': 9, 'max_features': None, 'max_depth': 9, 'bootstrap': True}\n",
      "Model:  7   {'n_estimators': 80, 'min_samples_split': 2, 'max_leaf_nodes': 9, 'max_features': None, 'max_depth': 9, 'bootstrap': True}\n",
      "Model:  8   {'n_estimators': 40, 'min_samples_split': 2, 'max_leaf_nodes': 6, 'max_features': None, 'max_depth': 9, 'bootstrap': True}\n",
      "Model:  9   {'n_estimators': 80, 'min_samples_split': 2, 'max_leaf_nodes': 6, 'max_features': 'sqrt', 'max_depth': 9, 'bootstrap': True}\n",
      "Model:  10   {'n_estimators': 80, 'min_samples_split': 5, 'max_leaf_nodes': 9, 'max_features': 'log2', 'max_depth': 3, 'bootstrap': False}\n",
      "Model:  11   {'n_estimators': 40, 'min_samples_split': 2, 'max_leaf_nodes': 3, 'max_features': None, 'max_depth': 3, 'bootstrap': True}\n",
      "Model:  12   {'n_estimators': 90, 'min_samples_split': 5, 'max_leaf_nodes': 9, 'max_features': 'log2', 'max_depth': 6, 'bootstrap': True}\n",
      "Model:  13   {'n_estimators': 25, 'min_samples_split': 5, 'max_leaf_nodes': 9, 'max_features': 'sqrt', 'max_depth': 9, 'bootstrap': True}\n",
      "Model:  14   {'n_estimators': 25, 'min_samples_split': 5, 'max_leaf_nodes': 3, 'max_features': None, 'max_depth': 9, 'bootstrap': True}\n",
      "Model:  15   {'n_estimators': 100, 'min_samples_split': 5, 'max_leaf_nodes': 9, 'max_features': 'log2', 'max_depth': 3, 'bootstrap': True}\n",
      "Model:  16   {'n_estimators': 40, 'min_samples_split': 5, 'max_leaf_nodes': 9, 'max_features': 'sqrt', 'max_depth': 6, 'bootstrap': False}\n",
      "Model:  17   {'n_estimators': 40, 'min_samples_split': 2, 'max_leaf_nodes': 6, 'max_features': 'sqrt', 'max_depth': 3, 'bootstrap': True}\n",
      "Model:  18   {'n_estimators': 90, 'min_samples_split': 5, 'max_leaf_nodes': 9, 'max_features': 'log2', 'max_depth': 3, 'bootstrap': True}\n"
     ]
    }
   ],
   "source": [
    "for i in range(len(rf_best_params)):    \n",
    "    print(\"Model: \",i+1,\" \",rf_best_params[i])"
   ]
  },
  {
   "cell_type": "code",
   "execution_count": 48,
   "id": "9dc3fb78",
   "metadata": {
    "execution": {
     "iopub.execute_input": "2023-04-17T03:47:32.938864Z",
     "iopub.status.busy": "2023-04-17T03:47:32.937945Z",
     "iopub.status.idle": "2023-04-17T03:47:33.165157Z",
     "shell.execute_reply": "2023-04-17T03:47:33.164231Z"
    },
    "papermill": {
     "duration": 0.255658,
     "end_time": "2023-04-17T03:47:33.167606",
     "exception": false,
     "start_time": "2023-04-17T03:47:32.911948",
     "status": "completed"
    },
    "tags": []
   },
   "outputs": [
    {
     "data": {
      "text/plain": [
       "402"
      ]
     },
     "execution_count": 48,
     "metadata": {},
     "output_type": "execute_result"
    }
   ],
   "source": [
    "del df1_split\n",
    "del df2_split\n",
    "del df3_split\n",
    "gc.collect()"
   ]
  },
  {
   "cell_type": "markdown",
   "id": "18582a94",
   "metadata": {
    "papermill": {
     "duration": 0.024254,
     "end_time": "2023-04-17T03:47:33.216565",
     "exception": false,
     "start_time": "2023-04-17T03:47:33.192311",
     "status": "completed"
    },
    "tags": []
   },
   "source": [
    "# Train Random Forest"
   ]
  },
  {
   "cell_type": "markdown",
   "id": "2b327877",
   "metadata": {
    "papermill": {
     "duration": 0.12604,
     "end_time": "2023-04-17T03:47:33.366680",
     "exception": false,
     "start_time": "2023-04-17T03:47:33.240640",
     "status": "completed"
    },
    "tags": []
   },
   "source": [
    "## Questions 1 to 3"
   ]
  },
  {
   "cell_type": "code",
   "execution_count": 49,
   "id": "677a47ac",
   "metadata": {
    "execution": {
     "iopub.execute_input": "2023-04-17T03:47:33.417741Z",
     "iopub.status.busy": "2023-04-17T03:47:33.416762Z",
     "iopub.status.idle": "2023-04-17T03:50:10.783111Z",
     "shell.execute_reply": "2023-04-17T03:50:10.781527Z"
    },
    "papermill": {
     "duration": 157.395251,
     "end_time": "2023-04-17T03:50:10.786061",
     "exception": false,
     "start_time": "2023-04-17T03:47:33.390810",
     "status": "completed"
    },
    "tags": []
   },
   "outputs": [
    {
     "name": "stdout",
     "output_type": "stream",
     "text": [
      "-------------------------\n",
      "--- Fold 1\n",
      "-------------------------\n",
      "Questions: \n",
      "1  - Model Random Forest saved for question 1\n",
      "2  - Model Random Forest saved for question 2\n",
      "3  - Model Random Forest saved for question 3\n",
      "-------------------------\n",
      "--- Fold 2\n",
      "-------------------------\n",
      "Questions: \n",
      "1  - Model Random Forest saved for question 1\n",
      "2  - Model Random Forest saved for question 2\n",
      "3  - Model Random Forest saved for question 3\n",
      "CPU times: user 2min 37s, sys: 143 ms, total: 2min 37s\n",
      "Wall time: 2min 37s\n"
     ]
    }
   ],
   "source": [
    "%%time\n",
    "warnings.filterwarnings(\"ignore\")\n",
    "\n",
    "# COMPUTE CV SCORE WITH 2 GROUP K FOLD\n",
    "for i, (train_index, test_index) in enumerate(gkf.split(X=df1[FEATURES1], groups=df1[FEATURES1].index)):\n",
    "    \n",
    "    print('-'*25)\n",
    "    print('--- Fold',i+1)\n",
    "    print('-'*25)\n",
    "    print('Questions: ')\n",
    "\n",
    "    for t in range(1,4):\n",
    "    #for t in range(1,2):\n",
    "\n",
    "        print(t,' - ',end='')\n",
    "        bp = rf_best_params[t-1]\n",
    "\n",
    "        # USE THIS TRAIN DATA WITH THESE QUESTIONS\n",
    "        if t<=3: \n",
    "            grp = '0-4'\n",
    "            df = df1\n",
    "            FEATURES = FEATURES1\n",
    "\n",
    "        elif t<=13: \n",
    "            grp = '5-12'\n",
    "            df = df2\n",
    "            FEATURES = FEATURES2\n",
    "\n",
    "        elif t<=22: \n",
    "            grp = '13-22'\n",
    "            df = df3\n",
    "            FEATURES = FEATURES3\n",
    "\n",
    "        bp = rf_best_params[t-1]\n",
    "\n",
    "        # TRAIN DATA\n",
    "        train_x = df[FEATURES].iloc[train_index]\n",
    "        train_users = train_x.index.values\n",
    "        train_y = targets.loc[targets.q==t].set_index('session').loc[train_users]\n",
    "\n",
    "        # VALID DATA\n",
    "        valid_x = df[FEATURES].iloc[test_index]\n",
    "        valid_users = valid_x.index.values\n",
    "        valid_y = targets.loc[targets.q==t].set_index('session').loc[valid_users]\n",
    "\n",
    "        # TRAIN MODEL\n",
    "        clf = RandomForestClassifier(n_estimators=bp['n_estimators'],max_depth=bp['max_depth'],min_samples_split=bp['min_samples_split'],\n",
    "                                         max_features=bp['max_features'],max_leaf_nodes=bp['max_leaf_nodes'],bootstrap=bp['bootstrap']) \n",
    "        clf.fit(train_x[FEATURES].astype('float32'), train_y['correct'])\n",
    "\n",
    "        # SAVE MODEL, PREDICT VALID OOF\n",
    "        models[f'{grp}_{t}'] = clf\n",
    "        oof.loc[valid_users, t-1] = clf.predict_proba(valid_x[FEATURES].astype('float32'))[:,1]\n",
    "        print(f'Model Random Forest saved for question {t}')\n",
    "\n"
   ]
  },
  {
   "cell_type": "markdown",
   "id": "cd146982",
   "metadata": {
    "papermill": {
     "duration": 0.024399,
     "end_time": "2023-04-17T03:50:10.835785",
     "exception": false,
     "start_time": "2023-04-17T03:50:10.811386",
     "status": "completed"
    },
    "tags": []
   },
   "source": [
    "## Questions 4 to 13"
   ]
  },
  {
   "cell_type": "code",
   "execution_count": 50,
   "id": "61933249",
   "metadata": {
    "execution": {
     "iopub.execute_input": "2023-04-17T03:50:10.887334Z",
     "iopub.status.busy": "2023-04-17T03:50:10.886484Z",
     "iopub.status.idle": "2023-04-17T04:06:16.494757Z",
     "shell.execute_reply": "2023-04-17T04:06:16.493522Z"
    },
    "papermill": {
     "duration": 965.638535,
     "end_time": "2023-04-17T04:06:16.498978",
     "exception": false,
     "start_time": "2023-04-17T03:50:10.860443",
     "status": "completed"
    },
    "tags": []
   },
   "outputs": [
    {
     "name": "stdout",
     "output_type": "stream",
     "text": [
      "-------------------------\n",
      "--- Fold 1\n",
      "-------------------------\n",
      "Questions: \n",
      "4 , Model Random Forest saved for question 4\n",
      "5 , \n",
      "[CV] END bootstrap=False, max_depth=6, max_features=None, max_leaf_nodes=3, min_samples_split=2, n_estimators=25; total time=  12.2s\n",
      "[CV] END bootstrap=False, max_depth=9, max_features=None, max_leaf_nodes=3, min_samples_split=5, n_estimators=90; total time=  29.8s\n",
      "[CV] END bootstrap=True, max_depth=9, max_features=sqrt, max_leaf_nodes=9, min_samples_split=5, n_estimators=25; total time=   0.6s\n",
      "[CV] END bootstrap=True, max_depth=3, max_features=log2, max_leaf_nodes=9, min_samples_split=2, n_estimators=80; total time=   0.8s\n",
      "[CV] END bootstrap=False, max_depth=9, max_features=None, max_leaf_nodes=9, min_samples_split=2, n_estimators=40; total time=  23.5s\n",
      "[CV] END bootstrap=False, max_depth=3, max_features=None, max_leaf_nodes=9, min_samples_split=5, n_estimators=100; total time=  35.3s\n",
      "[CV] END bootstrap=False, max_depth=3, max_features=None, max_leaf_nodes=6, min_samples_split=2, n_estimators=100; total time= 1.0min\n",
      "[CV] END bootstrap=False, max_depth=3, max_features=None, max_leaf_nodes=3, min_samples_split=5, n_estimators=90; total time=  33.2s\n",
      "[CV] END bootstrap=True, max_depth=3, max_features=log2, max_leaf_nodes=9, min_samples_split=5, n_estimators=100; total time=   0.9s\n",
      "[CV] END bootstrap=True, max_depth=3, max_features=log2, max_leaf_nodes=9, min_samples_split=5, n_estimators=100; total time=   0.7s\n",
      "[CV] END bootstrap=True, max_depth=3, max_features=sqrt, max_leaf_nodes=6, min_samples_split=5, n_estimators=100; total time=   1.5s\n",
      "[CV] END bootstrap=False, max_depth=9, max_features=log2, max_leaf_nodes=6, min_samples_split=5, n_estimators=80; total time=   1.0s\n",
      "[CV] END bootstrap=False, max_depth=6, max_features=None, max_leaf_nodes=6, min_samples_split=5, n_estimators=60; total time=  47.1s\n",
      "[CV] END bootstrap=True, max_depth=3, max_features=None, max_leaf_nodes=6, min_samples_split=5, n_estimators=80; total time=  23.2s\n",
      "[CV] END bootstrap=True, max_depth=6, max_features=sqrt, max_leaf_nodes=3, min_samples_split=2, n_estimators=80; total time=   1.3s\n",
      "[CV] END bootstrap=False, max_depth=6, max_features=None, max_leaf_nodes=3, min_samples_split=5, n_estimators=80; total time=  45.5s\n",
      "[CV] END bootstrap=False, max_depth=6, max_features=sqrt, max_leaf_nodes=9, min_samples_split=5, n_estimators=40; total time=   1.2s\n",
      "[CV] END bootstrap=False, max_depth=6, max_features=sqrt, max_leaf_nodes=9, min_samples_split=5, n_estimators=40; total time=   1.1s\n",
      "[CV] END bootstrap=False, max_depth=6, max_features=log2, max_leaf_nodes=9, min_samples_split=2, n_estimators=60; total time=   0.8s\n",
      "[CV] END bootstrap=False, max_depth=6, max_features=log2, max_leaf_nodes=9, min_samples_split=2, n_estimators=60; total time=   0.8s\n",
      "[CV] END bootstrap=True, max_depth=9, max_features=log2, max_leaf_nodes=3, min_samples_split=2, n_estimators=40; total time=   0.4s\n",
      "[CV] END bootstrap=True, max_depth=9, max_features=log2, max_leaf_nodes=3, min_samples_split=2, n_estimators=40; total time=   0.4s\n",
      "[CV] END bootstrap=False, max_depth=9, max_features=log2, max_leaf_nodes=3, min_samples_split=2, n_estimators=60; total time=   0.5s\n",
      "[CV] END bootstrap=False, max_depth=9, max_features=log2, max_leaf_nodes=3, min_samples_split=2, n_estimators=60; total time=   0.6s\n",
      "[CV] END bootstrap=True, max_depth=9, max_features=sqrt, max_leaf_nodes=3, min_samples_split=2, n_estimators=60; total time=   0.8s\n",
      "[CV] END bootstrap=True, max_depth=9, max_features=sqrt, max_leaf_nodes=3, min_samples_split=2, n_estimators=60; total time=   0.9s\n",
      "[CV] END bootstrap=False, max_depth=6, max_features=log2, max_leaf_nodes=9, min_samples_split=5, n_estimators=40; total time=   0.6s\n",
      "[CV] END bootstrap=False, max_depth=6, max_features=log2, max_leaf_nodes=9, min_samples_split=5, n_estimators=40; total time=   0.6s\n",
      "[CV] END bootstrap=True, max_depth=3, max_features=sqrt, max_leaf_nodes=6, min_samples_split=2, n_estimators=40; total time=   0.7s\n",
      "[CV] END bootstrap=False, max_depth=3, max_features=log2, max_leaf_nodes=6, min_samples_split=5, n_estimators=60; total time=   0.5s\n",
      "[CV] END bootstrap=False, max_depth=9, max_features=sqrt, max_leaf_nodes=3, min_samples_split=2, n_estimators=25; total time=   0.6s\n",
      "[CV] END bootstrap=True, max_depth=6, max_features=log2, max_leaf_nodes=9, min_samples_split=2, n_estimators=40; total time=   0.3s\n",
      "[CV] END bootstrap=True, max_depth=6, max_features=log2, max_leaf_nodes=9, min_samples_split=2, n_estimators=40; total time=   0.4s\n",
      "[CV] END bootstrap=False, max_depth=3, max_features=sqrt, max_leaf_nodes=6, min_samples_split=5, n_estimators=40; total time=   1.0s\n",
      "[CV] END bootstrap=True, max_depth=9, max_features=None, max_leaf_nodes=6, min_samples_split=2, n_estimators=100; total time=  46.3s\n",
      "[CV] END bootstrap=False, max_depth=6, max_features=sqrt, max_leaf_nodes=6, min_samples_split=5, n_estimators=25; total time=   0.6s\n",
      "[CV] END bootstrap=False, max_depth=6, max_features=sqrt, max_leaf_nodes=6, min_samples_split=5, n_estimators=25; total time=   0.6s\n",
      "[CV] END bootstrap=True, max_depth=6, max_features=None, max_leaf_nodes=3, min_samples_split=5, n_estimators=60; total time=  21.2s\n",
      "[CV] END bootstrap=True, max_depth=6, max_features=None, max_leaf_nodes=3, min_samples_split=5, n_estimators=60; total time=  18.7s\n",
      "[CV] END bootstrap=True, max_depth=9, max_features=sqrt, max_leaf_nodes=9, min_samples_split=2, n_estimators=60; total time=   1.7s\n",
      "[CV] END bootstrap=True, max_depth=9, max_features=sqrt, max_leaf_nodes=9, min_samples_split=2, n_estimators=60; total time=   1.3s\n",
      "[CV] END bootstrap=True, max_depth=6, max_features=None, max_leaf_nodes=9, min_samples_split=5, n_estimators=100; total time= 1.2min\n",
      "[CV] END bootstrap=True, max_depth=6, max_features=sqrt, max_leaf_nodes=6, min_samples_split=5, n_estimators=90; total time=   2.0s\n",
      "[CV] END bootstrap=True, max_depth=6, max_features=sqrt, max_leaf_nodes=6, min_samples_split=5, n_estimators=90; total time=   1.5s\n",
      "[CV] END bootstrap=True, max_depth=9, max_features=sqrt, max_leaf_nodes=9, min_samples_split=2, n_estimators=40; total time=   0.9s\n",
      "[CV] END bootstrap=True, max_depth=9, max_features=sqrt, max_leaf_nodes=9, min_samples_split=2, n_estimators=40; total time=   0.9s\n",
      "Model Random Forest saved for question 5\n",
      "6 , \n",
      "[CV] END bootstrap=True, max_depth=6, max_features=sqrt, max_leaf_nodes=3, min_samples_split=5, n_estimators=100; total time=   1.3s\n",
      "[CV] END bootstrap=True, max_depth=9, max_features=None, max_leaf_nodes=3, min_samples_split=5, n_estimators=40; total time=   9.9s\n",
      "[CV] END bootstrap=True, max_depth=9, max_features=None, max_leaf_nodes=3, min_samples_split=5, n_estimators=40; total time=  11.5s\n",
      "[CV] END bootstrap=False, max_depth=6, max_features=sqrt, max_leaf_nodes=3, min_samples_split=5, n_estimators=90; total time=   1.8s\n",
      "[CV] END bootstrap=False, max_depth=6, max_features=sqrt, max_leaf_nodes=3, min_samples_split=5, n_estimators=90; total time=   1.8s\n",
      "[CV] END bootstrap=False, max_depth=3, max_features=None, max_leaf_nodes=9, min_samples_split=5, n_estimators=60; total time=  21.9s\n",
      "[CV] END bootstrap=True, max_depth=6, max_features=log2, max_leaf_nodes=9, min_samples_split=5, n_estimators=80; total time=   0.8s\n",
      "[CV] END bootstrap=False, max_depth=9, max_features=log2, max_leaf_nodes=9, min_samples_split=5, n_estimators=80; total time=   1.1s\n",
      "[CV] END bootstrap=False, max_depth=6, max_features=None, max_leaf_nodes=3, min_samples_split=5, n_estimators=100; total time=  41.2s\n",
      "[CV] END bootstrap=False, max_depth=6, max_features=None, max_leaf_nodes=9, min_samples_split=5, n_estimators=100; total time= 1.3min\n",
      "[CV] END bootstrap=True, max_depth=9, max_features=log2, max_leaf_nodes=6, min_samples_split=5, n_estimators=80; total time=   0.8s\n",
      "[CV] END bootstrap=True, max_depth=9, max_features=log2, max_leaf_nodes=6, min_samples_split=5, n_estimators=80; total time=   0.7s\n",
      "[CV] END bootstrap=True, max_depth=3, max_features=None, max_leaf_nodes=3, min_samples_split=2, n_estimators=40; total time=  10.9s\n",
      "[CV] END bootstrap=False, max_depth=9, max_features=None, max_leaf_nodes=3, min_samples_split=5, n_estimators=90; total time=  30.2s\n",
      "[CV] END bootstrap=True, max_depth=9, max_features=log2, max_leaf_nodes=6, min_samples_split=2, n_estimators=100; total time=   0.8s\n",
      "[CV] END bootstrap=True, max_depth=3, max_features=log2, max_leaf_nodes=9, min_samples_split=2, n_estimators=80; total time=   0.5s\n",
      "[CV] END bootstrap=False, max_depth=9, max_features=None, max_leaf_nodes=9, min_samples_split=2, n_estimators=40; total time=  25.6s\n",
      "[CV] END bootstrap=True, max_depth=3, max_features=sqrt, max_leaf_nodes=6, min_samples_split=2, n_estimators=40; total time=   0.8s\n",
      "[CV] END bootstrap=True, max_depth=3, max_features=sqrt, max_leaf_nodes=6, min_samples_split=2, n_estimators=40; total time=   0.6s\n",
      "[CV] END bootstrap=True, max_depth=3, max_features=log2, max_leaf_nodes=6, min_samples_split=2, n_estimators=40; total time=   0.2s\n",
      "[CV] END bootstrap=True, max_depth=3, max_features=log2, max_leaf_nodes=6, min_samples_split=2, n_estimators=40; total time=   0.3s\n",
      "[CV] END bootstrap=True, max_depth=3, max_features=None, max_leaf_nodes=3, min_samples_split=5, n_estimators=25; total time=   7.9s\n",
      "[CV] END bootstrap=False, max_depth=3, max_features=None, max_leaf_nodes=6, min_samples_split=2, n_estimators=100; total time= 1.0min\n",
      "[CV] END bootstrap=True, max_depth=3, max_features=log2, max_leaf_nodes=9, min_samples_split=2, n_estimators=60; total time=   0.5s\n",
      "[CV] END bootstrap=True, max_depth=3, max_features=log2, max_leaf_nodes=9, min_samples_split=2, n_estimators=60; total time=   0.5s\n",
      "[CV] END bootstrap=False, max_depth=3, max_features=log2, max_leaf_nodes=6, min_samples_split=5, n_estimators=80; total time=   0.8s\n",
      "[CV] END bootstrap=True, max_depth=6, max_features=sqrt, max_leaf_nodes=6, min_samples_split=5, n_estimators=60; total time=   1.3s\n",
      "[CV] END bootstrap=False, max_depth=9, max_features=sqrt, max_leaf_nodes=3, min_samples_split=5, n_estimators=40; total time=   0.9s\n",
      "[CV] END bootstrap=True, max_depth=6, max_features=sqrt, max_leaf_nodes=9, min_samples_split=2, n_estimators=60; total time=   1.3s\n",
      "[CV] END bootstrap=False, max_depth=9, max_features=sqrt, max_leaf_nodes=3, min_samples_split=5, n_estimators=100; total time=   2.4s\n",
      "[CV] END bootstrap=False, max_depth=9, max_features=log2, max_leaf_nodes=6, min_samples_split=5, n_estimators=80; total time=   1.1s\n",
      "[CV] END bootstrap=True, max_depth=9, max_features=log2, max_leaf_nodes=6, min_samples_split=5, n_estimators=25; total time=   0.3s\n",
      "[CV] END bootstrap=True, max_depth=9, max_features=log2, max_leaf_nodes=6, min_samples_split=5, n_estimators=25; total time=   0.3s\n",
      "[CV] END bootstrap=True, max_depth=6, max_features=None, max_leaf_nodes=3, min_samples_split=2, n_estimators=60; total time=  20.8s\n",
      "[CV] END bootstrap=False, max_depth=6, max_features=log2, max_leaf_nodes=6, min_samples_split=2, n_estimators=60; total time=   0.9s\n",
      "[CV] END bootstrap=False, max_depth=6, max_features=log2, max_leaf_nodes=6, min_samples_split=2, n_estimators=60; total time=   0.9s\n",
      "[CV] END bootstrap=True, max_depth=3, max_features=None, max_leaf_nodes=6, min_samples_split=5, n_estimators=80; total time=  29.5s\n",
      "[CV] END bootstrap=False, max_depth=6, max_features=log2, max_leaf_nodes=9, min_samples_split=5, n_estimators=80; total time=   1.0s\n",
      "[CV] END bootstrap=False, max_depth=6, max_features=log2, max_leaf_nodes=9, min_samples_split=5, n_estimators=80; total time=   1.2s\n",
      "[CV] END bootstrap=False, max_depth=3, max_features=log2, max_leaf_nodes=3, min_samples_split=2, n_estimators=90; total time=   0.8s\n",
      "[CV] END bootstrap=False, max_depth=6, max_features=None, max_leaf_nodes=3, min_samples_split=5, n_estimators=80; total time=  39.8s\n",
      "[CV] END bootstrap=False, max_depth=6, max_features=None, max_leaf_nodes=9, min_samples_split=2, n_estimators=100; total time=  53.0s\n",
      "[CV] END bootstrap=True, max_depth=9, max_features=sqrt, max_leaf_nodes=6, min_samples_split=2, n_estimators=25; total time=   0.6s\n",
      "[CV] END bootstrap=True, max_depth=9, max_features=sqrt, max_leaf_nodes=6, min_samples_split=2, n_estimators=25; total time=   0.6s\n",
      "[CV] END bootstrap=False, max_depth=9, max_features=sqrt, max_leaf_nodes=3, min_samples_split=2, n_estimators=25; total time=   0.5s\n",
      "[CV] END bootstrap=False, max_depth=9, max_features=log2, max_leaf_nodes=3, min_samples_split=5, n_estimators=100; total time=   1.1s\n",
      "[CV] END bootstrap=False, max_depth=6, max_features=sqrt, max_leaf_nodes=9, min_samples_split=5, n_estimators=40; total time=   1.3s\n",
      "[CV] END bootstrap=True, max_depth=9, max_features=None, max_leaf_nodes=6, min_samples_split=2, n_estimators=100; total time=  44.6s\n",
      "[CV] END bootstrap=True, max_depth=3, max_features=log2, max_leaf_nodes=9, min_samples_split=5, n_estimators=90; total time=   0.7s\n",
      "[CV] END bootstrap=True, max_depth=9, max_features=None, max_leaf_nodes=9, min_samples_split=2, n_estimators=90; total time= 1.3min\n",
      "[CV] END bootstrap=True, max_depth=6, max_features=log2, max_leaf_nodes=6, min_samples_split=5, n_estimators=90; total time=   0.7s\n",
      "[CV] END bootstrap=True, max_depth=6, max_features=log2, max_leaf_nodes=6, min_samples_split=5, n_estimators=90; total time=   0.6s\n",
      "[CV] END bootstrap=False, max_depth=6, max_features=None, max_leaf_nodes=9, min_samples_split=2, n_estimators=80; total time= 1.2min\n",
      "\n",
      "[CV] END bootstrap=True, max_depth=6, max_features=sqrt, max_leaf_nodes=3, min_samples_split=2, n_estimators=80; total time=   1.3s\n",
      "[CV] END bootstrap=False, max_depth=6, max_features=None, max_leaf_nodes=9, min_samples_split=2, n_estimators=100; total time= 1.1min\n",
      "[CV] END bootstrap=True, max_depth=3, max_features=sqrt, max_leaf_nodes=6, min_samples_split=2, n_estimators=40; total time=   0.7s\n",
      "[CV] END bootstrap=False, max_depth=3, max_features=log2, max_leaf_nodes=6, min_samples_split=5, n_estimators=60; total time=   0.7s\n",
      "[CV] END bootstrap=False, max_depth=9, max_features=log2, max_leaf_nodes=3, min_samples_split=5, n_estimators=100; total time=   1.0s\n",
      "[CV] END bootstrap=False, max_depth=3, max_features=sqrt, max_leaf_nodes=6, min_samples_split=5, n_estimators=40; total time=   1.0s\n",
      "[CV] END bootstrap=False, max_depth=6, max_features=sqrt, max_leaf_nodes=9, min_samples_split=5, n_estimators=40; total time=   1.2s\n",
      "[CV] END bootstrap=True, max_depth=3, max_features=None, max_leaf_nodes=3, min_samples_split=2, n_estimators=60; total time=  20.8s\n",
      "[CV] END bootstrap=True, max_depth=3, max_features=None, max_leaf_nodes=3, min_samples_split=2, n_estimators=60; total time=  19.6s\n",
      "[CV] END bootstrap=True, max_depth=3, max_features=log2, max_leaf_nodes=9, min_samples_split=5, n_estimators=90; total time=   0.8s\n",
      "[CV] END bootstrap=True, max_depth=9, max_features=None, max_leaf_nodes=9, min_samples_split=2, n_estimators=90; total time=  53.5s\n",
      "[CV] END bootstrap=True, max_depth=6, max_features=None, max_leaf_nodes=9, min_samples_split=5, n_estimators=100; total time=  59.7s\n",
      "[CV] END bootstrap=False, max_depth=6, max_features=None, max_leaf_nodes=9, min_samples_split=2, n_estimators=80; total time=  48.5s\n",
      "Model Random Forest saved for question 6\n",
      "7 , Model Random Forest saved for question 7\n",
      "8 , Model Random Forest saved for question 8\n",
      "9 , Model Random Forest saved for question 9\n",
      "10 , Model Random Forest saved for question 10\n",
      "11 , Model Random Forest saved for question 11\n",
      "12 , Model Random Forest saved for question 12\n",
      "13 , Model Random Forest saved for question 13\n",
      "-------------------------\n",
      "--- Fold 2\n",
      "-------------------------\n",
      "Questions: \n",
      "4 , Model Random Forest saved for question 4\n",
      "5 , Model Random Forest saved for question 5\n",
      "6 , Model Random Forest saved for question 6\n",
      "7 , Model Random Forest saved for question 7\n",
      "8 , Model Random Forest saved for question 8\n",
      "9 , Model Random Forest saved for question 9\n",
      "10 , Model Random Forest saved for question 10\n",
      "11 , Model Random Forest saved for question 11\n",
      "12 , Model Random Forest saved for question 12\n",
      "13 , Model Random Forest saved for question 13\n",
      "CPU times: user 16min 3s, sys: 1.36 s, total: 16min 4s\n",
      "Wall time: 16min 5s\n"
     ]
    }
   ],
   "source": [
    "%%time\n",
    "warnings.filterwarnings(\"ignore\")\n",
    "\n",
    "# COMPUTE CV SCORE WITH 2 GROUP K FOLD\n",
    "for i, (train_index, test_index) in enumerate(gkf.split(X=df2[FEATURES2], groups=df2[FEATURES2].index)):\n",
    "    \n",
    "    print('-'*25)\n",
    "    print('--- Fold',i+1)\n",
    "    print('-'*25)\n",
    "    print('Questions: ')\n",
    "\n",
    "    for t in range(4,14):\n",
    "    #for t in range(1,19):\n",
    "\n",
    "        print(t,', ',end='')\n",
    "        bp = rf_best_params[t-1]\n",
    "\n",
    "        # USE THIS TRAIN DATA WITH THESE QUESTIONS\n",
    "        if t<=3: \n",
    "            grp = '0-4'\n",
    "            df = df1\n",
    "            FEATURES = FEATURES1\n",
    "\n",
    "        elif t<=13: \n",
    "            grp = '5-12'\n",
    "            df = df2\n",
    "            FEATURES = FEATURES2\n",
    "\n",
    "        elif t<=22: \n",
    "            grp = '13-22'\n",
    "            df = df3\n",
    "            FEATURES = FEATURES3\n",
    "\n",
    "        bp = rf_best_params[t-1]\n",
    "\n",
    "        # TRAIN DATA\n",
    "        train_x = df[FEATURES].iloc[train_index]\n",
    "        train_users = train_x.index.values\n",
    "        train_y = targets.loc[targets.q==t].set_index('session').loc[train_users]\n",
    "\n",
    "        # VALID DATA\n",
    "        valid_x = df[FEATURES].iloc[test_index]\n",
    "        valid_users = valid_x.index.values\n",
    "        valid_y = targets.loc[targets.q==t].set_index('session').loc[valid_users]\n",
    "\n",
    "        # TRAIN MODEL\n",
    "        clf = RandomForestClassifier(n_estimators=bp['n_estimators'],max_depth=bp['max_depth'],min_samples_split=bp['min_samples_split'],\n",
    "                                         max_features=bp['max_features'],max_leaf_nodes=bp['max_leaf_nodes'],bootstrap=bp['bootstrap']) \n",
    "        clf.fit(train_x[FEATURES].astype('float32'), train_y['correct'])\n",
    "\n",
    "        # SAVE MODEL, PREDICT VALID OOF\n",
    "        models[f'{grp}_{t}'] = clf\n",
    "        oof.loc[valid_users, t-1] = clf.predict_proba(valid_x[FEATURES].astype('float32'))[:,1]\n",
    "        print(f'Model Random Forest saved for question {t}')\n"
   ]
  },
  {
   "cell_type": "code",
   "execution_count": 51,
   "id": "c1466302",
   "metadata": {
    "execution": {
     "iopub.execute_input": "2023-04-17T04:06:16.558046Z",
     "iopub.status.busy": "2023-04-17T04:06:16.557193Z",
     "iopub.status.idle": "2023-04-17T04:06:16.579675Z",
     "shell.execute_reply": "2023-04-17T04:06:16.578512Z"
    },
    "papermill": {
     "duration": 0.054958,
     "end_time": "2023-04-17T04:06:16.582425",
     "exception": false,
     "start_time": "2023-04-17T04:06:16.527467",
     "status": "completed"
    },
    "tags": []
   },
   "outputs": [
    {
     "data": {
      "text/plain": [
       "{'0-4_1': RandomForestClassifier(max_depth=9, max_features=None, max_leaf_nodes=6,\n",
       "                        min_samples_split=5, n_estimators=60),\n",
       " '0-4_2': RandomForestClassifier(max_depth=9, max_features='log2', max_leaf_nodes=6,\n",
       "                        n_estimators=40),\n",
       " '0-4_3': RandomForestClassifier(bootstrap=False, max_depth=6, max_features='log2',\n",
       "                        max_leaf_nodes=9, min_samples_split=5, n_estimators=40),\n",
       " '5-12_4': RandomForestClassifier(max_depth=6, max_features=None, max_leaf_nodes=6,\n",
       "                        n_estimators=60),\n",
       " '5-12_5': RandomForestClassifier(bootstrap=False, max_depth=6, max_features='log2',\n",
       "                        max_leaf_nodes=9, min_samples_split=5, n_estimators=80),\n",
       " '5-12_6': RandomForestClassifier(max_depth=9, max_features=None, max_leaf_nodes=9,\n",
       "                        n_estimators=40),\n",
       " '5-12_7': RandomForestClassifier(max_depth=9, max_features=None, max_leaf_nodes=9,\n",
       "                        n_estimators=80),\n",
       " '5-12_8': RandomForestClassifier(max_depth=9, max_features=None, max_leaf_nodes=6,\n",
       "                        n_estimators=40),\n",
       " '5-12_9': RandomForestClassifier(max_depth=9, max_features='sqrt', max_leaf_nodes=6,\n",
       "                        n_estimators=80),\n",
       " '5-12_10': RandomForestClassifier(bootstrap=False, max_depth=3, max_features='log2',\n",
       "                        max_leaf_nodes=9, min_samples_split=5, n_estimators=80),\n",
       " '5-12_11': RandomForestClassifier(max_depth=3, max_features=None, max_leaf_nodes=3,\n",
       "                        n_estimators=40),\n",
       " '5-12_12': RandomForestClassifier(max_depth=6, max_features='log2', max_leaf_nodes=9,\n",
       "                        min_samples_split=5, n_estimators=90),\n",
       " '5-12_13': RandomForestClassifier(max_depth=9, max_features='sqrt', max_leaf_nodes=9,\n",
       "                        min_samples_split=5, n_estimators=25)}"
      ]
     },
     "execution_count": 51,
     "metadata": {},
     "output_type": "execute_result"
    }
   ],
   "source": [
    "models"
   ]
  },
  {
   "cell_type": "markdown",
   "id": "0de1048d",
   "metadata": {
    "papermill": {
     "duration": 0.026392,
     "end_time": "2023-04-17T04:06:16.637464",
     "exception": false,
     "start_time": "2023-04-17T04:06:16.611072",
     "status": "completed"
    },
    "tags": []
   },
   "source": [
    "# Questions 14 to 18"
   ]
  },
  {
   "cell_type": "code",
   "execution_count": 52,
   "id": "91ef742a",
   "metadata": {
    "execution": {
     "iopub.execute_input": "2023-04-17T04:06:16.693252Z",
     "iopub.status.busy": "2023-04-17T04:06:16.692806Z",
     "iopub.status.idle": "2023-04-17T04:08:02.315727Z",
     "shell.execute_reply": "2023-04-17T04:08:02.314238Z"
    },
    "papermill": {
     "duration": 105.653881,
     "end_time": "2023-04-17T04:08:02.318395",
     "exception": false,
     "start_time": "2023-04-17T04:06:16.664514",
     "status": "completed"
    },
    "tags": []
   },
   "outputs": [
    {
     "name": "stdout",
     "output_type": "stream",
     "text": [
      "-------------------------\n",
      "--- Fold 1\n",
      "-------------------------\n",
      "Questions: \n",
      "14 , Model Random Forest saved for question 14\n",
      "15 , Model Random Forest saved for question 15\n",
      "16 , Model Random Forest saved for question 16\n",
      "17 , Model Random Forest saved for question 17\n",
      "18 , Model Random Forest saved for question 18\n",
      "-------------------------\n",
      "--- Fold 2\n",
      "-------------------------\n",
      "Questions: \n",
      "14 , Model Random Forest saved for question 14\n",
      "15 , Model Random Forest saved for question 15\n",
      "16 , Model Random Forest saved for question 16\n",
      "17 , Model Random Forest saved for question 17\n",
      "18 , Model Random Forest saved for question 18\n",
      "CPU times: user 1min 44s, sys: 693 ms, total: 1min 45s\n",
      "Wall time: 1min 45s\n"
     ]
    }
   ],
   "source": [
    "%%time\n",
    "warnings.filterwarnings(\"ignore\")\n",
    "\n",
    "# COMPUTE CV SCORE WITH 2 GROUP K FOLD\n",
    "for i, (train_index, test_index) in enumerate(gkf.split(X=df3[FEATURES3], groups=df3[FEATURES3].index)):\n",
    "    \n",
    "    print('-'*25)\n",
    "    print('--- Fold',i+1)\n",
    "    print('-'*25)\n",
    "    print('Questions: ')\n",
    "\n",
    "    for t in range(14,19):\n",
    "    #for t in range(1,19):\n",
    "\n",
    "        print(t,', ',end='')\n",
    "        bp = rf_best_params[t-1]\n",
    "\n",
    "        # USE THIS TRAIN DATA WITH THESE QUESTIONS\n",
    "        if t<=3: \n",
    "            grp = '0-4'\n",
    "            df = df1\n",
    "            FEATURES = FEATURES1\n",
    "\n",
    "        elif t<=13: \n",
    "            grp = '5-12'\n",
    "            df = df2\n",
    "            FEATURES = FEATURES2\n",
    "\n",
    "        elif t<=22: \n",
    "            grp = '13-22'\n",
    "            df = df3\n",
    "            FEATURES = FEATURES3\n",
    "\n",
    "        bp = rf_best_params[t-1]\n",
    "\n",
    "        # TRAIN DATA\n",
    "        train_x = df[FEATURES].iloc[train_index]\n",
    "        train_users = train_x.index.values\n",
    "        train_y = targets.loc[targets.q==t].set_index('session').loc[train_users]\n",
    "\n",
    "        # VALID DATA\n",
    "        valid_x = df[FEATURES].iloc[test_index]\n",
    "        valid_users = valid_x.index.values\n",
    "        valid_y = targets.loc[targets.q==t].set_index('session').loc[valid_users]\n",
    "\n",
    "        # TRAIN MODEL\n",
    "        clf = RandomForestClassifier(n_estimators=bp['n_estimators'],max_depth=bp['max_depth'],min_samples_split=bp['min_samples_split'],\n",
    "                                         max_features=bp['max_features'],max_leaf_nodes=bp['max_leaf_nodes'],bootstrap=bp['bootstrap']) \n",
    "        clf.fit(train_x[FEATURES].astype('float32'), train_y['correct'])\n",
    "\n",
    "        # SAVE MODEL, PREDICT VALID OOF\n",
    "        models[f'{grp}_{t}'] = clf\n",
    "        oof.loc[valid_users, t-1] = clf.predict_proba(valid_x[FEATURES].astype('float32'))[:,1]\n",
    "        print(f'Model Random Forest saved for question {t}')\n"
   ]
  },
  {
   "cell_type": "code",
   "execution_count": 53,
   "id": "9ed0f823",
   "metadata": {
    "execution": {
     "iopub.execute_input": "2023-04-17T04:08:02.375527Z",
     "iopub.status.busy": "2023-04-17T04:08:02.374391Z",
     "iopub.status.idle": "2023-04-17T04:08:02.544452Z",
     "shell.execute_reply": "2023-04-17T04:08:02.543247Z"
    },
    "papermill": {
     "duration": 0.201614,
     "end_time": "2023-04-17T04:08:02.546992",
     "exception": false,
     "start_time": "2023-04-17T04:08:02.345378",
     "status": "completed"
    },
    "tags": []
   },
   "outputs": [
    {
     "data": {
      "text/plain": [
       "333"
      ]
     },
     "execution_count": 53,
     "metadata": {},
     "output_type": "execute_result"
    }
   ],
   "source": [
    "del df, df1, df2, df3\n",
    "gc.collect()"
   ]
  },
  {
   "cell_type": "code",
   "execution_count": 54,
   "id": "00fbb9be",
   "metadata": {
    "execution": {
     "iopub.execute_input": "2023-04-17T04:08:02.605849Z",
     "iopub.status.busy": "2023-04-17T04:08:02.605375Z",
     "iopub.status.idle": "2023-04-17T04:08:02.619860Z",
     "shell.execute_reply": "2023-04-17T04:08:02.618916Z"
    },
    "papermill": {
     "duration": 0.047115,
     "end_time": "2023-04-17T04:08:02.622574",
     "exception": false,
     "start_time": "2023-04-17T04:08:02.575459",
     "status": "completed"
    },
    "tags": []
   },
   "outputs": [
    {
     "name": "stdout",
     "output_type": "stream",
     "text": [
      "                         0         1         2         3         4         5   \\\n",
      "session_id                                                                      \n",
      "20090312431273200  0.881808  0.981810  0.958437  0.889438  0.629978  0.869835   \n",
      "20090312433251036  0.662276  0.983222  0.944144  0.876247  0.438405  0.673197   \n",
      "20090312455206810  0.610470  0.975841  0.950403  0.718254  0.533299  0.863276   \n",
      "20090313091715820  0.641002  0.981352  0.929642  0.901593  0.578394  0.870355   \n",
      "20090313571836404  0.879802  0.985555  0.962034  0.902582  0.677547  0.872060   \n",
      "\n",
      "                         6         7         8         9         10        11  \\\n",
      "session_id                                                                      \n",
      "20090312431273200  0.842728  0.684375  0.789784  0.582227  0.709506  0.885092   \n",
      "20090312433251036  0.714550  0.559659  0.653065  0.425823  0.536238  0.861142   \n",
      "20090312455206810  0.729801  0.710166  0.756144  0.528397  0.711855  0.858069   \n",
      "20090313091715820  0.837105  0.653810  0.771906  0.521181  0.687170  0.889031   \n",
      "20090313571836404  0.855032  0.721262  0.816517  0.612485  0.711855  0.900699   \n",
      "\n",
      "                         12        13        14        15        16        17  \n",
      "session_id                                                                     \n",
      "20090312431273200  0.372957  0.776515  0.528406  0.782984  0.746810  0.966188  \n",
      "20090312433251036  0.178912  0.431349  0.299718  0.685298  0.583873  0.855491  \n",
      "20090312455206810  0.457646  0.693791  0.411272  0.778282  0.745488  0.930032  \n",
      "20090313091715820  0.205991  0.757463  0.536679  0.745947  0.696515  0.964584  \n",
      "20090313571836404  0.401319  0.785979  0.569689  0.757720  0.753691  0.970479  \n",
      "Shape oof:  (23562, 18)\n"
     ]
    }
   ],
   "source": [
    "print(oof.head(5))\n",
    "print(\"Shape oof: \",oof.shape)"
   ]
  },
  {
   "cell_type": "code",
   "execution_count": 55,
   "id": "816ad24d",
   "metadata": {
    "execution": {
     "iopub.execute_input": "2023-04-17T04:08:02.681179Z",
     "iopub.status.busy": "2023-04-17T04:08:02.680262Z",
     "iopub.status.idle": "2023-04-17T04:08:02.822825Z",
     "shell.execute_reply": "2023-04-17T04:08:02.821829Z"
    },
    "papermill": {
     "duration": 0.175525,
     "end_time": "2023-04-17T04:08:02.825480",
     "exception": false,
     "start_time": "2023-04-17T04:08:02.649955",
     "status": "completed"
    },
    "tags": []
   },
   "outputs": [
    {
     "name": "stdout",
     "output_type": "stream",
     "text": [
      "CPU times: user 133 ms, sys: 2 ms, total: 135 ms\n",
      "Wall time: 135 ms\n"
     ]
    }
   ],
   "source": [
    "%%time\n",
    "\n",
    "true = oof.copy()\n",
    "for k in range(18):\n",
    "    tmp = targets.loc[targets.q == k+1].set_index('session').loc[ALL_USERS]\n",
    "    true[k] = tmp.correct.values"
   ]
  },
  {
   "cell_type": "code",
   "execution_count": 56,
   "id": "959430a1",
   "metadata": {
    "execution": {
     "iopub.execute_input": "2023-04-17T04:08:02.883060Z",
     "iopub.status.busy": "2023-04-17T04:08:02.882003Z",
     "iopub.status.idle": "2023-04-17T04:08:02.893101Z",
     "shell.execute_reply": "2023-04-17T04:08:02.892140Z"
    },
    "papermill": {
     "duration": 0.04272,
     "end_time": "2023-04-17T04:08:02.895839",
     "exception": false,
     "start_time": "2023-04-17T04:08:02.853119",
     "status": "completed"
    },
    "tags": []
   },
   "outputs": [
    {
     "name": "stdout",
     "output_type": "stream",
     "text": [
      "                   0   1   2   3   4   5   6   7   8   9   10  11  12  13  14  \\\n",
      "session_id                                                                      \n",
      "20090312431273200   1   1   1   1   1   1   1   1   1   1   1   1   0   1   1   \n",
      "20090312433251036   0   1   1   1   0   1   1   0   1   0   0   1   0   1   0   \n",
      "20090312455206810   1   1   1   1   1   1   1   1   1   1   1   1   1   1   0   \n",
      "20090313091715820   0   1   1   1   1   0   1   1   1   0   0   1   0   1   0   \n",
      "20090313571836404   1   1   1   1   1   1   1   1   1   1   1   0   1   0   1   \n",
      "\n",
      "                   15  16  17  \n",
      "session_id                     \n",
      "20090312431273200   0   1   1  \n",
      "20090312433251036   1   0   1  \n",
      "20090312455206810   1   1   1  \n",
      "20090313091715820   1   1   1  \n",
      "20090313571836404   1   1   1  \n",
      "Shape true:  (23562, 18)\n"
     ]
    }
   ],
   "source": [
    "print(true.head(5))\n",
    "print(\"Shape true: \",true.shape)"
   ]
  },
  {
   "cell_type": "markdown",
   "id": "897fc50e",
   "metadata": {
    "papermill": {
     "duration": 0.026829,
     "end_time": "2023-04-17T04:08:02.950337",
     "exception": false,
     "start_time": "2023-04-17T04:08:02.923508",
     "status": "completed"
    },
    "tags": []
   },
   "source": [
    "# Best Threshold"
   ]
  },
  {
   "cell_type": "code",
   "execution_count": 57,
   "id": "ff886989",
   "metadata": {
    "execution": {
     "iopub.execute_input": "2023-04-17T04:08:03.007373Z",
     "iopub.status.busy": "2023-04-17T04:08:03.006528Z",
     "iopub.status.idle": "2023-04-17T04:08:10.140917Z",
     "shell.execute_reply": "2023-04-17T04:08:10.139644Z"
    },
    "papermill": {
     "duration": 7.166369,
     "end_time": "2023-04-17T04:08:10.143858",
     "exception": false,
     "start_time": "2023-04-17T04:08:02.977489",
     "status": "completed"
    },
    "tags": []
   },
   "outputs": [
    {
     "name": "stdout",
     "output_type": "stream",
     "text": [
      "0.40, 0.41, 0.42, 0.43, 0.44, 0.45, 0.46, 0.47, 0.48, 0.49, 0.50, 0.51, 0.52, 0.53, 0.54, 0.55, 0.56, 0.57, 0.58, 0.59, 0.60, 0.61, 0.62, 0.63, 0.64, 0.65, 0.66, 0.67, 0.68, 0.69, 0.70, 0.71, 0.72, 0.73, 0.74, 0.75, 0.76, 0.77, 0.78, 0.79, 0.80, "
     ]
    }
   ],
   "source": [
    "scores = []; thresholds = []\n",
    "best_score = 0; best_threshold = 0\n",
    "\n",
    "for threshold in np.arange(0.4,0.81,0.01):\n",
    "    print(f'{threshold:.02f}, ',end='')\n",
    "    preds = (oof.values.reshape((-1))>threshold).astype('int')\n",
    "    m = f1_score(true.values.reshape((-1)), preds, average='macro')   \n",
    "    scores.append(m)\n",
    "    thresholds.append(threshold)\n",
    "    if m>best_score:\n",
    "        best_score = m\n",
    "        best_threshold = threshold"
   ]
  },
  {
   "cell_type": "code",
   "execution_count": 58,
   "id": "d3385885",
   "metadata": {
    "execution": {
     "iopub.execute_input": "2023-04-17T04:08:10.207961Z",
     "iopub.status.busy": "2023-04-17T04:08:10.207151Z",
     "iopub.status.idle": "2023-04-17T04:08:10.213310Z",
     "shell.execute_reply": "2023-04-17T04:08:10.212200Z"
    },
    "papermill": {
     "duration": 0.041539,
     "end_time": "2023-04-17T04:08:10.215770",
     "exception": false,
     "start_time": "2023-04-17T04:08:10.174231",
     "status": "completed"
    },
    "tags": []
   },
   "outputs": [
    {
     "name": "stdout",
     "output_type": "stream",
     "text": [
      "Best score:  0.6775859291170667\n",
      "Best threshold:  0.6300000000000002\n"
     ]
    }
   ],
   "source": [
    "print(\"Best score: \",best_score)\n",
    "print(\"Best threshold: \",best_threshold)"
   ]
  },
  {
   "cell_type": "code",
   "execution_count": 59,
   "id": "d61ff597",
   "metadata": {
    "execution": {
     "iopub.execute_input": "2023-04-17T04:08:10.278727Z",
     "iopub.status.busy": "2023-04-17T04:08:10.277733Z",
     "iopub.status.idle": "2023-04-17T04:08:10.601793Z",
     "shell.execute_reply": "2023-04-17T04:08:10.600574Z"
    },
    "papermill": {
     "duration": 0.359211,
     "end_time": "2023-04-17T04:08:10.605406",
     "exception": false,
     "start_time": "2023-04-17T04:08:10.246195",
     "status": "completed"
    },
    "tags": []
   },
   "outputs": [
    {
     "data": {
      "image/png": "[encoded data removed]",
      "text/plain": [
       "<Figure size 2000x500 with 1 Axes>"
      ]
     },
     "metadata": {},
     "output_type": "display_data"
    }
   ],
   "source": [
    "import matplotlib.pyplot as plt\n",
    "\n",
    "gcolor = \"#3d9979\"\n",
    "plt.figure(figsize=(20,5))\n",
    "plt.plot(thresholds,scores,'-o',color=gcolor)\n",
    "plt.scatter([best_threshold], [best_score], color='green', s=300, alpha=1)\n",
    "plt.xlabel('Threshold',size=14)\n",
    "plt.ylabel('Validation F1 Score',size=14)\n",
    "plt.title(f'Threshold vs. F1_Score with Best F1_Score = {best_score:.3f} at Best Threshold = {best_threshold:.3}',size=18)\n",
    "plt.show()"
   ]
  },
  {
   "cell_type": "code",
   "execution_count": 60,
   "id": "0c416248",
   "metadata": {
    "execution": {
     "iopub.execute_input": "2023-04-17T04:08:10.671769Z",
     "iopub.status.busy": "2023-04-17T04:08:10.671335Z",
     "iopub.status.idle": "2023-04-17T04:08:11.009691Z",
     "shell.execute_reply": "2023-04-17T04:08:11.008428Z"
    },
    "papermill": {
     "duration": 0.375943,
     "end_time": "2023-04-17T04:08:11.012987",
     "exception": false,
     "start_time": "2023-04-17T04:08:10.637044",
     "status": "completed"
    },
    "tags": []
   },
   "outputs": [
    {
     "name": "stdout",
     "output_type": "stream",
     "text": [
      "When using optimal threshold...\n",
      "Q1: F1 = 0.6293780323997572\n",
      "Q2: F1 = 0.49464879356568364\n",
      "Q3: F1 = 0.4829379622111523\n",
      "Q4: F1 = 0.6343291689299294\n",
      "Q5: F1 = 0.5081263851479099\n",
      "Q6: F1 = 0.6159687327218111\n",
      "Q7: F1 = 0.6018478629474924\n",
      "Q8: F1 = 0.5450286307520618\n",
      "Q9: F1 = 0.5711694210208642\n",
      "Q10: F1 = 0.33091012352690613\n",
      "Q11: F1 = 0.5840898962473674\n",
      "Q12: F1 = 0.4644858900497998\n",
      "Q13: F1 = 0.42025490871512233\n",
      "Q14: F1 = 0.5966511004042226\n",
      "Q15: F1 = 0.3416596814752724\n",
      "Q16: F1 = 0.4350033033595255\n",
      "Q17: F1 = 0.5079836140284277\n",
      "Q18: F1 = 0.48734796893017995\n",
      "\n",
      "==> Overall F1 = 0.6775859291170667\n",
      "\n",
      "CPU times: user 330 ms, sys: 6 µs, total: 330 ms\n",
      "Wall time: 331 ms\n"
     ]
    }
   ],
   "source": [
    "%%time\n",
    "\n",
    "print('When using optimal threshold...')\n",
    "for k in range(18):\n",
    "        \n",
    "    m = f1_score(true[k].values, (oof[k].values>best_threshold).astype('int'), average='macro')\n",
    "    print(f'Q{k+1}: F1 =',m)\n",
    "    \n",
    "m = f1_score(true.values.reshape((-1)), (oof.values.reshape((-1))>best_threshold).astype('int'), average='macro')\n",
    "print()\n",
    "print('==> Overall F1 =',m)\n",
    "print()"
   ]
  },
  {
   "cell_type": "code",
   "execution_count": 61,
   "id": "2c2aee11",
   "metadata": {
    "execution": {
     "iopub.execute_input": "2023-04-17T04:08:11.078190Z",
     "iopub.status.busy": "2023-04-17T04:08:11.077345Z",
     "iopub.status.idle": "2023-04-17T04:08:11.869414Z",
     "shell.execute_reply": "2023-04-17T04:08:11.868106Z"
    },
    "papermill": {
     "duration": 0.827894,
     "end_time": "2023-04-17T04:08:11.872005",
     "exception": false,
     "start_time": "2023-04-17T04:08:11.044111",
     "status": "completed"
    },
    "tags": []
   },
   "outputs": [
    {
     "name": "stdout",
     "output_type": "stream",
     "text": [
      "\n",
      "==> Overall Matrix = \n",
      "              precision    recall  f1-score   support\n",
      "\n",
      "           0       0.53      0.58      0.55    124845\n",
      "           1       0.82      0.78      0.80    299271\n",
      "\n",
      "    accuracy                           0.72    424116\n",
      "   macro avg       0.67      0.68      0.68    424116\n",
      "weighted avg       0.73      0.72      0.73    424116\n",
      "\n",
      "\n"
     ]
    }
   ],
   "source": [
    "# performance evaluatio metrics\n",
    "print()\n",
    "print(\"==> Overall Matrix = \")\n",
    "print(classification_report(true.values.reshape((-1)), (oof.values.reshape((-1))>best_threshold).astype('int')))\n",
    "print()"
   ]
  },
  {
   "cell_type": "markdown",
   "id": "ca959756",
   "metadata": {
    "papermill": {
     "duration": 0.031038,
     "end_time": "2023-04-17T04:08:11.935311",
     "exception": false,
     "start_time": "2023-04-17T04:08:11.904273",
     "status": "completed"
    },
    "tags": []
   },
   "source": [
    "# Submission Jo Wilder"
   ]
  },
  {
   "cell_type": "code",
   "execution_count": 62,
   "id": "90fdefb4",
   "metadata": {
    "execution": {
     "iopub.execute_input": "2023-04-17T04:08:12.003653Z",
     "iopub.status.busy": "2023-04-17T04:08:12.002745Z",
     "iopub.status.idle": "2023-04-17T04:08:12.030154Z",
     "shell.execute_reply": "2023-04-17T04:08:12.028966Z"
    },
    "papermill": {
     "duration": 0.064295,
     "end_time": "2023-04-17T04:08:12.033191",
     "exception": false,
     "start_time": "2023-04-17T04:08:11.968896",
     "status": "completed"
    },
    "tags": []
   },
   "outputs": [],
   "source": [
    "import jo_wilder\n",
    "env = jo_wilder.make_env()\n",
    "iter_test = env.iter_test()"
   ]
  },
  {
   "cell_type": "code",
   "execution_count": 63,
   "id": "ab927889",
   "metadata": {
    "execution": {
     "iopub.execute_input": "2023-04-17T04:08:12.099533Z",
     "iopub.status.busy": "2023-04-17T04:08:12.098656Z",
     "iopub.status.idle": "2023-04-17T04:08:12.891451Z",
     "shell.execute_reply": "2023-04-17T04:08:12.890448Z"
    },
    "papermill": {
     "duration": 0.828512,
     "end_time": "2023-04-17T04:08:12.894105",
     "exception": false,
     "start_time": "2023-04-17T04:08:12.065593",
     "status": "completed"
    },
    "tags": []
   },
   "outputs": [
    {
     "name": "stdout",
     "output_type": "stream",
     "text": [
      "This version of the API is not optimized and should not be used to estimate the runtime of your code on the hidden test set.\n"
     ]
    }
   ],
   "source": [
    "limits = {'0-4':(1,4), '5-12':(4,14), '13-22':(14,19)}\n",
    "\n",
    "for test, sample_submission in iter_test:\n",
    "    sample_submission['question'] = [int(label.split('_')[1][1:]) for label in sample_submission['session_id']]\n",
    "    grp = test.level_group.values[0]\n",
    "    a,b = limits[grp]\n",
    "    \n",
    "    # ------------------- level 0-4 ---------------------------------\n",
    "    if a == 1:\n",
    "        FEATURES = FEATURES1\n",
    "        test = (pl.from_pandas(test)\n",
    "                  .drop([\"fullscreen\", \"hq\", \"music\"])\n",
    "                  .with_columns(columns))\n",
    "        test = feature_engineer_pl(test, grp, use_extra=True, feature_suffix='')\n",
    "        test = test[FEATURES]\n",
    "        test = test.fillna(0)\n",
    "            \n",
    "\n",
    "    # ------------------- level 5-12 ---------------------------------\n",
    "    elif a == 4:\n",
    "        FEATURES = FEATURES2\n",
    "        test = (pl.from_pandas(test)\n",
    "                  .drop([\"fullscreen\", \"hq\", \"music\"])\n",
    "                  .with_columns(columns))\n",
    "        test = feature_engineer_pl(test, grp, use_extra=True, feature_suffix='')\n",
    "        test = test[FEATURES]\n",
    "        test = test.fillna(0)\n",
    "\n",
    "    # ------------------- level 13-22 ---------------------------------    \n",
    "    elif a == 14:\n",
    "        FEATURES = FEATURES3\n",
    "        test = (pl.from_pandas(test)\n",
    "                  .drop([\"fullscreen\", \"hq\", \"music\"])\n",
    "                  .with_columns(columns))\n",
    "        test = feature_engineer_pl(test, grp, use_extra=True, feature_suffix='')\n",
    "        test = test[FEATURES]\n",
    "        test = test.fillna(0)\n",
    "    \n",
    "\n",
    "    # INFER TEST DATA\n",
    "    \n",
    "    for t in range(a,b):\n",
    "    #for t in range(1,2):\n",
    "        clf = models[f'{grp}_{t}']\n",
    "        \n",
    "        p = clf.predict_proba(test.astype('float32'))[:,1]\n",
    "        mask = sample_submission.question == t    \n",
    "        sample_submission.loc[mask, 'correct'] = (p > best_threshold).astype('int') \n",
    "    env.predict(sample_submission[['session_id', 'correct']])"
   ]
  },
  {
   "cell_type": "code",
   "execution_count": 64,
   "id": "3d570dc8",
   "metadata": {
    "execution": {
     "iopub.execute_input": "2023-04-17T04:08:12.961954Z",
     "iopub.status.busy": "2023-04-17T04:08:12.961092Z",
     "iopub.status.idle": "2023-04-17T04:08:12.975308Z",
     "shell.execute_reply": "2023-04-17T04:08:12.974341Z"
    },
    "papermill": {
     "duration": 0.050709,
     "end_time": "2023-04-17T04:08:12.977437",
     "exception": false,
     "start_time": "2023-04-17T04:08:12.926728",
     "status": "completed"
    },
    "tags": []
   },
   "outputs": [
    {
     "name": "stdout",
     "output_type": "stream",
     "text": [
      "(54, 2)\n"
     ]
    },
    {
     "data": {
      "text/html": [
       "<div>\n",
       "<style scoped>\n",
       "    .dataframe tbody tr th:only-of-type {\n",
       "        vertical-align: middle;\n",
       "    }\n",
       "\n",
       "    .dataframe tbody tr th {\n",
       "        vertical-align: top;\n",
       "    }\n",
       "\n",
       "    .dataframe thead th {\n",
       "        text-align: right;\n",
       "    }\n",
       "</style>\n",
       "<table border=\"1\" class=\"dataframe\">\n",
       "  <thead>\n",
       "    <tr style=\"text-align: right;\">\n",
       "      <th></th>\n",
       "      <th>session_id</th>\n",
       "      <th>correct</th>\n",
       "    </tr>\n",
       "  </thead>\n",
       "  <tbody>\n",
       "    <tr>\n",
       "      <th>0</th>\n",
       "      <td>20090109393214576_q1</td>\n",
       "      <td>1</td>\n",
       "    </tr>\n",
       "    <tr>\n",
       "      <th>1</th>\n",
       "      <td>20090312143683264_q1</td>\n",
       "      <td>0</td>\n",
       "    </tr>\n",
       "    <tr>\n",
       "      <th>2</th>\n",
       "      <td>20090312331414616_q1</td>\n",
       "      <td>1</td>\n",
       "    </tr>\n",
       "    <tr>\n",
       "      <th>3</th>\n",
       "      <td>20090109393214576_q2</td>\n",
       "      <td>1</td>\n",
       "    </tr>\n",
       "    <tr>\n",
       "      <th>4</th>\n",
       "      <td>20090312143683264_q2</td>\n",
       "      <td>1</td>\n",
       "    </tr>\n",
       "    <tr>\n",
       "      <th>5</th>\n",
       "      <td>20090312331414616_q2</td>\n",
       "      <td>1</td>\n",
       "    </tr>\n",
       "    <tr>\n",
       "      <th>6</th>\n",
       "      <td>20090109393214576_q3</td>\n",
       "      <td>1</td>\n",
       "    </tr>\n",
       "    <tr>\n",
       "      <th>7</th>\n",
       "      <td>20090312143683264_q3</td>\n",
       "      <td>1</td>\n",
       "    </tr>\n",
       "    <tr>\n",
       "      <th>8</th>\n",
       "      <td>20090312331414616_q3</td>\n",
       "      <td>1</td>\n",
       "    </tr>\n",
       "    <tr>\n",
       "      <th>9</th>\n",
       "      <td>20090109393214576_q4</td>\n",
       "      <td>1</td>\n",
       "    </tr>\n",
       "  </tbody>\n",
       "</table>\n",
       "</div>"
      ],
      "text/plain": [
       "             session_id  correct\n",
       "0  20090109393214576_q1        1\n",
       "1  20090312143683264_q1        0\n",
       "2  20090312331414616_q1        1\n",
       "3  20090109393214576_q2        1\n",
       "4  20090312143683264_q2        1\n",
       "5  20090312331414616_q2        1\n",
       "6  20090109393214576_q3        1\n",
       "7  20090312143683264_q3        1\n",
       "8  20090312331414616_q3        1\n",
       "9  20090109393214576_q4        1"
      ]
     },
     "execution_count": 64,
     "metadata": {},
     "output_type": "execute_result"
    }
   ],
   "source": [
    "df = pd.read_csv('submission.csv')\n",
    "print( df.shape )\n",
    "df.head(10)"
   ]
  }
 ],
 "metadata": {
  "kernelspec": {
   "display_name": "Python 3",
   "language": "python",
   "name": "python3"
  },
  "language_info": {
   "codemirror_mode": {
    "name": "ipython",
    "version": 3
   },
   "file_extension": ".py",
   "mimetype": "text/x-python",
   "name": "python",
   "nbconvert_exporter": "python",
   "pygments_lexer": "ipython3",
   "version": "3.7.12"
  },
  "papermill": {
   "default_parameters": {},
   "duration": 2956.793798,
   "end_time": "2023-04-17T04:08:15.841517",
   "environment_variables": {},
   "exception": null,
   "input_path": "__notebook__.ipynb",
   "output_path": "__notebook__.ipynb",
   "parameters": {},
   "start_time": "2023-04-17T03:18:59.047719",
   "version": "2.4.0"
  }
 },
 "nbformat": 4,
 "nbformat_minor": 5
}
