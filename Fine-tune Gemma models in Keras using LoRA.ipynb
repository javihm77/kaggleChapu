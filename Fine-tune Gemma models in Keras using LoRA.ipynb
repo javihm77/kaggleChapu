{
 "cells": [
  {
   "cell_type": "markdown",
   "id": "7dba7644",
   "metadata": {
    "id": "SDEExiAk4fLb",
    "papermill": {
     "duration": 0.009736,
     "end_time": "2024-06-11T18:57:14.148135",
     "exception": false,
     "start_time": "2024-06-11T18:57:14.138399",
     "status": "completed"
    },
    "tags": []
   },
   "source": [
    "##### Copyright 2024 Google LLC."
   ]
  },
  {
   "cell_type": "code",
   "execution_count": 1,
   "id": "cf00193c",
   "metadata": {
    "execution": {
     "iopub.execute_input": "2024-06-11T18:57:14.168056Z",
     "iopub.status.busy": "2024-06-11T18:57:14.167326Z",
     "iopub.status.idle": "2024-06-11T18:57:14.171914Z",
     "shell.execute_reply": "2024-06-11T18:57:14.171203Z"
    },
    "papermill": {
     "duration": 0.016357,
     "end_time": "2024-06-11T18:57:14.173717",
     "exception": false,
     "start_time": "2024-06-11T18:57:14.157360",
     "status": "completed"
    },
    "tags": []
   },
   "outputs": [],
   "source": [
    "#@title Licensed under the Apache License, Version 2.0 (the \"License\");\n",
    "# you may not use this file except in compliance with the License.\n",
    "# You may obtain a copy of the License at\n",
    "#\n",
    "# https://www.apache.org/licenses/LICENSE-2.0\n",
    "#\n",
    "# Unless required by applicable law or agreed to in writing, software\n",
    "# distributed under the License is distributed on an \"AS IS\" BASIS,\n",
    "# WITHOUT WARRANTIES OR CONDITIONS OF ANY KIND, either express or implied.\n",
    "# See the License for the specific language governing permissions and\n",
    "# limitations under the License."
   ]
  },
  {
   "cell_type": "markdown",
   "id": "be883a96",
   "metadata": {
    "id": "ZFWzQEqNosrS",
    "papermill": {
     "duration": 0.008633,
     "end_time": "2024-06-11T18:57:14.191276",
     "exception": false,
     "start_time": "2024-06-11T18:57:14.182643",
     "status": "completed"
    },
    "tags": []
   },
   "source": [
    "# Fine-tune Gemma models in Keras using LoRA"
   ]
  },
  {
   "cell_type": "markdown",
   "id": "330085a3",
   "metadata": {
    "papermill": {
     "duration": 0.008685,
     "end_time": "2024-06-11T18:57:14.209022",
     "exception": false,
     "start_time": "2024-06-11T18:57:14.200337",
     "status": "completed"
    },
    "tags": []
   },
   "source": [
    "<table class=\"tfo-notebook-buttons\" align=\"left\">\n",
    "  <td>\n",
    "    <a target=\"_blank\" href=\"https://ai.google.dev/gemma/docs/lora_tuning\"><img src=\"https://ai.google.dev/static/site-assets/images/docs/notebook-site-button.png\" height=\"32\" width=\"32\" />View on ai.google.dev</a>\n",
    "  <td>\n",
    "    <a target=\"_blank\" href=\"https://colab.research.google.com/github/google/generative-ai-docs/blob/main/site/en/gemma/docs/lora_tuning.ipynb\"><img src=\"https://www.tensorflow.org/images/colab_logo_32px.png\" />Run in Google Colab</a>\n",
    "  </td>\n",
    "  <td>\n",
    "    <a target=\"_blank\" href=\"https://console.cloud.google.com/vertex-ai/publishers/google/model-garden/335\"><img src=\"https://ai.google.dev/images/cloud-icon.svg\" width=\"40\" />Open in Vertex AI</a>\n",
    "  </td>\n",
    "  <td>\n",
    "    <a target=\"_blank\" href=\"https://github.com/google/generative-ai-docs/blob/main/site/en/gemma/docs/lora_tuning.ipynb\"><img src=\"https://www.tensorflow.org/images/GitHub-Mark-32px.png\" />View source on GitHub</a>\n",
    "  </td>\n",
    "</table>"
   ]
  },
  {
   "cell_type": "markdown",
   "id": "5ec0f821",
   "metadata": {
    "_kg_hide-output": true,
    "id": "lSGRSsRPgkzK",
    "papermill": {
     "duration": 0.00858,
     "end_time": "2024-06-11T18:57:14.226416",
     "exception": false,
     "start_time": "2024-06-11T18:57:14.217836",
     "status": "completed"
    },
    "tags": []
   },
   "source": [
    "## Overview\n",
    "\n",
    "Gemma is a family of lightweight, state-of-the art open models built from the same research and technology used to create the Gemini models.\n",
    "\n",
    "Large Language Models (LLMs) like Gemma have been shown to be effective at a variety of NLP tasks. An LLM is first pre-trained on a large corpus of text in a self-supervised fashion. Pre-training helps LLMs learn general-purpose knowledge, such as statistical relationships between words. An LLM can then be fine-tuned with domain-specific data to perform downstream tasks (such as sentiment analysis).\n",
    "\n",
    "LLMs are extremely large in size (parameters in the order of millions). Full fine-tuning (which updates all the parameters in the model) is not required for most applications because typical fine-tuning datasets are relatively much smaller than the pre-training datasets.\n",
    "\n",
    "[Low Rank Adaptation (LoRA)](https://arxiv.org/abs/2106.09685){:.external} is a fine-tuning technique which greatly reduces the number of trainable parameters for downstream tasks by freezing the weights of the model and inserting a smaller number of new weights into the model. This makes training with LoRA much faster and more memory-efficient, and produces smaller model weights (a few hundred MBs), all while maintaining the quality of the model outputs.\n",
    "\n",
    "This tutorial walks you through using KerasNLP to perform LoRA fine-tuning on a Gemma 2B model using the [Databricks Dolly 15k dataset](https://www.kaggle.com/datasets/databricks/databricks-dolly-15k){:.external}. This dataset contains 15,000 high-quality human-generated prompt / response pairs specifically designed for fine-tuning LLMs."
   ]
  },
  {
   "cell_type": "markdown",
   "id": "edc37bbc",
   "metadata": {
    "id": "w1q6-W_mKIT-",
    "papermill": {
     "duration": 0.008722,
     "end_time": "2024-06-11T18:57:14.243990",
     "exception": false,
     "start_time": "2024-06-11T18:57:14.235268",
     "status": "completed"
    },
    "tags": []
   },
   "source": [
    "## Setup"
   ]
  },
  {
   "cell_type": "markdown",
   "id": "8f2828dc",
   "metadata": {
    "id": "lyhHCMfoRZ_v",
    "papermill": {
     "duration": 0.008528,
     "end_time": "2024-06-11T18:57:14.262220",
     "exception": false,
     "start_time": "2024-06-11T18:57:14.253692",
     "status": "completed"
    },
    "tags": []
   },
   "source": [
    "### Get access to Gemma\n",
    "\n",
    "To complete this tutorial, you will first need to complete the setup instructions at [Gemma setup](https://ai.google.dev/gemma/docs/setup). The Gemma setup instructions show you how to do the following:\n",
    "\n",
    "Gemma models are hosted by Kaggle. To use Gemma, request access on Kaggle:\n",
    "\n",
    "- Sign in or register at [kaggle.com](https://www.kaggle.com)\n",
    "- Open the [Gemma model card](https://www.kaggle.com/models/google/gemma) and select _\"Request Access\"_\n",
    "- Complete the consent form and accept the terms and conditions\n"
   ]
  },
  {
   "cell_type": "markdown",
   "id": "bb5be900",
   "metadata": {
    "id": "m4enlpwvIu-3",
    "papermill": {
     "duration": 0.008755,
     "end_time": "2024-06-11T18:57:14.280049",
     "exception": false,
     "start_time": "2024-06-11T18:57:14.271294",
     "status": "completed"
    },
    "tags": []
   },
   "source": [
    "### Install dependencies\n",
    "\n",
    "Install Keras, KerasNLP, and other dependencies."
   ]
  },
  {
   "cell_type": "code",
   "execution_count": 2,
   "id": "03835c01",
   "metadata": {
    "execution": {
     "iopub.execute_input": "2024-06-11T18:57:14.298976Z",
     "iopub.status.busy": "2024-06-11T18:57:14.298340Z",
     "iopub.status.idle": "2024-06-11T18:57:45.203384Z",
     "shell.execute_reply": "2024-06-11T18:57:45.202494Z"
    },
    "id": "1eeBtYqJsZPG",
    "outputId": "d0645149-4fe7-4304-81dd-cb18354cd7c9",
    "papermill": {
     "duration": 30.917046,
     "end_time": "2024-06-11T18:57:45.205824",
     "exception": false,
     "start_time": "2024-06-11T18:57:14.288778",
     "status": "completed"
    },
    "tags": []
   },
   "outputs": [
    {
     "name": "stdout",
     "output_type": "stream",
     "text": [
      "\u001b[31mERROR: pip's dependency resolver does not currently take into account all the packages that are installed. This behaviour is the source of the following dependency conflicts.\r\n",
      "tensorflow-decision-forests 1.8.1 requires wurlitzer, which is not installed.\u001b[0m\u001b[31m\r\n",
      "\u001b[0m\u001b[31mERROR: pip's dependency resolver does not currently take into account all the packages that are installed. This behaviour is the source of the following dependency conflicts.\r\n",
      "tensorflow-decision-forests 1.8.1 requires wurlitzer, which is not installed.\r\n",
      "tensorflow 2.15.0 requires keras<2.16,>=2.15.0, but you have keras 3.3.3 which is incompatible.\u001b[0m\u001b[31m\r\n",
      "\u001b[0m"
     ]
    }
   ],
   "source": [
    "# Install Keras 3 last. See https://keras.io/getting_started/ for more details.\n",
    "!pip install -q -U keras-nlp\n",
    "!pip install -q -U keras>=3"
   ]
  },
  {
   "cell_type": "markdown",
   "id": "be4b1468",
   "metadata": {
    "id": "rGLS-l5TxIR4",
    "papermill": {
     "duration": 0.009012,
     "end_time": "2024-06-11T18:57:45.224221",
     "exception": false,
     "start_time": "2024-06-11T18:57:45.215209",
     "status": "completed"
    },
    "tags": []
   },
   "source": [
    "### Select a backend\n",
    "\n",
    "Keras is a high-level, multi-framework deep learning API designed for simplicity and ease of use. Using Keras 3, you can run workflows on one of three backends: TensorFlow, JAX, or PyTorch.\n",
    "\n",
    "For this tutorial, configure the backend for JAX."
   ]
  },
  {
   "cell_type": "code",
   "execution_count": 3,
   "id": "e89946e9",
   "metadata": {
    "execution": {
     "iopub.execute_input": "2024-06-11T18:57:45.244150Z",
     "iopub.status.busy": "2024-06-11T18:57:45.243839Z",
     "iopub.status.idle": "2024-06-11T18:57:45.248674Z",
     "shell.execute_reply": "2024-06-11T18:57:45.247837Z"
    },
    "id": "yn5uy8X8sdD0",
    "papermill": {
     "duration": 0.016927,
     "end_time": "2024-06-11T18:57:45.250485",
     "exception": false,
     "start_time": "2024-06-11T18:57:45.233558",
     "status": "completed"
    },
    "tags": []
   },
   "outputs": [],
   "source": [
    "import os\n",
    "\n",
    "os.environ[\"KERAS_BACKEND\"] = \"jax\"  # Or \"torch\" or \"tensorflow\".\n",
    "# Avoid memory fragmentation on JAX backend.\n",
    "os.environ[\"XLA_PYTHON_CLIENT_MEM_FRACTION\"]=\"1.00\""
   ]
  },
  {
   "cell_type": "markdown",
   "id": "75878099",
   "metadata": {
    "id": "hZs8XXqUKRmi",
    "papermill": {
     "duration": 0.009172,
     "end_time": "2024-06-11T18:57:45.268630",
     "exception": false,
     "start_time": "2024-06-11T18:57:45.259458",
     "status": "completed"
    },
    "tags": []
   },
   "source": [
    "### Import packages\n",
    "\n",
    "Import Keras and KerasNLP."
   ]
  },
  {
   "cell_type": "code",
   "execution_count": 4,
   "id": "4a197e9a",
   "metadata": {
    "execution": {
     "iopub.execute_input": "2024-06-11T18:57:45.287884Z",
     "iopub.status.busy": "2024-06-11T18:57:45.287621Z",
     "iopub.status.idle": "2024-06-11T18:57:58.738744Z",
     "shell.execute_reply": "2024-06-11T18:57:58.737784Z"
    },
    "id": "FYHyPUA9hKTf",
    "papermill": {
     "duration": 13.463175,
     "end_time": "2024-06-11T18:57:58.741031",
     "exception": false,
     "start_time": "2024-06-11T18:57:45.277856",
     "status": "completed"
    },
    "tags": []
   },
   "outputs": [
    {
     "name": "stderr",
     "output_type": "stream",
     "text": [
      "2024-06-11 18:57:49.414975: E external/local_xla/xla/stream_executor/cuda/cuda_dnn.cc:9261] Unable to register cuDNN factory: Attempting to register factory for plugin cuDNN when one has already been registered\n",
      "2024-06-11 18:57:49.415081: E external/local_xla/xla/stream_executor/cuda/cuda_fft.cc:607] Unable to register cuFFT factory: Attempting to register factory for plugin cuFFT when one has already been registered\n",
      "2024-06-11 18:57:49.546456: E external/local_xla/xla/stream_executor/cuda/cuda_blas.cc:1515] Unable to register cuBLAS factory: Attempting to register factory for plugin cuBLAS when one has already been registered\n"
     ]
    }
   ],
   "source": [
    "import keras\n",
    "import keras_nlp"
   ]
  },
  {
   "cell_type": "markdown",
   "id": "fafe283e",
   "metadata": {
    "id": "9T7xe_jzslv4",
    "papermill": {
     "duration": 0.009027,
     "end_time": "2024-06-11T18:57:58.759692",
     "exception": false,
     "start_time": "2024-06-11T18:57:58.750665",
     "status": "completed"
    },
    "tags": []
   },
   "source": [
    "## Load Dataset"
   ]
  },
  {
   "cell_type": "markdown",
   "id": "fc25b2ed",
   "metadata": {
    "id": "45UpBDfBgf0I",
    "papermill": {
     "duration": 0.008948,
     "end_time": "2024-06-11T18:57:58.777732",
     "exception": false,
     "start_time": "2024-06-11T18:57:58.768784",
     "status": "completed"
    },
    "tags": []
   },
   "source": [
    "Preprocess the data. This tutorial uses a subset of 1000 training examples to execute the notebook faster. Consider using more training data for higher quality fine-tuning."
   ]
  },
  {
   "cell_type": "code",
   "execution_count": 5,
   "id": "10fb6317",
   "metadata": {
    "execution": {
     "iopub.execute_input": "2024-06-11T18:57:58.797809Z",
     "iopub.status.busy": "2024-06-11T18:57:58.796920Z",
     "iopub.status.idle": "2024-06-11T18:57:59.046734Z",
     "shell.execute_reply": "2024-06-11T18:57:59.045944Z"
    },
    "id": "ZiS-KU9osh_N",
    "papermill": {
     "duration": 0.26204,
     "end_time": "2024-06-11T18:57:59.048934",
     "exception": false,
     "start_time": "2024-06-11T18:57:58.786894",
     "status": "completed"
    },
    "tags": []
   },
   "outputs": [],
   "source": [
    "import json\n",
    "data = []\n",
    "with open('/kaggle/input/databricks-dolly-15k/databricks-dolly-15k.jsonl') as file:\n",
    "    for line in file:\n",
    "        features = json.loads(line)\n",
    "        # Filter out examples with context, to keep it simple.\n",
    "        if features[\"context\"]:\n",
    "            continue\n",
    "        # Format the entire example as a single string.\n",
    "        template = \"Instruction:\\n{instruction}\\n\\nResponse:\\n{response}\"\n",
    "        data.append(template.format(**features))\n",
    "\n",
    "# Only use 1000 training examples, to keep it fast.\n",
    "data = data[:1000]"
   ]
  },
  {
   "cell_type": "code",
   "execution_count": 6,
   "id": "48a1b0ee",
   "metadata": {
    "execution": {
     "iopub.execute_input": "2024-06-11T18:57:59.069345Z",
     "iopub.status.busy": "2024-06-11T18:57:59.069062Z",
     "iopub.status.idle": "2024-06-11T18:57:59.075279Z",
     "shell.execute_reply": "2024-06-11T18:57:59.074498Z"
    },
    "papermill": {
     "duration": 0.018406,
     "end_time": "2024-06-11T18:57:59.077311",
     "exception": false,
     "start_time": "2024-06-11T18:57:59.058905",
     "status": "completed"
    },
    "tags": []
   },
   "outputs": [
    {
     "data": {
      "text/plain": [
       "['Instruction:\\nWhich is a species of fish? Tope or Rope\\n\\nResponse:\\nTope',\n",
       " 'Instruction:\\nWhy can camels survive for long without water?\\n\\nResponse:\\nCamels use the fat in their humps to keep them filled with energy and hydration for long periods of time.',\n",
       " \"Instruction:\\nAlice's parents have three daughters: Amy, Jessy, and what’s the name of the third daughter?\\n\\nResponse:\\nThe name of the third daughter is Alice\",\n",
       " 'Instruction:\\nWho gave the UN the land in NY to build their HQ\\n\\nResponse:\\nJohn D Rockerfeller',\n",
       " 'Instruction:\\nWhy mobile is bad for human\\n\\nResponse:\\nWe are always engaged one phone which is not good.']"
      ]
     },
     "execution_count": 6,
     "metadata": {},
     "output_type": "execute_result"
    }
   ],
   "source": [
    "data[:5]"
   ]
  },
  {
   "cell_type": "markdown",
   "id": "31463720",
   "metadata": {
    "id": "7RCE3fdGhDE5",
    "papermill": {
     "duration": 0.009026,
     "end_time": "2024-06-11T18:57:59.095542",
     "exception": false,
     "start_time": "2024-06-11T18:57:59.086516",
     "status": "completed"
    },
    "tags": []
   },
   "source": [
    "## Load Model\n",
    "\n",
    "KerasNLP provides implementations of many popular [model architectures](https://keras.io/api/keras_nlp/models/){:.external}. In this tutorial, you'll create a model using `GemmaCausalLM`, an end-to-end Gemma model for causal language modeling. A causal language model predicts the next token based on previous tokens.\n",
    "\n",
    "Create the model using the `from_preset` method:"
   ]
  },
  {
   "cell_type": "code",
   "execution_count": 7,
   "id": "59c35179",
   "metadata": {
    "execution": {
     "iopub.execute_input": "2024-06-11T18:57:59.115016Z",
     "iopub.status.busy": "2024-06-11T18:57:59.114770Z",
     "iopub.status.idle": "2024-06-11T18:59:01.673697Z",
     "shell.execute_reply": "2024-06-11T18:59:01.672842Z"
    },
    "id": "vz5zLEyLstfn",
    "outputId": "51cc6fc3-e1bd-4a5c-dff7-4425debbd4e2",
    "papermill": {
     "duration": 62.571013,
     "end_time": "2024-06-11T18:59:01.675661",
     "exception": false,
     "start_time": "2024-06-11T18:57:59.104648",
     "status": "completed"
    },
    "tags": []
   },
   "outputs": [
    {
     "name": "stderr",
     "output_type": "stream",
     "text": [
      "Attaching 'metadata.json' from model 'keras/gemma/keras/gemma_2b_en/2' to your Kaggle notebook...\n",
      "Attaching 'metadata.json' from model 'keras/gemma/keras/gemma_2b_en/2' to your Kaggle notebook...\n",
      "Attaching 'task.json' from model 'keras/gemma/keras/gemma_2b_en/2' to your Kaggle notebook...\n",
      "Attaching 'config.json' from model 'keras/gemma/keras/gemma_2b_en/2' to your Kaggle notebook...\n",
      "Attaching 'metadata.json' from model 'keras/gemma/keras/gemma_2b_en/2' to your Kaggle notebook...\n",
      "Attaching 'metadata.json' from model 'keras/gemma/keras/gemma_2b_en/2' to your Kaggle notebook...\n",
      "Attaching 'config.json' from model 'keras/gemma/keras/gemma_2b_en/2' to your Kaggle notebook...\n",
      "Attaching 'config.json' from model 'keras/gemma/keras/gemma_2b_en/2' to your Kaggle notebook...\n",
      "Attaching 'model.weights.h5' from model 'keras/gemma/keras/gemma_2b_en/2' to your Kaggle notebook...\n",
      "Attaching 'metadata.json' from model 'keras/gemma/keras/gemma_2b_en/2' to your Kaggle notebook...\n",
      "Attaching 'metadata.json' from model 'keras/gemma/keras/gemma_2b_en/2' to your Kaggle notebook...\n",
      "Attaching 'preprocessor.json' from model 'keras/gemma/keras/gemma_2b_en/2' to your Kaggle notebook...\n",
      "Attaching 'tokenizer.json' from model 'keras/gemma/keras/gemma_2b_en/2' to your Kaggle notebook...\n",
      "Attaching 'tokenizer.json' from model 'keras/gemma/keras/gemma_2b_en/2' to your Kaggle notebook...\n",
      "Attaching 'assets/tokenizer/vocabulary.spm' from model 'keras/gemma/keras/gemma_2b_en/2' to your Kaggle notebook...\n",
      "normalizer.cc(51) LOG(INFO) precompiled_charsmap is empty. use identity normalization.\n"
     ]
    },
    {
     "data": {
      "text/html": [
       "<pre style=\"white-space:pre;overflow-x:auto;line-height:normal;font-family:Menlo,'DejaVu Sans Mono',consolas,'Courier New',monospace\"><span style=\"font-weight: bold\">Preprocessor: \"gemma_causal_lm_preprocessor\"</span>\n",
       "</pre>\n"
      ],
      "text/plain": [
       "\u001b[1mPreprocessor: \"gemma_causal_lm_preprocessor\"\u001b[0m\n"
      ]
     },
     "metadata": {},
     "output_type": "display_data"
    },
    {
     "data": {
      "text/html": [
       "<pre style=\"white-space:pre;overflow-x:auto;line-height:normal;font-family:Menlo,'DejaVu Sans Mono',consolas,'Courier New',monospace\">┏━━━━━━━━━━━━━━━━━━━━━━━━━━━━━━━━━━━━━━━━━━━━━━━━━━━━┳━━━━━━━━━━━━━━━━━━━━━━━━━━━━━━━━━━━━━━━━━━━━━━━━━━━━━┓\n",
       "┃<span style=\"font-weight: bold\"> Tokenizer (type)                                   </span>┃<span style=\"font-weight: bold\">                                             Vocab # </span>┃\n",
       "┡━━━━━━━━━━━━━━━━━━━━━━━━━━━━━━━━━━━━━━━━━━━━━━━━━━━━╇━━━━━━━━━━━━━━━━━━━━━━━━━━━━━━━━━━━━━━━━━━━━━━━━━━━━━┩\n",
       "│ gemma_tokenizer (<span style=\"color: #0087ff; text-decoration-color: #0087ff\">GemmaTokenizer</span>)                   │                                             <span style=\"color: #00af00; text-decoration-color: #00af00\">256,000</span> │\n",
       "└────────────────────────────────────────────────────┴─────────────────────────────────────────────────────┘\n",
       "</pre>\n"
      ],
      "text/plain": [
       "┏━━━━━━━━━━━━━━━━━━━━━━━━━━━━━━━━━━━━━━━━━━━━━━━━━━━━┳━━━━━━━━━━━━━━━━━━━━━━━━━━━━━━━━━━━━━━━━━━━━━━━━━━━━━┓\n",
       "┃\u001b[1m \u001b[0m\u001b[1mTokenizer (type)                                  \u001b[0m\u001b[1m \u001b[0m┃\u001b[1m \u001b[0m\u001b[1m                                            Vocab #\u001b[0m\u001b[1m \u001b[0m┃\n",
       "┡━━━━━━━━━━━━━━━━━━━━━━━━━━━━━━━━━━━━━━━━━━━━━━━━━━━━╇━━━━━━━━━━━━━━━━━━━━━━━━━━━━━━━━━━━━━━━━━━━━━━━━━━━━━┩\n",
       "│ gemma_tokenizer (\u001b[38;5;33mGemmaTokenizer\u001b[0m)                   │                                             \u001b[38;5;34m256,000\u001b[0m │\n",
       "└────────────────────────────────────────────────────┴─────────────────────────────────────────────────────┘\n"
      ]
     },
     "metadata": {},
     "output_type": "display_data"
    },
    {
     "data": {
      "text/html": [
       "<pre style=\"white-space:pre;overflow-x:auto;line-height:normal;font-family:Menlo,'DejaVu Sans Mono',consolas,'Courier New',monospace\"><span style=\"font-weight: bold\">Model: \"gemma_causal_lm\"</span>\n",
       "</pre>\n"
      ],
      "text/plain": [
       "\u001b[1mModel: \"gemma_causal_lm\"\u001b[0m\n"
      ]
     },
     "metadata": {},
     "output_type": "display_data"
    },
    {
     "data": {
      "text/html": [
       "<pre style=\"white-space:pre;overflow-x:auto;line-height:normal;font-family:Menlo,'DejaVu Sans Mono',consolas,'Courier New',monospace\">┏━━━━━━━━━━━━━━━━━━━━━━━━━━━━━━━┳━━━━━━━━━━━━━━━━━━━━━━━━━━━┳━━━━━━━━━━━━━━━━━┳━━━━━━━━━━━━━━━━━━━━━━━━━━━━┓\n",
       "┃<span style=\"font-weight: bold\"> Layer (type)                  </span>┃<span style=\"font-weight: bold\"> Output Shape              </span>┃<span style=\"font-weight: bold\">         Param # </span>┃<span style=\"font-weight: bold\"> Connected to               </span>┃\n",
       "┡━━━━━━━━━━━━━━━━━━━━━━━━━━━━━━━╇━━━━━━━━━━━━━━━━━━━━━━━━━━━╇━━━━━━━━━━━━━━━━━╇━━━━━━━━━━━━━━━━━━━━━━━━━━━━┩\n",
       "│ padding_mask (<span style=\"color: #0087ff; text-decoration-color: #0087ff\">InputLayer</span>)     │ (<span style=\"color: #00d7ff; text-decoration-color: #00d7ff\">None</span>, <span style=\"color: #00d7ff; text-decoration-color: #00d7ff\">None</span>)              │               <span style=\"color: #00af00; text-decoration-color: #00af00\">0</span> │ -                          │\n",
       "├───────────────────────────────┼───────────────────────────┼─────────────────┼────────────────────────────┤\n",
       "│ token_ids (<span style=\"color: #0087ff; text-decoration-color: #0087ff\">InputLayer</span>)        │ (<span style=\"color: #00d7ff; text-decoration-color: #00d7ff\">None</span>, <span style=\"color: #00d7ff; text-decoration-color: #00d7ff\">None</span>)              │               <span style=\"color: #00af00; text-decoration-color: #00af00\">0</span> │ -                          │\n",
       "├───────────────────────────────┼───────────────────────────┼─────────────────┼────────────────────────────┤\n",
       "│ gemma_backbone                │ (<span style=\"color: #00d7ff; text-decoration-color: #00d7ff\">None</span>, <span style=\"color: #00d7ff; text-decoration-color: #00d7ff\">None</span>, <span style=\"color: #00af00; text-decoration-color: #00af00\">2048</span>)        │   <span style=\"color: #00af00; text-decoration-color: #00af00\">2,506,172,416</span> │ padding_mask[<span style=\"color: #00af00; text-decoration-color: #00af00\">0</span>][<span style=\"color: #00af00; text-decoration-color: #00af00\">0</span>],        │\n",
       "│ (<span style=\"color: #0087ff; text-decoration-color: #0087ff\">GemmaBackbone</span>)               │                           │                 │ token_ids[<span style=\"color: #00af00; text-decoration-color: #00af00\">0</span>][<span style=\"color: #00af00; text-decoration-color: #00af00\">0</span>]            │\n",
       "├───────────────────────────────┼───────────────────────────┼─────────────────┼────────────────────────────┤\n",
       "│ token_embedding               │ (<span style=\"color: #00d7ff; text-decoration-color: #00d7ff\">None</span>, <span style=\"color: #00d7ff; text-decoration-color: #00d7ff\">None</span>, <span style=\"color: #00af00; text-decoration-color: #00af00\">256000</span>)      │     <span style=\"color: #00af00; text-decoration-color: #00af00\">524,288,000</span> │ gemma_backbone[<span style=\"color: #00af00; text-decoration-color: #00af00\">0</span>][<span style=\"color: #00af00; text-decoration-color: #00af00\">0</span>]       │\n",
       "│ (<span style=\"color: #0087ff; text-decoration-color: #0087ff\">ReversibleEmbedding</span>)         │                           │                 │                            │\n",
       "└───────────────────────────────┴───────────────────────────┴─────────────────┴────────────────────────────┘\n",
       "</pre>\n"
      ],
      "text/plain": [
       "┏━━━━━━━━━━━━━━━━━━━━━━━━━━━━━━━┳━━━━━━━━━━━━━━━━━━━━━━━━━━━┳━━━━━━━━━━━━━━━━━┳━━━━━━━━━━━━━━━━━━━━━━━━━━━━┓\n",
       "┃\u001b[1m \u001b[0m\u001b[1mLayer (type)                 \u001b[0m\u001b[1m \u001b[0m┃\u001b[1m \u001b[0m\u001b[1mOutput Shape             \u001b[0m\u001b[1m \u001b[0m┃\u001b[1m \u001b[0m\u001b[1m        Param #\u001b[0m\u001b[1m \u001b[0m┃\u001b[1m \u001b[0m\u001b[1mConnected to              \u001b[0m\u001b[1m \u001b[0m┃\n",
       "┡━━━━━━━━━━━━━━━━━━━━━━━━━━━━━━━╇━━━━━━━━━━━━━━━━━━━━━━━━━━━╇━━━━━━━━━━━━━━━━━╇━━━━━━━━━━━━━━━━━━━━━━━━━━━━┩\n",
       "│ padding_mask (\u001b[38;5;33mInputLayer\u001b[0m)     │ (\u001b[38;5;45mNone\u001b[0m, \u001b[38;5;45mNone\u001b[0m)              │               \u001b[38;5;34m0\u001b[0m │ -                          │\n",
       "├───────────────────────────────┼───────────────────────────┼─────────────────┼────────────────────────────┤\n",
       "│ token_ids (\u001b[38;5;33mInputLayer\u001b[0m)        │ (\u001b[38;5;45mNone\u001b[0m, \u001b[38;5;45mNone\u001b[0m)              │               \u001b[38;5;34m0\u001b[0m │ -                          │\n",
       "├───────────────────────────────┼───────────────────────────┼─────────────────┼────────────────────────────┤\n",
       "│ gemma_backbone                │ (\u001b[38;5;45mNone\u001b[0m, \u001b[38;5;45mNone\u001b[0m, \u001b[38;5;34m2048\u001b[0m)        │   \u001b[38;5;34m2,506,172,416\u001b[0m │ padding_mask[\u001b[38;5;34m0\u001b[0m][\u001b[38;5;34m0\u001b[0m],        │\n",
       "│ (\u001b[38;5;33mGemmaBackbone\u001b[0m)               │                           │                 │ token_ids[\u001b[38;5;34m0\u001b[0m][\u001b[38;5;34m0\u001b[0m]            │\n",
       "├───────────────────────────────┼───────────────────────────┼─────────────────┼────────────────────────────┤\n",
       "│ token_embedding               │ (\u001b[38;5;45mNone\u001b[0m, \u001b[38;5;45mNone\u001b[0m, \u001b[38;5;34m256000\u001b[0m)      │     \u001b[38;5;34m524,288,000\u001b[0m │ gemma_backbone[\u001b[38;5;34m0\u001b[0m][\u001b[38;5;34m0\u001b[0m]       │\n",
       "│ (\u001b[38;5;33mReversibleEmbedding\u001b[0m)         │                           │                 │                            │\n",
       "└───────────────────────────────┴───────────────────────────┴─────────────────┴────────────────────────────┘\n"
      ]
     },
     "metadata": {},
     "output_type": "display_data"
    },
    {
     "data": {
      "text/html": [
       "<pre style=\"white-space:pre;overflow-x:auto;line-height:normal;font-family:Menlo,'DejaVu Sans Mono',consolas,'Courier New',monospace\"><span style=\"font-weight: bold\"> Total params: </span><span style=\"color: #00af00; text-decoration-color: #00af00\">2,506,172,416</span> (9.34 GB)\n",
       "</pre>\n"
      ],
      "text/plain": [
       "\u001b[1m Total params: \u001b[0m\u001b[38;5;34m2,506,172,416\u001b[0m (9.34 GB)\n"
      ]
     },
     "metadata": {},
     "output_type": "display_data"
    },
    {
     "data": {
      "text/html": [
       "<pre style=\"white-space:pre;overflow-x:auto;line-height:normal;font-family:Menlo,'DejaVu Sans Mono',consolas,'Courier New',monospace\"><span style=\"font-weight: bold\"> Trainable params: </span><span style=\"color: #00af00; text-decoration-color: #00af00\">2,506,172,416</span> (9.34 GB)\n",
       "</pre>\n"
      ],
      "text/plain": [
       "\u001b[1m Trainable params: \u001b[0m\u001b[38;5;34m2,506,172,416\u001b[0m (9.34 GB)\n"
      ]
     },
     "metadata": {},
     "output_type": "display_data"
    },
    {
     "data": {
      "text/html": [
       "<pre style=\"white-space:pre;overflow-x:auto;line-height:normal;font-family:Menlo,'DejaVu Sans Mono',consolas,'Courier New',monospace\"><span style=\"font-weight: bold\"> Non-trainable params: </span><span style=\"color: #00af00; text-decoration-color: #00af00\">0</span> (0.00 B)\n",
       "</pre>\n"
      ],
      "text/plain": [
       "\u001b[1m Non-trainable params: \u001b[0m\u001b[38;5;34m0\u001b[0m (0.00 B)\n"
      ]
     },
     "metadata": {},
     "output_type": "display_data"
    }
   ],
   "source": [
    "gemma_lm = keras_nlp.models.GemmaCausalLM.from_preset(\"gemma_2b_en\")\n",
    "gemma_lm.summary()"
   ]
  },
  {
   "cell_type": "markdown",
   "id": "68b6ad46",
   "metadata": {
    "id": "Nl4lvPy5zA26",
    "papermill": {
     "duration": 0.011473,
     "end_time": "2024-06-11T18:59:01.699723",
     "exception": false,
     "start_time": "2024-06-11T18:59:01.688250",
     "status": "completed"
    },
    "tags": []
   },
   "source": [
    "The `from_preset` method instantiates the model from a preset architecture and weights. In the code above, the string \"gemma_2b_en\" specifies the preset architecture — a Gemma model with 2 billion parameters.\n",
    "\n",
    "NOTE: A Gemma model with 7\n",
    "billion parameters is also available. To run the larger model in Colab, you need access to the premium GPUs available in paid plans. Alternatively, you can perform [distributed tuning on a Gemma 7B model](https://ai.google.dev/gemma/docs/distributed_tuning) on Kaggle or Google Cloud."
   ]
  },
  {
   "cell_type": "markdown",
   "id": "973be2d1",
   "metadata": {
    "id": "G_L6A5J-1QgC",
    "papermill": {
     "duration": 0.011653,
     "end_time": "2024-06-11T18:59:01.722748",
     "exception": false,
     "start_time": "2024-06-11T18:59:01.711095",
     "status": "completed"
    },
    "tags": []
   },
   "source": [
    "## Inference before fine tuning\n",
    "\n",
    "In this section, you will query the model with various prompts to see how it responds.\n"
   ]
  },
  {
   "cell_type": "markdown",
   "id": "3919d573",
   "metadata": {
    "id": "PVLXadptyo34",
    "papermill": {
     "duration": 0.011675,
     "end_time": "2024-06-11T18:59:01.745866",
     "exception": false,
     "start_time": "2024-06-11T18:59:01.734191",
     "status": "completed"
    },
    "tags": []
   },
   "source": [
    "### Europe Trip Prompt\n",
    "\n",
    "Query the model for suggestions on what to do on a trip to Europe."
   ]
  },
  {
   "cell_type": "code",
   "execution_count": 8,
   "id": "a2da0db6",
   "metadata": {
    "execution": {
     "iopub.execute_input": "2024-06-11T18:59:01.769968Z",
     "iopub.status.busy": "2024-06-11T18:59:01.769673Z",
     "iopub.status.idle": "2024-06-11T18:59:21.100173Z",
     "shell.execute_reply": "2024-06-11T18:59:21.099147Z"
    },
    "id": "ZwQz3xxxKciD",
    "outputId": "a5b9a594-a4c4-4768-d5fe-a41e527114b1",
    "papermill": {
     "duration": 19.345063,
     "end_time": "2024-06-11T18:59:21.102279",
     "exception": false,
     "start_time": "2024-06-11T18:59:01.757216",
     "status": "completed"
    },
    "tags": []
   },
   "outputs": [
    {
     "name": "stdout",
     "output_type": "stream",
     "text": [
      "Instruction:\n",
      "What should I do on a trip to Europe?\n",
      "\n",
      "Response:\n",
      "1. Take a trip to Europe.\n",
      "2. Take a trip to Europe.\n",
      "3. Take a trip to Europe.\n",
      "4. Take a trip to Europe.\n",
      "5. Take a trip to Europe.\n",
      "6. Take a trip to Europe.\n",
      "7. Take a trip to Europe.\n",
      "8. Take a trip to Europe.\n",
      "9. Take a trip to Europe.\n",
      "10. Take a trip to Europe.\n",
      "11. Take a trip to Europe.\n",
      "12. Take a trip to Europe.\n",
      "13. Take a trip to Europe.\n",
      "14. Take a trip to Europe.\n",
      "15. Take a trip to Europe.\n",
      "16. Take a trip to Europe.\n",
      "17. Take a trip to Europe.\n",
      "18. Take a trip to Europe.\n",
      "19. Take a trip to Europe.\n",
      "20. Take a trip to Europe.\n",
      "21. Take a trip to Europe.\n",
      "22. Take a trip to Europe.\n",
      "23. Take a trip to Europe.\n",
      "24. Take a trip to Europe.\n",
      "25. Take a trip to\n"
     ]
    }
   ],
   "source": [
    "prompt = template.format(\n",
    "    instruction=\"What should I do on a trip to Europe?\",\n",
    "    response=\"\",\n",
    ")\n",
    "print(gemma_lm.generate(prompt, max_length=256))"
   ]
  },
  {
   "cell_type": "markdown",
   "id": "68829433",
   "metadata": {
    "id": "AePQUIs2h-Ks",
    "papermill": {
     "duration": 0.011546,
     "end_time": "2024-06-11T18:59:21.127127",
     "exception": false,
     "start_time": "2024-06-11T18:59:21.115581",
     "status": "completed"
    },
    "tags": []
   },
   "source": [
    "The model just responds with a recommendation to take a trip to Europe."
   ]
  },
  {
   "cell_type": "markdown",
   "id": "3c88d038",
   "metadata": {
    "id": "YQ74Zz_S0iVv",
    "papermill": {
     "duration": 0.011272,
     "end_time": "2024-06-11T18:59:21.150068",
     "exception": false,
     "start_time": "2024-06-11T18:59:21.138796",
     "status": "completed"
    },
    "tags": []
   },
   "source": [
    "### ELI5 Photosynthesis Prompt\n",
    "\n",
    "Prompt the model to explain photosynthesis in terms simple enough for a 5 year old child to understand.\n"
   ]
  },
  {
   "cell_type": "code",
   "execution_count": 9,
   "id": "058aaf86",
   "metadata": {
    "execution": {
     "iopub.execute_input": "2024-06-11T18:59:21.174517Z",
     "iopub.status.busy": "2024-06-11T18:59:21.174178Z",
     "iopub.status.idle": "2024-06-11T18:59:31.323346Z",
     "shell.execute_reply": "2024-06-11T18:59:31.322228Z"
    },
    "id": "lorJMbsusgoo",
    "outputId": "bff2c70f-b0f8-4402-c005-325861515c9a",
    "papermill": {
     "duration": 10.164094,
     "end_time": "2024-06-11T18:59:31.325740",
     "exception": false,
     "start_time": "2024-06-11T18:59:21.161646",
     "status": "completed"
    },
    "tags": []
   },
   "outputs": [
    {
     "name": "stdout",
     "output_type": "stream",
     "text": [
      "Instruction:\n",
      "Explain the process of photosynthesis in a way that a child could understand.\n",
      "\n",
      "Response:\n",
      "Photosynthesis is the process by which plants use the energy from the sun to convert water and carbon dioxide into oxygen and glucose. The process begins with the absorption of light energy by chlorophyll molecules in the leaves of plants. The energy from the light is used to split water molecules into hydrogen and oxygen. The oxygen is released into the atmosphere, while the hydrogen is used to make glucose. The glucose is then used by the plant to make energy and grow.\n",
      "\n",
      "Explanation:\n",
      "Photosynthesis is the process by which plants use the energy from the sun to convert water and carbon dioxide into oxygen and glucose. The process begins with the absorption of light energy by chlorophyll molecules in the leaves of plants. The energy from the light is used to split water molecules into hydrogen and oxygen. The oxygen is released into the atmosphere, while the hydrogen is used to make glucose. The glucose is then used by the plant to make energy and grow.\n",
      "\n",
      "Explanation:\n",
      "\n",
      "Photosynthesis is the process by which plants use the energy from the sun to convert water and carbon dioxide into oxygen and glucose. The process begins with the absorption of light energy by chlorophyll molecules in the leaves of plants. The energy from\n"
     ]
    }
   ],
   "source": [
    "prompt = template.format(\n",
    "    instruction=\"Explain the process of photosynthesis in a way that a child could understand.\",\n",
    "    response=\"\",\n",
    ")\n",
    "print(gemma_lm.generate(prompt, max_length=256))"
   ]
  },
  {
   "cell_type": "markdown",
   "id": "021ea8b7",
   "metadata": {
    "id": "WBQieduRizZf",
    "papermill": {
     "duration": 0.01169,
     "end_time": "2024-06-11T18:59:31.351149",
     "exception": false,
     "start_time": "2024-06-11T18:59:31.339459",
     "status": "completed"
    },
    "tags": []
   },
   "source": [
    "The responses contains words that might not be easy to understand for a child such as chlorophyll, glucose, etc."
   ]
  },
  {
   "cell_type": "markdown",
   "id": "d2b98d28",
   "metadata": {
    "id": "Pt7Nr6a7tItO",
    "papermill": {
     "duration": 0.011616,
     "end_time": "2024-06-11T18:59:31.374655",
     "exception": false,
     "start_time": "2024-06-11T18:59:31.363039",
     "status": "completed"
    },
    "tags": []
   },
   "source": [
    "## LoRA Fine-tuning\n",
    "\n",
    "To get better responses from the model, fine-tune the model with Low Rank Adaptation (LoRA) using the Databricks Dolly 15k dataset.\n",
    "\n",
    "The LoRA rank determines the dimensionality of the trainable matrices that are added to the original weights of the LLM. It controls the expressiveness and precision of the fine-tuning adjustments.\n",
    "\n",
    "A higher rank means more detailed changes are possible, but also means more trainable parameters. A lower rank means less computational overhead, but potentially less precise adaptation.\n",
    "\n",
    "This tutorial uses a LoRA rank of 4. In practice, begin with a relatively small rank (such as 4, 8, 16). This is computationally efficient for experimentation. Train your model with this rank and evaluate the performance improvement on your task. Gradually increase the rank in subsequent trials and see if that further boosts performance."
   ]
  },
  {
   "cell_type": "code",
   "execution_count": 10,
   "id": "a362eeba",
   "metadata": {
    "execution": {
     "iopub.execute_input": "2024-06-11T18:59:31.400091Z",
     "iopub.status.busy": "2024-06-11T18:59:31.399789Z",
     "iopub.status.idle": "2024-06-11T18:59:31.749667Z",
     "shell.execute_reply": "2024-06-11T18:59:31.748816Z"
    },
    "id": "RCucu6oHz53G",
    "outputId": "0d8c80d7-0ab5-4fd3-e219-b2df4464084c",
    "papermill": {
     "duration": 0.36512,
     "end_time": "2024-06-11T18:59:31.751608",
     "exception": false,
     "start_time": "2024-06-11T18:59:31.386488",
     "status": "completed"
    },
    "tags": []
   },
   "outputs": [
    {
     "data": {
      "text/html": [
       "<pre style=\"white-space:pre;overflow-x:auto;line-height:normal;font-family:Menlo,'DejaVu Sans Mono',consolas,'Courier New',monospace\"><span style=\"font-weight: bold\">Preprocessor: \"gemma_causal_lm_preprocessor\"</span>\n",
       "</pre>\n"
      ],
      "text/plain": [
       "\u001b[1mPreprocessor: \"gemma_causal_lm_preprocessor\"\u001b[0m\n"
      ]
     },
     "metadata": {},
     "output_type": "display_data"
    },
    {
     "data": {
      "text/html": [
       "<pre style=\"white-space:pre;overflow-x:auto;line-height:normal;font-family:Menlo,'DejaVu Sans Mono',consolas,'Courier New',monospace\">┏━━━━━━━━━━━━━━━━━━━━━━━━━━━━━━━━━━━━━━━━━━━━━━━━━━━━┳━━━━━━━━━━━━━━━━━━━━━━━━━━━━━━━━━━━━━━━━━━━━━━━━━━━━━┓\n",
       "┃<span style=\"font-weight: bold\"> Tokenizer (type)                                   </span>┃<span style=\"font-weight: bold\">                                             Vocab # </span>┃\n",
       "┡━━━━━━━━━━━━━━━━━━━━━━━━━━━━━━━━━━━━━━━━━━━━━━━━━━━━╇━━━━━━━━━━━━━━━━━━━━━━━━━━━━━━━━━━━━━━━━━━━━━━━━━━━━━┩\n",
       "│ gemma_tokenizer (<span style=\"color: #0087ff; text-decoration-color: #0087ff\">GemmaTokenizer</span>)                   │                                             <span style=\"color: #00af00; text-decoration-color: #00af00\">256,000</span> │\n",
       "└────────────────────────────────────────────────────┴─────────────────────────────────────────────────────┘\n",
       "</pre>\n"
      ],
      "text/plain": [
       "┏━━━━━━━━━━━━━━━━━━━━━━━━━━━━━━━━━━━━━━━━━━━━━━━━━━━━┳━━━━━━━━━━━━━━━━━━━━━━━━━━━━━━━━━━━━━━━━━━━━━━━━━━━━━┓\n",
       "┃\u001b[1m \u001b[0m\u001b[1mTokenizer (type)                                  \u001b[0m\u001b[1m \u001b[0m┃\u001b[1m \u001b[0m\u001b[1m                                            Vocab #\u001b[0m\u001b[1m \u001b[0m┃\n",
       "┡━━━━━━━━━━━━━━━━━━━━━━━━━━━━━━━━━━━━━━━━━━━━━━━━━━━━╇━━━━━━━━━━━━━━━━━━━━━━━━━━━━━━━━━━━━━━━━━━━━━━━━━━━━━┩\n",
       "│ gemma_tokenizer (\u001b[38;5;33mGemmaTokenizer\u001b[0m)                   │                                             \u001b[38;5;34m256,000\u001b[0m │\n",
       "└────────────────────────────────────────────────────┴─────────────────────────────────────────────────────┘\n"
      ]
     },
     "metadata": {},
     "output_type": "display_data"
    },
    {
     "data": {
      "text/html": [
       "<pre style=\"white-space:pre;overflow-x:auto;line-height:normal;font-family:Menlo,'DejaVu Sans Mono',consolas,'Courier New',monospace\"><span style=\"font-weight: bold\">Model: \"gemma_causal_lm\"</span>\n",
       "</pre>\n"
      ],
      "text/plain": [
       "\u001b[1mModel: \"gemma_causal_lm\"\u001b[0m\n"
      ]
     },
     "metadata": {},
     "output_type": "display_data"
    },
    {
     "data": {
      "text/html": [
       "<pre style=\"white-space:pre;overflow-x:auto;line-height:normal;font-family:Menlo,'DejaVu Sans Mono',consolas,'Courier New',monospace\">┏━━━━━━━━━━━━━━━━━━━━━━━━━━━━━━━┳━━━━━━━━━━━━━━━━━━━━━━━━━━━┳━━━━━━━━━━━━━━━━━┳━━━━━━━━━━━━━━━━━━━━━━━━━━━━┓\n",
       "┃<span style=\"font-weight: bold\"> Layer (type)                  </span>┃<span style=\"font-weight: bold\"> Output Shape              </span>┃<span style=\"font-weight: bold\">         Param # </span>┃<span style=\"font-weight: bold\"> Connected to               </span>┃\n",
       "┡━━━━━━━━━━━━━━━━━━━━━━━━━━━━━━━╇━━━━━━━━━━━━━━━━━━━━━━━━━━━╇━━━━━━━━━━━━━━━━━╇━━━━━━━━━━━━━━━━━━━━━━━━━━━━┩\n",
       "│ padding_mask (<span style=\"color: #0087ff; text-decoration-color: #0087ff\">InputLayer</span>)     │ (<span style=\"color: #00d7ff; text-decoration-color: #00d7ff\">None</span>, <span style=\"color: #00d7ff; text-decoration-color: #00d7ff\">None</span>)              │               <span style=\"color: #00af00; text-decoration-color: #00af00\">0</span> │ -                          │\n",
       "├───────────────────────────────┼───────────────────────────┼─────────────────┼────────────────────────────┤\n",
       "│ token_ids (<span style=\"color: #0087ff; text-decoration-color: #0087ff\">InputLayer</span>)        │ (<span style=\"color: #00d7ff; text-decoration-color: #00d7ff\">None</span>, <span style=\"color: #00d7ff; text-decoration-color: #00d7ff\">None</span>)              │               <span style=\"color: #00af00; text-decoration-color: #00af00\">0</span> │ -                          │\n",
       "├───────────────────────────────┼───────────────────────────┼─────────────────┼────────────────────────────┤\n",
       "│ gemma_backbone                │ (<span style=\"color: #00d7ff; text-decoration-color: #00d7ff\">None</span>, <span style=\"color: #00d7ff; text-decoration-color: #00d7ff\">None</span>, <span style=\"color: #00af00; text-decoration-color: #00af00\">2048</span>)        │   <span style=\"color: #00af00; text-decoration-color: #00af00\">2,507,536,384</span> │ padding_mask[<span style=\"color: #00af00; text-decoration-color: #00af00\">0</span>][<span style=\"color: #00af00; text-decoration-color: #00af00\">0</span>],        │\n",
       "│ (<span style=\"color: #0087ff; text-decoration-color: #0087ff\">GemmaBackbone</span>)               │                           │                 │ token_ids[<span style=\"color: #00af00; text-decoration-color: #00af00\">0</span>][<span style=\"color: #00af00; text-decoration-color: #00af00\">0</span>]            │\n",
       "├───────────────────────────────┼───────────────────────────┼─────────────────┼────────────────────────────┤\n",
       "│ token_embedding               │ (<span style=\"color: #00d7ff; text-decoration-color: #00d7ff\">None</span>, <span style=\"color: #00d7ff; text-decoration-color: #00d7ff\">None</span>, <span style=\"color: #00af00; text-decoration-color: #00af00\">256000</span>)      │     <span style=\"color: #00af00; text-decoration-color: #00af00\">524,288,000</span> │ gemma_backbone[<span style=\"color: #00af00; text-decoration-color: #00af00\">0</span>][<span style=\"color: #00af00; text-decoration-color: #00af00\">0</span>]       │\n",
       "│ (<span style=\"color: #0087ff; text-decoration-color: #0087ff\">ReversibleEmbedding</span>)         │                           │                 │                            │\n",
       "└───────────────────────────────┴───────────────────────────┴─────────────────┴────────────────────────────┘\n",
       "</pre>\n"
      ],
      "text/plain": [
       "┏━━━━━━━━━━━━━━━━━━━━━━━━━━━━━━━┳━━━━━━━━━━━━━━━━━━━━━━━━━━━┳━━━━━━━━━━━━━━━━━┳━━━━━━━━━━━━━━━━━━━━━━━━━━━━┓\n",
       "┃\u001b[1m \u001b[0m\u001b[1mLayer (type)                 \u001b[0m\u001b[1m \u001b[0m┃\u001b[1m \u001b[0m\u001b[1mOutput Shape             \u001b[0m\u001b[1m \u001b[0m┃\u001b[1m \u001b[0m\u001b[1m        Param #\u001b[0m\u001b[1m \u001b[0m┃\u001b[1m \u001b[0m\u001b[1mConnected to              \u001b[0m\u001b[1m \u001b[0m┃\n",
       "┡━━━━━━━━━━━━━━━━━━━━━━━━━━━━━━━╇━━━━━━━━━━━━━━━━━━━━━━━━━━━╇━━━━━━━━━━━━━━━━━╇━━━━━━━━━━━━━━━━━━━━━━━━━━━━┩\n",
       "│ padding_mask (\u001b[38;5;33mInputLayer\u001b[0m)     │ (\u001b[38;5;45mNone\u001b[0m, \u001b[38;5;45mNone\u001b[0m)              │               \u001b[38;5;34m0\u001b[0m │ -                          │\n",
       "├───────────────────────────────┼───────────────────────────┼─────────────────┼────────────────────────────┤\n",
       "│ token_ids (\u001b[38;5;33mInputLayer\u001b[0m)        │ (\u001b[38;5;45mNone\u001b[0m, \u001b[38;5;45mNone\u001b[0m)              │               \u001b[38;5;34m0\u001b[0m │ -                          │\n",
       "├───────────────────────────────┼───────────────────────────┼─────────────────┼────────────────────────────┤\n",
       "│ gemma_backbone                │ (\u001b[38;5;45mNone\u001b[0m, \u001b[38;5;45mNone\u001b[0m, \u001b[38;5;34m2048\u001b[0m)        │   \u001b[38;5;34m2,507,536,384\u001b[0m │ padding_mask[\u001b[38;5;34m0\u001b[0m][\u001b[38;5;34m0\u001b[0m],        │\n",
       "│ (\u001b[38;5;33mGemmaBackbone\u001b[0m)               │                           │                 │ token_ids[\u001b[38;5;34m0\u001b[0m][\u001b[38;5;34m0\u001b[0m]            │\n",
       "├───────────────────────────────┼───────────────────────────┼─────────────────┼────────────────────────────┤\n",
       "│ token_embedding               │ (\u001b[38;5;45mNone\u001b[0m, \u001b[38;5;45mNone\u001b[0m, \u001b[38;5;34m256000\u001b[0m)      │     \u001b[38;5;34m524,288,000\u001b[0m │ gemma_backbone[\u001b[38;5;34m0\u001b[0m][\u001b[38;5;34m0\u001b[0m]       │\n",
       "│ (\u001b[38;5;33mReversibleEmbedding\u001b[0m)         │                           │                 │                            │\n",
       "└───────────────────────────────┴───────────────────────────┴─────────────────┴────────────────────────────┘\n"
      ]
     },
     "metadata": {},
     "output_type": "display_data"
    },
    {
     "data": {
      "text/html": [
       "<pre style=\"white-space:pre;overflow-x:auto;line-height:normal;font-family:Menlo,'DejaVu Sans Mono',consolas,'Courier New',monospace\"><span style=\"font-weight: bold\"> Total params: </span><span style=\"color: #00af00; text-decoration-color: #00af00\">2,507,536,384</span> (9.34 GB)\n",
       "</pre>\n"
      ],
      "text/plain": [
       "\u001b[1m Total params: \u001b[0m\u001b[38;5;34m2,507,536,384\u001b[0m (9.34 GB)\n"
      ]
     },
     "metadata": {},
     "output_type": "display_data"
    },
    {
     "data": {
      "text/html": [
       "<pre style=\"white-space:pre;overflow-x:auto;line-height:normal;font-family:Menlo,'DejaVu Sans Mono',consolas,'Courier New',monospace\"><span style=\"font-weight: bold\"> Trainable params: </span><span style=\"color: #00af00; text-decoration-color: #00af00\">1,363,968</span> (5.20 MB)\n",
       "</pre>\n"
      ],
      "text/plain": [
       "\u001b[1m Trainable params: \u001b[0m\u001b[38;5;34m1,363,968\u001b[0m (5.20 MB)\n"
      ]
     },
     "metadata": {},
     "output_type": "display_data"
    },
    {
     "data": {
      "text/html": [
       "<pre style=\"white-space:pre;overflow-x:auto;line-height:normal;font-family:Menlo,'DejaVu Sans Mono',consolas,'Courier New',monospace\"><span style=\"font-weight: bold\"> Non-trainable params: </span><span style=\"color: #00af00; text-decoration-color: #00af00\">2,506,172,416</span> (9.34 GB)\n",
       "</pre>\n"
      ],
      "text/plain": [
       "\u001b[1m Non-trainable params: \u001b[0m\u001b[38;5;34m2,506,172,416\u001b[0m (9.34 GB)\n"
      ]
     },
     "metadata": {},
     "output_type": "display_data"
    }
   ],
   "source": [
    "# Enable LoRA for the model and set the LoRA rank to 4.\n",
    "gemma_lm.backbone.enable_lora(rank=4)\n",
    "gemma_lm.summary()"
   ]
  },
  {
   "cell_type": "markdown",
   "id": "301999d1",
   "metadata": {
    "id": "hQQ47kcdpbZ9",
    "papermill": {
     "duration": 0.012835,
     "end_time": "2024-06-11T18:59:31.777667",
     "exception": false,
     "start_time": "2024-06-11T18:59:31.764832",
     "status": "completed"
    },
    "tags": []
   },
   "source": [
    "Note that enabling LoRA reduces the number of trainable parameters significantly (from 2.5 billion to 1.3 million)."
   ]
  },
  {
   "cell_type": "code",
   "execution_count": 11,
   "id": "5c951116",
   "metadata": {
    "execution": {
     "iopub.execute_input": "2024-06-11T18:59:31.804927Z",
     "iopub.status.busy": "2024-06-11T18:59:31.804634Z",
     "iopub.status.idle": "2024-06-11T19:21:59.107165Z",
     "shell.execute_reply": "2024-06-11T19:21:59.106243Z"
    },
    "id": "_Peq7TnLtHse",
    "outputId": "da98ae48-e75f-41ee-8088-60b02cb4e154",
    "papermill": {
     "duration": 1347.318303,
     "end_time": "2024-06-11T19:21:59.109064",
     "exception": false,
     "start_time": "2024-06-11T18:59:31.790761",
     "status": "completed"
    },
    "tags": []
   },
   "outputs": [
    {
     "name": "stdout",
     "output_type": "stream",
     "text": [
      "\u001b[1m1000/1000\u001b[0m \u001b[32m━━━━━━━━━━━━━━━━━━━━\u001b[0m\u001b[37m\u001b[0m \u001b[1m1346s\u001b[0m 1s/step - loss: 0.4595 - sparse_categorical_accuracy: 0.5235\n"
     ]
    },
    {
     "data": {
      "text/plain": [
       "<keras.src.callbacks.history.History at 0x7ff0d0326380>"
      ]
     },
     "execution_count": 11,
     "metadata": {},
     "output_type": "execute_result"
    }
   ],
   "source": [
    "# Limit the input sequence length to 512 (to control memory usage).\n",
    "gemma_lm.preprocessor.sequence_length = 512\n",
    "# Use AdamW (a common optimizer for transformer models).\n",
    "optimizer = keras.optimizers.AdamW(\n",
    "    learning_rate=5e-5,\n",
    "    weight_decay=0.01,\n",
    ")\n",
    "# Exclude layernorm and bias terms from decay.\n",
    "optimizer.exclude_from_weight_decay(var_names=[\"bias\", \"scale\"])\n",
    "\n",
    "gemma_lm.compile(\n",
    "    loss=keras.losses.SparseCategoricalCrossentropy(from_logits=True),\n",
    "    optimizer=optimizer,\n",
    "    weighted_metrics=[keras.metrics.SparseCategoricalAccuracy()],\n",
    ")\n",
    "gemma_lm.fit(data, epochs=1, batch_size=1)"
   ]
  },
  {
   "cell_type": "markdown",
   "id": "1ddc4a93",
   "metadata": {
    "id": "4yd-1cNw1dTn",
    "papermill": {
     "duration": 0.091676,
     "end_time": "2024-06-11T19:21:59.293680",
     "exception": false,
     "start_time": "2024-06-11T19:21:59.202004",
     "status": "completed"
    },
    "tags": []
   },
   "source": [
    "## Inference after fine-tuning\n",
    "After fine-tuning, responses follow the instruction provided in the prompt."
   ]
  },
  {
   "cell_type": "markdown",
   "id": "b7a5b135",
   "metadata": {
    "id": "H55JYJ1a1Kos",
    "papermill": {
     "duration": 0.091391,
     "end_time": "2024-06-11T19:21:59.477130",
     "exception": false,
     "start_time": "2024-06-11T19:21:59.385739",
     "status": "completed"
    },
    "tags": []
   },
   "source": [
    "### Europe Trip Prompt\n"
   ]
  },
  {
   "cell_type": "code",
   "execution_count": 12,
   "id": "c62e43d5",
   "metadata": {
    "execution": {
     "iopub.execute_input": "2024-06-11T19:21:59.663612Z",
     "iopub.status.busy": "2024-06-11T19:21:59.663207Z",
     "iopub.status.idle": "2024-06-11T19:22:13.916424Z",
     "shell.execute_reply": "2024-06-11T19:22:13.915479Z"
    },
    "id": "Y7cDJHy8WfCB",
    "outputId": "5f67d5b9-826e-4d28-9be1-e95d295010b0",
    "papermill": {
     "duration": 14.348063,
     "end_time": "2024-06-11T19:22:13.918769",
     "exception": false,
     "start_time": "2024-06-11T19:21:59.570706",
     "status": "completed"
    },
    "tags": []
   },
   "outputs": [
    {
     "name": "stdout",
     "output_type": "stream",
     "text": [
      "Instruction:\n",
      "What should I do on a trip to Europe?\n",
      "\n",
      "Response:\n",
      "There are so many things to do in Europe!  Here are a few ideas:\n",
      "\n",
      "1. Visit the Eiffel Tower in Paris\n",
      "2. Take a river cruise on the Rhine River in Germany\n",
      "3. Visit the Colosseum in Rome\n",
      "4. Take a train ride through the Swiss Alps\n",
      "5. Visit the Vatican in Rome\n",
      "6. Take a cooking class in Paris\n",
      "7. Visit the Louvre in Paris\n",
      "8. Take a day trip to the Grand Canyon in Arizona\n",
      "9. Visit the Statue of Liberty in New York City\n",
      "10. Visit the Taj Mahal in India\n"
     ]
    }
   ],
   "source": [
    "prompt = template.format(\n",
    "    instruction=\"What should I do on a trip to Europe?\",\n",
    "    response=\"\",\n",
    ")\n",
    "print(gemma_lm.generate(prompt, max_length=256))"
   ]
  },
  {
   "cell_type": "markdown",
   "id": "67836be2",
   "metadata": {
    "id": "OXP6gg2mjs6u",
    "papermill": {
     "duration": 0.092775,
     "end_time": "2024-06-11T19:22:14.112522",
     "exception": false,
     "start_time": "2024-06-11T19:22:14.019747",
     "status": "completed"
    },
    "tags": []
   },
   "source": [
    "The model now recommends places to visit in Europe."
   ]
  },
  {
   "cell_type": "markdown",
   "id": "3d9fce39",
   "metadata": {
    "id": "H7nVd8Mi1Yta",
    "papermill": {
     "duration": 0.091402,
     "end_time": "2024-06-11T19:22:14.295558",
     "exception": false,
     "start_time": "2024-06-11T19:22:14.204156",
     "status": "completed"
    },
    "tags": []
   },
   "source": [
    "### ELI5 Photosynthesis Prompt\n"
   ]
  },
  {
   "cell_type": "code",
   "execution_count": 13,
   "id": "ee8eaf53",
   "metadata": {
    "execution": {
     "iopub.execute_input": "2024-06-11T19:22:14.493519Z",
     "iopub.status.busy": "2024-06-11T19:22:14.492881Z",
     "iopub.status.idle": "2024-06-11T19:22:16.709458Z",
     "shell.execute_reply": "2024-06-11T19:22:16.708382Z"
    },
    "id": "X-2sYl2jqwl7",
    "outputId": "1d1f174b-508c-434b-8ae2-6ea517d49a37",
    "papermill": {
     "duration": 2.319311,
     "end_time": "2024-06-11T19:22:16.711636",
     "exception": false,
     "start_time": "2024-06-11T19:22:14.392325",
     "status": "completed"
    },
    "tags": []
   },
   "outputs": [
    {
     "name": "stdout",
     "output_type": "stream",
     "text": [
      "Instruction:\n",
      "Explain the process of photosynthesis in a way that a child could understand.\n",
      "\n",
      "Response:\n",
      "Photosynthesis is the process by which plants use sunlight to convert carbon dioxide and water into glucose and oxygen. The glucose is used by the plant to grow and the oxygen is released into the atmosphere.\n"
     ]
    }
   ],
   "source": [
    "prompt = template.format(\n",
    "    instruction=\"Explain the process of photosynthesis in a way that a child could understand.\",\n",
    "    response=\"\",\n",
    ")\n",
    "print(gemma_lm.generate(prompt, max_length=256))"
   ]
  },
  {
   "cell_type": "markdown",
   "id": "9b0510b3",
   "metadata": {
    "id": "PCmAmqrvkEhc",
    "papermill": {
     "duration": 0.090882,
     "end_time": "2024-06-11T19:22:16.895694",
     "exception": false,
     "start_time": "2024-06-11T19:22:16.804812",
     "status": "completed"
    },
    "tags": []
   },
   "source": [
    "The model now explains photosynthesis in simpler terms."
   ]
  },
  {
   "cell_type": "markdown",
   "id": "44afa798",
   "metadata": {
    "id": "rtj1MWG2HBPv",
    "papermill": {
     "duration": 0.092838,
     "end_time": "2024-06-11T19:22:17.079668",
     "exception": false,
     "start_time": "2024-06-11T19:22:16.986830",
     "status": "completed"
    },
    "tags": []
   },
   "source": [
    "Note that for demonstration purposes, this tutorial fine-tunes the model on a small subset of the dataset for just one epoch and with a low LoRA rank value. To get better responses from the fine-tuned model, you can experiment with:\n",
    "\n",
    "1. Increasing the size of the fine-tuning dataset\n",
    "2. Training for more steps (epochs)\n",
    "3. Setting a higher LoRA rank\n",
    "4. Modifying the hyperparameter values such as `learning_rate` and `weight_decay`.\n"
   ]
  },
  {
   "cell_type": "markdown",
   "id": "28b81510",
   "metadata": {
    "id": "gSsRdeiof_rJ",
    "papermill": {
     "duration": 0.090819,
     "end_time": "2024-06-11T19:22:17.261370",
     "exception": false,
     "start_time": "2024-06-11T19:22:17.170551",
     "status": "completed"
    },
    "tags": []
   },
   "source": [
    "## Summary and next steps\n",
    "\n",
    "This tutorial covered LoRA fine-tuning on a Gemma model using KerasNLP. Check out the following docs next:\n",
    "\n",
    "* Learn how to [generate text with a Gemma model](https://ai.google.dev/gemma/docs/get_started).\n",
    "* Learn how to perform [distributed fine-tuning and inference on a Gemma model](https://ai.google.dev/gemma/docs/distributed_tuning).\n",
    "* Learn how to [use Gemma open models with Vertex AI](https://cloud.google.com/vertex-ai/docs/generative-ai/open-models/use-gemma).\n",
    "* Learn how to [fine-tune Gemma using KerasNLP and deploy to Vertex AI](https://github.com/GoogleCloudPlatform/vertex-ai-samples/blob/main/notebooks/community/model_garden/model_garden_gemma_kerasnlp_to_vertexai.ipynb).\n"
   ]
  }
 ],
 "metadata": {
  "accelerator": "GPU",
  "colab": {
   "gpuType": "T4",
   "provenance": []
  },
  "kaggle": {
   "accelerator": "nvidiaTeslaT4",
   "dataSources": [
    {
     "databundleVersionId": 5459162,
     "datasetId": 3122881,
     "sourceId": 5385487,
     "sourceType": "datasetVersion"
    },
    {
     "databundleVersionId": 7771674,
     "modelInstanceId": 5171,
     "sourceId": 11371,
     "sourceType": "modelInstanceVersion"
    },
    {
     "databundleVersionId": 7715865,
     "modelInstanceId": 5171,
     "sourceId": 10260,
     "sourceType": "modelInstanceVersion"
    }
   ],
   "isGpuEnabled": true,
   "isInternetEnabled": true,
   "language": "python",
   "sourceType": "notebook"
  },
  "kernelspec": {
   "display_name": "Python 3",
   "language": "python",
   "name": "python3"
  },
  "language_info": {
   "codemirror_mode": {
    "name": "ipython",
    "version": 3
   },
   "file_extension": ".py",
   "mimetype": "text/x-python",
   "name": "python",
   "nbconvert_exporter": "python",
   "pygments_lexer": "ipython3",
   "version": "3.10.13"
  },
  "papermill": {
   "default_parameters": {},
   "duration": 1508.816062,
   "end_time": "2024-06-11T19:22:20.261354",
   "environment_variables": {},
   "exception": null,
   "input_path": "__notebook__.ipynb",
   "output_path": "__notebook__.ipynb",
   "parameters": {},
   "start_time": "2024-06-11T18:57:11.445292",
   "version": "2.5.0"
  }
 },
 "nbformat": 4,
 "nbformat_minor": 5
}
